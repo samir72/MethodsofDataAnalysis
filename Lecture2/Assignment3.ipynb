{
 "cells": [
  {
   "cell_type": "markdown",
   "metadata": {},
   "source": [
    "# Assignment # 3 : Simulate Monty Hall Problem.\n",
    "## Data Science 350\n",
    "In this assignment I am simulating the Monty Hall problem and in the process proving that **<span style=\"color:red\" >\"Switching\" </span>** is a better strategy in this game.\n",
    "- I am writing a simple function which captures the output of this game through multiple iterations.\n",
    "- I am then creating a frequency table based on this output to prove that \"Switching\" is a better strategy.\n",
    "- I am then analysing this output through a simple arithmetic function to show that \"Switching\" is a clear winner.\n",
    "- Finally I have created a bar plot to visually portray winner."
   ]
  },
  {
   "cell_type": "markdown",
   "metadata": {},
   "source": [
    "## Function Description\n",
    "In this function I am capturing the output of the output of the game in a data frame. Here I am using the sample function to pick any door for the prize and the player first choice. Monty then goes on to pick the door which does not have the prize.\n",
    "If a player chooses to switch then he/she would be picking the third door."
   ]
  },
  {
   "cell_type": "code",
   "execution_count": 24,
   "metadata": {
    "collapsed": false
   },
   "outputs": [
    {
     "name": "stdout",
     "output_type": "stream",
     "text": [
      "\f"
     ]
    }
   ],
   "source": [
    "rm(list=ls())\n",
    "# Clear Console:\n",
    "cat(\"\\014\")\n",
    "# Function to simulate Monty Hall game.\n",
    "monty <- function(N)\n",
    "{\n",
    "  doors <- c('A', 'B', 'C')\n",
    "  df <- data.frame(play=character(),\n",
    "                      stringsAsFactors=FALSE)\n",
    "  for (i in 1:N)\n",
    "  {\n",
    "    prize <- sample(doors)[1] # Prize is behind this door.\n",
    "    pick <- sample(doors)[1] # Player first picks this door\n",
    "    open <- sample(doors[which(doors != pick & doors != prize)])[1] # Monty now opens the second door\n",
    "    switch <- doors[which(doors != pick & doors != open)] # Player could now switch the door.\n",
    "    if(pick==prize)\n",
    "    {\n",
    "      df[i,1]= \"Stay\"\n",
    "    }\n",
    "    if(switch==prize)\n",
    "    {\n",
    "      df[i,1]= \"Switch\"\n",
    "    }\n",
    "  }\n",
    "  return(df)\n",
    "}"
   ]
  },
  {
   "cell_type": "markdown",
   "metadata": {},
   "source": [
    "## Call the function.\n",
    "Here i am calling the function **monty** with **<span style=\"color:red\">1000</span>** iterations to check the winning strategy.\n",
    "- I am providing a frequency table to prove that \"Switch\" is a clear winner.\n",
    "- I am then also using simple arithmetic to show these number in percentage."
   ]
  },
  {
   "cell_type": "code",
   "execution_count": 25,
   "metadata": {
    "collapsed": false
   },
   "outputs": [
    {
     "data": {
      "text/plain": [
       "\n",
       "  Stay Switch \n",
       "   332    668 "
      ]
     },
     "metadata": {},
     "output_type": "display_data"
    },
    {
     "name": "stdout",
     "output_type": "stream",
     "text": [
      "Stay would win the prize by :  33.2 %\n",
      "Switching would win the prize by :  66.8 %\n"
     ]
    }
   ],
   "source": [
    "N= 1000 # This simulation with 1000 iterations.\n",
    "dists <- monty(N) # call the function\n",
    "table(dists$play) # Create a frequency table\n",
    "count <- table(dists) \n",
    "staycount <- count[1]# Get the count of stays\n",
    "Switchcount <- count[2]# Get the count of switches.\n",
    "cat(paste('Stay would win the prize by : ', (staycount/N)*100,'%\\n'))\n",
    "cat(paste('Switching would win the prize by : ',(Switchcount/N)*100,'%\\n'))"
   ]
  },
  {
   "cell_type": "markdown",
   "metadata": {
    "collapsed": false,
    "scrolled": true
   },
   "source": [
    "## Visualise the result.\n",
    "I am now creating a bar plot to visually demonstrate that **<span style=\"color:red\">\"Switching\"</span>** is a better strategy."
   ]
  },
  {
   "cell_type": "code",
   "execution_count": 27,
   "metadata": {
    "collapsed": false
   },
   "outputs": [
    {
     "data": {},
     "metadata": {},
     "output_type": "display_data"
    },
    {
     "data": {
      "image/png": "[encoded data removed]",
      "text/plain": [
       "plot without title"
      ]
     },
     "metadata": {},
     "output_type": "display_data"
    }
   ],
   "source": [
    "require(ggplot2)\n",
    "# Create a bar plot to show the difference in \n",
    "ggplot(dists, aes(dists$play)) + ## Specify the data frame and columns. Note the + chain operator\n",
    "  geom_bar()+\n",
    "  xlab('Play') +  \n",
    "  ggtitle('Bar Plot For Monty Hall')"
   ]
  }
 ],
 "metadata": {
  "anaconda-cloud": {},
  "kernelspec": {
   "display_name": "R",
   "language": "R",
   "name": "ir"
  },
  "language_info": {
   "codemirror_mode": "r",
   "file_extension": ".r",
   "mimetype": "text/x-r-source",
   "name": "R",
   "pygments_lexer": "r",
   "version": "3.3.1"
  }
 },
 "nbformat": 4,
 "nbformat_minor": 1
}
