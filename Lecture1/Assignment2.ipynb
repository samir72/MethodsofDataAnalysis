{
 "cells": [
  {
   "cell_type": "markdown",
   "metadata": {},
   "source": [
    "# Assignment # 2 : Data Exploration & Visualization.\n",
    "## Data Science 350\n",
    "This is the my second stab at this data set wherein the goal is to find atleast three interesting relationships between the variables to better understand the efficiency of the buildings captured in the dataset.\n",
    "- Standard deviation of Heating.Load and Cooling.Load are way off from their respective means, this would convey a skewed distribution.\n",
    "- Using Z-score normalization you can confirm the low percentage of homes with a high z-score and high percentage of homes with a low z-score, this would conclude that there will be few homes with high energy bills.\n",
    "- Heating.load and Cooling.load are most strongly correlated to Overall Height of the house. I have shown this strong relationship by calculating pearson's correlation using cor function, I have also displayed this visually using a box plot between Heating Load and Overall Height.\n",
    "- Orientation and Heating.load have no relationship this can be confirmed by cor function, box and Violin plot.\n",
    "- Wall.Area and Heating.Load are moderately correlated.\n",
    "- Bar plot clearly shows you that wall area between 294 & 318.5 is most prevalent in the homes.\n",
    "- Plot a histogram of z-score normalization of Heating.load and observe the distribution. A positive skewed distribution can be confirmed with a slope going down from -1 to 2. One can confirm that approximately 400 homes will be paying less than average heating bills.\n",
    "- Plot a histogram of z-score normalized Cooling.load and observe the distribution. A positive skewed distribution can be confirmed with a slope going down from -1 to 2. One can confirm that approximately 393 homes will be paying less than average cooling bills.\n",
    "- I have question multiple questions on outliers which I have asked throughout the notebook.\n",
    "- Using color aesthetic we can show Surface area has a negative correlation with Heating load and overall height has a strong positive correlation with Heating load. Plotting all three on the same plot shows us a high surface area of 808.5 with a low heating load, and the same low heating load shows up on the low overall height due to strong positive correlation. \n",
    "- Using color aesthetic we can show Relative compactness has a good correlation with Heating load and we can see heating load going up and as the compactness is increasing.Roof area has a negative correlation with heating load and it is evident on the plot with a higher roof area showing up against lower heating load.\n",
    "- I have provided correlation visualization using the ellipse package.\n",
    "\n",
    "\n",
    "\n"
   ]
  },
  {
   "cell_type": "markdown",
   "metadata": {},
   "source": [
    "## About the data set\n",
    "\n",
    "This data set is from the [Univeristy of California Irving Machine Learning Repository](https://archive.ics.uci.edu/ml/datasets/Energy+efficiency).\n",
    "\n",
    "- **Source**:\n",
    "The dataset was created by Angeliki Xifara (angxifara '@' gmail.com, Civil/Structural Engineer) and was processed by Athanasios Tsanas (tsanasthanasis '@' gmail.com, Oxford Centre for Industrial and Applied Mathematics, University of Oxford, UK).\n",
    "\n",
    "\n",
    "- **Data Set Information**:\n",
    "We perform energy analysis using 12 different building shapes simulated in Ecotec. The buildings differ with respect to the glazing area, the glazing area distribution, and the orientation, amongst other parameters. We simulate various settings as functions of the afore-mentioned characteristics to obtain 768 building shapes. The dataset comprises 768 samples and 8 features, aiming to predict two real valued responses. It can also be used as a multi-class classification problem if the response is rounded to the nearest integer.\n"
   ]
  },
  {
   "cell_type": "markdown",
   "metadata": {},
   "source": [
    "## Load the data set.\n",
    "\n",
    "Below I am loading the dataset provided in an csv file to a data frame in R and checking out the original structure.\n",
    "\n",
    "Execute the code in this cell to load data into your notebook. \n",
    "\n",
    "As a good scripting practice, I am also loading all the functions at the start of the code.\n",
    "Make sure you have the **.csv file** and function **CleanData.R** & **Loaddata.R** in your working directory!."
   ]
  },
  {
   "cell_type": "code",
   "execution_count": 98,
   "metadata": {
    "collapsed": false
   },
   "outputs": [
    {
     "name": "stdout",
     "output_type": "stream",
     "text": [
      "\f",
      "'data.frame':\t768 obs. of  10 variables:\n",
      " $ Relative.Compactness     : num  0.98 0.98 0.98 0.98 0.9 0.9 0.9 0.9 0.86 0.86 ...\n",
      " $ Surface.Area             : num  514 514 514 514 564 ...\n",
      " $ Wall.Area                : num  294 294 294 294 318 ...\n",
      " $ Roof.Area                : num  110 110 110 110 122 ...\n",
      " $ Overall.Height           : num  7 7 7 7 7 7 7 7 7 7 ...\n",
      " $ Orientation              : int  2 3 4 5 2 3 4 5 2 3 ...\n",
      " $ Glazing.Area             : num  0 0 0 0 0 0 0 0 0 0 ...\n",
      " $ Glazing.Area.Distribution: int  0 0 0 0 0 0 0 0 0 0 ...\n",
      " $ Heating.Load             : num  15.6 15.6 15.6 15.6 20.8 ...\n",
      " $ Cooling.Load             : num  21.3 21.3 21.3 21.3 28.3 ...\n"
     ]
    }
   ],
   "source": [
    "# Clear objects from Memory\n",
    "rm(list=ls())\n",
    "# Clear Console:\n",
    "cat(\"\\014\")\n",
    "# Load the functions.\n",
    "source(\"CleanData.R\")\n",
    "source(\"Loaddata.R\")\n",
    "\n",
    "\n",
    "#Call function to load the csv file.\n",
    "FileName <- 'EnergyEfficiencyData.csv'\n",
    "energy.eff = Loaddata(FileName)\n",
    "\n",
    "#Check out the structure of the original file.\n",
    "str(energy.eff)"
   ]
  },
  {
   "cell_type": "markdown",
   "metadata": {},
   "source": [
    "## Cleanse the data set.\n",
    "Once the data frame is created I am using a utility function I have created for some rudimentary cleansing wherein I am removing any rows/columns with special characters ('?', '#', '%') as the only data in the field. \n",
    "\n",
    "This removal of rows is based on the data volume, at this time I remove such rows if its less than 10% of the complete dataset. \n",
    "\n",
    "If above defined special characters are present for more than 90% of the data set then such columns are removed from the dataset as they do not provide any value to the analysis.\n",
    "\n",
    "After removal of all the above mentioned special characters, I am using a generic function **<span style=\"color:red\">na.omit</span>** to remove any incomplete cases.\n",
    "\n",
    "Function **<span style=\"color:red\">Clean</span>** will display the details of removed rows and columns affected by special characters."
   ]
  },
  {
   "cell_type": "code",
   "execution_count": 99,
   "metadata": {
    "collapsed": false
   },
   "outputs": [
    {
     "name": "stdout",
     "output_type": "stream",
     "text": [
      "\n",
      "\n",
      "\n",
      "No monitored special characters were found in the dataset."
     ]
    }
   ],
   "source": [
    "# Call function to cleanse the dataset off special characters (?,%,#) and NA's.\n",
    "Cleansedenergy.ff <- Clean(energy.eff)"
   ]
  },
  {
   "cell_type": "code",
   "execution_count": 100,
   "metadata": {
    "collapsed": false,
    "scrolled": true
   },
   "outputs": [
    {
     "name": "stdout",
     "output_type": "stream",
     "text": [
      "'data.frame':\t768 obs. of  10 variables:\n",
      " $ Relative.Compactness     : num  0.98 0.98 0.98 0.98 0.9 0.9 0.9 0.9 0.86 0.86 ...\n",
      " $ Surface.Area             : num  514 514 514 514 564 ...\n",
      " $ Wall.Area                : num  294 294 294 294 318 ...\n",
      " $ Roof.Area                : num  110 110 110 110 122 ...\n",
      " $ Overall.Height           : num  7 7 7 7 7 7 7 7 7 7 ...\n",
      " $ Orientation              : int  2 3 4 5 2 3 4 5 2 3 ...\n",
      " $ Glazing.Area             : num  0 0 0 0 0 0 0 0 0 0 ...\n",
      " $ Glazing.Area.Distribution: int  0 0 0 0 0 0 0 0 0 0 ...\n",
      " $ Heating.Load             : num  15.6 15.6 15.6 15.6 20.8 ...\n",
      " $ Cooling.Load             : num  21.3 21.3 21.3 21.3 28.3 ...\n"
     ]
    }
   ],
   "source": [
    "#Check out the structure of the cleansed object.\n",
    "str(Cleansedenergy.ff)"
   ]
  },
  {
   "cell_type": "markdown",
   "metadata": {},
   "source": [
    "Some key things to notice here are:\n",
    "\n",
    "- This dataset has 768 observations with 10 variables.\n",
    "- There are no discrete variables in this dataset, we can however treat 'Overall.Height' & 'Orientation' as discrete variables as they have finite number of values which I will show below by frequency tables.\n",
    "- Heating.Load and Cooling.Load variables and are being used to track the efficiency of the homes.\n",
    "- No special characters ('?', '#', '%') or NA's were found in the dataset. This can be validated by comparing the output of STR function before and after cleansing, there is no change in count of observations and variables."
   ]
  },
  {
   "cell_type": "markdown",
   "metadata": {},
   "source": [
    "### Summary statistics\n",
    "All the columns are num or integer hence we can calculate the summary of the complete dataset using **<span style=\"color:red\">lapply</span>**.\n",
    "\n",
    "Execute the code in the cell below and note the result."
   ]
  },
  {
   "cell_type": "code",
   "execution_count": 101,
   "metadata": {
    "collapsed": false
   },
   "outputs": [
    {
     "data": {
      "text/plain": [
       "$Relative.Compactness\n",
       "   Min. 1st Qu.  Median    Mean 3rd Qu.    Max. \n",
       " 0.6200  0.6825  0.7500  0.7642  0.8300  0.9800 \n",
       "\n",
       "$Surface.Area\n",
       "   Min. 1st Qu.  Median    Mean 3rd Qu.    Max. \n",
       "  514.5   606.4   673.8   671.7   741.1   808.5 \n",
       "\n",
       "$Wall.Area\n",
       "   Min. 1st Qu.  Median    Mean 3rd Qu.    Max. \n",
       "  245.0   294.0   318.5   318.5   343.0   416.5 \n",
       "\n",
       "$Roof.Area\n",
       "   Min. 1st Qu.  Median    Mean 3rd Qu.    Max. \n",
       "  110.2   140.9   183.8   176.6   220.5   220.5 \n",
       "\n",
       "$Overall.Height\n",
       "   Min. 1st Qu.  Median    Mean 3rd Qu.    Max. \n",
       "   3.50    3.50    5.25    5.25    7.00    7.00 \n",
       "\n",
       "$Orientation\n",
       "   Min. 1st Qu.  Median    Mean 3rd Qu.    Max. \n",
       "   2.00    2.75    3.50    3.50    4.25    5.00 \n",
       "\n",
       "$Glazing.Area\n",
       "   Min. 1st Qu.  Median    Mean 3rd Qu.    Max. \n",
       " 0.0000  0.1000  0.2500  0.2344  0.4000  0.4000 \n",
       "\n",
       "$Glazing.Area.Distribution\n",
       "   Min. 1st Qu.  Median    Mean 3rd Qu.    Max. \n",
       "  0.000   1.750   3.000   2.812   4.000   5.000 \n",
       "\n",
       "$Heating.Load\n",
       "   Min. 1st Qu.  Median    Mean 3rd Qu.    Max. \n",
       "   6.01   12.99   18.95   22.31   31.67   43.10 \n",
       "\n",
       "$Cooling.Load\n",
       "   Min. 1st Qu.  Median    Mean 3rd Qu.    Max. \n",
       "  10.90   15.62   22.08   24.59   33.13   48.03 \n"
      ]
     },
     "metadata": {},
     "output_type": "display_data"
    }
   ],
   "source": [
    "#All the columns are num or integer hence we can calculate the summary of the complete dataset.\n",
    "lapply(Cleansedenergy.ff, summary)"
   ]
  },
  {
   "cell_type": "markdown",
   "metadata": {},
   "source": [
    "This summary provides some useful information:\n",
    "\n",
    "- Heating.load and cooling.load is reflecting a postive skewed distribution as mean is greater than median.\n",
    "- 1st QR is considerably different from 3rd QR hence it reflects a skewed distribution."
   ]
  },
  {
   "cell_type": "markdown",
   "metadata": {},
   "source": [
    "# Compute the standard deviation of the numeric columns. \n",
    "The standard deviation is a measure of the dispursion of a distribution defined as:\n",
    "\n",
    "$$sd = \\sigma = \\sqrt{\\frac{\\Sigma(x_i - \\mu)^2}{n-1}}$$\n",
    "\n",
    "Here $\\sigma$ is the standard deviation, $\\mu$ is the mean, $\\Sigma$ is the symbol for summation and $n$ is number of observations.\n",
    "\n",
    "The code below applies the $sd$ function to each of the columns of the data frame **Cleansedenergy.ff**. Since a data frame is a list, the **<span style=\"color:red\">lapply</span>**. function is used to iterate the $sd$ function over the list.  \n",
    "\n",
    "Execute this code and examine the result."
   ]
  },
  {
   "cell_type": "code",
   "execution_count": 102,
   "metadata": {
    "collapsed": false
   },
   "outputs": [
    {
     "data": {
      "text/html": [
       "<dl>\n",
       "\t<dt>$Relative.Compactness</dt>\n",
       "\t\t<dd>0.105777475874752</dd>\n",
       "\t<dt>$Surface.Area</dt>\n",
       "\t\t<dd>88.0861160558684</dd>\n",
       "\t<dt>$Wall.Area</dt>\n",
       "\t\t<dd>43.6264814379949</dd>\n",
       "\t<dt>$Roof.Area</dt>\n",
       "\t\t<dd>45.1659502229205</dd>\n",
       "\t<dt>$Overall.Height</dt>\n",
       "\t\t<dd>1.75114043674535</dd>\n",
       "\t<dt>$Orientation</dt>\n",
       "\t\t<dd>1.11876258706036</dd>\n",
       "\t<dt>$Glazing.Area</dt>\n",
       "\t\t<dd>0.133220562914708</dd>\n",
       "\t<dt>$Glazing.Area.Distribution</dt>\n",
       "\t\t<dd>1.55095966422475</dd>\n",
       "\t<dt>$Heating.Load</dt>\n",
       "\t\t<dd>10.0901957320062</dd>\n",
       "\t<dt>$Cooling.Load</dt>\n",
       "\t\t<dd>9.51330556232617</dd>\n",
       "</dl>\n"
      ],
      "text/latex": [
       "\\begin{description}\n",
       "\\item[\\$Relative.Compactness] 0.105777475874752\n",
       "\\item[\\$Surface.Area] 88.0861160558684\n",
       "\\item[\\$Wall.Area] 43.6264814379949\n",
       "\\item[\\$Roof.Area] 45.1659502229205\n",
       "\\item[\\$Overall.Height] 1.75114043674535\n",
       "\\item[\\$Orientation] 1.11876258706036\n",
       "\\item[\\$Glazing.Area] 0.133220562914708\n",
       "\\item[\\$Glazing.Area.Distribution] 1.55095966422475\n",
       "\\item[\\$Heating.Load] 10.0901957320062\n",
       "\\item[\\$Cooling.Load] 9.51330556232617\n",
       "\\end{description}\n"
      ],
      "text/markdown": [
       "$Relative.Compactness\n",
       ":   0.105777475874752\n",
       "$Surface.Area\n",
       ":   88.0861160558684\n",
       "$Wall.Area\n",
       ":   43.6264814379949\n",
       "$Roof.Area\n",
       ":   45.1659502229205\n",
       "$Overall.Height\n",
       ":   1.75114043674535\n",
       "$Orientation\n",
       ":   1.11876258706036\n",
       "$Glazing.Area\n",
       ":   0.133220562914708\n",
       "$Glazing.Area.Distribution\n",
       ":   1.55095966422475\n",
       "$Heating.Load\n",
       ":   10.0901957320062\n",
       "$Cooling.Load\n",
       ":   9.51330556232617\n",
       "\n",
       "\n"
      ],
      "text/plain": [
       "$Relative.Compactness\n",
       "[1] 0.1057775\n",
       "\n",
       "$Surface.Area\n",
       "[1] 88.08612\n",
       "\n",
       "$Wall.Area\n",
       "[1] 43.62648\n",
       "\n",
       "$Roof.Area\n",
       "[1] 45.16595\n",
       "\n",
       "$Overall.Height\n",
       "[1] 1.75114\n",
       "\n",
       "$Orientation\n",
       "[1] 1.118763\n",
       "\n",
       "$Glazing.Area\n",
       "[1] 0.1332206\n",
       "\n",
       "$Glazing.Area.Distribution\n",
       "[1] 1.55096\n",
       "\n",
       "$Heating.Load\n",
       "[1] 10.0902\n",
       "\n",
       "$Cooling.Load\n",
       "[1] 9.513306\n"
      ]
     },
     "metadata": {},
     "output_type": "display_data"
    }
   ],
   "source": [
    "lapply(Cleansedenergy.ff, sd)"
   ]
  },
  {
   "cell_type": "markdown",
   "metadata": {},
   "source": [
    "**<span style=\"color:red\">Standard deviation of Heating.Load and Cooling.Load are way off from their respective means, this would convey a skewed distribution.<span/>**"
   ]
  },
  {
   "cell_type": "markdown",
   "metadata": {},
   "source": [
    "### Examine the data frames\n",
    "\n",
    "Next, we can look the first and last few lines of the data frame using the `head` and `tail` functions. Execute the code in the cells below to examine the first and last few rows of the data frame."
   ]
  },
  {
   "cell_type": "code",
   "execution_count": 103,
   "metadata": {
    "collapsed": false
   },
   "outputs": [
    {
     "data": {
      "text/html": [
       "<table>\n",
       "<thead><tr><th scope=col>Relative.Compactness</th><th scope=col>Surface.Area</th><th scope=col>Wall.Area</th><th scope=col>Roof.Area</th><th scope=col>Overall.Height</th><th scope=col>Orientation</th><th scope=col>Glazing.Area</th><th scope=col>Glazing.Area.Distribution</th><th scope=col>Heating.Load</th><th scope=col>Cooling.Load</th></tr></thead>\n",
       "<tbody>\n",
       "\t<tr><td>0.98  </td><td>514.5 </td><td>294.0 </td><td>110.25</td><td>7     </td><td>2     </td><td>0     </td><td>0     </td><td>15.55 </td><td>21.33 </td></tr>\n",
       "\t<tr><td>0.98  </td><td>514.5 </td><td>294.0 </td><td>110.25</td><td>7     </td><td>3     </td><td>0     </td><td>0     </td><td>15.55 </td><td>21.33 </td></tr>\n",
       "\t<tr><td>0.98  </td><td>514.5 </td><td>294.0 </td><td>110.25</td><td>7     </td><td>4     </td><td>0     </td><td>0     </td><td>15.55 </td><td>21.33 </td></tr>\n",
       "\t<tr><td>0.98  </td><td>514.5 </td><td>294.0 </td><td>110.25</td><td>7     </td><td>5     </td><td>0     </td><td>0     </td><td>15.55 </td><td>21.33 </td></tr>\n",
       "\t<tr><td>0.90  </td><td>563.5 </td><td>318.5 </td><td>122.50</td><td>7     </td><td>2     </td><td>0     </td><td>0     </td><td>20.84 </td><td>28.28 </td></tr>\n",
       "\t<tr><td>0.90  </td><td>563.5 </td><td>318.5 </td><td>122.50</td><td>7     </td><td>3     </td><td>0     </td><td>0     </td><td>21.46 </td><td>25.38 </td></tr>\n",
       "</tbody>\n",
       "</table>\n"
      ],
      "text/latex": [
       "\\begin{tabular}{r|llllllllll}\n",
       " Relative.Compactness & Surface.Area & Wall.Area & Roof.Area & Overall.Height & Orientation & Glazing.Area & Glazing.Area.Distribution & Heating.Load & Cooling.Load\\\\\n",
       "\\hline\n",
       "\t 0.98   & 514.5  & 294.0  & 110.25 & 7      & 2      & 0      & 0      & 15.55  & 21.33 \\\\\n",
       "\t 0.98   & 514.5  & 294.0  & 110.25 & 7      & 3      & 0      & 0      & 15.55  & 21.33 \\\\\n",
       "\t 0.98   & 514.5  & 294.0  & 110.25 & 7      & 4      & 0      & 0      & 15.55  & 21.33 \\\\\n",
       "\t 0.98   & 514.5  & 294.0  & 110.25 & 7      & 5      & 0      & 0      & 15.55  & 21.33 \\\\\n",
       "\t 0.90   & 563.5  & 318.5  & 122.50 & 7      & 2      & 0      & 0      & 20.84  & 28.28 \\\\\n",
       "\t 0.90   & 563.5  & 318.5  & 122.50 & 7      & 3      & 0      & 0      & 21.46  & 25.38 \\\\\n",
       "\\end{tabular}\n"
      ],
      "text/markdown": [
       "\n",
       "Relative.Compactness | Surface.Area | Wall.Area | Roof.Area | Overall.Height | Orientation | Glazing.Area | Glazing.Area.Distribution | Heating.Load | Cooling.Load | \n",
       "|---|---|---|---|---|---|\n",
       "| 0.98   | 514.5  | 294.0  | 110.25 | 7      | 2      | 0      | 0      | 15.55  | 21.33  | \n",
       "| 0.98   | 514.5  | 294.0  | 110.25 | 7      | 3      | 0      | 0      | 15.55  | 21.33  | \n",
       "| 0.98   | 514.5  | 294.0  | 110.25 | 7      | 4      | 0      | 0      | 15.55  | 21.33  | \n",
       "| 0.98   | 514.5  | 294.0  | 110.25 | 7      | 5      | 0      | 0      | 15.55  | 21.33  | \n",
       "| 0.90   | 563.5  | 318.5  | 122.50 | 7      | 2      | 0      | 0      | 20.84  | 28.28  | \n",
       "| 0.90   | 563.5  | 318.5  | 122.50 | 7      | 3      | 0      | 0      | 21.46  | 25.38  | \n",
       "\n",
       "\n"
      ],
      "text/plain": [
       "  Relative.Compactness Surface.Area Wall.Area Roof.Area Overall.Height\n",
       "1 0.98                 514.5        294.0     110.25    7             \n",
       "2 0.98                 514.5        294.0     110.25    7             \n",
       "3 0.98                 514.5        294.0     110.25    7             \n",
       "4 0.98                 514.5        294.0     110.25    7             \n",
       "5 0.90                 563.5        318.5     122.50    7             \n",
       "6 0.90                 563.5        318.5     122.50    7             \n",
       "  Orientation Glazing.Area Glazing.Area.Distribution Heating.Load Cooling.Load\n",
       "1 2           0            0                         15.55        21.33       \n",
       "2 3           0            0                         15.55        21.33       \n",
       "3 4           0            0                         15.55        21.33       \n",
       "4 5           0            0                         15.55        21.33       \n",
       "5 2           0            0                         20.84        28.28       \n",
       "6 3           0            0                         21.46        25.38       "
      ]
     },
     "metadata": {},
     "output_type": "display_data"
    }
   ],
   "source": [
    "head(Cleansedenergy.ff)"
   ]
  },
  {
   "cell_type": "code",
   "execution_count": 104,
   "metadata": {
    "collapsed": false
   },
   "outputs": [
    {
     "data": {
      "text/html": [
       "<table>\n",
       "<thead><tr><th></th><th scope=col>Relative.Compactness</th><th scope=col>Surface.Area</th><th scope=col>Wall.Area</th><th scope=col>Roof.Area</th><th scope=col>Overall.Height</th><th scope=col>Orientation</th><th scope=col>Glazing.Area</th><th scope=col>Glazing.Area.Distribution</th><th scope=col>Heating.Load</th><th scope=col>Cooling.Load</th></tr></thead>\n",
       "<tbody>\n",
       "\t<tr><th scope=row>763</th><td>0.64 </td><td>784.0</td><td>343.0</td><td>220.5</td><td>3.5  </td><td>4    </td><td>0.4  </td><td>5    </td><td>18.16</td><td>20.71</td></tr>\n",
       "\t<tr><th scope=row>764</th><td>0.64 </td><td>784.0</td><td>343.0</td><td>220.5</td><td>3.5  </td><td>5    </td><td>0.4  </td><td>5    </td><td>17.88</td><td>21.40</td></tr>\n",
       "\t<tr><th scope=row>765</th><td>0.62 </td><td>808.5</td><td>367.5</td><td>220.5</td><td>3.5  </td><td>2    </td><td>0.4  </td><td>5    </td><td>16.54</td><td>16.88</td></tr>\n",
       "\t<tr><th scope=row>766</th><td>0.62 </td><td>808.5</td><td>367.5</td><td>220.5</td><td>3.5  </td><td>3    </td><td>0.4  </td><td>5    </td><td>16.44</td><td>17.11</td></tr>\n",
       "\t<tr><th scope=row>767</th><td>0.62 </td><td>808.5</td><td>367.5</td><td>220.5</td><td>3.5  </td><td>4    </td><td>0.4  </td><td>5    </td><td>16.48</td><td>16.61</td></tr>\n",
       "\t<tr><th scope=row>768</th><td>0.62 </td><td>808.5</td><td>367.5</td><td>220.5</td><td>3.5  </td><td>5    </td><td>0.4  </td><td>5    </td><td>16.64</td><td>16.03</td></tr>\n",
       "</tbody>\n",
       "</table>\n"
      ],
      "text/latex": [
       "\\begin{tabular}{r|llllllllll}\n",
       "  & Relative.Compactness & Surface.Area & Wall.Area & Roof.Area & Overall.Height & Orientation & Glazing.Area & Glazing.Area.Distribution & Heating.Load & Cooling.Load\\\\\n",
       "\\hline\n",
       "\t763 & 0.64  & 784.0 & 343.0 & 220.5 & 3.5   & 4     & 0.4   & 5     & 18.16 & 20.71\\\\\n",
       "\t764 & 0.64  & 784.0 & 343.0 & 220.5 & 3.5   & 5     & 0.4   & 5     & 17.88 & 21.40\\\\\n",
       "\t765 & 0.62  & 808.5 & 367.5 & 220.5 & 3.5   & 2     & 0.4   & 5     & 16.54 & 16.88\\\\\n",
       "\t766 & 0.62  & 808.5 & 367.5 & 220.5 & 3.5   & 3     & 0.4   & 5     & 16.44 & 17.11\\\\\n",
       "\t767 & 0.62  & 808.5 & 367.5 & 220.5 & 3.5   & 4     & 0.4   & 5     & 16.48 & 16.61\\\\\n",
       "\t768 & 0.62  & 808.5 & 367.5 & 220.5 & 3.5   & 5     & 0.4   & 5     & 16.64 & 16.03\\\\\n",
       "\\end{tabular}\n"
      ],
      "text/markdown": [
       "\n",
       "| <!--/--> | Relative.Compactness | Surface.Area | Wall.Area | Roof.Area | Overall.Height | Orientation | Glazing.Area | Glazing.Area.Distribution | Heating.Load | Cooling.Load | \n",
       "|---|---|---|---|---|---|\n",
       "| 763 | 0.64  | 784.0 | 343.0 | 220.5 | 3.5   | 4     | 0.4   | 5     | 18.16 | 20.71 | \n",
       "| 764 | 0.64  | 784.0 | 343.0 | 220.5 | 3.5   | 5     | 0.4   | 5     | 17.88 | 21.40 | \n",
       "| 765 | 0.62  | 808.5 | 367.5 | 220.5 | 3.5   | 2     | 0.4   | 5     | 16.54 | 16.88 | \n",
       "| 766 | 0.62  | 808.5 | 367.5 | 220.5 | 3.5   | 3     | 0.4   | 5     | 16.44 | 17.11 | \n",
       "| 767 | 0.62  | 808.5 | 367.5 | 220.5 | 3.5   | 4     | 0.4   | 5     | 16.48 | 16.61 | \n",
       "| 768 | 0.62  | 808.5 | 367.5 | 220.5 | 3.5   | 5     | 0.4   | 5     | 16.64 | 16.03 | \n",
       "\n",
       "\n"
      ],
      "text/plain": [
       "    Relative.Compactness Surface.Area Wall.Area Roof.Area Overall.Height\n",
       "763 0.64                 784.0        343.0     220.5     3.5           \n",
       "764 0.64                 784.0        343.0     220.5     3.5           \n",
       "765 0.62                 808.5        367.5     220.5     3.5           \n",
       "766 0.62                 808.5        367.5     220.5     3.5           \n",
       "767 0.62                 808.5        367.5     220.5     3.5           \n",
       "768 0.62                 808.5        367.5     220.5     3.5           \n",
       "    Orientation Glazing.Area Glazing.Area.Distribution Heating.Load\n",
       "763 4           0.4          5                         18.16       \n",
       "764 5           0.4          5                         17.88       \n",
       "765 2           0.4          5                         16.54       \n",
       "766 3           0.4          5                         16.44       \n",
       "767 4           0.4          5                         16.48       \n",
       "768 5           0.4          5                         16.64       \n",
       "    Cooling.Load\n",
       "763 20.71       \n",
       "764 21.40       \n",
       "765 16.88       \n",
       "766 17.11       \n",
       "767 16.61       \n",
       "768 16.03       "
      ]
     },
     "metadata": {},
     "output_type": "display_data"
    }
   ],
   "source": [
    "tail(Cleansedenergy.ff)"
   ]
  },
  {
   "cell_type": "markdown",
   "metadata": {},
   "source": [
    "# Analyse Normalized Heating.load and Cooling.load.\n",
    "Let us now compare both heating.load and cooling.load by standardising them using Z-Score and then compare these values for record # 29 & # 350 of the dataset.Normalizing these numbers should present a level playing field. I have sorted the dataset by heating load in an descending order to get the row #'s."
   ]
  },
  {
   "cell_type": "code",
   "execution_count": 105,
   "metadata": {
    "collapsed": false
   },
   "outputs": [
    {
     "name": "stdout",
     "output_type": "stream",
     "text": [
      "Normalized Heating Load for 40.4 at record # 29 is: 1.793107 \n",
      "Normalized cooling Load for 39.67 at record # 29 is: 1.585384 \n",
      "Normalized Heating Load for 24.03 at record # 350 is: 0.1707399 \n",
      "Normalized cooling Load for 24.91 at record # 350 is: 0.03387251 \n"
     ]
    }
   ],
   "source": [
    "#Comparing normalized Heating and Cooling loads for a single record.\n",
    "\n",
    "#z-score normalization for Heating.load of 40.4\n",
    "Heating.Load_mean <- mean(Cleansedenergy.ff$Heating.Load)\n",
    "Heating.Load_sd <- sd(Cleansedenergy.ff$Heating.Load)\n",
    "Normalized_40.4 <- (40.4 - Heating.Load_mean) / Heating.Load_sd\n",
    "cat(\"Normalized Heating Load for 40.4 at record # 29\" , \"is:\",Normalized_40.4,\"\\n\")\n",
    "\n",
    "#z-score normalization for Cooloing.load of 39.67\n",
    "Cooling.Load_mean <- mean(Cleansedenergy.ff$Cooling.Load)\n",
    "Cooling.Load_sd <- sd(Cleansedenergy.ff$Cooling.Load)\n",
    "Normalized_39.67 <- (39.67 - Cooling.Load_mean) / Cooling.Load_sd\n",
    "cat(\"Normalized cooling Load for 39.67 at record # 29\" , \"is:\",Normalized_39.67,\"\\n\")\n",
    "\n",
    "#z-score normalization for Heating.load of 24.03\n",
    "Heating.Load_mean <- mean(Cleansedenergy.ff$Heating.Load)\n",
    "Heating.Load_sd <- sd(Cleansedenergy.ff$Heating.Load)\n",
    "Normalized_24.03 <- (24.03 - Heating.Load_mean) / Heating.Load_sd\n",
    "cat(\"Normalized Heating Load for 24.03 at record # 350\" , \"is:\",Normalized_24.03,\"\\n\")\n",
    "\n",
    "#z-score normalization for Cooloing.load of 24.91\n",
    "Cooling.Load_mean <- mean(Cleansedenergy.ff$Cooling.Load)\n",
    "Cooling.Load_sd <- sd(Cleansedenergy.ff$Cooling.Load)\n",
    "Normalized_24.91 <- (24.91 - Cooling.Load_mean) / Cooling.Load_sd\n",
    "cat(\"Normalized cooling Load for 24.91 at record # 350\" , \"is:\",Normalized_24.91,\"\\n\")"
   ]
  },
  {
   "cell_type": "markdown",
   "metadata": {},
   "source": [
    "**<span style=\"color:red\">Comparison of record record # 29 tells us that both heating and cooling numbers are more than 1 standard deviation from their mean hence are on the higher side, this tells us that such homes will have higher energy bills and this high z-score also conveys that there are very few such homes.</span>**.\n",
    "\n",
    "**<span style=\"color:blue\">Comparison of record # 350 tells us that both heating and cooling numbers for record # 350 are very close to their mean, this tells us these homes will have average energy bills,further we also get to observe that the normalized numbers of 0.17 and 0.033 are significantly different when compared to the original numbers of 24.03 and 24.91, in this case home owners will be paying a higher heating bill when compared to the cooling bill.</span>**.\n"
   ]
  },
  {
   "cell_type": "markdown",
   "metadata": {},
   "source": [
    "# We can use the normalized numbers to find how many homes in the supplied dataset meet these numbers."
   ]
  },
  {
   "cell_type": "code",
   "execution_count": 106,
   "metadata": {
    "collapsed": false
   },
   "outputs": [
    {
     "name": "stdout",
     "output_type": "stream",
     "text": [
      "Percentage of homes with a Heating Load over 40.4 is: 3.647792 \n",
      "Percentage of homes with a cooling Load over 39.67 is: 5.643959 \n",
      "Percentage of homes with a Heating Load under 24.03 is: 56.77859 \n",
      "Percentage of homes with a cooling Load under 24.91 is: 51.35106 \n"
     ]
    }
   ],
   "source": [
    "#Use probabililty normal distribution to gauge the percentatage of homes based on the z-score\n",
    "p_Normalized_40.4 <- 1- pnorm(Normalized_40.4)\n",
    "cat(\"Percentage of homes with a Heating Load over 40.4\" , \"is:\",p_Normalized_40.4*100,\"\\n\")\n",
    "\n",
    "p_Normalized_39.67 <- 1- pnorm(Normalized_39.67)\n",
    "cat(\"Percentage of homes with a cooling Load over 39.67\" , \"is:\",p_Normalized_39.67*100,\"\\n\")\n",
    "\n",
    "p_Normalized_24.03 <- pnorm(Normalized_24.03)\n",
    "cat(\"Percentage of homes with a Heating Load under 24.03\" , \"is:\",p_Normalized_24.03*100,\"\\n\")\n",
    "\n",
    "p_Normalized_24.91 <- pnorm(Normalized_24.91)\n",
    "cat(\"Percentage of homes with a cooling Load under 24.91\" , \"is:\",p_Normalized_24.91*100,\"\\n\")"
   ]
  },
  {
   "cell_type": "markdown",
   "metadata": {},
   "source": [
    "**<span style=\"color:blue\">You can confirm the low percentage of homes with a high z-score and high percentage of homes with a low z-score.</span>**."
   ]
  },
  {
   "cell_type": "markdown",
   "metadata": {},
   "source": [
    "### Frequency tables\n",
    "\n",
    "The summary techniques we have used so far are suitable only for numeric variables. Categorical variables have values which are typically unordered. Therefore, we need a method to summrize categorical based on counts.\n",
    "\n",
    "**Overall.Height** has a numeric datatype, data however in this column is static and can be used as a categorical variable.\n",
    "\n",
    "The R `table` function lets you look create a fequency table. The frequency table shows the count of each category of the variable. Execute the following code to show the number of houses with different overall height."
   ]
  },
  {
   "cell_type": "code",
   "execution_count": 107,
   "metadata": {
    "collapsed": false
   },
   "outputs": [
    {
     "data": {
      "text/plain": [
       "\n",
       "3.5   7 \n",
       "384 384 "
      ]
     },
     "metadata": {},
     "output_type": "display_data"
    }
   ],
   "source": [
    "table(Cleansedenergy.ff$Overall.Height)"
   ]
  },
  {
   "cell_type": "markdown",
   "metadata": {},
   "source": [
    "Notice that overall height of 3.5 and 7 is equally distributed in the dataset."
   ]
  },
  {
   "cell_type": "code",
   "execution_count": 108,
   "metadata": {
    "collapsed": false
   },
   "outputs": [
    {
     "data": {
      "text/plain": [
       "\n",
       "  2   3   4   5 \n",
       "192 192 192 192 "
      ]
     },
     "metadata": {},
     "output_type": "display_data"
    }
   ],
   "source": [
    "table(Cleansedenergy.ff$Orientation)"
   ]
  },
  {
   "cell_type": "markdown",
   "metadata": {},
   "source": [
    "Notice that orientation of 2,3,4 and 5 is equally distributed in the dataset."
   ]
  },
  {
   "cell_type": "markdown",
   "metadata": {},
   "source": [
    "You can also look at the frequency of a combination of two categorical variables. To see an example, execute the code in the cell below and examine the results."
   ]
  },
  {
   "cell_type": "code",
   "execution_count": 109,
   "metadata": {
    "collapsed": false
   },
   "outputs": [
    {
     "data": {
      "text/plain": [
       "     \n",
       "       2  3  4  5\n",
       "  3.5 96 96 96 96\n",
       "  7   96 96 96 96"
      ]
     },
     "metadata": {},
     "output_type": "display_data"
    }
   ],
   "source": [
    "table(Cleansedenergy.ff$Overall.Height, Cleansedenergy.ff$Orientation)"
   ]
  },
  {
   "cell_type": "markdown",
   "metadata": {},
   "source": [
    "Notice that orientation of 2,3,4 & 5 is equally distributed across overall height of 3.5 & 7."
   ]
  },
  {
   "cell_type": "markdown",
   "metadata": {},
   "source": [
    "### Covariance and correlation\n",
    "\n",
    "Now, you will work with the correlations between the numberic variables.  Covariance is defined as follows:\n",
    "\n",
    "$$cov(x,y) = E((x - \\mu_x) (y - \\mu_y))$$\n",
    "\n",
    "Pearson correlation is similar to covariance, but with normalization by the variance, and is defined as follows: \n",
    "\n",
    "$$cor(x,y) = \\frac{E((x - \\mu_x) (y - \\mu_y))}{\\sigma_x \\sigma_y}$$\n",
    "\n",
    "There are also non-parametric measures of correlation. One of widely used non-parametric method is Kendal's rank correlation. The Kendal correlation counts the number of values which have the same sign (concordant) and with the oposite sign (discordant). As a rank or non-parametric method, Kendal correlation is robust to outliers. Kendal's rank correlation can be computed as follows:\n",
    "\n",
    "$$\\tau = \\frac{\\Sigma concordant\\ pairs - \\Sigma disconcordant\\ pairs}{n(n-1)/2}$$\n",
    "\n",
    "Execute the code in the cell below to compute the Pearson correltion for a subset of the data frame. "
   ]
  },
  {
   "cell_type": "code",
   "execution_count": 110,
   "metadata": {
    "collapsed": false
   },
   "outputs": [
    {
     "data": {
      "text/html": [
       "<table>\n",
       "<thead><tr><th></th><th scope=col>Relative.Compactness</th><th scope=col>Surface.Area</th><th scope=col>Wall.Area</th><th scope=col>Roof.Area</th><th scope=col>Overall.Height</th><th scope=col>Orientation</th><th scope=col>Glazing.Area</th><th scope=col>Glazing.Area.Distribution</th><th scope=col>Heating.Load</th><th scope=col>Cooling.Load</th></tr></thead>\n",
       "<tbody>\n",
       "\t<tr><th scope=row>Relative.Compactness</th><td> 1.000000e+00</td><td>-9.919015e-01</td><td>-0.2037817   </td><td>-8.688234e-01</td><td> 0.8277473   </td><td> 0.000000000 </td><td> 7.617400e-20</td><td>0.00000000   </td><td> 0.622272179 </td><td> 0.63433907  </td></tr>\n",
       "\t<tr><th scope=row>Surface.Area</th><td>-9.919015e-01</td><td> 1.000000e+00</td><td> 0.1955016   </td><td> 8.807195e-01</td><td>-0.8581477   </td><td> 0.000000000 </td><td> 4.664140e-20</td><td>0.00000000   </td><td>-0.658120227 </td><td>-0.67299893  </td></tr>\n",
       "\t<tr><th scope=row>Wall.Area</th><td>-2.037817e-01</td><td> 1.955016e-01</td><td> 1.0000000   </td><td>-2.923165e-01</td><td> 0.2809757   </td><td> 0.000000000 </td><td> 0.000000e+00</td><td>0.00000000   </td><td> 0.455671157 </td><td> 0.42711700  </td></tr>\n",
       "\t<tr><th scope=row>Roof.Area</th><td>-8.688234e-01</td><td> 8.807195e-01</td><td>-0.2923165   </td><td> 1.000000e+00</td><td>-0.9725122   </td><td> 0.000000000 </td><td>-1.197187e-19</td><td>0.00000000   </td><td>-0.861828253 </td><td>-0.86254660  </td></tr>\n",
       "\t<tr><th scope=row>Overall.Height</th><td> 8.277473e-01</td><td>-8.581477e-01</td><td> 0.2809757   </td><td>-9.725122e-01</td><td> 1.0000000   </td><td> 0.000000000 </td><td> 0.000000e+00</td><td>0.00000000   </td><td> 0.889430674 </td><td> 0.89578517  </td></tr>\n",
       "\t<tr><th scope=row>Orientation</th><td> 0.000000e+00</td><td> 0.000000e+00</td><td> 0.0000000   </td><td> 0.000000e+00</td><td> 0.0000000   </td><td> 1.000000000 </td><td> 0.000000e+00</td><td>0.00000000   </td><td>-0.002586534 </td><td> 0.01428960  </td></tr>\n",
       "\t<tr><th scope=row>Glazing.Area</th><td> 7.617400e-20</td><td> 4.664140e-20</td><td> 0.0000000   </td><td>-1.197187e-19</td><td> 0.0000000   </td><td> 0.000000000 </td><td> 1.000000e+00</td><td>0.21296422   </td><td> 0.269840996 </td><td> 0.20750499  </td></tr>\n",
       "\t<tr><th scope=row>Glazing.Area.Distribution</th><td> 0.000000e+00</td><td> 0.000000e+00</td><td> 0.0000000   </td><td> 0.000000e+00</td><td> 0.0000000   </td><td> 0.000000000 </td><td> 2.129642e-01</td><td>1.00000000   </td><td> 0.087367594 </td><td> 0.05052512  </td></tr>\n",
       "\t<tr><th scope=row>Heating.Load</th><td> 6.222722e-01</td><td>-6.581202e-01</td><td> 0.4556712   </td><td>-8.618283e-01</td><td> 0.8894307   </td><td>-0.002586534 </td><td> 2.698410e-01</td><td>0.08736759   </td><td> 1.000000000 </td><td> 0.97586181  </td></tr>\n",
       "\t<tr><th scope=row>Cooling.Load</th><td> 6.343391e-01</td><td>-6.729989e-01</td><td> 0.4271170   </td><td>-8.625466e-01</td><td> 0.8957852   </td><td> 0.014289598 </td><td> 2.075050e-01</td><td>0.05052512   </td><td> 0.975861813 </td><td> 1.00000000  </td></tr>\n",
       "</tbody>\n",
       "</table>\n"
      ],
      "text/latex": [
       "\\begin{tabular}{r|llllllllll}\n",
       "  & Relative.Compactness & Surface.Area & Wall.Area & Roof.Area & Overall.Height & Orientation & Glazing.Area & Glazing.Area.Distribution & Heating.Load & Cooling.Load\\\\\n",
       "\\hline\n",
       "\tRelative.Compactness &  1.000000e+00 & -9.919015e-01 & -0.2037817    & -8.688234e-01 &  0.8277473    &  0.000000000  &  7.617400e-20 & 0.00000000    &  0.622272179  &  0.63433907  \\\\\n",
       "\tSurface.Area & -9.919015e-01 &  1.000000e+00 &  0.1955016    &  8.807195e-01 & -0.8581477    &  0.000000000  &  4.664140e-20 & 0.00000000    & -0.658120227  & -0.67299893  \\\\\n",
       "\tWall.Area & -2.037817e-01 &  1.955016e-01 &  1.0000000    & -2.923165e-01 &  0.2809757    &  0.000000000  &  0.000000e+00 & 0.00000000    &  0.455671157  &  0.42711700  \\\\\n",
       "\tRoof.Area & -8.688234e-01 &  8.807195e-01 & -0.2923165    &  1.000000e+00 & -0.9725122    &  0.000000000  & -1.197187e-19 & 0.00000000    & -0.861828253  & -0.86254660  \\\\\n",
       "\tOverall.Height &  8.277473e-01 & -8.581477e-01 &  0.2809757    & -9.725122e-01 &  1.0000000    &  0.000000000  &  0.000000e+00 & 0.00000000    &  0.889430674  &  0.89578517  \\\\\n",
       "\tOrientation &  0.000000e+00 &  0.000000e+00 &  0.0000000    &  0.000000e+00 &  0.0000000    &  1.000000000  &  0.000000e+00 & 0.00000000    & -0.002586534  &  0.01428960  \\\\\n",
       "\tGlazing.Area &  7.617400e-20 &  4.664140e-20 &  0.0000000    & -1.197187e-19 &  0.0000000    &  0.000000000  &  1.000000e+00 & 0.21296422    &  0.269840996  &  0.20750499  \\\\\n",
       "\tGlazing.Area.Distribution &  0.000000e+00 &  0.000000e+00 &  0.0000000    &  0.000000e+00 &  0.0000000    &  0.000000000  &  2.129642e-01 & 1.00000000    &  0.087367594  &  0.05052512  \\\\\n",
       "\tHeating.Load &  6.222722e-01 & -6.581202e-01 &  0.4556712    & -8.618283e-01 &  0.8894307    & -0.002586534  &  2.698410e-01 & 0.08736759    &  1.000000000  &  0.97586181  \\\\\n",
       "\tCooling.Load &  6.343391e-01 & -6.729989e-01 &  0.4271170    & -8.625466e-01 &  0.8957852    &  0.014289598  &  2.075050e-01 & 0.05052512    &  0.975861813  &  1.00000000  \\\\\n",
       "\\end{tabular}\n"
      ],
      "text/markdown": [
       "\n",
       "| <!--/--> | Relative.Compactness | Surface.Area | Wall.Area | Roof.Area | Overall.Height | Orientation | Glazing.Area | Glazing.Area.Distribution | Heating.Load | Cooling.Load | \n",
       "|---|---|---|---|---|---|---|---|---|---|\n",
       "| Relative.Compactness |  1.000000e+00 | -9.919015e-01 | -0.2037817    | -8.688234e-01 |  0.8277473    |  0.000000000  |  7.617400e-20 | 0.00000000    |  0.622272179  |  0.63433907   | \n",
       "| Surface.Area | -9.919015e-01 |  1.000000e+00 |  0.1955016    |  8.807195e-01 | -0.8581477    |  0.000000000  |  4.664140e-20 | 0.00000000    | -0.658120227  | -0.67299893   | \n",
       "| Wall.Area | -2.037817e-01 |  1.955016e-01 |  1.0000000    | -2.923165e-01 |  0.2809757    |  0.000000000  |  0.000000e+00 | 0.00000000    |  0.455671157  |  0.42711700   | \n",
       "| Roof.Area | -8.688234e-01 |  8.807195e-01 | -0.2923165    |  1.000000e+00 | -0.9725122    |  0.000000000  | -1.197187e-19 | 0.00000000    | -0.861828253  | -0.86254660   | \n",
       "| Overall.Height |  8.277473e-01 | -8.581477e-01 |  0.2809757    | -9.725122e-01 |  1.0000000    |  0.000000000  |  0.000000e+00 | 0.00000000    |  0.889430674  |  0.89578517   | \n",
       "| Orientation |  0.000000e+00 |  0.000000e+00 |  0.0000000    |  0.000000e+00 |  0.0000000    |  1.000000000  |  0.000000e+00 | 0.00000000    | -0.002586534  |  0.01428960   | \n",
       "| Glazing.Area |  7.617400e-20 |  4.664140e-20 |  0.0000000    | -1.197187e-19 |  0.0000000    |  0.000000000  |  1.000000e+00 | 0.21296422    |  0.269840996  |  0.20750499   | \n",
       "| Glazing.Area.Distribution |  0.000000e+00 |  0.000000e+00 |  0.0000000    |  0.000000e+00 |  0.0000000    |  0.000000000  |  2.129642e-01 | 1.00000000    |  0.087367594  |  0.05052512   | \n",
       "| Heating.Load |  6.222722e-01 | -6.581202e-01 |  0.4556712    | -8.618283e-01 |  0.8894307    | -0.002586534  |  2.698410e-01 | 0.08736759    |  1.000000000  |  0.97586181   | \n",
       "| Cooling.Load |  6.343391e-01 | -6.729989e-01 |  0.4271170    | -8.625466e-01 |  0.8957852    |  0.014289598  |  2.075050e-01 | 0.05052512    |  0.975861813  |  1.00000000   | \n",
       "\n",
       "\n"
      ],
      "text/plain": [
       "                          Relative.Compactness Surface.Area  Wall.Area \n",
       "Relative.Compactness       1.000000e+00        -9.919015e-01 -0.2037817\n",
       "Surface.Area              -9.919015e-01         1.000000e+00  0.1955016\n",
       "Wall.Area                 -2.037817e-01         1.955016e-01  1.0000000\n",
       "Roof.Area                 -8.688234e-01         8.807195e-01 -0.2923165\n",
       "Overall.Height             8.277473e-01        -8.581477e-01  0.2809757\n",
       "Orientation                0.000000e+00         0.000000e+00  0.0000000\n",
       "Glazing.Area               7.617400e-20         4.664140e-20  0.0000000\n",
       "Glazing.Area.Distribution  0.000000e+00         0.000000e+00  0.0000000\n",
       "Heating.Load               6.222722e-01        -6.581202e-01  0.4556712\n",
       "Cooling.Load               6.343391e-01        -6.729989e-01  0.4271170\n",
       "                          Roof.Area     Overall.Height Orientation \n",
       "Relative.Compactness      -8.688234e-01  0.8277473      0.000000000\n",
       "Surface.Area               8.807195e-01 -0.8581477      0.000000000\n",
       "Wall.Area                 -2.923165e-01  0.2809757      0.000000000\n",
       "Roof.Area                  1.000000e+00 -0.9725122      0.000000000\n",
       "Overall.Height            -9.725122e-01  1.0000000      0.000000000\n",
       "Orientation                0.000000e+00  0.0000000      1.000000000\n",
       "Glazing.Area              -1.197187e-19  0.0000000      0.000000000\n",
       "Glazing.Area.Distribution  0.000000e+00  0.0000000      0.000000000\n",
       "Heating.Load              -8.618283e-01  0.8894307     -0.002586534\n",
       "Cooling.Load              -8.625466e-01  0.8957852      0.014289598\n",
       "                          Glazing.Area  Glazing.Area.Distribution Heating.Load\n",
       "Relative.Compactness       7.617400e-20 0.00000000                 0.622272179\n",
       "Surface.Area               4.664140e-20 0.00000000                -0.658120227\n",
       "Wall.Area                  0.000000e+00 0.00000000                 0.455671157\n",
       "Roof.Area                 -1.197187e-19 0.00000000                -0.861828253\n",
       "Overall.Height             0.000000e+00 0.00000000                 0.889430674\n",
       "Orientation                0.000000e+00 0.00000000                -0.002586534\n",
       "Glazing.Area               1.000000e+00 0.21296422                 0.269840996\n",
       "Glazing.Area.Distribution  2.129642e-01 1.00000000                 0.087367594\n",
       "Heating.Load               2.698410e-01 0.08736759                 1.000000000\n",
       "Cooling.Load               2.075050e-01 0.05052512                 0.975861813\n",
       "                          Cooling.Load\n",
       "Relative.Compactness       0.63433907 \n",
       "Surface.Area              -0.67299893 \n",
       "Wall.Area                  0.42711700 \n",
       "Roof.Area                 -0.86254660 \n",
       "Overall.Height             0.89578517 \n",
       "Orientation                0.01428960 \n",
       "Glazing.Area               0.20750499 \n",
       "Glazing.Area.Distribution  0.05052512 \n",
       "Heating.Load               0.97586181 \n",
       "Cooling.Load               1.00000000 "
      ]
     },
     "metadata": {},
     "output_type": "display_data"
    }
   ],
   "source": [
    "#Calculate the Pearson's correlation of between numeric attributes.\n",
    "cor(Cleansedenergy.ff)"
   ]
  },
  {
   "cell_type": "markdown",
   "metadata": {},
   "source": [
    "The covariance is a bit hard to interpret since the variables are not normalized. The numberic ranges of the variables are quite different, leading to a large range of covariance values. \n",
    "\n",
    "The correlation matrix is a bit easier to understand, since there is a normalization of the values. The diagonal values of the correlation matrix are all 1.0, as a result of the normalization. The magnituges of the correlation values between the variables exhibit a significant range. \n",
    "\n",
    "Some pairs of variables are weakly correlated, with small magnitudes. For example, **Orientation** and **Heating.load** have no relationship while **Overall.Height** and **Heating.Load** are strongly correlated and **Wall.Area** and **Heating.Load** are moderately correlated."
   ]
  },
  {
   "cell_type": "markdown",
   "metadata": {},
   "source": [
    "### Bar plots\n",
    "\n",
    "Bar plots are used to display the counts or fequency of unique values of a categorical variable. The height of the bar represents the count for each unique category of the variable. \n",
    "\n",
    "The code below uses ggplot2 to create the bar plot. The `ggplot` function defines the data frame and the x and y column(s) to be plotted. The plot type is defined by these function `geom_bar`. The `+` operator chains the functions. \n",
    "\n",
    "Execute this code to create the bar plot."
   ]
  },
  {
   "cell_type": "code",
   "execution_count": 111,
   "metadata": {
    "collapsed": false
   },
   "outputs": [
    {
     "data": {},
     "metadata": {},
     "output_type": "display_data"
    },
    {
     "data": {
      "text/plain": [
       "List of 1\n",
       " $ axis.text.x:List of 10\n",
       "  ..$ family    : NULL\n",
       "  ..$ face      : NULL\n",
       "  ..$ colour    : NULL\n",
       "  ..$ size      : NULL\n",
       "  ..$ hjust     : num 1\n",
       "  ..$ vjust     : NULL\n",
       "  ..$ angle     : num 90\n",
       "  ..$ lineheight: NULL\n",
       "  ..$ margin    : NULL\n",
       "  ..$ debug     : NULL\n",
       "  ..- attr(*, \"class\")= chr [1:2] \"element_text\" \"element\"\n",
       " - attr(*, \"class\")= chr [1:2] \"theme\" \"gg\"\n",
       " - attr(*, \"complete\")= logi FALSE\n",
       " - attr(*, \"validate\")= logi TRUE"
      ]
     },
     "metadata": {},
     "output_type": "display_data"
    },
    {
     "data": {
      "image/png": "[encoded data removed]",
      "text/plain": [
       "plot without title"
      ]
     },
     "metadata": {},
     "output_type": "display_data"
    }
   ],
   "source": [
    "require(ggplot2)\n",
    "ggplot(Cleansedenergy.ff, aes(x=reorder(Wall.Area,Wall.Area, function(x) -length(x)))) + ## Function shorts the bars\n",
    "  geom_bar() + \n",
    "  xlab('Wall Area')\n",
    "  theme(axis.text.x = element_text(angle = 90, hjust = 1)) ## Theme function for conrol"
   ]
  },
  {
   "cell_type": "markdown",
   "metadata": {
    "collapsed": true
   },
   "source": [
    "Bar plot clearly shows you that wall area between 294 & 318.5 is most prevalent in the homes."
   ]
  },
  {
   "cell_type": "markdown",
   "metadata": {},
   "source": [
    "### Histograms\n",
    "\n",
    "Histograms are related to bar plots. Histograms are used for numeric variables. Whereas, a bar plot shows the counts of unique categories, a histogram shows the number of data with values in each bin. The bins divide the values of the variable into equal segments. The vertical axis of the histogram shows the count of data values within each bin.  \n",
    "\n",
    "Execute the code in the cell below to create a histogram using the `geom_histogram` function. "
   ]
  },
  {
   "cell_type": "code",
   "execution_count": 112,
   "metadata": {
    "collapsed": false
   },
   "outputs": [
    {
     "data": {},
     "metadata": {},
     "output_type": "display_data"
    },
    {
     "data": {
      "image/png": "[encoded data removed]",
      "text/plain": [
       "plot without title"
      ]
     },
     "metadata": {},
     "output_type": "display_data"
    }
   ],
   "source": [
    "ggplot(Cleansedenergy.ff, aes(Heating.Load)) + geom_histogram(binwidth = 1) + \n",
    "  ggtitle('Histogram Of Heating Load')"
   ]
  },
  {
   "cell_type": "markdown",
   "metadata": {},
   "source": [
    "The histogram shows Heating.Load with a skewed distribution."
   ]
  },
  {
   "cell_type": "markdown",
   "metadata": {},
   "source": [
    "Plot a histogram of z-score normalization of Heating.load and observe the distribution. A positive skewed distribution can be confirmed with a slope going down from -1 to 2. **<span style=\"color:blue\">One can confirm that approximately 400 homes will be paying less than average heating bills.</span>**"
   ]
  },
  {
   "cell_type": "code",
   "execution_count": 113,
   "metadata": {
    "collapsed": false
   },
   "outputs": [
    {
     "data": {},
     "metadata": {},
     "output_type": "display_data"
    },
    {
     "data": {
      "image/png": "[encoded data removed]",
      "text/plain": [
       "plot without title"
      ]
     },
     "metadata": {},
     "output_type": "display_data"
    }
   ],
   "source": [
    "#Calculate z-score for Heating.load\n",
    "zscore_heating <- scale(Cleansedenergy.ff$Heating.Load,center = TRUE, scale = TRUE)\n",
    "\n",
    "#Create histogram for z-score of Heating Load\n",
    "ggplot(Cleansedenergy.ff, aes(zscore_heating)) + geom_histogram(binwidth = .5) + \n",
    "  xlab('Normalized Heating Load') +\n",
    "  ggtitle('Histogram of Z-Score Normalized Heating Load')"
   ]
  },
  {
   "cell_type": "code",
   "execution_count": 114,
   "metadata": {
    "collapsed": false
   },
   "outputs": [
    {
     "data": {},
     "metadata": {},
     "output_type": "display_data"
    },
    {
     "data": {
      "image/png": "[encoded data removed]",
      "text/plain": [
       "plot without title"
      ]
     },
     "metadata": {},
     "output_type": "display_data"
    }
   ],
   "source": [
    "#Create histogram for Cooling.load\n",
    "ggplot(Cleansedenergy.ff, aes(Cooling.Load)) + geom_histogram(binwidth = .5) + \n",
    "  ggtitle('Histogram of Cooling Load')"
   ]
  },
  {
   "cell_type": "markdown",
   "metadata": {},
   "source": [
    "Plot a histogram of z-score normalized Cooling.load and observe the distribution. A positive skewed distribution can be confirmed with a slope going down from -1 to 2. **<span style=\"color:blue\">One can confirm that approximately 393 homes will be paying less than average cooling bills.</span>**"
   ]
  },
  {
   "cell_type": "code",
   "execution_count": 115,
   "metadata": {
    "collapsed": false
   },
   "outputs": [
    {
     "data": {},
     "metadata": {},
     "output_type": "display_data"
    },
    {
     "data": {
      "image/png": "[encoded data removed]",
      "text/plain": [
       "plot without title"
      ]
     },
     "metadata": {},
     "output_type": "display_data"
    }
   ],
   "source": [
    "#calculate z-score for cooling.load\n",
    "zscore_cooling <- scale(Cleansedenergy.ff$Cooling.Load,center = TRUE, scale = TRUE)\n",
    "#Create histogram for z-score of cooling Load\n",
    "ggplot(Cleansedenergy.ff, aes(zscore_cooling)) + geom_histogram(binwidth = .5) + \n",
    "  xlab('Normalized Cooling Load') +\n",
    "  ggtitle('Histogram of Z-Score Cooling Load')"
   ]
  },
  {
   "cell_type": "markdown",
   "metadata": {},
   "source": [
    "### Box plots\n",
    "\n",
    "Box plots, also known as box and whisker plots, were introduced by John Tukey in 1970. Box plots are another way to visualize the distribution of data values. In this respect, box plots are comparable to histograms, but are quite different in presentation. \n",
    "\n",
    "A diagram showing the interpretation of a box plot is shown in the figure below.\n",
    "\n",
    "![Interpretation of a box plot](BoxPlot.png)\n",
    "\n",
    "On a box plot the median value is shown with a dark bar. The inner two quartiles of data values are contained within the 'box'. The 'whiskers' enclose the majority of the data, at +/-1.5 times the inter-quartile range. Outliers are shown by symbols beyond the wiskers.\n",
    "\n",
    "Several box plots can be stacked along an axis. The data are divided using a 'group by' operation, and the box plots for each group are stacked next to each other. In this way, the box plot allows you to display two dimensions of your data set. \n",
    "\n",
    "Execute the code in the cell below to create a box plot of the heating.load of homes."
   ]
  },
  {
   "cell_type": "code",
   "execution_count": 116,
   "metadata": {
    "collapsed": false
   },
   "outputs": [
    {
     "data": {},
     "metadata": {},
     "output_type": "display_data"
    },
    {
     "data": {
      "image/png": "[encoded data removed]",
      "text/plain": [
       "plot without title"
      ]
     },
     "metadata": {},
     "output_type": "display_data"
    }
   ],
   "source": [
    "#Create boxplot for one variable\n",
    "ggplot(Cleansedenergy.ff, aes(x = factor(0), y = Heating.Load )) + geom_boxplot()"
   ]
  },
  {
   "cell_type": "markdown",
   "metadata": {},
   "source": [
    "Box plot of cooling load can now be compared with histogram of the normalized heating load. Z-score of heating load shows a downward slope from -1 to 2, box plot confirms this analysis by showing the median leaning towards the first quartile."
   ]
  },
  {
   "cell_type": "markdown",
   "metadata": {},
   "source": [
    "Box plots are most useful when the data are subdivided using another variable. In ggolot2 the you can add an x variable of **Overall Height** factor to perform this group by operation. Execute the code below to display the box plots of `Cooling.Load` grouped by the `Overall.Height` variable."
   ]
  },
  {
   "cell_type": "code",
   "execution_count": 117,
   "metadata": {
    "collapsed": false
   },
   "outputs": [
    {
     "data": {},
     "metadata": {},
     "output_type": "display_data"
    },
    {
     "data": {
      "image/png": "[encoded data removed]",
      "text/plain": [
       "plot without title"
      ]
     },
     "metadata": {},
     "output_type": "display_data"
    }
   ],
   "source": [
    "#Create boxplot to compare two variables.\n",
    "ggplot(Cleansedenergy.ff, aes(x = factor(Overall.Height), y = Heating.Load)) + geom_boxplot() + \n",
    "  xlab('Overall Height') + ggtitle('Heating load by Overall Height')"
   ]
  },
  {
   "cell_type": "markdown",
   "metadata": {
    "collapsed": true
   },
   "source": [
    "Examine these box plots and note the following:\n",
    "\n",
    "- One can clearly see a strong correlation between overall height and heating.load.\n",
    "- The median heating load of a overall height of 3.5 is considerably less than overall height of 7. In other words homes with higher ceilings will have bigger heating bills.\n",
    "- Overall Height of 3.5 has four outliers as compared to none in 7 when grouped by heating load. Outlier in 3.5 group would indicate atleast 4 homes below 1st quartile.\n",
    "- There is no overlap between the interquartile ranges of heating load distributions of overall height of 3.5 & 7, this would convey that overall height of the house has a strong effect on the heating load as heating numbers are dramatically going up with the overall height."
   ]
  },
  {
   "cell_type": "code",
   "execution_count": 118,
   "metadata": {
    "collapsed": false
   },
   "outputs": [
    {
     "data": {},
     "metadata": {},
     "output_type": "display_data"
    },
    {
     "data": {
      "image/png": "[encoded data removed]",
      "text/plain": [
       "plot without title"
      ]
     },
     "metadata": {},
     "output_type": "display_data"
    }
   ],
   "source": [
    "ggplot(Cleansedenergy.ff, aes(x = factor(Roof.Area), y = Heating.Load)) + geom_boxplot() + \n",
    "  xlab('Roof Area') + ggtitle('Heating load by Roof Area')"
   ]
  },
  {
   "cell_type": "markdown",
   "metadata": {},
   "source": [
    "One can see that Roof Area has a negative correlation with heating loads."
   ]
  },
  {
   "cell_type": "code",
   "execution_count": 119,
   "metadata": {
    "collapsed": false
   },
   "outputs": [
    {
     "data": {},
     "metadata": {},
     "output_type": "display_data"
    },
    {
     "data": {
      "image/png": "[encoded data removed]",
      "text/plain": [
       "plot without title"
      ]
     },
     "metadata": {},
     "output_type": "display_data"
    }
   ],
   "source": [
    "ggplot(Cleansedenergy.ff, aes(x = factor(Orientation), y = Heating.Load)) + geom_boxplot() + \n",
    "  xlab('Orientation') + ggtitle('Heating load by Orientation')"
   ]
  },
  {
   "cell_type": "markdown",
   "metadata": {},
   "source": [
    "One can clearly see that Orientation has no correlation with heating loads."
   ]
  },
  {
   "cell_type": "markdown",
   "metadata": {},
   "source": [
    "### Kernel density estimation plots\n",
    "\n",
    "You have used two methods for visualizing distributions. Now, you will look at another method, kernel density estimation. Kernel density estimation uses a moving denisty kernel to average the density of the distribution. Execute the code in the cell below to compute and plot a kernel density estimate of auto price. "
   ]
  },
  {
   "cell_type": "code",
   "execution_count": 120,
   "metadata": {
    "collapsed": false
   },
   "outputs": [
    {
     "data": {},
     "metadata": {},
     "output_type": "display_data"
    },
    {
     "data": {
      "image/png": "[encoded data removed]",
      "text/plain": [
       "plot without title"
      ]
     },
     "metadata": {},
     "output_type": "display_data"
    }
   ],
   "source": [
    "ggplot(Cleansedenergy.ff, aes(Heating.Load )) + geom_density()"
   ]
  },
  {
   "cell_type": "markdown",
   "metadata": {},
   "source": [
    "Notice that the distribution is heavily skewed to the left with a small blip in the middle and then going down on the right."
   ]
  },
  {
   "cell_type": "markdown",
   "metadata": {},
   "source": [
    "### Violin plots\n",
    "\n",
    "Violine plots are a useful, and relatively new, plot type. The violin plot combines some attributes of a kernal density plot and the box plot. The violin plot shows a pair of symmetric kernel density plot. Like a box plot, the violin plot can be conditioned on a categorical (factor) variable. \n",
    "\n",
    "The code in the cell below creates a violin plot of heating load, grouped by overall height. Some attributes have been added to show quantiles with the `draw_quantiles` attribute. Additionally, the `trim` attribute adds whiskers to show outliers. Execute this code to create the plot. "
   ]
  },
  {
   "cell_type": "code",
   "execution_count": 121,
   "metadata": {
    "collapsed": false
   },
   "outputs": [
    {
     "data": {},
     "metadata": {},
     "output_type": "display_data"
    },
    {
     "data": {
      "image/png": "[encoded data removed]",
      "text/plain": [
       "plot without title"
      ]
     },
     "metadata": {},
     "output_type": "display_data"
    }
   ],
   "source": [
    "ggplot(Cleansedenergy.ff, aes(x = factor(Overall.Height), y = Heating.Load)) + \n",
    "    geom_violin(trim = FALSE, draw_quantiles = c(0.25, 0.5, 0.75)) +\n",
    "    xlab('Overall Height')  + ggtitle('Heating Load by Overall Height')"
   ]
  },
  {
   "cell_type": "markdown",
   "metadata": {},
   "source": [
    "This plot clearly shows a thick spread of **Heating.Load** on the 1st quartile of 3.5, one can also validate an even spread **Cooling.Load** between 1st and 3rd quartile of 7, with no outliers. \n",
    "\n",
    "**One would have however expected to see four outliers under the 1st Quartile on 3.5 and no outliers in 7.** \n",
    "\n",
    "**<span style=\"color:red\">This would be a question to the professor.</span>**"
   ]
  },
  {
   "cell_type": "markdown",
   "metadata": {},
   "source": [
    "Given below is a violin plot between heating load and orientation, we would expect to see no meaningful relationship in this plot."
   ]
  },
  {
   "cell_type": "code",
   "execution_count": 122,
   "metadata": {
    "collapsed": false
   },
   "outputs": [
    {
     "data": {},
     "metadata": {},
     "output_type": "display_data"
    },
    {
     "data": {
      "image/png": "[encoded data removed]",
      "text/plain": [
       "plot without title"
      ]
     },
     "metadata": {},
     "output_type": "display_data"
    }
   ],
   "source": [
    "ggplot(Cleansedenergy.ff, aes(x = factor(Orientation), y = Heating.Load)) + \n",
    "  geom_violin(trim = FALSE, draw_quantiles = c(0.25, 0.5, 0.75)) +\n",
    "  xlab('Orientation')  + ggtitle('Heating Load by Orientation')"
   ]
  },
  {
   "cell_type": "markdown",
   "metadata": {},
   "source": [
    "As you can see above orientation has no bearing on heating load."
   ]
  },
  {
   "cell_type": "markdown",
   "metadata": {},
   "source": [
    "## Scatter plots\n",
    "\n",
    "A basic scatter plot shows the relationship between two variables. Points are ploted at the x-y coordinates of each value pair. \n",
    "\n",
    "Execute the code in the cell below to create a scatter plot of `Overall.Height` on the horizontal axis vs. `Heating.Load` on the vertical axis. "
   ]
  },
  {
   "cell_type": "code",
   "execution_count": 123,
   "metadata": {
    "collapsed": false
   },
   "outputs": [
    {
     "data": {},
     "metadata": {},
     "output_type": "display_data"
    },
    {
     "data": {
      "image/png": "[encoded data removed]",
      "text/plain": [
       "plot without title"
      ]
     },
     "metadata": {},
     "output_type": "display_data"
    }
   ],
   "source": [
    "ggplot(Cleansedenergy.ff, aes(x = Overall.Height, y = Heating.Load)) + geom_point() + \n",
    "    xlab('Overall Height') + ylab('Heating Load') + \n",
    "    ggtitle('Relationship between Heating Load and Overall Height')"
   ]
  },
  {
   "cell_type": "markdown",
   "metadata": {},
   "source": [
    "The scatter plot shows the relationship between Heating and Overall Height. The relationship clearly shows a higher heating load for homes with a higher overall height."
   ]
  },
  {
   "cell_type": "markdown",
   "metadata": {},
   "source": [
    "### 2D kernel density plot\n",
    "\n",
    "A 2 dimensional kernel density plot works much like the 1 dimensional version we have already explored. A useful application is to overlay the 2D kernel density plot on a scatter plot. Execute the code below to create the plot."
   ]
  },
  {
   "cell_type": "code",
   "execution_count": 124,
   "metadata": {
    "collapsed": false
   },
   "outputs": [
    {
     "data": {},
     "metadata": {},
     "output_type": "display_data"
    },
    {
     "data": {
      "image/png": "[encoded data removed]",
      "text/plain": [
       "plot without title"
      ]
     },
     "metadata": {},
     "output_type": "display_data"
    }
   ],
   "source": [
    "ggplot(Cleansedenergy.ff, aes(Overall.Height, Heating.Load)) + geom_point() + \n",
    "    geom_density2d() +\n",
    "    xlab('Overall Height') + ylab('Heating Load') +\n",
    "    ggtitle('Relationship between Heating.Load and Overall.Height')"
   ]
  },
  {
   "cell_type": "markdown",
   "metadata": {},
   "source": [
    "The 2D kernel density estimate is shown using contours in this case. Other options are available. \n",
    "\n",
    "The groups of outliers are very prominent under both 3.5 & 7. There are however no outliers under 7.\n",
    "\n",
    "**<span style=\"color:red\">How do you explain the outliers under 7 ?</span>**"
   ]
  },
  {
   "cell_type": "markdown",
   "metadata": {},
   "source": [
    "Hexbin plot\n",
    "\n",
    "When you have a large number of data points to plot, over-plotting becomes a significant problem. When over-plotting occurs it is impossible to tell how many points are on top of each other. Several methods are available to deal with server overplotting.You have already explored one method for dealing with high point density, countour plotting.\n",
    "\n",
    "Now, you will explore hexbin plots. Hexbin point density within hexagonal regions. The plot area can be divided into a selected number of bins both vertically or horizontally. Very high point density can be displayed with a hexbin plot.\n",
    "\n",
    "Execute the code below to create a hexbin plot of Overall Height and Heating Load.\n"
   ]
  },
  {
   "cell_type": "code",
   "execution_count": 125,
   "metadata": {
    "collapsed": false
   },
   "outputs": [
    {
     "data": {},
     "metadata": {},
     "output_type": "display_data"
    },
    {
     "data": {
      "image/png": "[encoded data removed]",
      "text/plain": [
       "plot without title"
      ]
     },
     "metadata": {},
     "output_type": "display_data"
    }
   ],
   "source": [
    "#Hexbin Plots\n",
    "ggplot(Cleansedenergy.ff, aes(Relative.Compactness, Heating.Load)) + \n",
    "  stat_binhex(bins = 10) +\n",
    "  xlab('Relative Compactness') + ylab('Heating Load') +\n",
    "  ggtitle('Relationship between Relative Compactness and Heating Load')"
   ]
  },
  {
   "cell_type": "markdown",
   "metadata": {},
   "source": [
    "- Once can see a good relation ship between Heating Load and relative compactness of the homes. As the compactness increases we do see an increase in the heatling load. \n",
    "- We can also see the highest density with homes with a compactness of .7 and heating load between 12-15.\n",
    "- **<span style=\"color:red\">One can also see four outliers on 0.79 & .9. There are outliers on .64, they are however not very clear as .7 to .74 has no outliers, they however all look the same.</span>**"
   ]
  },
  {
   "cell_type": "markdown",
   "metadata": {},
   "source": [
    "### Line plots\n",
    "\n",
    "Line plots are used to show the relationship between variables with ordered values. For example, line plots are used for time series data.\n",
    "\n",
    "As a first step, you will create a pair of variables with ordered values by executing the code in the cell below."
   ]
  },
  {
   "cell_type": "code",
   "execution_count": 126,
   "metadata": {
    "collapsed": false
   },
   "outputs": [
    {
     "data": {},
     "metadata": {},
     "output_type": "display_data"
    },
    {
     "data": {
      "image/png": "[encoded data removed]",
      "text/plain": [
       "plot without title"
      ]
     },
     "metadata": {},
     "output_type": "display_data"
    }
   ],
   "source": [
    "ggplot(Cleansedenergy.ff, aes(Cooling.Load, Heating.Load)) + geom_line() + ggtitle('Line plot of Cooling Load vs. Heating Load')"
   ]
  },
  {
   "cell_type": "markdown",
   "metadata": {},
   "source": [
    "You can validate the linear relationship between cooling and heating load."
   ]
  },
  {
   "cell_type": "markdown",
   "metadata": {},
   "source": [
    "## View multiple dimensions with aesthetics\n",
    "\n",
    "You have explored some basic plot types. All the plots you have created are projected onto a two dimensional surface. Thus, you have been limited to visualization of only two dimensions of the data set. \n",
    "\n",
    "Now, you will use plot aesthetics to view additional dimensions of the data set. Specific aesthetics are used to project additonal dimensions onto a two dimensional plot surface. Additionally, carefull choice of plot aesthetics can highlight certain aspects of a data set you wish to present.   \n",
    "\n",
    "There are many possible aesthetics one can use for visualization. Specific examples you will work with here include:\n",
    "\n",
    "- Color\n",
    "- Transparency\n",
    "- Size\n",
    "- Marker shape\n",
    "- aspect ratio\n",
    "- Aesthetics specific to plot type\n",
    "\n",
    "Using aesthetics with a bit of cleverness can lead to interesting insights about a data set. Don't over do it! Too many colors, shapes and sizes can be confusing, obfuscating rather than enlightening. \n",
    "\n",
    "### Color\n",
    "\n",
    "Color can be used to view an additional dimension on a scatter plot. A categorical factor can be shown using different colors for the different categories. \n",
    "\n",
    "*****\n",
    "**Caution!** Make sure you use choose a palette with distinctive colors for each cateogry. Too many categories using similar colors are invariably hard to see and imposible to interpret. \n",
    "****\n",
    "\n",
    "Execute the code in the cell below to display **Surface.Area** and a factor using the ``color`` argument in `aes` on a plot of Overall Height and Heating load."
   ]
  },
  {
   "cell_type": "code",
   "execution_count": 127,
   "metadata": {
    "collapsed": false
   },
   "outputs": [
    {
     "data": {},
     "metadata": {},
     "output_type": "display_data"
    },
    {
     "data": {
      "image/png": "[encoded data removed]",
      "text/plain": [
       "plot without title"
      ]
     },
     "metadata": {},
     "output_type": "display_data"
    }
   ],
   "source": [
    "#scatter plot with more than two variables.\n",
    "ggplot(Cleansedenergy.ff, aes(Overall.Height, Heating.Load)) + geom_point(aes(color = factor(Surface.Area))) + \n",
    "  xlab('Overall Height') + ylab('Heating Load') + \n",
    "  ggtitle('Relationship between Overall Height and Heating Load \\n with surface area')"
   ]
  },
  {
   "cell_type": "markdown",
   "metadata": {},
   "source": [
    "- Surface area has a negative correlation with Heating load and overall height has a strong positive correlation with Heating load. Plotting all three on the same plot now shows us a high surface area of 808.5 with a low heating load, and the same low heating load shows up on the low overall height due to strong positive correlation."
   ]
  },
  {
   "cell_type": "code",
   "execution_count": 128,
   "metadata": {
    "collapsed": false
   },
   "outputs": [
    {
     "data": {},
     "metadata": {},
     "output_type": "display_data"
    },
    {
     "data": {
      "image/png": "[encoded data removed]",
      "text/plain": [
       "plot without title"
      ]
     },
     "metadata": {},
     "output_type": "display_data"
    }
   ],
   "source": [
    "#scatter plot with more than two variables.\n",
    "ggplot(Cleansedenergy.ff, aes(Relative.Compactness,Heating.Load)) + geom_point(aes(color = factor(Roof.Area))) + \n",
    "  xlab('Relative Compactness') + ylab('Heating Load') + \n",
    "  ggtitle('Relationship between Relative Compactness and Heating Load\\n with Roof.Area')"
   ]
  },
  {
   "cell_type": "markdown",
   "metadata": {},
   "source": [
    "- Relative compactness has a good correlation with Heating load and we can see heating load going up and as the compactness is increasing.\n",
    "- Roof area has a negative correlation with heating load and it is evident on the plot with a higher roof area showing up against lower heating load."
   ]
  },
  {
   "cell_type": "markdown",
   "metadata": {},
   "source": [
    "### Marker size\n",
    "\n",
    "Another aesthetic which can project an additional dimension onto a two dimensional plot is marker size. Execute the code in the cell below which uses the size of the marker to indicate overall height and color to indicate Roof Area."
   ]
  },
  {
   "cell_type": "code",
   "execution_count": 129,
   "metadata": {
    "collapsed": false
   },
   "outputs": [
    {
     "data": {},
     "metadata": {},
     "output_type": "display_data"
    },
    {
     "data": {
      "image/png": "[encoded data removed]",
      "text/plain": [
       "plot without title"
      ]
     },
     "metadata": {},
     "output_type": "display_data"
    }
   ],
   "source": [
    "#Marker aesthetic\n",
    "ggplot(Cleansedenergy.ff, aes(Relative.Compactness,Heating.Load)) + geom_point(aes(color = factor(Roof.Area), size = Overall.Height), alpha = 0.4) + \n",
    "  xlab('Relative Compactness') + ylab('Heating Load') + \n",
    "  ggtitle('Relationship between Relative Compactness and Heating Load\\n with Roof Area, \\n with marker area indicating Overall Height')"
   ]
  },
  {
   "cell_type": "markdown",
   "metadata": {},
   "source": [
    "- Here we are plotting four different variables, Heating Load, Relative Compactness, Roof Area and Overall Height.\n",
    "- Good correlation between heating load and relative compactness is evident.\n",
    "- Roof area has a negative correlation with heating load and is evident by high heating load mapped against low roof area.\n",
    "- Overall Height is strongly correlated with Heating load and one validate the small markers on low heating and bigger markers against high heating load."
   ]
  },
  {
   "cell_type": "markdown",
   "metadata": {},
   "source": [
    "### Correlation plots\n",
    "\n",
    "The correlation structure of a multivariate data set can provide some useful insight. However, it is hard to derive much insight by just looking at the matrix of numbers. A visualization can be useful in getting an overall impression of which variables have siginificant correlation. \n",
    "\n",
    "R and its packages contain many functions for displaying a correlation matrix. A common method is to display the correlation matrix as a heat map. This is particually useful if you have a large number of variables in you data set. See for example the `corrgram` package.\n",
    "\n",
    "We will look at other methods. The code below uses the `plotcorr` function from the `ellipse` package to plot the correlation ellipses. The length of the minor axis is computed as $1 - correlation$. A correlation of 1 gives a line, with the minor axis set to 0. Correlation of zero results in a circle. The intensity of the color used on the plot indicates the magnitude of the correlation. Additionally, orientation of the ellipse is used to highlight the positive or negative correlation value. For positive correlation the ellipse tilts right, with the oposite being true for negative correlation. "
   ]
  },
  {
   "cell_type": "code",
   "execution_count": 130,
   "metadata": {
    "collapsed": false
   },
   "outputs": [
    {
     "name": "stdout",
     "output_type": "stream",
     "text": [
      "                     Relative.Compactness Surface.Area  Wall.Area  Roof.Area\n",
      "Relative.Compactness            1.0000000   -0.9919015 -0.2037817 -0.8688234\n",
      "Surface.Area                   -0.9919015    1.0000000  0.1955016  0.8807195\n",
      "Wall.Area                      -0.2037817    0.1955016  1.0000000 -0.2923165\n",
      "Roof.Area                      -0.8688234    0.8807195 -0.2923165  1.0000000\n",
      "Overall.Height                  0.8277473   -0.8581477  0.2809757 -0.9725122\n",
      "Heating.Load                    0.6222722   -0.6581202  0.4556712 -0.8618283\n",
      "Cooling.Load                    0.6343391   -0.6729989  0.4271170 -0.8625466\n",
      "                     Overall.Height Heating.Load Cooling.Load\n",
      "Relative.Compactness      0.8277473    0.6222722    0.6343391\n",
      "Surface.Area             -0.8581477   -0.6581202   -0.6729989\n",
      "Wall.Area                 0.2809757    0.4556712    0.4271170\n",
      "Roof.Area                -0.9725122   -0.8618283   -0.8625466\n",
      "Overall.Height            1.0000000    0.8894307    0.8957852\n",
      "Heating.Load              0.8894307    1.0000000    0.9758618\n",
      "Cooling.Load              0.8957852    0.9758618    1.0000000\n"
     ]
    },
    {
     "data": {
      "image/png": "[encoded data removed]",
      "text/plain": [
       "plot without title"
      ]
     },
     "metadata": {},
     "output_type": "display_data"
    }
   ],
   "source": [
    "#Correlation Plot\n",
    "\n",
    "options(repr.plot.width=6, repr.plot.height=6)\n",
    "library(ellipse)\n",
    "R = cor(Cleansedenergy.ff[, c('Relative.Compactness', 'Surface.Area', 'Wall.Area','Roof.Area', 'Overall.Height', 'Heating.Load', 'Cooling.Load')], method = 'pearson')\n",
    "print(R)\n",
    "plotcorr(R, col = colorRampPalette(c(\"firebrick3\", \"white\", \"navy\"))(10))"
   ]
  },
  {
   "cell_type": "code",
   "execution_count": null,
   "metadata": {
    "collapsed": true
   },
   "outputs": [],
   "source": []
  }
 ],
 "metadata": {
  "anaconda-cloud": {},
  "kernelspec": {
   "display_name": "R",
   "language": "R",
   "name": "ir"
  },
  "language_info": {
   "codemirror_mode": "r",
   "file_extension": ".r",
   "mimetype": "text/x-r-source",
   "name": "R",
   "pygments_lexer": "r",
   "version": "3.3.1"
  }
 },
 "nbformat": 4,
 "nbformat_minor": 1
}
