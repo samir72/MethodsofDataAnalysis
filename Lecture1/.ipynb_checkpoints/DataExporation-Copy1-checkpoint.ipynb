{
 "cells": [
  {
   "cell_type": "markdown",
   "metadata": {},
   "source": [
    "# Assignment # 1 : Data Exploration.\n",
    "## Data Science 350\n",
    "\n",
    "This is my first notebook wherein I am exploring the various techniques used by Data scientists to prepare and explore datasets.As this is my first notebook I might be making some assumptions on my part which might not be the standard way of using this very exciting software to share my work."
   ]
  },
  {
   "cell_type": "markdown",
   "metadata": {},
   "source": [
    "## About the data set\n",
    "\n",
    "This data set is from the [Univeristy of California Irving Machine Learning Repository](https://archive.ics.uci.edu/ml/datasets/Energy+efficiency).\n",
    "\n",
    "- **Source**:\n",
    "The dataset was created by Angeliki Xifara (angxifara '@' gmail.com, Civil/Structural Engineer) and was processed by Athanasios Tsanas (tsanasthanasis '@' gmail.com, Oxford Centre for Industrial and Applied Mathematics, University of Oxford, UK).\n",
    "\n",
    "\n",
    "- **Data Set Information**:\n",
    "We perform energy analysis using 12 different building shapes simulated in Ecotec. The buildings differ with respect to the glazing area, the glazing area distribution, and the orientation, amongst other parameters. We simulate various settings as functions of the afore-mentioned characteristics to obtain 768 building shapes. The dataset comprises 768 samples and 8 features, aiming to predict two real valued responses. It can also be used as a multi-class classification problem if the response is rounded to the nearest integer.\n"
   ]
  },
  {
   "cell_type": "markdown",
   "metadata": {},
   "source": [
    "## Load & examine the data set.\n",
    "\n",
    "The function shown in the cell below loads the data from the .csv file. \n",
    "I have added three extra columns and one extra row in the original data set with special characters and blanks.\n",
    "Execute the code in this cell to load the data into your notebook. Make sure you have the **.csv file** in your working directory!."
   ]
  },
  {
   "cell_type": "code",
   "execution_count": 101,
   "metadata": {
    "collapsed": false
   },
   "outputs": [
    {
     "name": "stdout",
     "output_type": "stream",
     "text": [
      "\f"
     ]
    }
   ],
   "source": [
    "# Clear objects from Memory\n",
    "rm(list=ls())\n",
    "# Clear Console:\n",
    "cat(\"\\014\")\n",
    "source(\"CleanData.R\")\n",
    "\n",
    "read.energy = function(file = 'EnergyEfficiencyData_1.csv'){\n",
    "  ## Read the csv file\n",
    "  energy.eff <- read.csv(file, header = TRUE, \n",
    "                         stringsAsFactors = FALSE)\n",
    "}\n",
    "energy.eff = read.energy()"
   ]
  },
  {
   "cell_type": "markdown",
   "metadata": {},
   "source": [
    "We now look at the data structure of the original data file wherein I have added three extra columns and one extra row in the original data set with special characters and blanks."
   ]
  },
  {
   "cell_type": "code",
   "execution_count": 102,
   "metadata": {
    "collapsed": false
   },
   "outputs": [
    {
     "name": "stdout",
     "output_type": "stream",
     "text": [
      "'data.frame':\t769 obs. of  13 variables:\n",
      " $ Relative.Compactness     : num  0.98 NA 0.98 0.98 0.98 0.9 0.9 0.9 0.9 0.86 ...\n",
      " $ Surface.Area             : num  514 NA 514 514 514 ...\n",
      " $ Wall.Area                : num  294 NA 294 294 294 ...\n",
      " $ Roof.Area                : num  110 11 110 110 110 ...\n",
      " $ Overall.Height           : num  7 12 7 7 7 7 7 7 7 7 ...\n",
      " $ BadData_1                : chr  \"?\" \"\" \"q\" \"qq\" ...\n",
      " $ Orientation              : int  2 NA 3 4 5 2 3 4 5 2 ...\n",
      " $ Glazing.Area             : num  0 NA 0 0 0 0 0 0 0 0 ...\n",
      " $ Glazing.Area.Distribution: int  0 NA 0 0 0 0 0 0 0 0 ...\n",
      " $ Heating.Load             : num  15.6 NA 15.6 15.6 15.6 ...\n",
      " $ Cooling.Load             : num  21.3 NA 21.3 21.3 21.3 ...\n",
      " $ BadData_2                : chr  \"?\" \"\" \"?\" \"?\" ...\n",
      " $ BadData_3                : chr  \"#\" \"\" \"#\" \"#\" ...\n"
     ]
    }
   ],
   "source": [
    "#Check out the structure of the original file with added bad columns.\n",
    "str(energy.eff)"
   ]
  },
  {
   "cell_type": "markdown",
   "metadata": {},
   "source": [
    "## Cleanse the data set.\n",
    "I am now calling a function \"Clean\" to do some further cleansing for removal of rows and columns with incomplete information.\n",
    "I am removing any rows wherein special characters ('?', '#', '%') is the only data contained in the columns. This removal of rows is based on the data volume, at this time I remove such rows if its less than 10% of the complete dataset. If above defined special characters are present for more than 90% of the data set, such columns are then removed from the dataset as they do not provide any value to the analysis.\n",
    "I then go on to remove NA's from the dataset.\n",
    "\n",
    "Execute the code in this cell to load the data into your notebook. Make sure you have the **.csv file** and the **function clean** in your working directory!."
   ]
  },
  {
   "cell_type": "code",
   "execution_count": 103,
   "metadata": {
    "collapsed": false
   },
   "outputs": [
    {
     "name": "stdout",
     "output_type": "stream",
     "text": [
      "Cleansing character  ? \n",
      "Column BadData_1 contains ? hence 2 rows are being deleted\n",
      "Column BadData_2 contains 91.15735 % ? hence this column is being deleted\n",
      "\n",
      "Cleansing character  # \n",
      "Column BadData_3 contains 90.4824 % # hence this column is being deleted\n",
      "\n",
      "Cleansing character  % \n",
      "\n"
     ]
    }
   ],
   "source": [
    "# Cleanse the dataset off special characters (?,%,#)\n",
    "Cleansedenergy.ff <- Clean(energy.eff)\n",
    "# Cleanse the data set of NA's\n",
    "Cleansedenergy.ff<- na.omit(Cleansedenergy.ff)"
   ]
  },
  {
   "cell_type": "code",
   "execution_count": 104,
   "metadata": {
    "collapsed": false
   },
   "outputs": [
    {
     "name": "stdout",
     "output_type": "stream",
     "text": [
      "'data.frame':\t766 obs. of  11 variables:\n",
      " $ Relative.Compactness     : num  0.98 0.98 0.98 0.9 0.9 0.9 0.86 0.86 0.86 0.86 ...\n",
      " $ Surface.Area             : num  514 514 514 564 564 ...\n",
      " $ Wall.Area                : num  294 294 294 318 318 ...\n",
      " $ Roof.Area                : num  110 110 110 122 122 ...\n",
      " $ Overall.Height           : num  7 7 7 7 7 7 7 7 7 7 ...\n",
      " $ BadData_1                : chr  \"q\" \"qq\" \"qq\" \"zzz\" ...\n",
      " $ Orientation              : int  3 4 5 2 4 5 2 3 4 5 ...\n",
      " $ Glazing.Area             : num  0 0 0 0 0 0 0 0 0 0 ...\n",
      " $ Glazing.Area.Distribution: int  0 0 0 0 0 0 0 0 0 0 ...\n",
      " $ Heating.Load             : num  15.6 15.6 15.6 20.8 20.7 ...\n",
      " $ Cooling.Load             : num  21.3 21.3 21.3 28.3 25.2 ...\n",
      " - attr(*, \"na.action\")=Class 'omit'  Named int 1\n",
      "  .. ..- attr(*, \"names\")= chr \"2\"\n"
     ]
    }
   ],
   "source": [
    "#Check out the structure of the cleansed object.\n",
    "str((Cleansedenergy.ff))"
   ]
  },
  {
   "cell_type": "markdown",
   "metadata": {},
   "source": [
    "Some key things to notice here are:\n",
    "\n",
    "- We now have 766 rows or observations,original file had 769 observations. Three rows have been deleted as part of cleansing.\n",
    "- We now have 11 columns, original file has 13 columns, 2 columns have been dropped as part of cleansing.\n",
    "- We have one character column which I had introduced as bad data and rest are numeric or integers.\n",
    "- I will now be removing this character column(BadData_1) as it provides no substance to this dataset. It could have been deleted by the function Clean if it was more than 10% of the data set."
   ]
  },
  {
   "cell_type": "code",
   "execution_count": 105,
   "metadata": {
    "collapsed": true
   },
   "outputs": [],
   "source": [
    "#Removing column \"BadData_1\" as it serves  no purpose in the analysis.\n",
    "Cleansedenergy.ff$BadData_1 <- NULL"
   ]
  },
  {
   "cell_type": "markdown",
   "metadata": {},
   "source": [
    "### Summary statistics\n",
    "All the columns are num or integer hence we can calculate the summary of the complete dataset.\n",
    "\n",
    "Execute the code in the cell below and note the result."
   ]
  },
  {
   "cell_type": "code",
   "execution_count": 106,
   "metadata": {
    "collapsed": false
   },
   "outputs": [
    {
     "data": {
      "text/plain": [
       "$Relative.Compactness\n",
       "   Min. 1st Qu.  Median    Mean 3rd Qu.    Max. \n",
       " 0.6200  0.6675  0.7400  0.7637  0.8200  0.9800 \n",
       "\n",
       "$Surface.Area\n",
       "   Min. 1st Qu.  Median    Mean 3rd Qu.    Max. \n",
       "  514.5   612.5   686.0   672.1   753.4   808.5 \n",
       "\n",
       "$Wall.Area\n",
       "   Min. 1st Qu.  Median    Mean 3rd Qu.    Max. \n",
       "  245.0   294.0   318.5   318.5   343.0   416.5 \n",
       "\n",
       "$Roof.Area\n",
       "   Min. 1st Qu.  Median    Mean 3rd Qu.    Max. \n",
       "  110.2   147.0   220.5   176.8   220.5   220.5 \n",
       "\n",
       "$Overall.Height\n",
       "   Min. 1st Qu.  Median    Mean 3rd Qu.    Max. \n",
       "  3.500   3.500   3.500   5.245   7.000   7.000 \n",
       "\n",
       "$Orientation\n",
       "   Min. 1st Qu.  Median    Mean 3rd Qu.    Max. \n",
       "  2.000   3.000   4.000   3.503   4.750   5.000 \n",
       "\n",
       "$Glazing.Area\n",
       "   Min. 1st Qu.  Median    Mean 3rd Qu.    Max. \n",
       "  0.000   0.100   0.250   0.235   0.400   0.400 \n",
       "\n",
       "$Glazing.Area.Distribution\n",
       "   Min. 1st Qu.  Median    Mean 3rd Qu.    Max. \n",
       "   0.00    2.00    3.00    2.82    4.00    5.00 \n",
       "\n",
       "$Heating.Load\n",
       "   Min. 1st Qu.  Median    Mean 3rd Qu.    Max. \n",
       "   6.01   12.98   18.95   22.32   31.68   43.10 \n",
       "\n",
       "$Cooling.Load\n",
       "   Min. 1st Qu.  Median    Mean 3rd Qu.    Max. \n",
       "  10.90   15.60   22.08   24.59   33.14   48.03 \n"
      ]
     },
     "metadata": {},
     "output_type": "display_data"
    }
   ],
   "source": [
    "#All the columns are num or integer hence we can calculate the summary of the complete dataset.\n",
    "lapply(Cleansedenergy.ff, summary)"
   ]
  },
  {
   "cell_type": "markdown",
   "metadata": {},
   "source": [
    "This summary provides some useful information:\n",
    "\n",
    "- Heating.load and cooling.load is reflecting a postive skewed distribution as mean is greater than median.\n",
    "- 1st QR is considerably different from 3rd QR hence it refelcts a skewed distribution."
   ]
  },
  {
   "cell_type": "markdown",
   "metadata": {},
   "source": [
    "# Compute the standard deviation of the numeric columns. \n",
    "The standard deviation is a measure of the dispursion of a distribution defined as:\n",
    "\n",
    "$$sd = \\sigma = \\frac{1}{1-n} \\Sigma_i (\\mu - x_i)^2$$\n",
    "\n",
    "The code below applies the `sd` function to each of the columns of the data frame `Cleansedenergy.ff`. Since a data frame is a list, the `lapply` function is used to iterate the `sd` function over the list.  \n",
    "\n",
    "Execute this code and examine the result."
   ]
  },
  {
   "cell_type": "code",
   "execution_count": 107,
   "metadata": {
    "collapsed": false
   },
   "outputs": [
    {
     "data": {
      "text/html": [
       "<dl>\n",
       "\t<dt>$Relative.Compactness</dt>\n",
       "\t\t<dd>0.105512570858924</dd>\n",
       "\t<dt>$Surface.Area</dt>\n",
       "\t\t<dd>87.9301802429226</dd>\n",
       "\t<dt>$Wall.Area</dt>\n",
       "\t\t<dd>43.6744786663358</dd>\n",
       "\t<dt>$Roof.Area</dt>\n",
       "\t\t<dd>45.1186176309375</dd>\n",
       "\t<dt>$Overall.Height</dt>\n",
       "\t\t<dd>1.75113744839754</dd>\n",
       "\t<dt>$Orientation</dt>\n",
       "\t\t<dd>1.11876144055516</dd>\n",
       "\t<dt>$Glazing.Area</dt>\n",
       "\t\t<dd>0.132853793879975</dd>\n",
       "\t<dt>$Glazing.Area.Distribution</dt>\n",
       "\t\t<dd>1.54629575555956</dd>\n",
       "\t<dt>$Heating.Load</dt>\n",
       "\t\t<dd>10.1003713955829</dd>\n",
       "\t<dt>$Cooling.Load</dt>\n",
       "\t\t<dd>9.52496130166711</dd>\n",
       "</dl>\n"
      ],
      "text/latex": [
       "\\begin{description}\n",
       "\\item[\\$Relative.Compactness] 0.105512570858924\n",
       "\\item[\\$Surface.Area] 87.9301802429226\n",
       "\\item[\\$Wall.Area] 43.6744786663358\n",
       "\\item[\\$Roof.Area] 45.1186176309375\n",
       "\\item[\\$Overall.Height] 1.75113744839754\n",
       "\\item[\\$Orientation] 1.11876144055516\n",
       "\\item[\\$Glazing.Area] 0.132853793879975\n",
       "\\item[\\$Glazing.Area.Distribution] 1.54629575555956\n",
       "\\item[\\$Heating.Load] 10.1003713955829\n",
       "\\item[\\$Cooling.Load] 9.52496130166711\n",
       "\\end{description}\n"
      ],
      "text/markdown": [
       "$Relative.Compactness\n",
       ":   0.105512570858924\n",
       "$Surface.Area\n",
       ":   87.9301802429226\n",
       "$Wall.Area\n",
       ":   43.6744786663358\n",
       "$Roof.Area\n",
       ":   45.1186176309375\n",
       "$Overall.Height\n",
       ":   1.75113744839754\n",
       "$Orientation\n",
       ":   1.11876144055516\n",
       "$Glazing.Area\n",
       ":   0.132853793879975\n",
       "$Glazing.Area.Distribution\n",
       ":   1.54629575555956\n",
       "$Heating.Load\n",
       ":   10.1003713955829\n",
       "$Cooling.Load\n",
       ":   9.52496130166711\n",
       "\n",
       "\n"
      ],
      "text/plain": [
       "$Relative.Compactness\n",
       "[1] 0.1055126\n",
       "\n",
       "$Surface.Area\n",
       "[1] 87.93018\n",
       "\n",
       "$Wall.Area\n",
       "[1] 43.67448\n",
       "\n",
       "$Roof.Area\n",
       "[1] 45.11862\n",
       "\n",
       "$Overall.Height\n",
       "[1] 1.751137\n",
       "\n",
       "$Orientation\n",
       "[1] 1.118761\n",
       "\n",
       "$Glazing.Area\n",
       "[1] 0.1328538\n",
       "\n",
       "$Glazing.Area.Distribution\n",
       "[1] 1.546296\n",
       "\n",
       "$Heating.Load\n",
       "[1] 10.10037\n",
       "\n",
       "$Cooling.Load\n",
       "[1] 9.524961\n"
      ]
     },
     "metadata": {},
     "output_type": "display_data"
    }
   ],
   "source": [
    "lapply(Cleansedenergy.ff, sd)"
   ]
  },
  {
   "cell_type": "markdown",
   "metadata": {},
   "source": [
    "### Examine the data frames\n",
    "\n",
    "Next, we can look the first and last few lines of the data frame using the `head` and `tail` functions. Execute the code in the cells below to examine the first and last few rows of the data frame."
   ]
  },
  {
   "cell_type": "code",
   "execution_count": 108,
   "metadata": {
    "collapsed": false
   },
   "outputs": [
    {
     "data": {
      "text/html": [
       "<table>\n",
       "<thead><tr><th></th><th scope=col>Relative.Compactness</th><th scope=col>Surface.Area</th><th scope=col>Wall.Area</th><th scope=col>Roof.Area</th><th scope=col>Overall.Height</th><th scope=col>Orientation</th><th scope=col>Glazing.Area</th><th scope=col>Glazing.Area.Distribution</th><th scope=col>Heating.Load</th><th scope=col>Cooling.Load</th></tr></thead>\n",
       "<tbody>\n",
       "\t<tr><th scope=row>3</th><td>0.98  </td><td>514.5 </td><td>294.0 </td><td>110.25</td><td>7     </td><td>3     </td><td>0     </td><td>0     </td><td>15.55 </td><td>21.33 </td></tr>\n",
       "\t<tr><th scope=row>4</th><td>0.98  </td><td>514.5 </td><td>294.0 </td><td>110.25</td><td>7     </td><td>4     </td><td>0     </td><td>0     </td><td>15.55 </td><td>21.33 </td></tr>\n",
       "\t<tr><th scope=row>5</th><td>0.98  </td><td>514.5 </td><td>294.0 </td><td>110.25</td><td>7     </td><td>5     </td><td>0     </td><td>0     </td><td>15.55 </td><td>21.33 </td></tr>\n",
       "\t<tr><th scope=row>6</th><td>0.90  </td><td>563.5 </td><td>318.5 </td><td>122.50</td><td>7     </td><td>2     </td><td>0     </td><td>0     </td><td>20.84 </td><td>28.28 </td></tr>\n",
       "\t<tr><th scope=row>8</th><td>0.90  </td><td>563.5 </td><td>318.5 </td><td>122.50</td><td>7     </td><td>4     </td><td>0     </td><td>0     </td><td>20.71 </td><td>25.16 </td></tr>\n",
       "\t<tr><th scope=row>9</th><td>0.90  </td><td>563.5 </td><td>318.5 </td><td>122.50</td><td>7     </td><td>5     </td><td>0     </td><td>0     </td><td>19.68 </td><td>29.60 </td></tr>\n",
       "</tbody>\n",
       "</table>\n"
      ],
      "text/latex": [
       "\\begin{tabular}{r|llllllllll}\n",
       "  & Relative.Compactness & Surface.Area & Wall.Area & Roof.Area & Overall.Height & Orientation & Glazing.Area & Glazing.Area.Distribution & Heating.Load & Cooling.Load\\\\\n",
       "\\hline\n",
       "\t3 & 0.98   & 514.5  & 294.0  & 110.25 & 7      & 3      & 0      & 0      & 15.55  & 21.33 \\\\\n",
       "\t4 & 0.98   & 514.5  & 294.0  & 110.25 & 7      & 4      & 0      & 0      & 15.55  & 21.33 \\\\\n",
       "\t5 & 0.98   & 514.5  & 294.0  & 110.25 & 7      & 5      & 0      & 0      & 15.55  & 21.33 \\\\\n",
       "\t6 & 0.90   & 563.5  & 318.5  & 122.50 & 7      & 2      & 0      & 0      & 20.84  & 28.28 \\\\\n",
       "\t8 & 0.90   & 563.5  & 318.5  & 122.50 & 7      & 4      & 0      & 0      & 20.71  & 25.16 \\\\\n",
       "\t9 & 0.90   & 563.5  & 318.5  & 122.50 & 7      & 5      & 0      & 0      & 19.68  & 29.60 \\\\\n",
       "\\end{tabular}\n"
      ],
      "text/markdown": [
       "\n",
       "| <!--/--> | Relative.Compactness | Surface.Area | Wall.Area | Roof.Area | Overall.Height | Orientation | Glazing.Area | Glazing.Area.Distribution | Heating.Load | Cooling.Load | \n",
       "|---|---|---|---|---|---|\n",
       "| 3 | 0.98   | 514.5  | 294.0  | 110.25 | 7      | 3      | 0      | 0      | 15.55  | 21.33  | \n",
       "| 4 | 0.98   | 514.5  | 294.0  | 110.25 | 7      | 4      | 0      | 0      | 15.55  | 21.33  | \n",
       "| 5 | 0.98   | 514.5  | 294.0  | 110.25 | 7      | 5      | 0      | 0      | 15.55  | 21.33  | \n",
       "| 6 | 0.90   | 563.5  | 318.5  | 122.50 | 7      | 2      | 0      | 0      | 20.84  | 28.28  | \n",
       "| 8 | 0.90   | 563.5  | 318.5  | 122.50 | 7      | 4      | 0      | 0      | 20.71  | 25.16  | \n",
       "| 9 | 0.90   | 563.5  | 318.5  | 122.50 | 7      | 5      | 0      | 0      | 19.68  | 29.60  | \n",
       "\n",
       "\n"
      ],
      "text/plain": [
       "  Relative.Compactness Surface.Area Wall.Area Roof.Area Overall.Height\n",
       "3 0.98                 514.5        294.0     110.25    7             \n",
       "4 0.98                 514.5        294.0     110.25    7             \n",
       "5 0.98                 514.5        294.0     110.25    7             \n",
       "6 0.90                 563.5        318.5     122.50    7             \n",
       "8 0.90                 563.5        318.5     122.50    7             \n",
       "9 0.90                 563.5        318.5     122.50    7             \n",
       "  Orientation Glazing.Area Glazing.Area.Distribution Heating.Load Cooling.Load\n",
       "3 3           0            0                         15.55        21.33       \n",
       "4 4           0            0                         15.55        21.33       \n",
       "5 5           0            0                         15.55        21.33       \n",
       "6 2           0            0                         20.84        28.28       \n",
       "8 4           0            0                         20.71        25.16       \n",
       "9 5           0            0                         19.68        29.60       "
      ]
     },
     "metadata": {},
     "output_type": "display_data"
    }
   ],
   "source": [
    "head(Cleansedenergy.ff)"
   ]
  },
  {
   "cell_type": "code",
   "execution_count": 109,
   "metadata": {
    "collapsed": false
   },
   "outputs": [
    {
     "data": {
      "text/html": [
       "<table>\n",
       "<thead><tr><th></th><th scope=col>Relative.Compactness</th><th scope=col>Surface.Area</th><th scope=col>Wall.Area</th><th scope=col>Roof.Area</th><th scope=col>Overall.Height</th><th scope=col>Orientation</th><th scope=col>Glazing.Area</th><th scope=col>Glazing.Area.Distribution</th><th scope=col>Heating.Load</th><th scope=col>Cooling.Load</th></tr></thead>\n",
       "<tbody>\n",
       "\t<tr><th scope=row>764</th><td>0.64 </td><td>784.0</td><td>343.0</td><td>220.5</td><td>3.5  </td><td>4    </td><td>0.4  </td><td>5    </td><td>18.16</td><td>20.71</td></tr>\n",
       "\t<tr><th scope=row>765</th><td>0.64 </td><td>784.0</td><td>343.0</td><td>220.5</td><td>3.5  </td><td>5    </td><td>0.4  </td><td>5    </td><td>17.88</td><td>21.40</td></tr>\n",
       "\t<tr><th scope=row>766</th><td>0.62 </td><td>808.5</td><td>367.5</td><td>220.5</td><td>3.5  </td><td>2    </td><td>0.4  </td><td>5    </td><td>16.54</td><td>16.88</td></tr>\n",
       "\t<tr><th scope=row>767</th><td>0.62 </td><td>808.5</td><td>367.5</td><td>220.5</td><td>3.5  </td><td>3    </td><td>0.4  </td><td>5    </td><td>16.44</td><td>17.11</td></tr>\n",
       "\t<tr><th scope=row>768</th><td>0.62 </td><td>808.5</td><td>367.5</td><td>220.5</td><td>3.5  </td><td>4    </td><td>0.4  </td><td>5    </td><td>16.48</td><td>16.61</td></tr>\n",
       "\t<tr><th scope=row>769</th><td>0.62 </td><td>808.5</td><td>367.5</td><td>220.5</td><td>3.5  </td><td>5    </td><td>0.4  </td><td>5    </td><td>16.64</td><td>16.03</td></tr>\n",
       "</tbody>\n",
       "</table>\n"
      ],
      "text/latex": [
       "\\begin{tabular}{r|llllllllll}\n",
       "  & Relative.Compactness & Surface.Area & Wall.Area & Roof.Area & Overall.Height & Orientation & Glazing.Area & Glazing.Area.Distribution & Heating.Load & Cooling.Load\\\\\n",
       "\\hline\n",
       "\t764 & 0.64  & 784.0 & 343.0 & 220.5 & 3.5   & 4     & 0.4   & 5     & 18.16 & 20.71\\\\\n",
       "\t765 & 0.64  & 784.0 & 343.0 & 220.5 & 3.5   & 5     & 0.4   & 5     & 17.88 & 21.40\\\\\n",
       "\t766 & 0.62  & 808.5 & 367.5 & 220.5 & 3.5   & 2     & 0.4   & 5     & 16.54 & 16.88\\\\\n",
       "\t767 & 0.62  & 808.5 & 367.5 & 220.5 & 3.5   & 3     & 0.4   & 5     & 16.44 & 17.11\\\\\n",
       "\t768 & 0.62  & 808.5 & 367.5 & 220.5 & 3.5   & 4     & 0.4   & 5     & 16.48 & 16.61\\\\\n",
       "\t769 & 0.62  & 808.5 & 367.5 & 220.5 & 3.5   & 5     & 0.4   & 5     & 16.64 & 16.03\\\\\n",
       "\\end{tabular}\n"
      ],
      "text/markdown": [
       "\n",
       "| <!--/--> | Relative.Compactness | Surface.Area | Wall.Area | Roof.Area | Overall.Height | Orientation | Glazing.Area | Glazing.Area.Distribution | Heating.Load | Cooling.Load | \n",
       "|---|---|---|---|---|---|\n",
       "| 764 | 0.64  | 784.0 | 343.0 | 220.5 | 3.5   | 4     | 0.4   | 5     | 18.16 | 20.71 | \n",
       "| 765 | 0.64  | 784.0 | 343.0 | 220.5 | 3.5   | 5     | 0.4   | 5     | 17.88 | 21.40 | \n",
       "| 766 | 0.62  | 808.5 | 367.5 | 220.5 | 3.5   | 2     | 0.4   | 5     | 16.54 | 16.88 | \n",
       "| 767 | 0.62  | 808.5 | 367.5 | 220.5 | 3.5   | 3     | 0.4   | 5     | 16.44 | 17.11 | \n",
       "| 768 | 0.62  | 808.5 | 367.5 | 220.5 | 3.5   | 4     | 0.4   | 5     | 16.48 | 16.61 | \n",
       "| 769 | 0.62  | 808.5 | 367.5 | 220.5 | 3.5   | 5     | 0.4   | 5     | 16.64 | 16.03 | \n",
       "\n",
       "\n"
      ],
      "text/plain": [
       "    Relative.Compactness Surface.Area Wall.Area Roof.Area Overall.Height\n",
       "764 0.64                 784.0        343.0     220.5     3.5           \n",
       "765 0.64                 784.0        343.0     220.5     3.5           \n",
       "766 0.62                 808.5        367.5     220.5     3.5           \n",
       "767 0.62                 808.5        367.5     220.5     3.5           \n",
       "768 0.62                 808.5        367.5     220.5     3.5           \n",
       "769 0.62                 808.5        367.5     220.5     3.5           \n",
       "    Orientation Glazing.Area Glazing.Area.Distribution Heating.Load\n",
       "764 4           0.4          5                         18.16       \n",
       "765 5           0.4          5                         17.88       \n",
       "766 2           0.4          5                         16.54       \n",
       "767 3           0.4          5                         16.44       \n",
       "768 4           0.4          5                         16.48       \n",
       "769 5           0.4          5                         16.64       \n",
       "    Cooling.Load\n",
       "764 20.71       \n",
       "765 21.40       \n",
       "766 16.88       \n",
       "767 17.11       \n",
       "768 16.61       \n",
       "769 16.03       "
      ]
     },
     "metadata": {},
     "output_type": "display_data"
    }
   ],
   "source": [
    "tail(Cleansedenergy.ff)"
   ]
  },
  {
   "cell_type": "markdown",
   "metadata": {},
   "source": [
    "### Frequency tables\n",
    "\n",
    "The summary techniques we have used so far are suitable only for numeric variables. Categorical variables have values which are typically unordered. Therefore, we need a method to summrize categorical based on counts.  \n",
    "\n",
    "The R `table` function lets you look create a fequency table. The frequency table shows the count of each category of the variable. Execute the following code to show the number of houses with different overall height."
   ]
  },
  {
   "cell_type": "code",
   "execution_count": 110,
   "metadata": {
    "collapsed": false
   },
   "outputs": [
    {
     "data": {
      "text/plain": [
       "\n",
       "3.5   7 \n",
       "384 382 "
      ]
     },
     "metadata": {},
     "output_type": "display_data"
    }
   ],
   "source": [
    "table(Cleansedenergy.ff$Overall.Height)"
   ]
  },
  {
   "cell_type": "markdown",
   "metadata": {},
   "source": [
    "Examine this data. Notice that overall height of 3.5 and 7 is equally distributed in the dataset.\n",
    "Or, you can look at the frequency of a comnination of two categorical variables. To see an example, execute the code in the cell below and examine the results."
   ]
  },
  {
   "cell_type": "code",
   "execution_count": 111,
   "metadata": {
    "collapsed": false
   },
   "outputs": [
    {
     "data": {
      "text/plain": [
       "     \n",
       "       2  3  4  5\n",
       "  3.5 96 96 96 96\n",
       "  7   95 95 96 96"
      ]
     },
     "metadata": {},
     "output_type": "display_data"
    }
   ],
   "source": [
    "table(Cleansedenergy.ff$Overall.Height, Cleansedenergy.ff$Orientation)"
   ]
  },
  {
   "cell_type": "markdown",
   "metadata": {},
   "source": [
    "Notice that orientation of 2,3,4 & 5 is equally distributed across overall height of 3.5 & 7."
   ]
  },
  {
   "cell_type": "markdown",
   "metadata": {},
   "source": [
    "### Covariance and correlation\n",
    "\n",
    "Now, you will work with the correlations between the numberic variables.  Covariance is defined as follows:\n",
    "\n",
    "$$cov(x,y) = E((x - \\mu_x) (y - \\mu_y))$$\n",
    "\n",
    "Pearson correlation is similar to covariance, but with normalization by the variance, and is defined as follows: \n",
    "\n",
    "$$cor(x,y) = \\frac{E((x - \\mu_x) (y - \\mu_y))}{\\sigma_x \\sigma_y}$$\n",
    "\n",
    "There are also non-parametric measures of correlation. One of widely used non-parametric method is Kendal's rank correlation. The Kendal correlation counts the number of values which have the same sign (concordant) and with the oposite sign (discordant). As a rank or non-parametric method, Kendal correlation is robust to outliers. Kendal's rank correlation can be computed as follows:\n",
    "\n",
    "$$\\tau = \\frac{\\Sigma concordant\\ pairs - \\Sigma disconcordant\\ pairs}{n(n-1)/2}$$\n",
    "\n",
    "Execute the code in the cell below to compute the Pearson correltion for a subset of the data frame. "
   ]
  },
  {
   "cell_type": "code",
   "execution_count": 112,
   "metadata": {
    "collapsed": false,
    "scrolled": true
   },
   "outputs": [
    {
     "data": {
      "text/html": [
       "<table>\n",
       "<thead><tr><th></th><th scope=col>Relative.Compactness</th><th scope=col>Surface.Area</th><th scope=col>Wall.Area</th><th scope=col>Roof.Area</th><th scope=col>Overall.Height</th><th scope=col>Orientation</th><th scope=col>Glazing.Area</th><th scope=col>Glazing.Area.Distribution</th><th scope=col>Heating.Load</th><th scope=col>Cooling.Load</th></tr></thead>\n",
       "<tbody>\n",
       "\t<tr><th scope=row>Relative.Compactness</th><td> 0.0111329026</td><td>  -9.2025042 </td><td>-9.359227e-01</td><td>  -4.13329077</td><td> 1.529189e-01</td><td> 0.0005131828</td><td> 0.0001080223</td><td> 0.001296268 </td><td>   0.6679585 </td><td>   0.6407800 </td></tr>\n",
       "\t<tr><th scope=row>Surface.Area</th><td>-9.2025042066</td><td>7731.7165976 </td><td> 7.482090e+02</td><td>3491.75378462</td><td>-1.321076e+02</td><td>-0.3798819092</td><td>-0.0815286950</td><td>-0.978344340 </td><td>-587.9824567 </td><td>-565.9994198 </td></tr>\n",
       "\t<tr><th scope=row>Wall.Area</th><td>-0.9359226608</td><td> 748.2090283 </td><td> 1.907460e+03</td><td>-579.62552923</td><td> 2.157776e+01</td><td>-0.0481228349</td><td>-0.0075257257</td><td>-0.090308708 </td><td> 200.8940070 </td><td> 177.6262497 </td></tr>\n",
       "\t<tr><th scope=row>Roof.Area</th><td>-4.1332907729</td><td>3491.7537846 </td><td>-5.796255e+02</td><td>2035.68965693</td><td>-7.684268e+01</td><td>-0.1658795372</td><td>-0.0370014847</td><td>-0.444017816 </td><td>-394.4382319 </td><td>-371.8128347 </td></tr>\n",
       "\t<tr><th scope=row>Overall.Height</th><td> 0.1529189235</td><td>-132.1075923 </td><td> 2.157776e+01</td><td> -76.84267650</td><td> 3.066482e+00</td><td> 0.0045871090</td><td> 0.0010751037</td><td> 0.012901244 </td><td>  15.7741895 </td><td>  14.9676744 </td></tr>\n",
       "\t<tr><th scope=row>Orientation</th><td> 0.0005131828</td><td>  -0.3798819 </td><td>-4.812283e-02</td><td>  -0.16587954</td><td> 4.587109e-03</td><td> 1.2516271609</td><td>-0.0006143450</td><td>-0.007372139 </td><td>  -0.0431036 </td><td>   0.1466053 </td></tr>\n",
       "\t<tr><th scope=row>Glazing.Area</th><td> 0.0001080223</td><td>  -0.0815287 </td><td>-7.525726e-03</td><td>  -0.03700148</td><td> 1.075104e-03</td><td>-0.0006143450</td><td> 0.0176501305</td><td> 0.042389802 </td><td>   0.3613385 </td><td>   0.2629154 </td></tr>\n",
       "\t<tr><th scope=row>Glazing.Area.Distribution</th><td> 0.0012962679</td><td>  -0.9783443 </td><td>-9.030871e-02</td><td>  -0.44401782</td><td> 1.290124e-02</td><td>-0.0073721395</td><td> 0.0423898019</td><td> 2.391030564 </td><td>   1.3428022 </td><td>   0.7383466 </td></tr>\n",
       "\t<tr><th scope=row>Heating.Load</th><td> 0.6679585054</td><td>-587.9824567 </td><td> 2.008940e+02</td><td>-394.43823186</td><td> 1.577419e+01</td><td>-0.0431036025</td><td> 0.3613385245</td><td> 1.342802164 </td><td> 102.0175023 </td><td>  93.8910330 </td></tr>\n",
       "\t<tr><th scope=row>Cooling.Load</th><td> 0.6407800253</td><td>-565.9994198 </td><td> 1.776262e+02</td><td>-371.81283473</td><td> 1.496767e+01</td><td> 0.1466052834</td><td> 0.2629153723</td><td> 0.738346559 </td><td>  93.8910330 </td><td>  90.7248878 </td></tr>\n",
       "</tbody>\n",
       "</table>\n"
      ],
      "text/latex": [
       "\\begin{tabular}{r|llllllllll}\n",
       "  & Relative.Compactness & Surface.Area & Wall.Area & Roof.Area & Overall.Height & Orientation & Glazing.Area & Glazing.Area.Distribution & Heating.Load & Cooling.Load\\\\\n",
       "\\hline\n",
       "\tRelative.Compactness &  0.0111329026 &   -9.2025042  & -9.359227e-01 &   -4.13329077 &  1.529189e-01 &  0.0005131828 &  0.0001080223 &  0.001296268  &    0.6679585  &    0.6407800 \\\\\n",
       "\tSurface.Area & -9.2025042066 & 7731.7165976  &  7.482090e+02 & 3491.75378462 & -1.321076e+02 & -0.3798819092 & -0.0815286950 & -0.978344340  & -587.9824567  & -565.9994198 \\\\\n",
       "\tWall.Area & -0.9359226608 &  748.2090283  &  1.907460e+03 & -579.62552923 &  2.157776e+01 & -0.0481228349 & -0.0075257257 & -0.090308708  &  200.8940070  &  177.6262497 \\\\\n",
       "\tRoof.Area & -4.1332907729 & 3491.7537846  & -5.796255e+02 & 2035.68965693 & -7.684268e+01 & -0.1658795372 & -0.0370014847 & -0.444017816  & -394.4382319  & -371.8128347 \\\\\n",
       "\tOverall.Height &  0.1529189235 & -132.1075923  &  2.157776e+01 &  -76.84267650 &  3.066482e+00 &  0.0045871090 &  0.0010751037 &  0.012901244  &   15.7741895  &   14.9676744 \\\\\n",
       "\tOrientation &  0.0005131828 &   -0.3798819  & -4.812283e-02 &   -0.16587954 &  4.587109e-03 &  1.2516271609 & -0.0006143450 & -0.007372139  &   -0.0431036  &    0.1466053 \\\\\n",
       "\tGlazing.Area &  0.0001080223 &   -0.0815287  & -7.525726e-03 &   -0.03700148 &  1.075104e-03 & -0.0006143450 &  0.0176501305 &  0.042389802  &    0.3613385  &    0.2629154 \\\\\n",
       "\tGlazing.Area.Distribution &  0.0012962679 &   -0.9783443  & -9.030871e-02 &   -0.44401782 &  1.290124e-02 & -0.0073721395 &  0.0423898019 &  2.391030564  &    1.3428022  &    0.7383466 \\\\\n",
       "\tHeating.Load &  0.6679585054 & -587.9824567  &  2.008940e+02 & -394.43823186 &  1.577419e+01 & -0.0431036025 &  0.3613385245 &  1.342802164  &  102.0175023  &   93.8910330 \\\\\n",
       "\tCooling.Load &  0.6407800253 & -565.9994198  &  1.776262e+02 & -371.81283473 &  1.496767e+01 &  0.1466052834 &  0.2629153723 &  0.738346559  &   93.8910330  &   90.7248878 \\\\\n",
       "\\end{tabular}\n"
      ],
      "text/markdown": [
       "\n",
       "| <!--/--> | Relative.Compactness | Surface.Area | Wall.Area | Roof.Area | Overall.Height | Orientation | Glazing.Area | Glazing.Area.Distribution | Heating.Load | Cooling.Load | \n",
       "|---|---|---|---|---|---|---|---|---|---|\n",
       "| Relative.Compactness |  0.0111329026 |   -9.2025042  | -9.359227e-01 |   -4.13329077 |  1.529189e-01 |  0.0005131828 |  0.0001080223 |  0.001296268  |    0.6679585  |    0.6407800  | \n",
       "| Surface.Area | -9.2025042066 | 7731.7165976  |  7.482090e+02 | 3491.75378462 | -1.321076e+02 | -0.3798819092 | -0.0815286950 | -0.978344340  | -587.9824567  | -565.9994198  | \n",
       "| Wall.Area | -0.9359226608 |  748.2090283  |  1.907460e+03 | -579.62552923 |  2.157776e+01 | -0.0481228349 | -0.0075257257 | -0.090308708  |  200.8940070  |  177.6262497  | \n",
       "| Roof.Area | -4.1332907729 | 3491.7537846  | -5.796255e+02 | 2035.68965693 | -7.684268e+01 | -0.1658795372 | -0.0370014847 | -0.444017816  | -394.4382319  | -371.8128347  | \n",
       "| Overall.Height |  0.1529189235 | -132.1075923  |  2.157776e+01 |  -76.84267650 |  3.066482e+00 |  0.0045871090 |  0.0010751037 |  0.012901244  |   15.7741895  |   14.9676744  | \n",
       "| Orientation |  0.0005131828 |   -0.3798819  | -4.812283e-02 |   -0.16587954 |  4.587109e-03 |  1.2516271609 | -0.0006143450 | -0.007372139  |   -0.0431036  |    0.1466053  | \n",
       "| Glazing.Area |  0.0001080223 |   -0.0815287  | -7.525726e-03 |   -0.03700148 |  1.075104e-03 | -0.0006143450 |  0.0176501305 |  0.042389802  |    0.3613385  |    0.2629154  | \n",
       "| Glazing.Area.Distribution |  0.0012962679 |   -0.9783443  | -9.030871e-02 |   -0.44401782 |  1.290124e-02 | -0.0073721395 |  0.0423898019 |  2.391030564  |    1.3428022  |    0.7383466  | \n",
       "| Heating.Load |  0.6679585054 | -587.9824567  |  2.008940e+02 | -394.43823186 |  1.577419e+01 | -0.0431036025 |  0.3613385245 |  1.342802164  |  102.0175023  |   93.8910330  | \n",
       "| Cooling.Load |  0.6407800253 | -565.9994198  |  1.776262e+02 | -371.81283473 |  1.496767e+01 |  0.1466052834 |  0.2629153723 |  0.738346559  |   93.8910330  |   90.7248878  | \n",
       "\n",
       "\n"
      ],
      "text/plain": [
       "                          Relative.Compactness Surface.Area Wall.Area    \n",
       "Relative.Compactness       0.0111329026          -9.2025042 -9.359227e-01\n",
       "Surface.Area              -9.2025042066        7731.7165976  7.482090e+02\n",
       "Wall.Area                 -0.9359226608         748.2090283  1.907460e+03\n",
       "Roof.Area                 -4.1332907729        3491.7537846 -5.796255e+02\n",
       "Overall.Height             0.1529189235        -132.1075923  2.157776e+01\n",
       "Orientation                0.0005131828          -0.3798819 -4.812283e-02\n",
       "Glazing.Area               0.0001080223          -0.0815287 -7.525726e-03\n",
       "Glazing.Area.Distribution  0.0012962679          -0.9783443 -9.030871e-02\n",
       "Heating.Load               0.6679585054        -587.9824567  2.008940e+02\n",
       "Cooling.Load               0.6407800253        -565.9994198  1.776262e+02\n",
       "                          Roof.Area     Overall.Height Orientation  \n",
       "Relative.Compactness        -4.13329077  1.529189e-01   0.0005131828\n",
       "Surface.Area              3491.75378462 -1.321076e+02  -0.3798819092\n",
       "Wall.Area                 -579.62552923  2.157776e+01  -0.0481228349\n",
       "Roof.Area                 2035.68965693 -7.684268e+01  -0.1658795372\n",
       "Overall.Height             -76.84267650  3.066482e+00   0.0045871090\n",
       "Orientation                 -0.16587954  4.587109e-03   1.2516271609\n",
       "Glazing.Area                -0.03700148  1.075104e-03  -0.0006143450\n",
       "Glazing.Area.Distribution   -0.44401782  1.290124e-02  -0.0073721395\n",
       "Heating.Load              -394.43823186  1.577419e+01  -0.0431036025\n",
       "Cooling.Load              -371.81283473  1.496767e+01   0.1466052834\n",
       "                          Glazing.Area  Glazing.Area.Distribution Heating.Load\n",
       "Relative.Compactness       0.0001080223  0.001296268                 0.6679585\n",
       "Surface.Area              -0.0815286950 -0.978344340              -587.9824567\n",
       "Wall.Area                 -0.0075257257 -0.090308708               200.8940070\n",
       "Roof.Area                 -0.0370014847 -0.444017816              -394.4382319\n",
       "Overall.Height             0.0010751037  0.012901244                15.7741895\n",
       "Orientation               -0.0006143450 -0.007372139                -0.0431036\n",
       "Glazing.Area               0.0176501305  0.042389802                 0.3613385\n",
       "Glazing.Area.Distribution  0.0423898019  2.391030564                 1.3428022\n",
       "Heating.Load               0.3613385245  1.342802164               102.0175023\n",
       "Cooling.Load               0.2629153723  0.738346559                93.8910330\n",
       "                          Cooling.Load\n",
       "Relative.Compactness         0.6407800\n",
       "Surface.Area              -565.9994198\n",
       "Wall.Area                  177.6262497\n",
       "Roof.Area                 -371.8128347\n",
       "Overall.Height              14.9676744\n",
       "Orientation                  0.1466053\n",
       "Glazing.Area                 0.2629154\n",
       "Glazing.Area.Distribution    0.7383466\n",
       "Heating.Load                93.8910330\n",
       "Cooling.Load                90.7248878"
      ]
     },
     "metadata": {},
     "output_type": "display_data"
    }
   ],
   "source": [
    "#Calculate covariance between numeric attributes.\n",
    "cov(Cleansedenergy.ff)"
   ]
  },
  {
   "cell_type": "markdown",
   "metadata": {},
   "source": [
    "Next, compute the correlation matrix by execting the code in the cell below. "
   ]
  },
  {
   "cell_type": "code",
   "execution_count": 113,
   "metadata": {
    "collapsed": false
   },
   "outputs": [
    {
     "data": {
      "text/html": [
       "<table>\n",
       "<thead><tr><th></th><th scope=col>Relative.Compactness</th><th scope=col>Surface.Area</th><th scope=col>Wall.Area</th><th scope=col>Roof.Area</th><th scope=col>Overall.Height</th><th scope=col>Orientation</th><th scope=col>Glazing.Area</th><th scope=col>Glazing.Area.Distribution</th><th scope=col>Heating.Load</th><th scope=col>Cooling.Load</th></tr></thead>\n",
       "<tbody>\n",
       "\t<tr><th scope=row>Relative.Compactness</th><td> 1.000000000</td><td>-0.991890787</td><td>-0.203099114</td><td>-0.868232360</td><td> 0.827631081</td><td> 0.004347408</td><td> 0.007706112</td><td> 0.007945075</td><td> 0.62676962 </td><td> 0.63759006 </td></tr>\n",
       "\t<tr><th scope=row>Surface.Area</th><td>-0.991890787</td><td> 1.000000000</td><td> 0.194830637</td><td> 0.880136160</td><td>-0.857965014</td><td>-0.003861652</td><td>-0.006979086</td><td>-0.007195504</td><td>-0.66204737 </td><td>-0.67579473 </td></tr>\n",
       "\t<tr><th scope=row>Wall.Area</th><td>-0.203099114</td><td> 0.194830637</td><td> 1.000000000</td><td>-0.294146707</td><td> 0.282135937</td><td>-0.000984886</td><td>-0.001297020</td><td>-0.001337240</td><td> 0.45540931 </td><td> 0.42698852 </td></tr>\n",
       "\t<tr><th scope=row>Roof.Area</th><td>-0.868232360</td><td> 0.880136160</td><td>-0.294146707</td><td> 1.000000000</td><td>-0.972582526</td><td>-0.003286242</td><td>-0.006172902</td><td>-0.006364321</td><td>-0.86553747 </td><td>-0.86517781 </td></tr>\n",
       "\t<tr><th scope=row>Overall.Height</th><td> 0.827631081</td><td>-0.857965014</td><td> 0.282135937</td><td>-0.972582526</td><td> 1.000000000</td><td> 0.002341431</td><td> 0.004621215</td><td> 0.004764516</td><td> 0.89184519 </td><td> 0.89736861 </td></tr>\n",
       "\t<tr><th scope=row>Orientation</th><td> 0.004347408</td><td>-0.003861652</td><td>-0.000984886</td><td>-0.003286242</td><td> 0.002341431</td><td> 1.000000000</td><td>-0.004133337</td><td>-0.004261510</td><td>-0.00381451 </td><td> 0.01375780 </td></tr>\n",
       "\t<tr><th scope=row>Glazing.Area</th><td> 0.007706112</td><td>-0.006979086</td><td>-0.001297020</td><td>-0.006172902</td><td> 0.004621215</td><td>-0.004133337</td><td> 1.000000000</td><td> 0.206345433</td><td> 0.26927930 </td><td> 0.20776807 </td></tr>\n",
       "\t<tr><th scope=row>Glazing.Area.Distribution</th><td> 0.007945075</td><td>-0.007195504</td><td>-0.001337240</td><td>-0.006364321</td><td> 0.004764516</td><td>-0.004261510</td><td> 0.206345433</td><td> 1.000000000</td><td> 0.08597697 </td><td> 0.05013078 </td></tr>\n",
       "\t<tr><th scope=row>Heating.Load</th><td> 0.626769618</td><td>-0.662047366</td><td> 0.455409314</td><td>-0.865537473</td><td> 0.891845190</td><td>-0.003814510</td><td> 0.269279296</td><td> 0.085976968</td><td> 1.00000000 </td><td> 0.97594098 </td></tr>\n",
       "\t<tr><th scope=row>Cooling.Load</th><td> 0.637590064</td><td>-0.675794733</td><td> 0.426988518</td><td>-0.865177810</td><td> 0.897368606</td><td> 0.013757797</td><td> 0.207768067</td><td> 0.050130781</td><td> 0.97594098 </td><td> 1.00000000 </td></tr>\n",
       "</tbody>\n",
       "</table>\n"
      ],
      "text/latex": [
       "\\begin{tabular}{r|llllllllll}\n",
       "  & Relative.Compactness & Surface.Area & Wall.Area & Roof.Area & Overall.Height & Orientation & Glazing.Area & Glazing.Area.Distribution & Heating.Load & Cooling.Load\\\\\n",
       "\\hline\n",
       "\tRelative.Compactness &  1.000000000 & -0.991890787 & -0.203099114 & -0.868232360 &  0.827631081 &  0.004347408 &  0.007706112 &  0.007945075 &  0.62676962  &  0.63759006 \\\\\n",
       "\tSurface.Area & -0.991890787 &  1.000000000 &  0.194830637 &  0.880136160 & -0.857965014 & -0.003861652 & -0.006979086 & -0.007195504 & -0.66204737  & -0.67579473 \\\\\n",
       "\tWall.Area & -0.203099114 &  0.194830637 &  1.000000000 & -0.294146707 &  0.282135937 & -0.000984886 & -0.001297020 & -0.001337240 &  0.45540931  &  0.42698852 \\\\\n",
       "\tRoof.Area & -0.868232360 &  0.880136160 & -0.294146707 &  1.000000000 & -0.972582526 & -0.003286242 & -0.006172902 & -0.006364321 & -0.86553747  & -0.86517781 \\\\\n",
       "\tOverall.Height &  0.827631081 & -0.857965014 &  0.282135937 & -0.972582526 &  1.000000000 &  0.002341431 &  0.004621215 &  0.004764516 &  0.89184519  &  0.89736861 \\\\\n",
       "\tOrientation &  0.004347408 & -0.003861652 & -0.000984886 & -0.003286242 &  0.002341431 &  1.000000000 & -0.004133337 & -0.004261510 & -0.00381451  &  0.01375780 \\\\\n",
       "\tGlazing.Area &  0.007706112 & -0.006979086 & -0.001297020 & -0.006172902 &  0.004621215 & -0.004133337 &  1.000000000 &  0.206345433 &  0.26927930  &  0.20776807 \\\\\n",
       "\tGlazing.Area.Distribution &  0.007945075 & -0.007195504 & -0.001337240 & -0.006364321 &  0.004764516 & -0.004261510 &  0.206345433 &  1.000000000 &  0.08597697  &  0.05013078 \\\\\n",
       "\tHeating.Load &  0.626769618 & -0.662047366 &  0.455409314 & -0.865537473 &  0.891845190 & -0.003814510 &  0.269279296 &  0.085976968 &  1.00000000  &  0.97594098 \\\\\n",
       "\tCooling.Load &  0.637590064 & -0.675794733 &  0.426988518 & -0.865177810 &  0.897368606 &  0.013757797 &  0.207768067 &  0.050130781 &  0.97594098  &  1.00000000 \\\\\n",
       "\\end{tabular}\n"
      ],
      "text/markdown": [
       "\n",
       "| <!--/--> | Relative.Compactness | Surface.Area | Wall.Area | Roof.Area | Overall.Height | Orientation | Glazing.Area | Glazing.Area.Distribution | Heating.Load | Cooling.Load | \n",
       "|---|---|---|---|---|---|---|---|---|---|\n",
       "| Relative.Compactness |  1.000000000 | -0.991890787 | -0.203099114 | -0.868232360 |  0.827631081 |  0.004347408 |  0.007706112 |  0.007945075 |  0.62676962  |  0.63759006  | \n",
       "| Surface.Area | -0.991890787 |  1.000000000 |  0.194830637 |  0.880136160 | -0.857965014 | -0.003861652 | -0.006979086 | -0.007195504 | -0.66204737  | -0.67579473  | \n",
       "| Wall.Area | -0.203099114 |  0.194830637 |  1.000000000 | -0.294146707 |  0.282135937 | -0.000984886 | -0.001297020 | -0.001337240 |  0.45540931  |  0.42698852  | \n",
       "| Roof.Area | -0.868232360 |  0.880136160 | -0.294146707 |  1.000000000 | -0.972582526 | -0.003286242 | -0.006172902 | -0.006364321 | -0.86553747  | -0.86517781  | \n",
       "| Overall.Height |  0.827631081 | -0.857965014 |  0.282135937 | -0.972582526 |  1.000000000 |  0.002341431 |  0.004621215 |  0.004764516 |  0.89184519  |  0.89736861  | \n",
       "| Orientation |  0.004347408 | -0.003861652 | -0.000984886 | -0.003286242 |  0.002341431 |  1.000000000 | -0.004133337 | -0.004261510 | -0.00381451  |  0.01375780  | \n",
       "| Glazing.Area |  0.007706112 | -0.006979086 | -0.001297020 | -0.006172902 |  0.004621215 | -0.004133337 |  1.000000000 |  0.206345433 |  0.26927930  |  0.20776807  | \n",
       "| Glazing.Area.Distribution |  0.007945075 | -0.007195504 | -0.001337240 | -0.006364321 |  0.004764516 | -0.004261510 |  0.206345433 |  1.000000000 |  0.08597697  |  0.05013078  | \n",
       "| Heating.Load |  0.626769618 | -0.662047366 |  0.455409314 | -0.865537473 |  0.891845190 | -0.003814510 |  0.269279296 |  0.085976968 |  1.00000000  |  0.97594098  | \n",
       "| Cooling.Load |  0.637590064 | -0.675794733 |  0.426988518 | -0.865177810 |  0.897368606 |  0.013757797 |  0.207768067 |  0.050130781 |  0.97594098  |  1.00000000  | \n",
       "\n",
       "\n"
      ],
      "text/plain": [
       "                          Relative.Compactness Surface.Area Wall.Area   \n",
       "Relative.Compactness       1.000000000         -0.991890787 -0.203099114\n",
       "Surface.Area              -0.991890787          1.000000000  0.194830637\n",
       "Wall.Area                 -0.203099114          0.194830637  1.000000000\n",
       "Roof.Area                 -0.868232360          0.880136160 -0.294146707\n",
       "Overall.Height             0.827631081         -0.857965014  0.282135937\n",
       "Orientation                0.004347408         -0.003861652 -0.000984886\n",
       "Glazing.Area               0.007706112         -0.006979086 -0.001297020\n",
       "Glazing.Area.Distribution  0.007945075         -0.007195504 -0.001337240\n",
       "Heating.Load               0.626769618         -0.662047366  0.455409314\n",
       "Cooling.Load               0.637590064         -0.675794733  0.426988518\n",
       "                          Roof.Area    Overall.Height Orientation  Glazing.Area\n",
       "Relative.Compactness      -0.868232360  0.827631081    0.004347408  0.007706112\n",
       "Surface.Area               0.880136160 -0.857965014   -0.003861652 -0.006979086\n",
       "Wall.Area                 -0.294146707  0.282135937   -0.000984886 -0.001297020\n",
       "Roof.Area                  1.000000000 -0.972582526   -0.003286242 -0.006172902\n",
       "Overall.Height            -0.972582526  1.000000000    0.002341431  0.004621215\n",
       "Orientation               -0.003286242  0.002341431    1.000000000 -0.004133337\n",
       "Glazing.Area              -0.006172902  0.004621215   -0.004133337  1.000000000\n",
       "Glazing.Area.Distribution -0.006364321  0.004764516   -0.004261510  0.206345433\n",
       "Heating.Load              -0.865537473  0.891845190   -0.003814510  0.269279296\n",
       "Cooling.Load              -0.865177810  0.897368606    0.013757797  0.207768067\n",
       "                          Glazing.Area.Distribution Heating.Load Cooling.Load\n",
       "Relative.Compactness       0.007945075               0.62676962   0.63759006 \n",
       "Surface.Area              -0.007195504              -0.66204737  -0.67579473 \n",
       "Wall.Area                 -0.001337240               0.45540931   0.42698852 \n",
       "Roof.Area                 -0.006364321              -0.86553747  -0.86517781 \n",
       "Overall.Height             0.004764516               0.89184519   0.89736861 \n",
       "Orientation               -0.004261510              -0.00381451   0.01375780 \n",
       "Glazing.Area               0.206345433               0.26927930   0.20776807 \n",
       "Glazing.Area.Distribution  1.000000000               0.08597697   0.05013078 \n",
       "Heating.Load               0.085976968               1.00000000   0.97594098 \n",
       "Cooling.Load               0.050130781               0.97594098   1.00000000 "
      ]
     },
     "metadata": {},
     "output_type": "display_data"
    }
   ],
   "source": [
    "#Calculate the Pearson's correlation of between numeric attributes.\n",
    "cor(Cleansedenergy.ff)"
   ]
  },
  {
   "cell_type": "markdown",
   "metadata": {},
   "source": [
    "The covariance is a bit hard to interpret since the variables are not normalized. The numberic ranges of the variables are quite different, leading to a large range of covariance values. \n",
    "\n",
    "The correlation matrix is a bit easier to understand, since there is a normalization of the values. The diagonal values of the correlation matrix are all 1.0, as a result of the normalization. The magnituges of the correlation values between the variables exhibit a significant range. \n",
    "\n",
    "Some pairs of variables are weakly correlated, with small magnitudes. For example, **Orientation** and **Heating.load** are weakly correlated while **Overall.Height** and **Heating.Load** are strongly correlated. "
   ]
  },
  {
   "cell_type": "markdown",
   "metadata": {},
   "source": [
    "### Bar plots\n",
    "\n",
    "Bar plots are used to display the counts or fequency of unique values of a categorical variable. The height of the bar represents the count for each unique category of the variable. \n",
    "\n",
    "The code below uses ggplot2 to create the bar plot. The `ggplot` function defines the data frame and the x and y column(s) to be plotted. The plot type is defined by these function `geom_bar`. The `+` operator chains the functions. \n",
    "\n",
    "Execute this code to create the bar plot."
   ]
  },
  {
   "cell_type": "code",
   "execution_count": 114,
   "metadata": {
    "collapsed": false
   },
   "outputs": [
    {
     "data": {},
     "metadata": {},
     "output_type": "display_data"
    },
    {
     "data": {
      "text/plain": [
       "List of 1\n",
       " $ axis.text.x:List of 10\n",
       "  ..$ family    : NULL\n",
       "  ..$ face      : NULL\n",
       "  ..$ colour    : NULL\n",
       "  ..$ size      : NULL\n",
       "  ..$ hjust     : num 1\n",
       "  ..$ vjust     : NULL\n",
       "  ..$ angle     : num 90\n",
       "  ..$ lineheight: NULL\n",
       "  ..$ margin    : NULL\n",
       "  ..$ debug     : NULL\n",
       "  ..- attr(*, \"class\")= chr [1:2] \"element_text\" \"element\"\n",
       " - attr(*, \"class\")= chr [1:2] \"theme\" \"gg\"\n",
       " - attr(*, \"complete\")= logi FALSE\n",
       " - attr(*, \"validate\")= logi TRUE"
      ]
     },
     "metadata": {},
     "output_type": "display_data"
    },
    {
     "data": {
      "image/png": "[encoded data removed]",
      "text/plain": [
       "plot without title"
      ]
     },
     "metadata": {},
     "output_type": "display_data"
    }
   ],
   "source": [
    "require(ggplot2)\n",
    "ggplot(Cleansedenergy.ff, aes(x=reorder(Wall.Area,Wall.Area, function(x) -length(x)))) + ## Function shorts the bars\n",
    "  geom_bar() + \n",
    "  xlab('Wall Area')\n",
    "  theme(axis.text.x = element_text(angle = 90, hjust = 1)) ## Theme function for conrol"
   ]
  },
  {
   "cell_type": "markdown",
   "metadata": {
    "collapsed": true
   },
   "source": [
    "Bar plot clearly shows you that wall area between 294 & 318.5 is most prevalent in the homes."
   ]
  },
  {
   "cell_type": "markdown",
   "metadata": {},
   "source": [
    "### Histograms\n",
    "\n",
    "Histograms are related to bar plots. Histograms are used for numeric variables. Whereas, a bar plot shows the counts of unique categories, a histogram shows the number of data with values in each bin. The bins divide the values of the variable into equal segments. The vertical axis of the histogram shows the count of data values within each bin.  \n",
    "\n",
    "Execute the code in the cell below to create a histogram using the `geom_histogram` function. "
   ]
  },
  {
   "cell_type": "code",
   "execution_count": 115,
   "metadata": {
    "collapsed": false
   },
   "outputs": [
    {
     "data": {},
     "metadata": {},
     "output_type": "display_data"
    },
    {
     "data": {
      "image/png": "[encoded data removed]",
      "text/plain": [
       "plot without title"
      ]
     },
     "metadata": {},
     "output_type": "display_data"
    }
   ],
   "source": [
    "ggplot(Cleansedenergy.ff, aes(Heating.Load)) + geom_histogram(binwidth = .5) + \n",
    "  ggtitle('Histogram of Heating Load')"
   ]
  },
  {
   "cell_type": "markdown",
   "metadata": {},
   "source": [
    "The histogram shows Heating.Load with positive skewed distribution with few exceptions."
   ]
  },
  {
   "cell_type": "markdown",
   "metadata": {},
   "source": [
    "### Box plots\n",
    "\n",
    "Box plots, also known as box and wisker plots, were introduced by John Tukey in 1970. Box plots are another way to visualize the distribution of data values. In this respect, box plots are comparable to histograms, but are quite different in presentation. \n",
    "\n",
    "A diagram showing the interpretation of a box plot is shown in the figure below.\n",
    "\n",
    "![Interpretation of a box plot](BoxPlot.png)\n",
    "\n",
    "On a box plot the median value is shown with a dark bar. The inner two qartiles of data values are contained within the 'box'. The 'wiskers' enclose the majority of the data, at +/-2.5 times the inter-quartile range. Outliers are shown by symbols beyond the wiskers.\n",
    "\n",
    "Several box plots can be stacked along an axis. The data are divided using a 'group by' operation, and the box plots for each group are stacked next to each other. In this way, the box plot allows you to display two dimensions of your data set. \n",
    "\n",
    "Execute the code in the cell below to create a box plot of the price of the automobiles."
   ]
  },
  {
   "cell_type": "code",
   "execution_count": 116,
   "metadata": {
    "collapsed": false
   },
   "outputs": [
    {
     "data": {},
     "metadata": {},
     "output_type": "display_data"
    },
    {
     "data": {
      "image/png": "[encoded data removed]",
      "text/plain": [
       "plot without title"
      ]
     },
     "metadata": {},
     "output_type": "display_data"
    }
   ],
   "source": [
    "ggplot(Cleansedenergy.ff, aes(x = factor(0), y = Cooling.Load )) + geom_boxplot()"
   ]
  },
  {
   "cell_type": "markdown",
   "metadata": {},
   "source": [
    "Box plots are most useful when the data are subdivided using another variable. In ggolot2 the you can add an x variable of type factor to perform this group by operation. Execute the code below to display the box plots of price grouped by the `fule.type` variable."
   ]
  },
  {
   "cell_type": "code",
   "execution_count": 117,
   "metadata": {
    "collapsed": false
   },
   "outputs": [
    {
     "data": {},
     "metadata": {},
     "output_type": "display_data"
    },
    {
     "data": {
      "image/png": "[encoded data removed]",
      "text/plain": [
       "plot without title"
      ]
     },
     "metadata": {},
     "output_type": "display_data"
    }
   ],
   "source": [
    "#Create boxplot to compare two variables.\n",
    "ggplot(Cleansedenergy.ff, aes(x = factor(Overall.Height), y = Cooling.Load)) + geom_boxplot() + \n",
    "  xlab('Overall Height') + ggtitle('Cooling load by Overall Height')"
   ]
  },
  {
   "cell_type": "markdown",
   "metadata": {
    "collapsed": true
   },
   "source": [
    "Examine these box plots and note the following:\n",
    "\n",
    "- The median cooling load of a overall height of 3.5 is considerably less than overall height of 7.\n",
    "- Overall Height of 3.5 has a lot more outliers as compared to 7 when grouped by cooling load.\n",
    "- There is no overlap between the interquartile ranges of cooling load distributions of overall height of 3.5 & 7."
   ]
  },
  {
   "cell_type": "markdown",
   "metadata": {},
   "source": [
    "### Violin plots\n",
    "\n",
    "Violine plots are a useful, and relatively new, plot type. The violin plot combines some attributes of a kernal density plot and the box plot. The violin plot shows a pair of symetric kenel desity plot. Like a box plot, the violin plot can be conditioned on a categorical (factor) variable. \n",
    "\n",
    "The code in the cell below creates a violin plot of cooling load, grouped by overall height. Some attributes have been added to show quantiles with the `draw_quantiles` attribute. Additionally, the `trim` attribute adds wiskers to show outliers. Execute this code to create the plot. "
   ]
  },
  {
   "cell_type": "code",
   "execution_count": 118,
   "metadata": {
    "collapsed": false
   },
   "outputs": [
    {
     "data": {},
     "metadata": {},
     "output_type": "display_data"
    },
    {
     "data": {
      "image/png": "[encoded data removed]",
      "text/plain": [
       "plot without title"
      ]
     },
     "metadata": {},
     "output_type": "display_data"
    }
   ],
   "source": [
    "ggplot(Cleansedenergy.ff, aes(x = factor(Overall.Height), y = Cooling.Load)) + \n",
    "    geom_violin(trim = FALSE, draw_quantiles = c(0.25, 0.5, 0.75)) +\n",
    "    xlab('Overall Height')  + ggtitle('Cooling Load by Overall Height')"
   ]
  },
  {
   "cell_type": "markdown",
   "metadata": {},
   "source": [
    "### Kernel density estimation plots\n",
    "\n",
    "You have used two methods for visualizing distributions. Now, you will look at another method, kernel density estimation. Kernel density estimation uses a moving denisty kernel to average the density of the distribution. Execute the code in the cell below to compute and plot a kernel density estimate of auto price. "
   ]
  },
  {
   "cell_type": "code",
   "execution_count": 119,
   "metadata": {
    "collapsed": false
   },
   "outputs": [
    {
     "data": {},
     "metadata": {},
     "output_type": "display_data"
    },
    {
     "data": {
      "image/png": "[encoded data removed]",
      "text/plain": [
       "plot without title"
      ]
     },
     "metadata": {},
     "output_type": "display_data"
    }
   ],
   "source": [
    "ggplot(Cleansedenergy.ff, aes(Cooling.Load )) + geom_density()"
   ]
  },
  {
   "cell_type": "markdown",
   "metadata": {},
   "source": [
    "Notice that the distribution is heavily skewed to the left with a small blip in the middle and then going down on the right."
   ]
  },
  {
   "cell_type": "markdown",
   "metadata": {},
   "source": [
    "## Scatter plots\n",
    "\n",
    "A basic scatter plot shows the relationship between two variables. Points are ploted at the x-y coordinates of each value pair. \n",
    "\n",
    "Execute the code in the cell below to create a scatter plot of city MPG on the horizontal axis vs. auto price on the vertical axis. "
   ]
  },
  {
   "cell_type": "code",
   "execution_count": 120,
   "metadata": {
    "collapsed": false
   },
   "outputs": [
    {
     "data": {},
     "metadata": {},
     "output_type": "display_data"
    },
    {
     "data": {
      "image/png": "[encoded data removed]",
      "text/plain": [
       "plot without title"
      ]
     },
     "metadata": {},
     "output_type": "display_data"
    }
   ],
   "source": [
    "ggplot(Cleansedenergy.ff, aes(x = Overall.Height, y = Cooling.Load)) + geom_point() + \n",
    "    xlab('Overall Height') + ylab('Cooling Load') + \n",
    "    ggtitle('Relationship between Cooling Load and Overall Height')"
   ]
  },
  {
   "cell_type": "markdown",
   "metadata": {},
   "source": [
    "The scatter plot shows the relationship between Cooling Load and Overll Height. The relationship clearly shows a higher cooling load for homes with a higher overall height."
   ]
  },
  {
   "cell_type": "markdown",
   "metadata": {},
   "source": [
    "### 2D kernel density plot\n",
    "\n",
    "A 2 dimensional kernel density plot works much like the 1 dimensional version we have already explored. A useful application is to overlay the 2D kernel density plot on a scatter plot. Execute the code below to create the plot."
   ]
  },
  {
   "cell_type": "code",
   "execution_count": 121,
   "metadata": {
    "collapsed": false
   },
   "outputs": [
    {
     "data": {},
     "metadata": {},
     "output_type": "display_data"
    },
    {
     "data": {
      "image/png": "[encoded data removed]",
      "text/plain": [
       "plot without title"
      ]
     },
     "metadata": {},
     "output_type": "display_data"
    }
   ],
   "source": [
    "ggplot(Cleansedenergy.ff, aes(Overall.Height, Cooling.Load)) + geom_point() + \n",
    "    geom_density2d() +\n",
    "    xlab('Overall Height') + ylab('Cooling Load') +\n",
    "    ggtitle('Relationship between Cooling.Load and Overall.Height')"
   ]
  },
  {
   "cell_type": "markdown",
   "metadata": {},
   "source": [
    "The 2D kernel density estimate is shown using contours in this case. Other options are available. \n",
    "\n",
    "The groups of outliers are very prominent."
   ]
  }
 ],
 "metadata": {
  "anaconda-cloud": {},
  "kernelspec": {
   "display_name": "R",
   "language": "R",
   "name": "ir"
  },
  "language_info": {
   "codemirror_mode": "r",
   "file_extension": ".r",
   "mimetype": "text/x-r-source",
   "name": "R",
   "pygments_lexer": "r",
   "version": "3.3.1"
  }
 },
 "nbformat": 4,
 "nbformat_minor": 1
}
