{
 "cells": [
  {
   "cell_type": "markdown",
   "metadata": {},
   "source": [
    "# Assignment # 7 : Compare Linear Regression Models.\n",
    "## Data Science 350\n",
    "In this assignment I am analysing three linear regression models, wherein I am trying to predict the price of an autombile based on the features provided in the dataset. My goal here is to see evaluate and compare these models on their statistics and in the process also create plots to visually demonstrate the working of the model.\n",
    "* Following libraries have been added for this assignment.\n",
    "    - dplyr\n",
    "    - repr\n",
    "    - MASS\n",
    "    - glmnet\n",
    "* At the start a linear model is created using **lm** function to predict the normalised price with all the features available in the data.\n",
    "    - Here are key statistics from this model. As you can see the model is **just too perfect(i.e overfitted)** with a *Residual standard error* of 0.2174 and *Adjusted R-Squared* of 0.9527. One reason for it being too perfect is the high number of coefficients(We have used all the features(# 23) in creating this model).\n",
    "            Residual standard error: 0.2174 on 138 degrees of freedom\n",
    "            Multiple R-squared:      0.9664,\tAdjusted R-squared: 0.9527 \n",
    "            F-statistic: 70.82 on 56 and 138 DF,  p-value: < 2.2e-16\n",
    "    - Plot between residuals and fitted values is a normalized straight line with a value near zero.\n",
    "    - 6 observations have not been included in the model due to 3 singular coefficients.\n",
    "* On applying **STEP WISE REGRESSION** algorithm to this linear model we would see step wise removal of features based on lowest value of AIC.\n",
    "    - Following features have been removed as they do not have a major affect on the model.\n",
    "        - engine.location\n",
    "        - fuel.type\n",
    "        - drive.wheels\n",
    "        - num.of.doors\n",
    "        - city.mpg\n",
    "        - horsepower\n",
    "    - Following features are now used to create the model.\n",
    "        - make, aspiration, body.style, wheel.base, length, width, height, curb.weight, engine.type, num.of.cylinders,  engine.size, fuel.system, bore, stroke, compression.ratio, peak.rpm, highway.mpg.\n",
    "    - Here are key statistics from this model. You can see out of a total of 23 features, 6 features have been removed as part of STEPS wise regression, we still have a very fitted model, however we are now using **25 % fewer features**.\n",
    "            Residual standard error: 0.2137 on 144 degrees of freedom\n",
    "            Multiple R-squared:      0.9661,\tAdjusted R-squared: 0.9543 \n",
    "            F-statistic: 82.05 on 50 and 144 DF,  p-value: < 2.2e-16\n",
    "    - Plot between residuals and fitted values is a normalized straight line with a value near zero, all the plots as expected are very similar to the initial liner model.\n",
    "* Applying **Singular Value Decomposition** algorithm on the dataset leads to following findings.\n",
    "    - This data frame consists of number of catgegorical variables,in order to work with a model matrix we first need to convert these categorical variables into binary indicator variables.\n",
    "    - Key Statistics are as follows. Our goal in this model was to minimize the SSR, a value of 8.08 would be considered a low number, an adjusted R2 of 0.9574 is on similar lines with *STEPWISE Regression & Inital Model*\n",
    "        - SSE = 185.919264474275 \n",
    "        - SSR = 8.08073552572465 \n",
    "        - SST = 194 \n",
    "        - RMSE = 0.963312251162048 \n",
    "        - Adjusted R^2 = 0.957469813022502 \n",
    "    - *SVD* would still be preferable as in *STEPWISE* once a feature is deleted, its out of consideration for good.\n",
    "* Applying **Elastic Net Regression** on the dataset leads to following conditions.\n",
    "    - Here are key statistics from this model, we are using weighted combination of L1 & L2 regularization, i.e we are trying to apply both ridge and lasso algorithms. In this assignment I have used glmnet to apply system provided lambda 20 times.\n",
    "        - SSE = 187.455254067312 \n",
    "        - SSR = 6.54474593268768 \n",
    "        - SST = 194 \n",
    "        - RMSE = 0.971270746462758 \n",
    "        - Adjusted R^2 = 0.965553968775328 \n",
    "    -\n",
    "* All three regression alogrithms have returned almost identical adjusted R2 value which at a high level can be construed as a good indicator for model effectiveness. Between all three **<span style=\"color:red\">Elastic Net Regression would be considered the most effective algorithm</span>** with its highest adjusted R2."
   ]
  },
  {
   "cell_type": "markdown",
   "metadata": {},
   "source": [
    "## Function Description\n",
    "In this part of the function I am clearing all the objects, console, loading the the data from the csv file supplied in the assignment. In this process I am also removing any columns and rows with missing values."
   ]
  },
  {
   "cell_type": "code",
   "execution_count": 40,
   "metadata": {
    "collapsed": false
   },
   "outputs": [
    {
     "name": "stdout",
     "output_type": "stream",
     "text": [
      "\f"
     ]
    }
   ],
   "source": [
    "rm(list=ls())\n",
    "# Clear Console:\n",
    "cat(\"\\014\")\n",
    "library(dplyr)\n",
    "library(repr)\n",
    "read.auto = function(file = 'Automobile price data _Raw_.csv'){\n",
    "  ## Read the csv file\n",
    "  auto.price <- read.csv(file, header = TRUE, \n",
    "                         stringsAsFactors = FALSE)\n",
    "  \n",
    "  ## Coerce some character columns to numeric\n",
    "  numcols <- c('price', 'bore', 'stroke', 'horsepower', 'peak.rpm')\n",
    "  auto.price[, numcols] <- lapply(auto.price[, numcols], as.numeric)\n",
    "  \n",
    "  ## Remove columns or rows with missing values. In this case we keep the \n",
    "  ## rows which do not have nas. \n",
    "  auto.price[complete.cases(auto.price), ]\n",
    "}"
   ]
  },
  {
   "cell_type": "markdown",
   "metadata": {},
   "source": [
    "## Load and cleanse the file.\n",
    "Here I am using triplot function from LearnBayes package to visualize following observations.\n",
    "* Remove first two columns of symboling & normalized.losses."
   ]
  },
  {
   "cell_type": "code",
   "execution_count": 41,
   "metadata": {
    "collapsed": false
   },
   "outputs": [
    {
     "name": "stderr",
     "output_type": "stream",
     "text": [
      "Warning message in lapply(auto.price[, numcols], as.numeric):\n",
      "\"NAs introduced by coercion\"Warning message in lapply(auto.price[, numcols], as.numeric):\n",
      "\"NAs introduced by coercion\"Warning message in lapply(auto.price[, numcols], as.numeric):\n",
      "\"NAs introduced by coercion\"Warning message in lapply(auto.price[, numcols], as.numeric):\n",
      "\"NAs introduced by coercion\"Warning message in lapply(auto.price[, numcols], as.numeric):\n",
      "\"NAs introduced by coercion\""
     ]
    }
   ],
   "source": [
    "# Load and cleanse the csv file.\n",
    "auto.price = read.auto()\n",
    "#Remove first two columns of auto.price$symboling & auto.price$normalized.losses\n",
    "auto.price[1:2] <- list(NULL)"
   ]
  },
  {
   "cell_type": "markdown",
   "metadata": {
    "collapsed": false,
    "scrolled": true
   },
   "source": [
    "## Normalize the price data used for modelling.\n",
    "* I am using Z-score normalization to scale the data.\n",
    "* This new column is then added to the data frame using the mutate function of dplyr package."
   ]
  },
  {
   "cell_type": "code",
   "execution_count": 42,
   "metadata": {
    "collapsed": false
   },
   "outputs": [
    {
     "data": {
      "text/html": [
       "<ol class=list-inline>\n",
       "\t<li>195</li>\n",
       "\t<li>25</li>\n",
       "</ol>\n"
      ],
      "text/latex": [
       "\\begin{enumerate*}\n",
       "\\item 195\n",
       "\\item 25\n",
       "\\end{enumerate*}\n"
      ],
      "text/markdown": [
       "1. 195\n",
       "2. 25\n",
       "\n",
       "\n"
      ],
      "text/plain": [
       "[1] 195  25"
      ]
     },
     "metadata": {},
     "output_type": "display_data"
    },
    {
     "name": "stdout",
     "output_type": "stream",
     "text": [
      "'data.frame':\t195 obs. of  25 variables:\n",
      " $ make             : chr  \"alfa-romero\" \"alfa-romero\" \"alfa-romero\" \"audi\" ...\n",
      " $ fuel.type        : chr  \"gas\" \"gas\" \"gas\" \"gas\" ...\n",
      " $ aspiration       : chr  \"std\" \"std\" \"std\" \"std\" ...\n",
      " $ num.of.doors     : chr  \"two\" \"two\" \"two\" \"four\" ...\n",
      " $ body.style       : chr  \"convertible\" \"convertible\" \"hatchback\" \"sedan\" ...\n",
      " $ drive.wheels     : chr  \"rwd\" \"rwd\" \"rwd\" \"fwd\" ...\n",
      " $ engine.location  : chr  \"front\" \"front\" \"front\" \"front\" ...\n",
      " $ wheel.base       : num  88.6 88.6 94.5 99.8 99.4 ...\n",
      " $ length           : num  169 169 171 177 177 ...\n",
      " $ width            : num  64.1 64.1 65.5 66.2 66.4 66.3 71.4 71.4 71.4 64.8 ...\n",
      " $ height           : num  48.8 48.8 52.4 54.3 54.3 53.1 55.7 55.7 55.9 54.3 ...\n",
      " $ curb.weight      : int  2548 2548 2823 2337 2824 2507 2844 2954 3086 2395 ...\n",
      " $ engine.type      : chr  \"dohc\" \"dohc\" \"ohcv\" \"ohc\" ...\n",
      " $ num.of.cylinders : chr  \"four\" \"four\" \"six\" \"four\" ...\n",
      " $ engine.size      : int  130 130 152 109 136 136 136 136 131 108 ...\n",
      " $ fuel.system      : chr  \"mpfi\" \"mpfi\" \"mpfi\" \"mpfi\" ...\n",
      " $ bore             : num  3.47 3.47 2.68 3.19 3.19 3.19 3.19 3.19 3.13 3.5 ...\n",
      " $ stroke           : num  2.68 2.68 3.47 3.4 3.4 3.4 3.4 3.4 3.4 2.8 ...\n",
      " $ compression.ratio: num  9 9 9 10 8 8.5 8.5 8.5 8.3 8.8 ...\n",
      " $ horsepower       : num  111 111 154 102 115 110 110 110 140 101 ...\n",
      " $ peak.rpm         : num  5000 5000 5000 5500 5500 5500 5500 5500 5500 5800 ...\n",
      " $ city.mpg         : int  21 21 19 24 18 19 19 19 17 23 ...\n",
      " $ highway.mpg      : int  27 27 26 30 22 25 25 25 20 29 ...\n",
      " $ price            : num  13495 16500 16500 13950 17450 ...\n",
      " $ normalized_zprice: num  0.0307 0.4037 0.4037 0.0871 0.5216 ...\n"
     ]
    }
   ],
   "source": [
    "#z-Score Normalization of price data\n",
    "mean_price <- mean(auto.price$price)\n",
    "sd_price <- sd(auto.price$price)\n",
    "normalized_zprice <- (auto.price$price - mean_price) / sd_price\n",
    "\n",
    "#Add normalized price to the data frame.\n",
    "auto.price = mutate(auto.price,normalized_zprice = normalized_zprice)\n",
    "dim(auto.price)\n",
    "str(auto.price)"
   ]
  },
  {
   "cell_type": "markdown",
   "metadata": {},
   "source": [
    "## Compute a linear model with all features.\n",
    "* I am using standard lm function from base stats package to create a model.\n",
    "* My formula is based on all the features of the data frame, I have taken care to remove *Price* from the formula and I am now computing on *Normalized Price* calculated in the previous step."
   ]
  },
  {
   "cell_type": "code",
   "execution_count": 43,
   "metadata": {
    "collapsed": false,
    "scrolled": true
   },
   "outputs": [
    {
     "data": {
      "text/plain": [
       "\n",
       "Call:\n",
       "lm(formula = normalized_zprice ~ . - price, data = auto.price)\n",
       "\n",
       "Residuals:\n",
       "    Min      1Q  Median      3Q     Max \n",
       "-0.4360 -0.1137  0.0000  0.0999  1.0426 \n",
       "\n",
       "Coefficients: (3 not defined because of singularities)\n",
       "                         Estimate Std. Error t value Pr(>|t|)    \n",
       "(Intercept)            -3.505e+00  2.171e+00  -1.615 0.108672    \n",
       "makeaudi                1.538e-02  2.780e-01   0.055 0.955960    \n",
       "makebmw                 6.324e-01  2.894e-01   2.185 0.030554 *  \n",
       "makechevrolet          -6.631e-01  2.839e-01  -2.336 0.020945 *  \n",
       "makedodge              -7.509e-01  2.332e-01  -3.220 0.001598 ** \n",
       "makehonda              -3.871e-01  2.740e-01  -1.413 0.160029    \n",
       "makeisuzu              -4.822e-01  3.072e-01  -1.570 0.118760    \n",
       "makejaguar             -1.852e-01  3.476e-01  -0.533 0.595036    \n",
       "makemazda              -3.512e-01  2.121e-01  -1.655 0.100107    \n",
       "makemercedes-benz       1.877e-01  3.122e-01   0.601 0.548599    \n",
       "makemercury            -5.642e-01  3.662e-01  -1.541 0.125653    \n",
       "makemitsubishi         -8.204e-01  2.313e-01  -3.547 0.000533 ***\n",
       "makenissan             -4.234e-01  2.098e-01  -2.018 0.045505 *  \n",
       "makepeugot             -1.002e+00  5.573e-01  -1.798 0.074377 .  \n",
       "makeplymouth           -7.503e-01  2.296e-01  -3.268 0.001368 ** \n",
       "makeporsche             3.291e-01  3.655e-01   0.901 0.369406    \n",
       "makesaab                4.165e-02  2.484e-01   0.168 0.867098    \n",
       "makesubaru             -3.034e-01  2.413e-01  -1.257 0.210771    \n",
       "maketoyota             -4.866e-01  1.961e-01  -2.482 0.014283 *  \n",
       "makevolkswagen         -3.642e-01  2.188e-01  -1.664 0.098338 .  \n",
       "makevolvo              -3.097e-01  2.721e-01  -1.138 0.256964    \n",
       "fuel.typegas           -1.685e+00  8.282e-01  -2.035 0.043773 *  \n",
       "aspirationturbo         2.090e-01  1.005e-01   2.080 0.039344 *  \n",
       "num.of.doorsfour        9.063e-02  1.759e-01   0.515 0.607190    \n",
       "num.of.doorstwo         6.203e-02  1.863e-01   0.333 0.739698    \n",
       "body.stylehardtop      -2.757e-01  1.479e-01  -1.864 0.064407 .  \n",
       "body.stylehatchback    -3.692e-01  1.374e-01  -2.686 0.008109 ** \n",
       "body.stylesedan        -2.907e-01  1.487e-01  -1.955 0.052662 .  \n",
       "body.stylewagon        -3.192e-01  1.612e-01  -1.980 0.049711 *  \n",
       "drive.wheelsfwd        -7.032e-02  1.152e-01  -0.611 0.542456    \n",
       "drive.wheelsrwd        -4.342e-02  1.527e-01  -0.284 0.776620    \n",
       "engine.locationrear     1.300e+00  3.314e-01   3.922 0.000138 ***\n",
       "wheel.base              3.459e-02  1.139e-02   3.038 0.002849 ** \n",
       "length                 -1.625e-02  6.283e-03  -2.586 0.010731 *  \n",
       "width                   7.511e-02  2.853e-02   2.633 0.009425 ** \n",
       "height                 -3.840e-02  1.773e-02  -2.166 0.032034 *  \n",
       "curb.weight             7.676e-04  2.100e-04   3.655 0.000364 ***\n",
       "engine.typel            3.350e-01  5.210e-01   0.643 0.521305    \n",
       "engine.typeohc          1.449e-01  1.502e-01   0.965 0.336286    \n",
       "engine.typeohcf                NA         NA      NA       NA    \n",
       "engine.typeohcv        -2.968e-01  1.540e-01  -1.927 0.056031 .  \n",
       "num.of.cylindersfive   -7.642e-01  3.564e-01  -2.144 0.033753 *  \n",
       "num.of.cylindersfour   -4.562e-01  4.393e-01  -1.038 0.300901    \n",
       "num.of.cylinderssix    -4.925e-01  3.345e-01  -1.472 0.143181    \n",
       "num.of.cylindersthree          NA         NA      NA       NA    \n",
       "num.of.cylinderstwelve -5.679e-01  6.398e-01  -0.888 0.376238    \n",
       "engine.size             1.038e-02  3.111e-03   3.337 0.001089 ** \n",
       "fuel.system2bbl         2.881e-01  1.847e-01   1.560 0.121098    \n",
       "fuel.systemidi                 NA         NA      NA       NA    \n",
       "fuel.systemmfi         -8.821e-02  3.282e-01  -0.269 0.788506    \n",
       "fuel.systemmpfi         1.481e-01  1.956e-01   0.757 0.450330    \n",
       "fuel.systemspdi         2.289e-02  2.289e-01   0.100 0.920483    \n",
       "fuel.systemspfi         2.261e-01  3.801e-01   0.595 0.552825    \n",
       "bore                   -3.949e-01  2.288e-01  -1.726 0.086580 .  \n",
       "stroke                 -1.557e-01  1.233e-01  -1.263 0.208696    \n",
       "compression.ratio      -1.127e-01  6.102e-02  -1.847 0.066829 .  \n",
       "horsepower              1.339e-03  3.052e-03   0.439 0.661440    \n",
       "peak.rpm                2.832e-04  8.109e-05   3.492 0.000644 ***\n",
       "city.mpg               -2.409e-03  1.673e-02  -0.144 0.885692    \n",
       "highway.mpg             1.646e-02  1.434e-02   1.148 0.252988    \n",
       "---\n",
       "Signif. codes:  0 '***' 0.001 '**' 0.01 '*' 0.05 '.' 0.1 ' ' 1\n",
       "\n",
       "Residual standard error: 0.2174 on 138 degrees of freedom\n",
       "Multiple R-squared:  0.9664,\tAdjusted R-squared:  0.9527 \n",
       "F-statistic: 70.82 on 56 and 138 DF,  p-value: < 2.2e-16\n"
      ]
     },
     "metadata": {},
     "output_type": "display_data"
    },
    {
     "name": "stderr",
     "output_type": "stream",
     "text": [
      "Warning message:\n",
      "\"not plotting observations with leverage one:\n",
      "  18, 29, 43, 44, 47, 119\""
     ]
    },
    {
     "data": {
      "image/png": "[encoded data removed]",
      "text/plain": [
       "Plot with title \"\""
      ]
     },
     "metadata": {},
     "output_type": "display_data"
    },
    {
     "name": "stderr",
     "output_type": "stream",
     "text": [
      "Warning message:\n",
      "\"not plotting observations with leverage one:\n",
      "  18, 29, 43, 44, 47, 119\""
     ]
    },
    {
     "data": {
      "image/png": "[encoded data removed]",
      "text/plain": [
       "Plot with title \"\""
      ]
     },
     "metadata": {},
     "output_type": "display_data"
    },
    {
     "name": "stderr",
     "output_type": "stream",
     "text": [
      "Warning message in sqrt(crit * p * (1 - hh)/hh):\n",
      "\"NaNs produced\"Warning message in sqrt(crit * p * (1 - hh)/hh):\n",
      "\"NaNs produced\""
     ]
    },
    {
     "data": {
      "image/png": "[encoded data removed]",
      "text/plain": [
       "Plot with title \"\""
      ]
     },
     "metadata": {},
     "output_type": "display_data"
    },
    {
     "data": {
      "image/png": "[encoded data removed]",
      "text/plain": [
       "Plot with title \"\""
      ]
     },
     "metadata": {},
     "output_type": "display_data"
    }
   ],
   "source": [
    "#Compute a model with all features.\n",
    "# Removing price from the formula.\n",
    "lm.auto.price = lm(normalized_zprice ~ . -price, data = auto.price)\n",
    "summary(lm.auto.price)\n",
    "plot(lm.auto.price)"
   ]
  },
  {
   "cell_type": "markdown",
   "metadata": {},
   "source": [
    "## Apply STEPWISE REGRESSION.\n",
    "* We would now see step wise removal of features based on lowest value of AIC.\n",
    "* Following features have been removed as they do not have a major affect on the model.\n",
    "        - engine.location\n",
    "        - fuel.type\n",
    "        - drive.wheels\n",
    "        - num.of.doors\n",
    "        - city.mpg\n",
    "        - horsepower\n",
    "* Following features are now used to create the model.\n",
    "        - make\n",
    "        - aspiration\n",
    "        - body.style\n",
    "        - wheel.base\n",
    "        - length\n",
    "        - width\n",
    "        - height\n",
    "        - curb.weight\n",
    "        - engine.type\n",
    "        - num.of.cylinders\n",
    "        - engine.size\n",
    "        - fuel.system\n",
    "        - bore, stroke\n",
    "        - compression.ratio\n",
    "        - peak.rpm\n",
    "        - highway.mpg"
   ]
  },
  {
   "cell_type": "code",
   "execution_count": 44,
   "metadata": {
    "collapsed": false
   },
   "outputs": [
    {
     "name": "stdout",
     "output_type": "stream",
     "text": [
      "Start:  AIC=-548.52\n",
      "normalized_zprice ~ (make + fuel.type + aspiration + num.of.doors + \n",
      "    body.style + drive.wheels + engine.location + wheel.base + \n",
      "    length + width + height + curb.weight + engine.type + num.of.cylinders + \n",
      "    engine.size + fuel.system + bore + stroke + compression.ratio + \n",
      "    horsepower + peak.rpm + city.mpg + highway.mpg + price) - \n",
      "    price\n",
      "\n",
      "\n",
      "Step:  AIC=-548.52\n",
      "normalized_zprice ~ make + fuel.type + aspiration + num.of.doors + \n",
      "    body.style + drive.wheels + wheel.base + length + width + \n",
      "    height + curb.weight + engine.type + num.of.cylinders + engine.size + \n",
      "    fuel.system + bore + stroke + compression.ratio + horsepower + \n",
      "    peak.rpm + city.mpg + highway.mpg\n",
      "\n",
      "\n",
      "Step:  AIC=-548.52\n",
      "normalized_zprice ~ make + aspiration + num.of.doors + body.style + \n",
      "    drive.wheels + wheel.base + length + width + height + curb.weight + \n",
      "    engine.type + num.of.cylinders + engine.size + fuel.system + \n",
      "    bore + stroke + compression.ratio + horsepower + peak.rpm + \n",
      "    city.mpg + highway.mpg\n",
      "\n",
      "                    Df Sum of Sq     RSS     AIC\n",
      "- drive.wheels       2    0.0215  6.5454 -551.88\n",
      "- num.of.doors       2    0.0234  6.5473 -551.82\n",
      "- city.mpg           1    0.0010  6.5249 -550.49\n",
      "- horsepower         1    0.0091  6.5330 -550.25\n",
      "- highway.mpg        1    0.0623  6.5862 -548.67\n",
      "<none>                            6.5239 -548.52\n",
      "- stroke             1    0.0754  6.5993 -548.28\n",
      "- bore               1    0.1408  6.6647 -546.35\n",
      "- compression.ratio  1    0.1613  6.6852 -545.75\n",
      "- fuel.system        6    0.5168  7.0407 -545.65\n",
      "- body.style         4    0.4138  6.9377 -544.53\n",
      "- aspiration         1    0.2046  6.7285 -544.50\n",
      "- height             1    0.2218  6.7457 -544.00\n",
      "- length             1    0.3163  6.8401 -541.29\n",
      "- width              1    0.3278  6.8516 -540.96\n",
      "- num.of.cylinders   4    0.6463  7.1701 -538.10\n",
      "- wheel.base         1    0.4363  6.9602 -537.89\n",
      "- engine.size        1    0.5264  7.0502 -535.39\n",
      "- peak.rpm           1    0.5766  7.1005 -534.00\n",
      "- curb.weight        1    0.6316  7.1555 -532.50\n",
      "- engine.type        3    1.0974  7.6212 -524.20\n",
      "- make              19    5.8845 12.4083 -461.15\n",
      "\n",
      "Step:  AIC=-551.88\n",
      "normalized_zprice ~ make + aspiration + num.of.doors + body.style + \n",
      "    wheel.base + length + width + height + curb.weight + engine.type + \n",
      "    num.of.cylinders + engine.size + fuel.system + bore + stroke + \n",
      "    compression.ratio + horsepower + peak.rpm + city.mpg + highway.mpg\n",
      "\n",
      "                    Df Sum of Sq     RSS     AIC\n",
      "- num.of.doors       2    0.0223  6.5677 -555.21\n",
      "- city.mpg           1    0.0006  6.5459 -553.86\n",
      "- horsepower         1    0.0076  6.5529 -553.65\n",
      "- highway.mpg        1    0.0555  6.6009 -552.23\n",
      "<none>                            6.5454 -551.88\n",
      "- stroke             1    0.0771  6.6225 -551.59\n",
      "- bore               1    0.1468  6.6921 -549.55\n",
      "- compression.ratio  1    0.1797  6.7251 -548.59\n",
      "+ drive.wheels       2    0.0215  6.5239 -548.52\n",
      "- fuel.system        6    0.5461  7.0915 -548.25\n",
      "- body.style         4    0.4045  6.9498 -548.19\n",
      "- aspiration         1    0.2075  6.7529 -547.79\n",
      "- height             1    0.2447  6.7901 -546.72\n",
      "- width              1    0.3136  6.8589 -544.75\n",
      "- length             1    0.3571  6.9024 -543.52\n",
      "- wheel.base         1    0.4341  6.9795 -541.35\n",
      "- num.of.cylinders   4    0.6836  7.2290 -540.51\n",
      "- engine.size        1    0.5234  7.0687 -538.88\n",
      "- peak.rpm           1    0.5804  7.1258 -537.31\n",
      "- curb.weight        1    0.8917  7.4370 -528.97\n",
      "- engine.type        3    1.1237  7.6690 -526.98\n",
      "- make              19    5.9909 12.5362 -463.15\n",
      "\n",
      "Step:  AIC=-555.21\n",
      "normalized_zprice ~ make + aspiration + body.style + wheel.base + \n",
      "    length + width + height + curb.weight + engine.type + num.of.cylinders + \n",
      "    engine.size + fuel.system + bore + stroke + compression.ratio + \n",
      "    horsepower + peak.rpm + city.mpg + highway.mpg\n",
      "\n",
      "                    Df Sum of Sq     RSS     AIC\n",
      "- city.mpg           1    0.0010  6.5687 -557.18\n",
      "- horsepower         1    0.0090  6.5767 -556.95\n",
      "- highway.mpg        1    0.0600  6.6276 -555.44\n",
      "<none>                            6.5677 -555.21\n",
      "- stroke             1    0.0730  6.6406 -555.06\n",
      "- bore               1    0.1468  6.7145 -552.90\n",
      "- compression.ratio  1    0.1775  6.7452 -552.01\n",
      "+ num.of.doors       2    0.0223  6.5454 -551.88\n",
      "+ drive.wheels       2    0.0204  6.5473 -551.82\n",
      "- aspiration         1    0.2003  6.7679 -551.36\n",
      "- fuel.system        6    0.5634  7.1310 -551.17\n",
      "- height             1    0.2476  6.8152 -550.00\n",
      "- body.style         4    0.4606  7.0283 -550.00\n",
      "- width              1    0.3196  6.8873 -547.95\n",
      "- length             1    0.3542  6.9218 -546.97\n",
      "- wheel.base         1    0.4621  7.0298 -543.95\n",
      "- num.of.cylinders   4    0.6853  7.2530 -543.86\n",
      "- engine.size        1    0.5096  7.0773 -542.64\n",
      "- peak.rpm           1    0.5634  7.1311 -541.16\n",
      "- curb.weight        1    0.9036  7.4713 -532.08\n",
      "- engine.type        3    1.1366  7.7043 -530.09\n",
      "- make              19    6.0741 12.6417 -465.52\n",
      "\n",
      "Step:  AIC=-557.18\n",
      "normalized_zprice ~ make + aspiration + body.style + wheel.base + \n",
      "    length + width + height + curb.weight + engine.type + num.of.cylinders + \n",
      "    engine.size + fuel.system + bore + stroke + compression.ratio + \n",
      "    horsepower + peak.rpm + highway.mpg\n",
      "\n",
      "                    Df Sum of Sq     RSS     AIC\n",
      "- horsepower         1    0.0101  6.5788 -558.88\n",
      "<none>                            6.5687 -557.18\n",
      "- stroke             1    0.0756  6.6443 -556.95\n",
      "+ city.mpg           1    0.0010  6.5677 -555.21\n",
      "- bore               1    0.1470  6.7156 -554.87\n",
      "- highway.mpg        1    0.1636  6.7322 -554.39\n",
      "+ num.of.doors       2    0.0227  6.5459 -553.86\n",
      "+ drive.wheels       2    0.0195  6.5491 -553.77\n",
      "- compression.ratio  1    0.1876  6.7563 -553.69\n",
      "- aspiration         1    0.2011  6.7698 -553.30\n",
      "- fuel.system        6    0.5739  7.1426 -552.85\n",
      "- height             1    0.2520  6.8207 -551.84\n",
      "- body.style         4    0.4653  7.0340 -551.84\n",
      "- width              1    0.3190  6.8877 -549.94\n",
      "- length             1    0.3534  6.9220 -548.97\n",
      "- num.of.cylinders   4    0.6900  7.2587 -545.71\n",
      "- wheel.base         1    0.4701  7.0388 -545.71\n",
      "- engine.size        1    0.5129  7.0815 -544.52\n",
      "- peak.rpm           1    0.5644  7.1331 -543.11\n",
      "- curb.weight        1    0.9313  7.5000 -533.33\n",
      "- engine.type        3    1.1357  7.7043 -532.09\n",
      "- make              19    6.2621 12.8308 -464.62\n",
      "\n",
      "Step:  AIC=-558.88\n",
      "normalized_zprice ~ make + aspiration + body.style + wheel.base + \n",
      "    length + width + height + curb.weight + engine.type + num.of.cylinders + \n",
      "    engine.size + fuel.system + bore + stroke + compression.ratio + \n",
      "    peak.rpm + highway.mpg\n",
      "\n",
      "                    Df Sum of Sq     RSS     AIC\n",
      "<none>                            6.5788 -558.88\n",
      "- stroke             1    0.0687  6.6475 -558.86\n",
      "+ horsepower         1    0.0101  6.5687 -557.18\n",
      "+ city.mpg           1    0.0021  6.5767 -556.95\n",
      "- bore               1    0.1530  6.7319 -556.40\n",
      "- highway.mpg        1    0.1666  6.7454 -556.01\n",
      "+ num.of.doors       2    0.0245  6.5543 -555.61\n",
      "+ drive.wheels       2    0.0165  6.5624 -555.37\n",
      "- fuel.system        6    0.5750  7.1538 -554.54\n",
      "- compression.ratio  1    0.2448  6.8236 -553.76\n",
      "- body.style         4    0.4581  7.0369 -553.76\n",
      "- height             1    0.2682  6.8471 -553.09\n",
      "- width              1    0.3397  6.9185 -551.06\n",
      "- aspiration         1    0.3436  6.9224 -550.96\n",
      "- length             1    0.3556  6.9345 -550.62\n",
      "- wheel.base         1    0.4634  7.0422 -547.61\n",
      "- num.of.cylinders   4    0.6904  7.2692 -547.42\n",
      "- engine.size        1    0.7631  7.3419 -539.48\n",
      "- peak.rpm           1    0.7719  7.3507 -539.25\n",
      "- curb.weight        1    1.0494  7.6283 -532.02\n",
      "- engine.type        3    1.2157  7.7945 -531.82\n",
      "- make              19    6.6786 13.2574 -460.25\n"
     ]
    },
    {
     "data": {
      "text/html": [
       "<table>\n",
       "<thead><tr><th scope=col>Step</th><th scope=col>Df</th><th scope=col>Deviance</th><th scope=col>Resid. Df</th><th scope=col>Resid. Dev</th><th scope=col>AIC</th></tr></thead>\n",
       "<tbody>\n",
       "\t<tr><td>                 </td><td>NA               </td><td>          NA     </td><td>138              </td><td>6.523878         </td><td>-548.5185        </td></tr>\n",
       "\t<tr><td>- engine.location</td><td> 0               </td><td>1.598721e-14     </td><td>138              </td><td>6.523878         </td><td>-548.5185        </td></tr>\n",
       "\t<tr><td>- fuel.type      </td><td> 0               </td><td>1.421085e-14     </td><td>138              </td><td>6.523878         </td><td>-548.5185        </td></tr>\n",
       "\t<tr><td>- drive.wheels   </td><td> 2               </td><td>2.147641e-02     </td><td>140              </td><td>6.545355         </td><td>-551.8776        </td></tr>\n",
       "\t<tr><td>- num.of.doors   </td><td> 2               </td><td>2.232056e-02     </td><td>142              </td><td>6.567675         </td><td>-555.2137        </td></tr>\n",
       "\t<tr><td>- city.mpg       </td><td> 1               </td><td>9.933198e-04     </td><td>143              </td><td>6.568669         </td><td>-557.1842        </td></tr>\n",
       "\t<tr><td>- horsepower     </td><td> 1               </td><td>1.014854e-02     </td><td>144              </td><td>6.578817         </td><td>-558.8832        </td></tr>\n",
       "</tbody>\n",
       "</table>\n"
      ],
      "text/latex": [
       "\\begin{tabular}{r|llllll}\n",
       " Step & Df & Deviance & Resid. Df & Resid. Dev & AIC\\\\\n",
       "\\hline\n",
       "\t                   & NA                &           NA      & 138               & 6.523878          & -548.5185        \\\\\n",
       "\t - engine.location &  0                & 1.598721e-14      & 138               & 6.523878          & -548.5185        \\\\\n",
       "\t - fuel.type       &  0                & 1.421085e-14      & 138               & 6.523878          & -548.5185        \\\\\n",
       "\t - drive.wheels    &  2                & 2.147641e-02      & 140               & 6.545355          & -551.8776        \\\\\n",
       "\t - num.of.doors    &  2                & 2.232056e-02      & 142               & 6.567675          & -555.2137        \\\\\n",
       "\t - city.mpg        &  1                & 9.933198e-04      & 143               & 6.568669          & -557.1842        \\\\\n",
       "\t - horsepower      &  1                & 1.014854e-02      & 144               & 6.578817          & -558.8832        \\\\\n",
       "\\end{tabular}\n"
      ],
      "text/markdown": [
       "\n",
       "Step | Df | Deviance | Resid. Df | Resid. Dev | AIC | \n",
       "|---|---|---|---|---|---|---|\n",
       "|                   | NA                |           NA      | 138               | 6.523878          | -548.5185         | \n",
       "| - engine.location |  0                | 1.598721e-14      | 138               | 6.523878          | -548.5185         | \n",
       "| - fuel.type       |  0                | 1.421085e-14      | 138               | 6.523878          | -548.5185         | \n",
       "| - drive.wheels    |  2                | 2.147641e-02      | 140               | 6.545355          | -551.8776         | \n",
       "| - num.of.doors    |  2                | 2.232056e-02      | 142               | 6.567675          | -555.2137         | \n",
       "| - city.mpg        |  1                | 9.933198e-04      | 143               | 6.568669          | -557.1842         | \n",
       "| - horsepower      |  1                | 1.014854e-02      | 144               | 6.578817          | -558.8832         | \n",
       "\n",
       "\n"
      ],
      "text/plain": [
       "  Step              Df Deviance     Resid. Df Resid. Dev AIC      \n",
       "1                   NA           NA 138       6.523878   -548.5185\n",
       "2 - engine.location  0 1.598721e-14 138       6.523878   -548.5185\n",
       "3 - fuel.type        0 1.421085e-14 138       6.523878   -548.5185\n",
       "4 - drive.wheels     2 2.147641e-02 140       6.545355   -551.8776\n",
       "5 - num.of.doors     2 2.232056e-02 142       6.567675   -555.2137\n",
       "6 - city.mpg         1 9.933198e-04 143       6.568669   -557.1842\n",
       "7 - horsepower       1 1.014854e-02 144       6.578817   -558.8832"
      ]
     },
     "metadata": {},
     "output_type": "display_data"
    },
    {
     "data": {
      "text/plain": [
       "\n",
       "Call:\n",
       "lm(formula = normalized_zprice ~ make + aspiration + body.style + \n",
       "    wheel.base + length + width + height + curb.weight + engine.type + \n",
       "    num.of.cylinders + engine.size + fuel.system + bore + stroke + \n",
       "    compression.ratio + peak.rpm + highway.mpg, data = auto.price)\n",
       "\n",
       "Residuals:\n",
       "     Min       1Q   Median       3Q      Max \n",
       "-0.42933 -0.12687  0.00000  0.09525  1.02266 \n",
       "\n",
       "Coefficients: (1 not defined because of singularities)\n",
       "                         Estimate Std. Error t value Pr(>|t|)    \n",
       "(Intercept)            -5.099e+00  1.817e+00  -2.805 0.005721 ** \n",
       "makeaudi                1.098e-02  2.639e-01   0.042 0.966868    \n",
       "makebmw                 6.292e-01  2.783e-01   2.261 0.025281 *  \n",
       "makechevrolet          -6.817e-01  2.639e-01  -2.583 0.010790 *  \n",
       "makedodge              -7.916e-01  2.204e-01  -3.591 0.000450 ***\n",
       "makehonda              -4.245e-01  2.562e-01  -1.657 0.099770 .  \n",
       "makeisuzu              -4.993e-01  2.918e-01  -1.711 0.089258 .  \n",
       "makejaguar             -2.910e-01  3.017e-01  -0.965 0.336299    \n",
       "makemazda              -3.784e-01  2.044e-01  -1.851 0.066176 .  \n",
       "makemercedes-benz       1.697e-01  3.033e-01   0.560 0.576641    \n",
       "makemercury            -5.323e-01  3.391e-01  -1.570 0.118651    \n",
       "makemitsubishi         -8.574e-01  2.155e-01  -3.978 0.000109 ***\n",
       "makenissan             -4.460e-01  1.982e-01  -2.251 0.025923 *  \n",
       "makepeugot             -1.100e+00  5.190e-01  -2.118 0.035861 *  \n",
       "makeplymouth           -7.780e-01  2.189e-01  -3.554 0.000514 ***\n",
       "makeporsche             3.512e-01  3.524e-01   0.996 0.320702    \n",
       "makesaab                2.977e-02  2.278e-01   0.131 0.896228    \n",
       "makesubaru             -1.668e+00  3.982e-01  -4.188 4.89e-05 ***\n",
       "maketoyota             -4.993e-01  1.873e-01  -2.666 0.008558 ** \n",
       "makevolkswagen         -3.827e-01  2.076e-01  -1.844 0.067267 .  \n",
       "makevolvo              -3.150e-01  2.600e-01  -1.211 0.227745    \n",
       "aspirationturbo         2.248e-01  8.198e-02   2.742 0.006872 ** \n",
       "body.stylehardtop      -2.496e-01  1.403e-01  -1.779 0.077365 .  \n",
       "body.stylehatchback    -3.484e-01  1.323e-01  -2.634 0.009354 ** \n",
       "body.stylesedan        -2.511e-01  1.365e-01  -1.840 0.067840 .  \n",
       "body.stylewagon        -2.865e-01  1.509e-01  -1.899 0.059578 .  \n",
       "wheel.base              3.462e-02  1.087e-02   3.185 0.001775 ** \n",
       "length                 -1.689e-02  6.054e-03  -2.790 0.005984 ** \n",
       "width                   7.441e-02  2.729e-02   2.727 0.007188 ** \n",
       "height                 -3.938e-02  1.625e-02  -2.423 0.016629 *  \n",
       "curb.weight             8.583e-04  1.791e-04   4.793 4.05e-06 ***\n",
       "engine.typel            3.650e-01  5.049e-01   0.723 0.470900    \n",
       "engine.typeohc          1.198e-01  1.371e-01   0.874 0.383630    \n",
       "engine.typeohcf         1.347e+00  3.166e-01   4.255 3.75e-05 ***\n",
       "engine.typeohcv        -3.093e-01  1.458e-01  -2.122 0.035558 *  \n",
       "num.of.cylindersfive   -7.401e-01  3.421e-01  -2.163 0.032174 *  \n",
       "num.of.cylindersfour   -4.041e-01  4.173e-01  -0.968 0.334474    \n",
       "num.of.cylinderssix    -4.407e-01  3.039e-01  -1.450 0.149122    \n",
       "num.of.cylindersthree          NA         NA      NA       NA    \n",
       "num.of.cylinderstwelve -3.873e-01  4.985e-01  -0.777 0.438391    \n",
       "engine.size             1.071e-02  2.620e-03   4.087 7.23e-05 ***\n",
       "fuel.system2bbl         2.853e-01  1.761e-01   1.620 0.107447    \n",
       "fuel.systemidi          1.782e+00  7.499e-01   2.377 0.018775 *  \n",
       "fuel.systemmfi         -1.100e-01  3.113e-01  -0.353 0.724331    \n",
       "fuel.systemmpfi         1.462e-01  1.837e-01   0.796 0.427429    \n",
       "fuel.systemspdi         9.841e-03  2.184e-01   0.045 0.964127    \n",
       "fuel.systemspfi         1.988e-01  3.625e-01   0.548 0.584249    \n",
       "bore                   -4.003e-01  2.187e-01  -1.830 0.069276 .  \n",
       "stroke                 -1.453e-01  1.185e-01  -1.226 0.222100    \n",
       "compression.ratio      -1.241e-01  5.361e-02  -2.315 0.022031 *  \n",
       "peak.rpm                2.946e-04  7.168e-05   4.110 6.61e-05 ***\n",
       "highway.mpg             1.426e-02  7.469e-03   1.910 0.058171 .  \n",
       "---\n",
       "Signif. codes:  0 '***' 0.001 '**' 0.01 '*' 0.05 '.' 0.1 ' ' 1\n",
       "\n",
       "Residual standard error: 0.2137 on 144 degrees of freedom\n",
       "Multiple R-squared:  0.9661,\tAdjusted R-squared:  0.9543 \n",
       "F-statistic: 82.05 on 50 and 144 DF,  p-value: < 2.2e-16\n"
      ]
     },
     "metadata": {},
     "output_type": "display_data"
    },
    {
     "name": "stderr",
     "output_type": "stream",
     "text": [
      "Warning message:\n",
      "\"not plotting observations with leverage one:\n",
      "  18, 29, 43, 44, 47, 119\""
     ]
    },
    {
     "data": {
      "image/png": "[encoded data removed]",
      "text/plain": [
       "Plot with title \"\""
      ]
     },
     "metadata": {},
     "output_type": "display_data"
    },
    {
     "name": "stderr",
     "output_type": "stream",
     "text": [
      "Warning message:\n",
      "\"not plotting observations with leverage one:\n",
      "  18, 29, 43, 44, 47, 119\""
     ]
    },
    {
     "data": {
      "image/png": "[encoded data removed]",
      "text/plain": [
       "Plot with title \"\""
      ]
     },
     "metadata": {},
     "output_type": "display_data"
    },
    {
     "name": "stderr",
     "output_type": "stream",
     "text": [
      "Warning message in sqrt(crit * p * (1 - hh)/hh):\n",
      "\"NaNs produced\"Warning message in sqrt(crit * p * (1 - hh)/hh):\n",
      "\"NaNs produced\""
     ]
    },
    {
     "data": {
      "image/png": "[encoded data removed]",
      "text/plain": [
       "Plot with title \"\""
      ]
     },
     "metadata": {},
     "output_type": "display_data"
    },
    {
     "data": {
      "image/png": "[encoded data removed]",
      "text/plain": [
       "Plot with title \"\""
      ]
     },
     "metadata": {},
     "output_type": "display_data"
    }
   ],
   "source": [
    "#Apply Stepwise Regression\n",
    "library(MASS)\n",
    "lm.step = stepAIC(lm.auto.price, direction = 'both')\n",
    "lm.step$anova # ANOVA of the result \n",
    "summary(lm.step) # Summary of the best model\n",
    "plot(lm.step)"
   ]
  },
  {
   "cell_type": "markdown",
   "metadata": {},
   "source": [
    "## Applying Singular Value Decomposition using Pseudo Inverse.\n",
    "* This data frame consists of number of catgegorical variables,in order to work with a model matrix we first need to convert these categorical variables into binary indicator variables.\n",
    "* Remove price from the formula.\n",
    "* Remove intercept."
   ]
  },
  {
   "cell_type": "code",
   "execution_count": 45,
   "metadata": {
    "collapsed": false
   },
   "outputs": [
    {
     "data": {
      "text/html": [
       "<table>\n",
       "<thead><tr><th></th><th scope=col>makeaudi</th><th scope=col>makebmw</th><th scope=col>makechevrolet</th><th scope=col>makedodge</th><th scope=col>makehonda</th><th scope=col>makeisuzu</th><th scope=col>makejaguar</th><th scope=col>makemazda</th><th scope=col>makemercedes-benz</th><th scope=col>makemercury</th><th scope=col>...</th><th scope=col>fuel.systemmpfi</th><th scope=col>fuel.systemspdi</th><th scope=col>fuel.systemspfi</th><th scope=col>bore</th><th scope=col>stroke</th><th scope=col>compression.ratio</th><th scope=col>horsepower</th><th scope=col>peak.rpm</th><th scope=col>city.mpg</th><th scope=col>highway.mpg</th></tr></thead>\n",
       "<tbody>\n",
       "\t<tr><th scope=row>1</th><td>0   </td><td>0   </td><td>0   </td><td>0   </td><td>0   </td><td>0   </td><td>0   </td><td>0   </td><td>0   </td><td>0   </td><td>... </td><td>1   </td><td>0   </td><td>0   </td><td>3.47</td><td>2.68</td><td> 9.0</td><td>111 </td><td>5000</td><td>21  </td><td>27  </td></tr>\n",
       "\t<tr><th scope=row>2</th><td>0   </td><td>0   </td><td>0   </td><td>0   </td><td>0   </td><td>0   </td><td>0   </td><td>0   </td><td>0   </td><td>0   </td><td>... </td><td>1   </td><td>0   </td><td>0   </td><td>3.47</td><td>2.68</td><td> 9.0</td><td>111 </td><td>5000</td><td>21  </td><td>27  </td></tr>\n",
       "\t<tr><th scope=row>3</th><td>0   </td><td>0   </td><td>0   </td><td>0   </td><td>0   </td><td>0   </td><td>0   </td><td>0   </td><td>0   </td><td>0   </td><td>... </td><td>1   </td><td>0   </td><td>0   </td><td>2.68</td><td>3.47</td><td> 9.0</td><td>154 </td><td>5000</td><td>19  </td><td>26  </td></tr>\n",
       "\t<tr><th scope=row>4</th><td>1   </td><td>0   </td><td>0   </td><td>0   </td><td>0   </td><td>0   </td><td>0   </td><td>0   </td><td>0   </td><td>0   </td><td>... </td><td>1   </td><td>0   </td><td>0   </td><td>3.19</td><td>3.40</td><td>10.0</td><td>102 </td><td>5500</td><td>24  </td><td>30  </td></tr>\n",
       "\t<tr><th scope=row>5</th><td>1   </td><td>0   </td><td>0   </td><td>0   </td><td>0   </td><td>0   </td><td>0   </td><td>0   </td><td>0   </td><td>0   </td><td>... </td><td>1   </td><td>0   </td><td>0   </td><td>3.19</td><td>3.40</td><td> 8.0</td><td>115 </td><td>5500</td><td>18  </td><td>22  </td></tr>\n",
       "\t<tr><th scope=row>6</th><td>1   </td><td>0   </td><td>0   </td><td>0   </td><td>0   </td><td>0   </td><td>0   </td><td>0   </td><td>0   </td><td>0   </td><td>... </td><td>1   </td><td>0   </td><td>0   </td><td>3.19</td><td>3.40</td><td> 8.5</td><td>110 </td><td>5500</td><td>19  </td><td>25  </td></tr>\n",
       "</tbody>\n",
       "</table>\n"
      ],
      "text/latex": [
       "\\begin{tabular}{r|lllllllllllllllllllllllllllllllllllllllllllllllllllllllllll}\n",
       "  & makeaudi & makebmw & makechevrolet & makedodge & makehonda & makeisuzu & makejaguar & makemazda & makemercedes-benz & makemercury & ... & fuel.systemmpfi & fuel.systemspdi & fuel.systemspfi & bore & stroke & compression.ratio & horsepower & peak.rpm & city.mpg & highway.mpg\\\\\n",
       "\\hline\n",
       "\t1 & 0    & 0    & 0    & 0    & 0    & 0    & 0    & 0    & 0    & 0    & ...  & 1    & 0    & 0    & 3.47 & 2.68 &  9.0 & 111  & 5000 & 21   & 27  \\\\\n",
       "\t2 & 0    & 0    & 0    & 0    & 0    & 0    & 0    & 0    & 0    & 0    & ...  & 1    & 0    & 0    & 3.47 & 2.68 &  9.0 & 111  & 5000 & 21   & 27  \\\\\n",
       "\t3 & 0    & 0    & 0    & 0    & 0    & 0    & 0    & 0    & 0    & 0    & ...  & 1    & 0    & 0    & 2.68 & 3.47 &  9.0 & 154  & 5000 & 19   & 26  \\\\\n",
       "\t4 & 1    & 0    & 0    & 0    & 0    & 0    & 0    & 0    & 0    & 0    & ...  & 1    & 0    & 0    & 3.19 & 3.40 & 10.0 & 102  & 5500 & 24   & 30  \\\\\n",
       "\t5 & 1    & 0    & 0    & 0    & 0    & 0    & 0    & 0    & 0    & 0    & ...  & 1    & 0    & 0    & 3.19 & 3.40 &  8.0 & 115  & 5500 & 18   & 22  \\\\\n",
       "\t6 & 1    & 0    & 0    & 0    & 0    & 0    & 0    & 0    & 0    & 0    & ...  & 1    & 0    & 0    & 3.19 & 3.40 &  8.5 & 110  & 5500 & 19   & 25  \\\\\n",
       "\\end{tabular}\n"
      ],
      "text/markdown": [
       "\n",
       "| <!--/--> | makeaudi | makebmw | makechevrolet | makedodge | makehonda | makeisuzu | makejaguar | makemazda | makemercedes-benz | makemercury | ... | fuel.systemmpfi | fuel.systemspdi | fuel.systemspfi | bore | stroke | compression.ratio | horsepower | peak.rpm | city.mpg | highway.mpg | \n",
       "|---|---|---|---|---|---|\n",
       "| 1 | 0    | 0    | 0    | 0    | 0    | 0    | 0    | 0    | 0    | 0    | ...  | 1    | 0    | 0    | 3.47 | 2.68 |  9.0 | 111  | 5000 | 21   | 27   | \n",
       "| 2 | 0    | 0    | 0    | 0    | 0    | 0    | 0    | 0    | 0    | 0    | ...  | 1    | 0    | 0    | 3.47 | 2.68 |  9.0 | 111  | 5000 | 21   | 27   | \n",
       "| 3 | 0    | 0    | 0    | 0    | 0    | 0    | 0    | 0    | 0    | 0    | ...  | 1    | 0    | 0    | 2.68 | 3.47 |  9.0 | 154  | 5000 | 19   | 26   | \n",
       "| 4 | 1    | 0    | 0    | 0    | 0    | 0    | 0    | 0    | 0    | 0    | ...  | 1    | 0    | 0    | 3.19 | 3.40 | 10.0 | 102  | 5500 | 24   | 30   | \n",
       "| 5 | 1    | 0    | 0    | 0    | 0    | 0    | 0    | 0    | 0    | 0    | ...  | 1    | 0    | 0    | 3.19 | 3.40 |  8.0 | 115  | 5500 | 18   | 22   | \n",
       "| 6 | 1    | 0    | 0    | 0    | 0    | 0    | 0    | 0    | 0    | 0    | ...  | 1    | 0    | 0    | 3.19 | 3.40 |  8.5 | 110  | 5500 | 19   | 25   | \n",
       "\n",
       "\n"
      ],
      "text/plain": [
       "  makeaudi makebmw makechevrolet makedodge makehonda makeisuzu makejaguar\n",
       "1 0        0       0             0         0         0         0         \n",
       "2 0        0       0             0         0         0         0         \n",
       "3 0        0       0             0         0         0         0         \n",
       "4 1        0       0             0         0         0         0         \n",
       "5 1        0       0             0         0         0         0         \n",
       "6 1        0       0             0         0         0         0         \n",
       "  makemazda makemercedes-benz makemercury ... fuel.systemmpfi fuel.systemspdi\n",
       "1 0         0                 0           ... 1               0              \n",
       "2 0         0                 0           ... 1               0              \n",
       "3 0         0                 0           ... 1               0              \n",
       "4 0         0                 0           ... 1               0              \n",
       "5 0         0                 0           ... 1               0              \n",
       "6 0         0                 0           ... 1               0              \n",
       "  fuel.systemspfi bore stroke compression.ratio horsepower peak.rpm city.mpg\n",
       "1 0               3.47 2.68    9.0              111        5000     21      \n",
       "2 0               3.47 2.68    9.0              111        5000     21      \n",
       "3 0               2.68 3.47    9.0              154        5000     19      \n",
       "4 0               3.19 3.40   10.0              102        5500     24      \n",
       "5 0               3.19 3.40    8.0              115        5500     18      \n",
       "6 0               3.19 3.40    8.5              110        5500     19      \n",
       "  highway.mpg\n",
       "1 27         \n",
       "2 27         \n",
       "3 26         \n",
       "4 30         \n",
       "5 22         \n",
       "6 25         "
      ]
     },
     "metadata": {},
     "output_type": "display_data"
    },
    {
     "data": {
      "text/html": [
       "<table>\n",
       "<thead><tr><th></th><th scope=col>makeaudi</th><th scope=col>makebmw</th><th scope=col>makechevrolet</th><th scope=col>makedodge</th><th scope=col>makehonda</th><th scope=col>makeisuzu</th><th scope=col>makejaguar</th><th scope=col>makemazda</th><th scope=col>makemercedes-benz</th><th scope=col>makemercury</th><th scope=col>...</th><th scope=col>fuel.systemmpfi</th><th scope=col>fuel.systemspdi</th><th scope=col>fuel.systemspfi</th><th scope=col>bore</th><th scope=col>stroke</th><th scope=col>compression.ratio</th><th scope=col>horsepower</th><th scope=col>peak.rpm</th><th scope=col>city.mpg</th><th scope=col>highway.mpg</th></tr></thead>\n",
       "<tbody>\n",
       "\t<tr><th scope=row>makeaudi</th><td>6     </td><td>0     </td><td>0     </td><td>0     </td><td> 0    </td><td>0     </td><td>0     </td><td>0     </td><td>0     </td><td>0     </td><td>...   </td><td>6     </td><td>0     </td><td>0     </td><td>19.08 </td><td>20.40 </td><td> 51.80</td><td> 687  </td><td>33000 </td><td>116   </td><td>147   </td></tr>\n",
       "\t<tr><th scope=row>makebmw</th><td>0     </td><td>8     </td><td>0     </td><td>0     </td><td> 0    </td><td>0     </td><td>0     </td><td>0     </td><td>0     </td><td>0     </td><td>...   </td><td>8     </td><td>0     </td><td>0     </td><td>27.79 </td><td>25.34 </td><td> 68.60</td><td>1111  </td><td>40550 </td><td>155   </td><td>203   </td></tr>\n",
       "\t<tr><th scope=row>makechevrolet</th><td>0     </td><td>0     </td><td>3     </td><td>0     </td><td> 0    </td><td>0     </td><td>0     </td><td>0     </td><td>0     </td><td>0     </td><td>...   </td><td>0     </td><td>0     </td><td>0     </td><td> 8.97 </td><td> 9.25 </td><td> 28.70</td><td> 188  </td><td>15900 </td><td>123   </td><td>139   </td></tr>\n",
       "\t<tr><th scope=row>makedodge</th><td>0     </td><td>0     </td><td>0     </td><td>9     </td><td> 0    </td><td>0     </td><td>0     </td><td>0     </td><td>0     </td><td>0     </td><td>...   </td><td>2     </td><td>0     </td><td>0     </td><td>27.85 </td><td>30.29 </td><td> 77.71</td><td> 777  </td><td>48500 </td><td>252   </td><td>307   </td></tr>\n",
       "\t<tr><th scope=row>makehonda</th><td>0     </td><td>0     </td><td>0     </td><td>0     </td><td>13    </td><td>0     </td><td>0     </td><td>0     </td><td>0     </td><td>0     </td><td>...   </td><td>1     </td><td>0     </td><td>0     </td><td>39.28 </td><td>45.01 </td><td>119.80</td><td>1043  </td><td>74800 </td><td>395   </td><td>461   </td></tr>\n",
       "\t<tr><th scope=row>makeisuzu</th><td>0     </td><td>0     </td><td>0     </td><td>0     </td><td> 0    </td><td>2     </td><td>0     </td><td>0     </td><td>0     </td><td>0     </td><td>...   </td><td>0     </td><td>0     </td><td>1     </td><td> 6.74 </td><td> 6.46 </td><td> 17.70</td><td> 168  </td><td> 9800 </td><td> 48   </td><td> 58   </td></tr>\n",
       "</tbody>\n",
       "</table>\n"
      ],
      "text/latex": [
       "\\begin{tabular}{r|lllllllllllllllllllllllllllllllllllllllllllllllllllllllllll}\n",
       "  & makeaudi & makebmw & makechevrolet & makedodge & makehonda & makeisuzu & makejaguar & makemazda & makemercedes-benz & makemercury & ... & fuel.systemmpfi & fuel.systemspdi & fuel.systemspfi & bore & stroke & compression.ratio & horsepower & peak.rpm & city.mpg & highway.mpg\\\\\n",
       "\\hline\n",
       "\tmakeaudi & 6      & 0      & 0      & 0      &  0     & 0      & 0      & 0      & 0      & 0      & ...    & 6      & 0      & 0      & 19.08  & 20.40  &  51.80 &  687   & 33000  & 116    & 147   \\\\\n",
       "\tmakebmw & 0      & 8      & 0      & 0      &  0     & 0      & 0      & 0      & 0      & 0      & ...    & 8      & 0      & 0      & 27.79  & 25.34  &  68.60 & 1111   & 40550  & 155    & 203   \\\\\n",
       "\tmakechevrolet & 0      & 0      & 3      & 0      &  0     & 0      & 0      & 0      & 0      & 0      & ...    & 0      & 0      & 0      &  8.97  &  9.25  &  28.70 &  188   & 15900  & 123    & 139   \\\\\n",
       "\tmakedodge & 0      & 0      & 0      & 9      &  0     & 0      & 0      & 0      & 0      & 0      & ...    & 2      & 0      & 0      & 27.85  & 30.29  &  77.71 &  777   & 48500  & 252    & 307   \\\\\n",
       "\tmakehonda & 0      & 0      & 0      & 0      & 13     & 0      & 0      & 0      & 0      & 0      & ...    & 1      & 0      & 0      & 39.28  & 45.01  & 119.80 & 1043   & 74800  & 395    & 461   \\\\\n",
       "\tmakeisuzu & 0      & 0      & 0      & 0      &  0     & 2      & 0      & 0      & 0      & 0      & ...    & 0      & 0      & 1      &  6.74  &  6.46  &  17.70 &  168   &  9800  &  48    &  58   \\\\\n",
       "\\end{tabular}\n"
      ],
      "text/markdown": [
       "\n",
       "| <!--/--> | makeaudi | makebmw | makechevrolet | makedodge | makehonda | makeisuzu | makejaguar | makemazda | makemercedes-benz | makemercury | ... | fuel.systemmpfi | fuel.systemspdi | fuel.systemspfi | bore | stroke | compression.ratio | horsepower | peak.rpm | city.mpg | highway.mpg | \n",
       "|---|---|---|---|---|---|\n",
       "| makeaudi | 6      | 0      | 0      | 0      |  0     | 0      | 0      | 0      | 0      | 0      | ...    | 6      | 0      | 0      | 19.08  | 20.40  |  51.80 |  687   | 33000  | 116    | 147    | \n",
       "| makebmw | 0      | 8      | 0      | 0      |  0     | 0      | 0      | 0      | 0      | 0      | ...    | 8      | 0      | 0      | 27.79  | 25.34  |  68.60 | 1111   | 40550  | 155    | 203    | \n",
       "| makechevrolet | 0      | 0      | 3      | 0      |  0     | 0      | 0      | 0      | 0      | 0      | ...    | 0      | 0      | 0      |  8.97  |  9.25  |  28.70 |  188   | 15900  | 123    | 139    | \n",
       "| makedodge | 0      | 0      | 0      | 9      |  0     | 0      | 0      | 0      | 0      | 0      | ...    | 2      | 0      | 0      | 27.85  | 30.29  |  77.71 |  777   | 48500  | 252    | 307    | \n",
       "| makehonda | 0      | 0      | 0      | 0      | 13     | 0      | 0      | 0      | 0      | 0      | ...    | 1      | 0      | 0      | 39.28  | 45.01  | 119.80 | 1043   | 74800  | 395    | 461    | \n",
       "| makeisuzu | 0      | 0      | 0      | 0      |  0     | 2      | 0      | 0      | 0      | 0      | ...    | 0      | 0      | 1      |  6.74  |  6.46  |  17.70 |  168   |  9800  |  48    |  58    | \n",
       "\n",
       "\n"
      ],
      "text/plain": [
       "              makeaudi makebmw makechevrolet makedodge makehonda makeisuzu\n",
       "makeaudi      6        0       0             0          0        0        \n",
       "makebmw       0        8       0             0          0        0        \n",
       "makechevrolet 0        0       3             0          0        0        \n",
       "makedodge     0        0       0             9          0        0        \n",
       "makehonda     0        0       0             0         13        0        \n",
       "makeisuzu     0        0       0             0          0        2        \n",
       "              makejaguar makemazda makemercedes-benz makemercury ...\n",
       "makeaudi      0          0         0                 0           ...\n",
       "makebmw       0          0         0                 0           ...\n",
       "makechevrolet 0          0         0                 0           ...\n",
       "makedodge     0          0         0                 0           ...\n",
       "makehonda     0          0         0                 0           ...\n",
       "makeisuzu     0          0         0                 0           ...\n",
       "              fuel.systemmpfi fuel.systemspdi fuel.systemspfi bore  stroke\n",
       "makeaudi      6               0               0               19.08 20.40 \n",
       "makebmw       8               0               0               27.79 25.34 \n",
       "makechevrolet 0               0               0                8.97  9.25 \n",
       "makedodge     2               0               0               27.85 30.29 \n",
       "makehonda     1               0               0               39.28 45.01 \n",
       "makeisuzu     0               0               1                6.74  6.46 \n",
       "              compression.ratio horsepower peak.rpm city.mpg highway.mpg\n",
       "makeaudi       51.80             687       33000    116      147        \n",
       "makebmw        68.60            1111       40550    155      203        \n",
       "makechevrolet  28.70             188       15900    123      139        \n",
       "makedodge      77.71             777       48500    252      307        \n",
       "makehonda     119.80            1043       74800    395      461        \n",
       "makeisuzu      17.70             168        9800     48       58        "
      ]
     },
     "metadata": {},
     "output_type": "display_data"
    },
    {
     "data": {
      "text/html": [
       "<ol class=list-inline>\n",
       "\t<li>59</li>\n",
       "\t<li>59</li>\n",
       "</ol>\n"
      ],
      "text/latex": [
       "\\begin{enumerate*}\n",
       "\\item 59\n",
       "\\item 59\n",
       "\\end{enumerate*}\n"
      ],
      "text/markdown": [
       "1. 59\n",
       "2. 59\n",
       "\n",
       "\n"
      ],
      "text/plain": [
       "[1] 59 59"
      ]
     },
     "metadata": {},
     "output_type": "display_data"
    },
    {
     "data": {
      "text/html": [
       "<ol class=list-inline>\n",
       "\t<li>6396831214.3368</li>\n",
       "\t<li>62245844.0491491</li>\n",
       "\t<li>200966.270195525</li>\n",
       "\t<li>51161.3259464657</li>\n",
       "\t<li>18001.3135754338</li>\n",
       "\t<li>5983.73777896934</li>\n",
       "\t<li>1496.71305265944</li>\n",
       "\t<li>1059.19319469532</li>\n",
       "\t<li>561.132729495383</li>\n",
       "\t<li>389.226707615845</li>\n",
       "\t<li>184.449601723495</li>\n",
       "\t<li>88.7433559786707</li>\n",
       "\t<li>64.1415748541716</li>\n",
       "\t<li>48.4500774598672</li>\n",
       "\t<li>37.0463640129303</li>\n",
       "\t<li>34.2327069659185</li>\n",
       "\t<li>30.6139387413697</li>\n",
       "\t<li>21.6706107364076</li>\n",
       "\t<li>19.9431426359169</li>\n",
       "\t<li>19.0384763014203</li>\n",
       "\t<li>16.8927798333888</li>\n",
       "\t<li>15.2545542728715</li>\n",
       "\t<li>12.0788656757588</li>\n",
       "\t<li>11.8492253872369</li>\n",
       "\t<li>10.4644227951052</li>\n",
       "\t<li>9.4689443885541</li>\n",
       "\t<li>8.55421638050254</li>\n",
       "\t<li>8.10629684476033</li>\n",
       "\t<li>7.60050926792693</li>\n",
       "\t<li>6.92897226536234</li>\n",
       "\t<li>6.43789748725163</li>\n",
       "\t<li>4.83346776516228</li>\n",
       "\t<li>4.16801037806688</li>\n",
       "\t<li>3.81914883215841</li>\n",
       "\t<li>3.37227566742998</li>\n",
       "\t<li>3.1649604744021</li>\n",
       "\t<li>2.62041536541752</li>\n",
       "\t<li>2.2933213901319</li>\n",
       "\t<li>1.79093773827768</li>\n",
       "\t<li>1.60366262706811</li>\n",
       "\t<li>1.36821057574946</li>\n",
       "\t<li>1.27082531717895</li>\n",
       "\t<li>1.16889294618051</li>\n",
       "\t<li>1.0297875858289</li>\n",
       "\t<li>0.896017844428191</li>\n",
       "\t<li>0.847565145196815</li>\n",
       "\t<li>0.709995978771027</li>\n",
       "\t<li>0.663820005019584</li>\n",
       "\t<li>0.443908023625048</li>\n",
       "\t<li>0.418310789738769</li>\n",
       "\t<li>0.384063413763874</li>\n",
       "\t<li>0.299212921070137</li>\n",
       "\t<li>0.18809518396809</li>\n",
       "\t<li>0.116117457965146</li>\n",
       "\t<li>0.0675522099927744</li>\n",
       "\t<li>0.0483781561129271</li>\n",
       "\t<li>0.00577848933116402</li>\n",
       "\t<li>6.39169907421059e-07</li>\n",
       "\t<li>6.39169907421059e-07</li>\n",
       "</ol>\n"
      ],
      "text/latex": [
       "\\begin{enumerate*}\n",
       "\\item 6396831214.3368\n",
       "\\item 62245844.0491491\n",
       "\\item 200966.270195525\n",
       "\\item 51161.3259464657\n",
       "\\item 18001.3135754338\n",
       "\\item 5983.73777896934\n",
       "\\item 1496.71305265944\n",
       "\\item 1059.19319469532\n",
       "\\item 561.132729495383\n",
       "\\item 389.226707615845\n",
       "\\item 184.449601723495\n",
       "\\item 88.7433559786707\n",
       "\\item 64.1415748541716\n",
       "\\item 48.4500774598672\n",
       "\\item 37.0463640129303\n",
       "\\item 34.2327069659185\n",
       "\\item 30.6139387413697\n",
       "\\item 21.6706107364076\n",
       "\\item 19.9431426359169\n",
       "\\item 19.0384763014203\n",
       "\\item 16.8927798333888\n",
       "\\item 15.2545542728715\n",
       "\\item 12.0788656757588\n",
       "\\item 11.8492253872369\n",
       "\\item 10.4644227951052\n",
       "\\item 9.4689443885541\n",
       "\\item 8.55421638050254\n",
       "\\item 8.10629684476033\n",
       "\\item 7.60050926792693\n",
       "\\item 6.92897226536234\n",
       "\\item 6.43789748725163\n",
       "\\item 4.83346776516228\n",
       "\\item 4.16801037806688\n",
       "\\item 3.81914883215841\n",
       "\\item 3.37227566742998\n",
       "\\item 3.1649604744021\n",
       "\\item 2.62041536541752\n",
       "\\item 2.2933213901319\n",
       "\\item 1.79093773827768\n",
       "\\item 1.60366262706811\n",
       "\\item 1.36821057574946\n",
       "\\item 1.27082531717895\n",
       "\\item 1.16889294618051\n",
       "\\item 1.0297875858289\n",
       "\\item 0.896017844428191\n",
       "\\item 0.847565145196815\n",
       "\\item 0.709995978771027\n",
       "\\item 0.663820005019584\n",
       "\\item 0.443908023625048\n",
       "\\item 0.418310789738769\n",
       "\\item 0.384063413763874\n",
       "\\item 0.299212921070137\n",
       "\\item 0.18809518396809\n",
       "\\item 0.116117457965146\n",
       "\\item 0.0675522099927744\n",
       "\\item 0.0483781561129271\n",
       "\\item 0.00577848933116402\n",
       "\\item 6.39169907421059e-07\n",
       "\\item 6.39169907421059e-07\n",
       "\\end{enumerate*}\n"
      ],
      "text/markdown": [
       "1. 6396831214.3368\n",
       "2. 62245844.0491491\n",
       "3. 200966.270195525\n",
       "4. 51161.3259464657\n",
       "5. 18001.3135754338\n",
       "6. 5983.73777896934\n",
       "7. 1496.71305265944\n",
       "8. 1059.19319469532\n",
       "9. 561.132729495383\n",
       "10. 389.226707615845\n",
       "11. 184.449601723495\n",
       "12. 88.7433559786707\n",
       "13. 64.1415748541716\n",
       "14. 48.4500774598672\n",
       "15. 37.0463640129303\n",
       "16. 34.2327069659185\n",
       "17. 30.6139387413697\n",
       "18. 21.6706107364076\n",
       "19. 19.9431426359169\n",
       "20. 19.0384763014203\n",
       "21. 16.8927798333888\n",
       "22. 15.2545542728715\n",
       "23. 12.0788656757588\n",
       "24. 11.8492253872369\n",
       "25. 10.4644227951052\n",
       "26. 9.4689443885541\n",
       "27. 8.55421638050254\n",
       "28. 8.10629684476033\n",
       "29. 7.60050926792693\n",
       "30. 6.92897226536234\n",
       "31. 6.43789748725163\n",
       "32. 4.83346776516228\n",
       "33. 4.16801037806688\n",
       "34. 3.81914883215841\n",
       "35. 3.37227566742998\n",
       "36. 3.1649604744021\n",
       "37. 2.62041536541752\n",
       "38. 2.2933213901319\n",
       "39. 1.79093773827768\n",
       "40. 1.60366262706811\n",
       "41. 1.36821057574946\n",
       "42. 1.27082531717895\n",
       "43. 1.16889294618051\n",
       "44. 1.0297875858289\n",
       "45. 0.896017844428191\n",
       "46. 0.847565145196815\n",
       "47. 0.709995978771027\n",
       "48. 0.663820005019584\n",
       "49. 0.443908023625048\n",
       "50. 0.418310789738769\n",
       "51. 0.384063413763874\n",
       "52. 0.299212921070137\n",
       "53. 0.18809518396809\n",
       "54. 0.116117457965146\n",
       "55. 0.0675522099927744\n",
       "56. 0.0483781561129271\n",
       "57. 0.00577848933116402\n",
       "58. 6.39169907421059e-07\n",
       "59. 6.39169907421059e-07\n",
       "\n",
       "\n"
      ],
      "text/plain": [
       " [1] 6.396831e+09 6.224584e+07 2.009663e+05 5.116133e+04 1.800131e+04\n",
       " [6] 5.983738e+03 1.496713e+03 1.059193e+03 5.611327e+02 3.892267e+02\n",
       "[11] 1.844496e+02 8.874336e+01 6.414157e+01 4.845008e+01 3.704636e+01\n",
       "[16] 3.423271e+01 3.061394e+01 2.167061e+01 1.994314e+01 1.903848e+01\n",
       "[21] 1.689278e+01 1.525455e+01 1.207887e+01 1.184923e+01 1.046442e+01\n",
       "[26] 9.468944e+00 8.554216e+00 8.106297e+00 7.600509e+00 6.928972e+00\n",
       "[31] 6.437897e+00 4.833468e+00 4.168010e+00 3.819149e+00 3.372276e+00\n",
       "[36] 3.164960e+00 2.620415e+00 2.293321e+00 1.790938e+00 1.603663e+00\n",
       "[41] 1.368211e+00 1.270825e+00 1.168893e+00 1.029788e+00 8.960178e-01\n",
       "[46] 8.475651e-01 7.099960e-01 6.638200e-01 4.439080e-01 4.183108e-01\n",
       "[51] 3.840634e-01 2.992129e-01 1.880952e-01 1.161175e-01 6.755221e-02\n",
       "[56] 4.837816e-02 5.778489e-03 6.391699e-07 6.391699e-07"
      ]
     },
     "metadata": {},
     "output_type": "display_data"
    },
    {
     "name": "stdout",
     "output_type": "stream",
     "text": [
      "Compute and print the inverse singular value matrix"
     ]
    },
    {
     "data": {
      "text/html": [
       "<table>\n",
       "<tbody>\n",
       "\t<tr><td>1.563274e-10</td><td>0.000000e+00</td><td>0.000000e+00</td><td>0.000000e+00</td><td>0.00000e+00 </td><td>0.0000000000</td><td>0           </td><td>0           </td><td>0           </td><td>0           </td><td>...         </td><td>0           </td><td>0           </td><td>0           </td><td>0           </td><td>0           </td><td>0           </td><td>0           </td><td>0           </td><td>0           </td><td>0           </td></tr>\n",
       "\t<tr><td>0.000000e+00</td><td>1.606533e-08</td><td>0.000000e+00</td><td>0.000000e+00</td><td>0.00000e+00 </td><td>0.0000000000</td><td>0           </td><td>0           </td><td>0           </td><td>0           </td><td>...         </td><td>0           </td><td>0           </td><td>0           </td><td>0           </td><td>0           </td><td>0           </td><td>0           </td><td>0           </td><td>0           </td><td>0           </td></tr>\n",
       "\t<tr><td>0.000000e+00</td><td>0.000000e+00</td><td>4.975959e-06</td><td>0.000000e+00</td><td>0.00000e+00 </td><td>0.0000000000</td><td>0           </td><td>0           </td><td>0           </td><td>0           </td><td>...         </td><td>0           </td><td>0           </td><td>0           </td><td>0           </td><td>0           </td><td>0           </td><td>0           </td><td>0           </td><td>0           </td><td>0           </td></tr>\n",
       "\t<tr><td>0.000000e+00</td><td>0.000000e+00</td><td>0.000000e+00</td><td>1.954601e-05</td><td>0.00000e+00 </td><td>0.0000000000</td><td>0           </td><td>0           </td><td>0           </td><td>0           </td><td>...         </td><td>0           </td><td>0           </td><td>0           </td><td>0           </td><td>0           </td><td>0           </td><td>0           </td><td>0           </td><td>0           </td><td>0           </td></tr>\n",
       "\t<tr><td>0.000000e+00</td><td>0.000000e+00</td><td>0.000000e+00</td><td>0.000000e+00</td><td>5.55515e-05 </td><td>0.0000000000</td><td>0           </td><td>0           </td><td>0           </td><td>0           </td><td>...         </td><td>0           </td><td>0           </td><td>0           </td><td>0           </td><td>0           </td><td>0           </td><td>0           </td><td>0           </td><td>0           </td><td>0           </td></tr>\n",
       "\t<tr><td>0.000000e+00</td><td>0.000000e+00</td><td>0.000000e+00</td><td>0.000000e+00</td><td>0.00000e+00 </td><td>0.0001671196</td><td>0           </td><td>0           </td><td>0           </td><td>0           </td><td>...         </td><td>0           </td><td>0           </td><td>0           </td><td>0           </td><td>0           </td><td>0           </td><td>0           </td><td>0           </td><td>0           </td><td>0           </td></tr>\n",
       "</tbody>\n",
       "</table>\n"
      ],
      "text/latex": [
       "\\begin{tabular}{lllllllllllllllllllllllllllllllllllllllllllllllllllllllllll}\n",
       "\t 1.563274e-10 & 0.000000e+00 & 0.000000e+00 & 0.000000e+00 & 0.00000e+00  & 0.0000000000 & 0            & 0            & 0            & 0            & ...          & 0            & 0            & 0            & 0            & 0            & 0            & 0            & 0            & 0            & 0           \\\\\n",
       "\t 0.000000e+00 & 1.606533e-08 & 0.000000e+00 & 0.000000e+00 & 0.00000e+00  & 0.0000000000 & 0            & 0            & 0            & 0            & ...          & 0            & 0            & 0            & 0            & 0            & 0            & 0            & 0            & 0            & 0           \\\\\n",
       "\t 0.000000e+00 & 0.000000e+00 & 4.975959e-06 & 0.000000e+00 & 0.00000e+00  & 0.0000000000 & 0            & 0            & 0            & 0            & ...          & 0            & 0            & 0            & 0            & 0            & 0            & 0            & 0            & 0            & 0           \\\\\n",
       "\t 0.000000e+00 & 0.000000e+00 & 0.000000e+00 & 1.954601e-05 & 0.00000e+00  & 0.0000000000 & 0            & 0            & 0            & 0            & ...          & 0            & 0            & 0            & 0            & 0            & 0            & 0            & 0            & 0            & 0           \\\\\n",
       "\t 0.000000e+00 & 0.000000e+00 & 0.000000e+00 & 0.000000e+00 & 5.55515e-05  & 0.0000000000 & 0            & 0            & 0            & 0            & ...          & 0            & 0            & 0            & 0            & 0            & 0            & 0            & 0            & 0            & 0           \\\\\n",
       "\t 0.000000e+00 & 0.000000e+00 & 0.000000e+00 & 0.000000e+00 & 0.00000e+00  & 0.0001671196 & 0            & 0            & 0            & 0            & ...          & 0            & 0            & 0            & 0            & 0            & 0            & 0            & 0            & 0            & 0           \\\\\n",
       "\\end{tabular}\n"
      ],
      "text/markdown": [
       "\n",
       "| 1.563274e-10 | 0.000000e+00 | 0.000000e+00 | 0.000000e+00 | 0.00000e+00  | 0.0000000000 | 0            | 0            | 0            | 0            | ...          | 0            | 0            | 0            | 0            | 0            | 0            | 0            | 0            | 0            | 0            | \n",
       "| 0.000000e+00 | 1.606533e-08 | 0.000000e+00 | 0.000000e+00 | 0.00000e+00  | 0.0000000000 | 0            | 0            | 0            | 0            | ...          | 0            | 0            | 0            | 0            | 0            | 0            | 0            | 0            | 0            | 0            | \n",
       "| 0.000000e+00 | 0.000000e+00 | 4.975959e-06 | 0.000000e+00 | 0.00000e+00  | 0.0000000000 | 0            | 0            | 0            | 0            | ...          | 0            | 0            | 0            | 0            | 0            | 0            | 0            | 0            | 0            | 0            | \n",
       "| 0.000000e+00 | 0.000000e+00 | 0.000000e+00 | 1.954601e-05 | 0.00000e+00  | 0.0000000000 | 0            | 0            | 0            | 0            | ...          | 0            | 0            | 0            | 0            | 0            | 0            | 0            | 0            | 0            | 0            | \n",
       "| 0.000000e+00 | 0.000000e+00 | 0.000000e+00 | 0.000000e+00 | 5.55515e-05  | 0.0000000000 | 0            | 0            | 0            | 0            | ...          | 0            | 0            | 0            | 0            | 0            | 0            | 0            | 0            | 0            | 0            | \n",
       "| 0.000000e+00 | 0.000000e+00 | 0.000000e+00 | 0.000000e+00 | 0.00000e+00  | 0.0001671196 | 0            | 0            | 0            | 0            | ...          | 0            | 0            | 0            | 0            | 0            | 0            | 0            | 0            | 0            | 0            | \n",
       "\n",
       "\n"
      ],
      "text/plain": [
       "     [,1]         [,2]         [,3]         [,4]         [,5]       \n",
       "[1,] 1.563274e-10 0.000000e+00 0.000000e+00 0.000000e+00 0.00000e+00\n",
       "[2,] 0.000000e+00 1.606533e-08 0.000000e+00 0.000000e+00 0.00000e+00\n",
       "[3,] 0.000000e+00 0.000000e+00 4.975959e-06 0.000000e+00 0.00000e+00\n",
       "[4,] 0.000000e+00 0.000000e+00 0.000000e+00 1.954601e-05 0.00000e+00\n",
       "[5,] 0.000000e+00 0.000000e+00 0.000000e+00 0.000000e+00 5.55515e-05\n",
       "[6,] 0.000000e+00 0.000000e+00 0.000000e+00 0.000000e+00 0.00000e+00\n",
       "     [,6]         [,7] [,8] [,9] [,10] [,11] [,12] [,13] [,14] [,15] [,16]\n",
       "[1,] 0.0000000000 0    0    0    0     ...   0     0     0     0     0    \n",
       "[2,] 0.0000000000 0    0    0    0     ...   0     0     0     0     0    \n",
       "[3,] 0.0000000000 0    0    0    0     ...   0     0     0     0     0    \n",
       "[4,] 0.0000000000 0    0    0    0     ...   0     0     0     0     0    \n",
       "[5,] 0.0000000000 0    0    0    0     ...   0     0     0     0     0    \n",
       "[6,] 0.0001671196 0    0    0    0     ...   0     0     0     0     0    \n",
       "     [,17] [,18] [,19] [,20] [,21]\n",
       "[1,] 0     0     0     0     0    \n",
       "[2,] 0     0     0     0     0    \n",
       "[3,] 0     0     0     0     0    \n",
       "[4,] 0     0     0     0     0    \n",
       "[5,] 0     0     0     0     0    \n",
       "[6,] 0     0     0     0     0    "
      ]
     },
     "metadata": {},
     "output_type": "display_data"
    },
    {
     "name": "stdout",
     "output_type": "stream",
     "text": [
      "Compute and print the pseudo inverse"
     ]
    },
    {
     "data": {
      "text/html": [
       "<table>\n",
       "<tbody>\n",
       "\t<tr><td> 0.279009094 </td><td> 0.032017061 </td><td>-0.02922976  </td><td>-0.03810027  </td><td>-0.02569104  </td><td>-0.001187728 </td><td>-0.090038601 </td><td>-0.0203608381</td><td>-0.01552567  </td><td> 0.00927926  </td><td>...          </td><td>-0.0225217956</td><td> 0.03831815  </td><td>-0.009204268 </td><td>-0.010706491 </td><td> 0.018733338 </td><td>-0.003381626 </td><td> 4.911627e-04</td><td> 9.978607e-06</td><td> 0.002844382 </td><td> 0.002026201 </td></tr>\n",
       "\t<tr><td> 0.032017061 </td><td> 0.259330680 </td><td>-0.10456679  </td><td>-0.03680758  </td><td>-0.02587653  </td><td>-0.008521736 </td><td> 0.058356130 </td><td>-0.0005464458</td><td> 0.05075683  </td><td>-0.13977579  </td><td>...          </td><td>-0.0109490016</td><td> 0.00592013  </td><td> 0.022319587 </td><td> 0.020514408 </td><td> 0.054653369 </td><td> 0.002390788 </td><td> 7.709612e-04</td><td>-7.000648e-06</td><td> 0.001335415 </td><td>-0.001085043 </td></tr>\n",
       "\t<tr><td>-0.029229757 </td><td>-0.104566791 </td><td> 0.38563204  </td><td>-0.03421768  </td><td>-0.03739297  </td><td>-0.060221614 </td><td> 0.001449259 </td><td>-0.0285536972</td><td>-0.01922845  </td><td> 0.06939692  </td><td>...          </td><td>-0.0091269267</td><td>-0.02884411  </td><td>-0.054290945 </td><td>-0.058561544 </td><td>-0.006622536 </td><td> 0.002554062 </td><td>-1.181299e-03</td><td> 2.121791e-05</td><td>-0.010136378 </td><td> 0.001693106 </td></tr>\n",
       "\t<tr><td>-0.038100267 </td><td>-0.036807583 </td><td>-0.03421768  </td><td> 0.15045412  </td><td> 0.02517432  </td><td>-0.019346258 </td><td> 0.002658671 </td><td>-0.0119456083</td><td>-0.02700146  </td><td> 0.05689494  </td><td>...          </td><td> 0.0001142092</td><td> 0.04863690  </td><td>-0.019829139 </td><td> 0.032393755 </td><td>-0.028632695 </td><td> 0.001295138 </td><td> 1.832868e-04</td><td>-2.231820e-05</td><td> 0.003897572 </td><td>-0.002799459 </td></tr>\n",
       "\t<tr><td>-0.025691045 </td><td>-0.025876529 </td><td>-0.03739297  </td><td> 0.02517432  </td><td> 0.14464281  </td><td>-0.012879046 </td><td>-0.002948240 </td><td>-0.0171578773</td><td>-0.02489916  </td><td> 0.07933525  </td><td>...          </td><td> 0.0372169109</td><td> 0.03795064  </td><td>-0.029423326 </td><td> 0.059538385 </td><td>-0.024175048 </td><td> 0.004283138 </td><td>-5.753411e-05</td><td>-2.387047e-05</td><td>-0.002066584 </td><td> 0.001979289 </td></tr>\n",
       "\t<tr><td>-0.001187728 </td><td>-0.008521736 </td><td>-0.06022161  </td><td>-0.01934626  </td><td>-0.01287905  </td><td> 0.267916768 </td><td>-0.036324019 </td><td>-0.0006795460</td><td> 0.00828184  </td><td>-0.01062345  </td><td>...          </td><td> 0.0147305168</td><td>-0.01928053  </td><td> 0.179197966 </td><td> 0.002938958 </td><td> 0.003371301 </td><td> 0.002737700 </td><td> 3.097166e-04</td><td> 8.897565e-06</td><td>-0.001865580 </td><td> 0.001497249 </td></tr>\n",
       "</tbody>\n",
       "</table>\n"
      ],
      "text/latex": [
       "\\begin{tabular}{lllllllllllllllllllllllllllllllllllllllllllllllllllllllllll}\n",
       "\t  0.279009094  &  0.032017061  & -0.02922976   & -0.03810027   & -0.02569104   & -0.001187728  & -0.090038601  & -0.0203608381 & -0.01552567   &  0.00927926   & ...           & -0.0225217956 &  0.03831815   & -0.009204268  & -0.010706491  &  0.018733338  & -0.003381626  &  4.911627e-04 &  9.978607e-06 &  0.002844382  &  0.002026201 \\\\\n",
       "\t  0.032017061  &  0.259330680  & -0.10456679   & -0.03680758   & -0.02587653   & -0.008521736  &  0.058356130  & -0.0005464458 &  0.05075683   & -0.13977579   & ...           & -0.0109490016 &  0.00592013   &  0.022319587  &  0.020514408  &  0.054653369  &  0.002390788  &  7.709612e-04 & -7.000648e-06 &  0.001335415  & -0.001085043 \\\\\n",
       "\t -0.029229757  & -0.104566791  &  0.38563204   & -0.03421768   & -0.03739297   & -0.060221614  &  0.001449259  & -0.0285536972 & -0.01922845   &  0.06939692   & ...           & -0.0091269267 & -0.02884411   & -0.054290945  & -0.058561544  & -0.006622536  &  0.002554062  & -1.181299e-03 &  2.121791e-05 & -0.010136378  &  0.001693106 \\\\\n",
       "\t -0.038100267  & -0.036807583  & -0.03421768   &  0.15045412   &  0.02517432   & -0.019346258  &  0.002658671  & -0.0119456083 & -0.02700146   &  0.05689494   & ...           &  0.0001142092 &  0.04863690   & -0.019829139  &  0.032393755  & -0.028632695  &  0.001295138  &  1.832868e-04 & -2.231820e-05 &  0.003897572  & -0.002799459 \\\\\n",
       "\t -0.025691045  & -0.025876529  & -0.03739297   &  0.02517432   &  0.14464281   & -0.012879046  & -0.002948240  & -0.0171578773 & -0.02489916   &  0.07933525   & ...           &  0.0372169109 &  0.03795064   & -0.029423326  &  0.059538385  & -0.024175048  &  0.004283138  & -5.753411e-05 & -2.387047e-05 & -0.002066584  &  0.001979289 \\\\\n",
       "\t -0.001187728  & -0.008521736  & -0.06022161   & -0.01934626   & -0.01287905   &  0.267916768  & -0.036324019  & -0.0006795460 &  0.00828184   & -0.01062345   & ...           &  0.0147305168 & -0.01928053   &  0.179197966  &  0.002938958  &  0.003371301  &  0.002737700  &  3.097166e-04 &  8.897565e-06 & -0.001865580  &  0.001497249 \\\\\n",
       "\\end{tabular}\n"
      ],
      "text/markdown": [
       "\n",
       "|  0.279009094  |  0.032017061  | -0.02922976   | -0.03810027   | -0.02569104   | -0.001187728  | -0.090038601  | -0.0203608381 | -0.01552567   |  0.00927926   | ...           | -0.0225217956 |  0.03831815   | -0.009204268  | -0.010706491  |  0.018733338  | -0.003381626  |  4.911627e-04 |  9.978607e-06 |  0.002844382  |  0.002026201  | \n",
       "|  0.032017061  |  0.259330680  | -0.10456679   | -0.03680758   | -0.02587653   | -0.008521736  |  0.058356130  | -0.0005464458 |  0.05075683   | -0.13977579   | ...           | -0.0109490016 |  0.00592013   |  0.022319587  |  0.020514408  |  0.054653369  |  0.002390788  |  7.709612e-04 | -7.000648e-06 |  0.001335415  | -0.001085043  | \n",
       "| -0.029229757  | -0.104566791  |  0.38563204   | -0.03421768   | -0.03739297   | -0.060221614  |  0.001449259  | -0.0285536972 | -0.01922845   |  0.06939692   | ...           | -0.0091269267 | -0.02884411   | -0.054290945  | -0.058561544  | -0.006622536  |  0.002554062  | -1.181299e-03 |  2.121791e-05 | -0.010136378  |  0.001693106  | \n",
       "| -0.038100267  | -0.036807583  | -0.03421768   |  0.15045412   |  0.02517432   | -0.019346258  |  0.002658671  | -0.0119456083 | -0.02700146   |  0.05689494   | ...           |  0.0001142092 |  0.04863690   | -0.019829139  |  0.032393755  | -0.028632695  |  0.001295138  |  1.832868e-04 | -2.231820e-05 |  0.003897572  | -0.002799459  | \n",
       "| -0.025691045  | -0.025876529  | -0.03739297   |  0.02517432   |  0.14464281   | -0.012879046  | -0.002948240  | -0.0171578773 | -0.02489916   |  0.07933525   | ...           |  0.0372169109 |  0.03795064   | -0.029423326  |  0.059538385  | -0.024175048  |  0.004283138  | -5.753411e-05 | -2.387047e-05 | -0.002066584  |  0.001979289  | \n",
       "| -0.001187728  | -0.008521736  | -0.06022161   | -0.01934626   | -0.01287905   |  0.267916768  | -0.036324019  | -0.0006795460 |  0.00828184   | -0.01062345   | ...           |  0.0147305168 | -0.01928053   |  0.179197966  |  0.002938958  |  0.003371301  |  0.002737700  |  3.097166e-04 |  8.897565e-06 | -0.001865580  |  0.001497249  | \n",
       "\n",
       "\n"
      ],
      "text/plain": [
       "     [,1]         [,2]         [,3]        [,4]        [,5]        [,6]        \n",
       "[1,]  0.279009094  0.032017061 -0.02922976 -0.03810027 -0.02569104 -0.001187728\n",
       "[2,]  0.032017061  0.259330680 -0.10456679 -0.03680758 -0.02587653 -0.008521736\n",
       "[3,] -0.029229757 -0.104566791  0.38563204 -0.03421768 -0.03739297 -0.060221614\n",
       "[4,] -0.038100267 -0.036807583 -0.03421768  0.15045412  0.02517432 -0.019346258\n",
       "[5,] -0.025691045 -0.025876529 -0.03739297  0.02517432  0.14464281 -0.012879046\n",
       "[6,] -0.001187728 -0.008521736 -0.06022161 -0.01934626 -0.01287905  0.267916768\n",
       "     [,7]         [,8]          [,9]        [,10]       [,11] [,12]        \n",
       "[1,] -0.090038601 -0.0203608381 -0.01552567  0.00927926 ...   -0.0225217956\n",
       "[2,]  0.058356130 -0.0005464458  0.05075683 -0.13977579 ...   -0.0109490016\n",
       "[3,]  0.001449259 -0.0285536972 -0.01922845  0.06939692 ...   -0.0091269267\n",
       "[4,]  0.002658671 -0.0119456083 -0.02700146  0.05689494 ...    0.0001142092\n",
       "[5,] -0.002948240 -0.0171578773 -0.02489916  0.07933525 ...    0.0372169109\n",
       "[6,] -0.036324019 -0.0006795460  0.00828184 -0.01062345 ...    0.0147305168\n",
       "     [,13]       [,14]        [,15]        [,16]        [,17]       \n",
       "[1,]  0.03831815 -0.009204268 -0.010706491  0.018733338 -0.003381626\n",
       "[2,]  0.00592013  0.022319587  0.020514408  0.054653369  0.002390788\n",
       "[3,] -0.02884411 -0.054290945 -0.058561544 -0.006622536  0.002554062\n",
       "[4,]  0.04863690 -0.019829139  0.032393755 -0.028632695  0.001295138\n",
       "[5,]  0.03795064 -0.029423326  0.059538385 -0.024175048  0.004283138\n",
       "[6,] -0.01928053  0.179197966  0.002938958  0.003371301  0.002737700\n",
       "     [,18]         [,19]         [,20]        [,21]       \n",
       "[1,]  4.911627e-04  9.978607e-06  0.002844382  0.002026201\n",
       "[2,]  7.709612e-04 -7.000648e-06  0.001335415 -0.001085043\n",
       "[3,] -1.181299e-03  2.121791e-05 -0.010136378  0.001693106\n",
       "[4,]  1.832868e-04 -2.231820e-05  0.003897572 -0.002799459\n",
       "[5,] -5.753411e-05 -2.387047e-05 -0.002066584  0.001979289\n",
       "[6,]  3.097166e-04  8.897565e-06 -0.001865580  0.001497249"
      ]
     },
     "metadata": {},
     "output_type": "display_data"
    },
    {
     "name": "stdout",
     "output_type": "stream",
     "text": [
      "Compute and print the dimensions of the matrix MInvM"
     ]
    },
    {
     "data": {
      "text/html": [
       "<table>\n",
       "<thead><tr><th scope=col>1</th><th scope=col>2</th><th scope=col>3</th><th scope=col>4</th><th scope=col>5</th><th scope=col>6</th><th scope=col>7</th><th scope=col>8</th><th scope=col>9</th><th scope=col>10</th><th scope=col>...</th><th scope=col>186</th><th scope=col>187</th><th scope=col>188</th><th scope=col>189</th><th scope=col>190</th><th scope=col>191</th><th scope=col>192</th><th scope=col>193</th><th scope=col>194</th><th scope=col>195</th></tr></thead>\n",
       "<tbody>\n",
       "\t<tr><td> 0.015960098</td><td> 0.015960098</td><td> 0.023319818</td><td> 0.24276961 </td><td> 0.129834903</td><td> 0.110885432</td><td> 0.095718728</td><td> 0.105967413</td><td> 0.111210472</td><td> 0.00451494 </td><td>...         </td><td>-0.001567908</td><td>-0.006007487</td><td> 0.001786216</td><td>-0.003584590</td><td> 0.004527701</td><td> 0.004131228</td><td> 0.019399757</td><td> 0.004119518</td><td>-0.004180435</td><td>-0.004660092</td></tr>\n",
       "\t<tr><td>-0.001203162</td><td>-0.001203162</td><td>-0.004152711</td><td> 0.04099443 </td><td>-0.012529405</td><td>-0.026870384</td><td>-0.013988373</td><td> 0.007227189</td><td> 0.017362066</td><td> 0.18118645 </td><td>...         </td><td>-0.011056919</td><td>-0.021935665</td><td>-0.009146492</td><td> 0.015672041</td><td> 0.028820596</td><td>-0.003198867</td><td> 0.018016489</td><td>-0.028006802</td><td>-0.053862606</td><td>-0.015042962</td></tr>\n",
       "\t<tr><td> 0.019913427</td><td> 0.019913427</td><td> 0.052496052</td><td> 0.02742170 </td><td>-0.038556391</td><td>-0.008701956</td><td> 0.007040355</td><td>-0.002216524</td><td>-0.011617643</td><td>-0.03532790 </td><td>...         </td><td>-0.009108152</td><td>-0.015514996</td><td>-0.019570038</td><td>-0.012298664</td><td>-0.016557148</td><td>-0.024168255</td><td>-0.035974855</td><td>-0.016087210</td><td> 0.053356533</td><td> 0.022303105</td></tr>\n",
       "\t<tr><td> 0.030897202</td><td> 0.030897202</td><td> 0.004462538</td><td>-0.04493100 </td><td> 0.012743152</td><td>-0.009254610</td><td> 0.001586518</td><td>-0.020331702</td><td>-0.021327417</td><td>-0.01563491 </td><td>...         </td><td> 0.006320512</td><td> 0.025997730</td><td> 0.010049885</td><td>-0.005745864</td><td>-0.021798833</td><td>-0.001588940</td><td>-0.030375421</td><td> 0.015148738</td><td>-0.014702007</td><td>-0.040633288</td></tr>\n",
       "\t<tr><td> 0.024850933</td><td> 0.024850933</td><td>-0.016770161</td><td>-0.04051842 </td><td>-0.008451225</td><td>-0.012088065</td><td>-0.009070222</td><td>-0.013744882</td><td>-0.006919607</td><td>-0.01692692 </td><td>...         </td><td>-0.010346398</td><td>-0.005259175</td><td>-0.012583039</td><td> 0.002525091</td><td>-0.004905059</td><td>-0.008401290</td><td> 0.006804126</td><td> 0.015504408</td><td>-0.013360746</td><td> 0.009890468</td></tr>\n",
       "\t<tr><td>-0.037773987</td><td>-0.037773987</td><td>-0.024034100</td><td> 0.01844441 </td><td>-0.018509371</td><td> 0.008969123</td><td>-0.004945537</td><td> 0.009963194</td><td> 0.010677317</td><td>-0.02737243 </td><td>...         </td><td>-0.011396038</td><td>-0.025921950</td><td>-0.013330188</td><td>-0.004264504</td><td> 0.008284401</td><td>-0.011852801</td><td> 0.015336061</td><td>-0.015778879</td><td> 0.010621362</td><td> 0.004229700</td></tr>\n",
       "</tbody>\n",
       "</table>\n"
      ],
      "text/latex": [
       "\\begin{tabular}{lllllllllllllllllllllllllllllllllllllllllllllllllllllllllllllllllllllllllllllllllllllllllllllllllllllllllllllllllllllllllllllllllllllllllllllllllllllllllllllllllllllllllllllllllllllllllllllllllll}\n",
       " 1 & 2 & 3 & 4 & 5 & 6 & 7 & 8 & 9 & 10 & ... & 186 & 187 & 188 & 189 & 190 & 191 & 192 & 193 & 194 & 195\\\\\n",
       "\\hline\n",
       "\t  0.015960098 &  0.015960098 &  0.023319818 &  0.24276961  &  0.129834903 &  0.110885432 &  0.095718728 &  0.105967413 &  0.111210472 &  0.00451494  & ...          & -0.001567908 & -0.006007487 &  0.001786216 & -0.003584590 &  0.004527701 &  0.004131228 &  0.019399757 &  0.004119518 & -0.004180435 & -0.004660092\\\\\n",
       "\t -0.001203162 & -0.001203162 & -0.004152711 &  0.04099443  & -0.012529405 & -0.026870384 & -0.013988373 &  0.007227189 &  0.017362066 &  0.18118645  & ...          & -0.011056919 & -0.021935665 & -0.009146492 &  0.015672041 &  0.028820596 & -0.003198867 &  0.018016489 & -0.028006802 & -0.053862606 & -0.015042962\\\\\n",
       "\t  0.019913427 &  0.019913427 &  0.052496052 &  0.02742170  & -0.038556391 & -0.008701956 &  0.007040355 & -0.002216524 & -0.011617643 & -0.03532790  & ...          & -0.009108152 & -0.015514996 & -0.019570038 & -0.012298664 & -0.016557148 & -0.024168255 & -0.035974855 & -0.016087210 &  0.053356533 &  0.022303105\\\\\n",
       "\t  0.030897202 &  0.030897202 &  0.004462538 & -0.04493100  &  0.012743152 & -0.009254610 &  0.001586518 & -0.020331702 & -0.021327417 & -0.01563491  & ...          &  0.006320512 &  0.025997730 &  0.010049885 & -0.005745864 & -0.021798833 & -0.001588940 & -0.030375421 &  0.015148738 & -0.014702007 & -0.040633288\\\\\n",
       "\t  0.024850933 &  0.024850933 & -0.016770161 & -0.04051842  & -0.008451225 & -0.012088065 & -0.009070222 & -0.013744882 & -0.006919607 & -0.01692692  & ...          & -0.010346398 & -0.005259175 & -0.012583039 &  0.002525091 & -0.004905059 & -0.008401290 &  0.006804126 &  0.015504408 & -0.013360746 &  0.009890468\\\\\n",
       "\t -0.037773987 & -0.037773987 & -0.024034100 &  0.01844441  & -0.018509371 &  0.008969123 & -0.004945537 &  0.009963194 &  0.010677317 & -0.02737243  & ...          & -0.011396038 & -0.025921950 & -0.013330188 & -0.004264504 &  0.008284401 & -0.011852801 &  0.015336061 & -0.015778879 &  0.010621362 &  0.004229700\\\\\n",
       "\\end{tabular}\n"
      ],
      "text/markdown": [
       "\n",
       "1 | 2 | 3 | 4 | 5 | 6 | 7 | 8 | 9 | 10 | ... | 186 | 187 | 188 | 189 | 190 | 191 | 192 | 193 | 194 | 195 | \n",
       "|---|---|---|---|---|---|\n",
       "|  0.015960098 |  0.015960098 |  0.023319818 |  0.24276961  |  0.129834903 |  0.110885432 |  0.095718728 |  0.105967413 |  0.111210472 |  0.00451494  | ...          | -0.001567908 | -0.006007487 |  0.001786216 | -0.003584590 |  0.004527701 |  0.004131228 |  0.019399757 |  0.004119518 | -0.004180435 | -0.004660092 | \n",
       "| -0.001203162 | -0.001203162 | -0.004152711 |  0.04099443  | -0.012529405 | -0.026870384 | -0.013988373 |  0.007227189 |  0.017362066 |  0.18118645  | ...          | -0.011056919 | -0.021935665 | -0.009146492 |  0.015672041 |  0.028820596 | -0.003198867 |  0.018016489 | -0.028006802 | -0.053862606 | -0.015042962 | \n",
       "|  0.019913427 |  0.019913427 |  0.052496052 |  0.02742170  | -0.038556391 | -0.008701956 |  0.007040355 | -0.002216524 | -0.011617643 | -0.03532790  | ...          | -0.009108152 | -0.015514996 | -0.019570038 | -0.012298664 | -0.016557148 | -0.024168255 | -0.035974855 | -0.016087210 |  0.053356533 |  0.022303105 | \n",
       "|  0.030897202 |  0.030897202 |  0.004462538 | -0.04493100  |  0.012743152 | -0.009254610 |  0.001586518 | -0.020331702 | -0.021327417 | -0.01563491  | ...          |  0.006320512 |  0.025997730 |  0.010049885 | -0.005745864 | -0.021798833 | -0.001588940 | -0.030375421 |  0.015148738 | -0.014702007 | -0.040633288 | \n",
       "|  0.024850933 |  0.024850933 | -0.016770161 | -0.04051842  | -0.008451225 | -0.012088065 | -0.009070222 | -0.013744882 | -0.006919607 | -0.01692692  | ...          | -0.010346398 | -0.005259175 | -0.012583039 |  0.002525091 | -0.004905059 | -0.008401290 |  0.006804126 |  0.015504408 | -0.013360746 |  0.009890468 | \n",
       "| -0.037773987 | -0.037773987 | -0.024034100 |  0.01844441  | -0.018509371 |  0.008969123 | -0.004945537 |  0.009963194 |  0.010677317 | -0.02737243  | ...          | -0.011396038 | -0.025921950 | -0.013330188 | -0.004264504 |  0.008284401 | -0.011852801 |  0.015336061 | -0.015778879 |  0.010621362 |  0.004229700 | \n",
       "\n",
       "\n"
      ],
      "text/plain": [
       "     1            2            3            4           5           \n",
       "[1,]  0.015960098  0.015960098  0.023319818  0.24276961  0.129834903\n",
       "[2,] -0.001203162 -0.001203162 -0.004152711  0.04099443 -0.012529405\n",
       "[3,]  0.019913427  0.019913427  0.052496052  0.02742170 -0.038556391\n",
       "[4,]  0.030897202  0.030897202  0.004462538 -0.04493100  0.012743152\n",
       "[5,]  0.024850933  0.024850933 -0.016770161 -0.04051842 -0.008451225\n",
       "[6,] -0.037773987 -0.037773987 -0.024034100  0.01844441 -0.018509371\n",
       "     6            7            8            9            10          ...\n",
       "[1,]  0.110885432  0.095718728  0.105967413  0.111210472  0.00451494 ...\n",
       "[2,] -0.026870384 -0.013988373  0.007227189  0.017362066  0.18118645 ...\n",
       "[3,] -0.008701956  0.007040355 -0.002216524 -0.011617643 -0.03532790 ...\n",
       "[4,] -0.009254610  0.001586518 -0.020331702 -0.021327417 -0.01563491 ...\n",
       "[5,] -0.012088065 -0.009070222 -0.013744882 -0.006919607 -0.01692692 ...\n",
       "[6,]  0.008969123 -0.004945537  0.009963194  0.010677317 -0.02737243 ...\n",
       "     186          187          188          189          190         \n",
       "[1,] -0.001567908 -0.006007487  0.001786216 -0.003584590  0.004527701\n",
       "[2,] -0.011056919 -0.021935665 -0.009146492  0.015672041  0.028820596\n",
       "[3,] -0.009108152 -0.015514996 -0.019570038 -0.012298664 -0.016557148\n",
       "[4,]  0.006320512  0.025997730  0.010049885 -0.005745864 -0.021798833\n",
       "[5,] -0.010346398 -0.005259175 -0.012583039  0.002525091 -0.004905059\n",
       "[6,] -0.011396038 -0.025921950 -0.013330188 -0.004264504  0.008284401\n",
       "     191          192          193          194          195         \n",
       "[1,]  0.004131228  0.019399757  0.004119518 -0.004180435 -0.004660092\n",
       "[2,] -0.003198867  0.018016489 -0.028006802 -0.053862606 -0.015042962\n",
       "[3,] -0.024168255 -0.035974855 -0.016087210  0.053356533  0.022303105\n",
       "[4,] -0.001588940 -0.030375421  0.015148738 -0.014702007 -0.040633288\n",
       "[5,] -0.008401290  0.006804126  0.015504408 -0.013360746  0.009890468\n",
       "[6,] -0.011852801  0.015336061 -0.015778879  0.010621362  0.004229700"
      ]
     },
     "metadata": {},
     "output_type": "display_data"
    },
    {
     "data": {
      "text/html": [
       "<ol class=list-inline>\n",
       "\t<li>59</li>\n",
       "\t<li>195</li>\n",
       "</ol>\n"
      ],
      "text/latex": [
       "\\begin{enumerate*}\n",
       "\\item 59\n",
       "\\item 195\n",
       "\\end{enumerate*}\n"
      ],
      "text/markdown": [
       "1. 59\n",
       "2. 195\n",
       "\n",
       "\n"
      ],
      "text/plain": [
       "[1]  59 195"
      ]
     },
     "metadata": {},
     "output_type": "display_data"
    },
    {
     "data": {
      "text/html": [
       "<ol class=list-inline>\n",
       "\t<li>59</li>\n",
       "\t<li>1</li>\n",
       "</ol>\n"
      ],
      "text/latex": [
       "\\begin{enumerate*}\n",
       "\\item 59\n",
       "\\item 1\n",
       "\\end{enumerate*}\n"
      ],
      "text/markdown": [
       "1. 59\n",
       "2. 1\n",
       "\n",
       "\n"
      ],
      "text/plain": [
       "[1] 59  1"
      ]
     },
     "metadata": {},
     "output_type": "display_data"
    },
    {
     "name": "stderr",
     "output_type": "stream",
     "text": [
      "`stat_bin()` using `bins = 30`. Pick better value with `binwidth`.\n"
     ]
    },
    {
     "data": {
      "image/png": "[encoded data removed]",
      "text/plain": [
       "Plot with title \"Normal Q-Q Plot\""
      ]
     },
     "metadata": {},
     "output_type": "display_data"
    },
    {
     "data": {
      "image/png": "[encoded data removed]",
      "text/plain": [
       "plot without title"
      ]
     },
     "metadata": {},
     "output_type": "display_data"
    },
    {
     "name": "stdout",
     "output_type": "stream",
     "text": [
      "SSE = 185.919264474275 \n",
      "SSR = 8.08073552572465 \n",
      "SST = 194 \n",
      "RMSE = 0.963312251162048 \n",
      "Adjusted R^2 = 0.957469813022502 \n"
     ]
    },
    {
     "data": {
      "image/png": "[encoded data removed]",
      "text/plain": [
       "plot without title"
      ]
     },
     "metadata": {},
     "output_type": "display_data"
    }
   ],
   "source": [
    "# Apply Singular Value Decomposition using Pseudo Inverse.\n",
    "# This data frame consists of number of catgegorical variables,in order to work with a model matrix we first need to convert these categorical \n",
    "#variables into binary indicator variables.\n",
    "mod.mat = model.matrix(normalized_zprice ~ . -price, data = auto.price)\n",
    "# Remove intercept\n",
    "mod_withoutintercept.mat <- mod.mat[1:195,-1]\n",
    "M = as.matrix(mod_withoutintercept.mat)\n",
    "head(M)\n",
    "MTM = t(M) %*% M\n",
    "head(MTM)\n",
    "dim(MTM)\n",
    "#compute the SVD of model matrix M (195 * 60)\n",
    "# Examine the singular values and in the process check for \"Rank Deficiency\".\n",
    "mSVD <- svd(MTM)\n",
    "#Validate whether singular vectors are orthogonal.\n",
    "uOrth <- t(mSVD$u) %*% mSVD$u\n",
    "vOrth <- mSVD$v %*% t(mSVD$v)\n",
    "uOrthSingLeftVector <- mSVD$u\n",
    "vOrthSingRightVector <- mSVD$v\n",
    "diagSDV <- mSVD$d\n",
    "diagSDV\n",
    "#By looking at singlular values we can now deduce that this matrix is rank deficient with 15 values (45 - 59) below zero.\n",
    "# Let us now compute the pseudo inverse of MTM matrix.\n",
    "cat('Compute and print the inverse singular value matrix')\n",
    "d.trim = rep(0, 59)\n",
    "d.trim[1:44] =1/ mSVD$d[1:44]\n",
    "mD = diag(d.trim)\n",
    "head(mD)\n",
    "cat('Compute and print the pseudo inverse')\n",
    "mInv = mSVD$v %*% mD %*% t(mSVD$u)\n",
    "head(mInv)\n",
    "cat('Compute and print the dimensions of the matrix MInvM')\n",
    "MInvM = mInv %*% t(M)\n",
    "head(MInvM)\n",
    "dim(MInvM)\n",
    "\n",
    "# Compute the vector of model coefficients by multiplying MInvM with normalized auto price.\n",
    "b <- MInvM %*% auto.price$normalized_zprice\n",
    "dim(b)\n",
    "\n",
    "# Now we can evaluate the model using this vector of model coefficient.\n",
    "auto.price$score = M %*% b + mean(auto.price$normalized_zprice)\n",
    "auto.price$resids = auto.price$score - auto.price$normalized_zprice\n",
    "\n",
    "require(repr)\n",
    "options(repr.pmales.extlot.width=8, repr.plot.height=4)\n",
    "\n",
    "plot.svd.reg <- function(df, k = 4){\n",
    "  require(ggplot2)\n",
    "  require(gridExtra)\n",
    "  \n",
    "  p1 <- ggplot(df) + \n",
    "    geom_point(aes(score, resids), size = 2) + \n",
    "    stat_smooth(aes(score, resids)) +\n",
    "    ggtitle('Residuals vs. fitted values')\n",
    "  \n",
    "  p2 <- ggplot(df, aes(resids)) +\n",
    "    geom_histogram(aes(y = ..density..)) +\n",
    "    geom_density(color = 'red', fill = 'red', alpha = 0.2) +\n",
    "    ggtitle('Histogram of residuals')\n",
    "  \n",
    "  qqnorm(df$resids)\n",
    "  \n",
    "  grid.arrange(p1, p2, ncol = 2)\n",
    "  \n",
    "  df$std.resids = sqrt((df$resids - mean(df$resids))^2)  \n",
    "  \n",
    "   p3 = ggplot(df) + \n",
    "    geom_point(aes(score, std.resids), size = 2) + \n",
    "    stat_smooth(aes(score, std.resids)) +\n",
    "    ggtitle('Standardized residuals vs. fitted values')\n",
    "  print(p3) \n",
    "  \n",
    "  n = nrow(df)\n",
    "  Ybar = mean(df$normalized_zprice)\n",
    "  SST <- sum((df$normalized_zprice - Ybar)^2)\n",
    "  SSR <- sum(df$resids * df$resids)\n",
    "  SSE = SST - SSR\n",
    "  cat(paste('SSE =', as.character(SSE), '\\n'))\n",
    "  cat(paste('SSR =', as.character(SSR), '\\n'))\n",
    "  cat(paste('SST =', as.character(SSE + SSR), '\\n'))\n",
    "  cat(paste('RMSE =', as.character(SSE/(n - 2)), '\\n'))\n",
    "  \n",
    "  adjR2  <- 1.0 - (SSR/SST) * ((n - 1)/(n - k - 1))\n",
    "  cat(paste('Adjusted R^2 =', as.character(adjR2)), '\\n')\n",
    "}\n",
    "\n",
    "plot.svd.reg(auto.price)"
   ]
  },
  {
   "cell_type": "markdown",
   "metadata": {},
   "source": [
    "## Elastic Net Regression\n",
    "* Herein we are giving equal weight to L1(Lasso) and L2(Euclidean) regulairization."
   ]
  },
  {
   "cell_type": "code",
   "execution_count": 46,
   "metadata": {
    "collapsed": false
   },
   "outputs": [
    {
     "data": {
      "image/png": "[encoded data removed]",
      "text/plain": [
       "plot without title"
      ]
     },
     "metadata": {},
     "output_type": "display_data"
    },
    {
     "data": {
      "image/png": "[encoded data removed]",
      "text/plain": [
       "plot without title"
      ]
     },
     "metadata": {},
     "output_type": "display_data"
    },
    {
     "name": "stderr",
     "output_type": "stream",
     "text": [
      "`stat_bin()` using `bins = 30`. Pick better value with `binwidth`.\n"
     ]
    },
    {
     "data": {
      "image/png": "[encoded data removed]",
      "text/plain": [
       "Plot with title \"Normal Q-Q Plot\""
      ]
     },
     "metadata": {},
     "output_type": "display_data"
    },
    {
     "data": {
      "image/png": "[encoded data removed]",
      "text/plain": [
       "plot without title"
      ]
     },
     "metadata": {},
     "output_type": "display_data"
    },
    {
     "name": "stdout",
     "output_type": "stream",
     "text": [
      "SSE = 187.455254067312 \n",
      "SSR = 6.54474593268768 \n",
      "SST = 194 \n",
      "RMSE = 0.971270746462758 \n",
      "Adjusted R^2 = 0.965553968775328 \n"
     ]
    },
    {
     "data": {
      "image/png": "[encoded data removed]",
      "text/plain": [
       "plot without title"
      ]
     },
     "metadata": {},
     "output_type": "display_data"
    }
   ],
   "source": [
    "#Elastic Net Regression.\n",
    "require(glmnet)\n",
    "b = as.matrix(auto.price$normalized_zprice)\n",
    "mod.ridge = glmnet(M, b, family = 'gaussian', nlambda = 20, alpha = .5)\n",
    "plot(mod.ridge, xvar = 'lambda', label = TRUE)\n",
    "plot(mod.ridge, xvar = 'dev', label = TRUE)\n",
    "\n",
    "#Let us now evaluate the model created by elastice net regression by calculating the score using predict function.\n",
    "\n",
    "auto.price$score = predict(mod.ridge, newx = M)[, 20]\n",
    "auto.price$resids = auto.price$score - auto.price$normalized_zprice\n",
    "\n",
    "plot.svd.reg(auto.price)"
   ]
  }
 ],
 "metadata": {
  "anaconda-cloud": {},
  "kernelspec": {
   "display_name": "R",
   "language": "R",
   "name": "ir"
  },
  "language_info": {
   "codemirror_mode": "r",
   "file_extension": ".r",
   "mimetype": "text/x-r-source",
   "name": "R",
   "pygments_lexer": "r",
   "version": "3.3.1"
  }
 },
 "nbformat": 4,
 "nbformat_minor": 1
}
