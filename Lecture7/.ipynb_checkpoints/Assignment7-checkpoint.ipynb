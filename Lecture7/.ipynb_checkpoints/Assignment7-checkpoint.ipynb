{
 "cells": [
  {
   "cell_type": "markdown",
   "metadata": {},
   "source": [
    "# Assignment # 7 : Compare Linear Regression Models.\n",
    "## Data Science 350\n",
    "In this assignment I am analysing three linear regression models, wherein I am trying to predict the price of an autombile based on the features provided in the dataset. My goal here is to see evaluate and compare these models on their statistics and in the process also create plots to visually demonstrate the working of the model.\n",
    "* Following libraries have been added for this assignment.\n",
    "    - dplyr\n",
    "    - repr\n",
    "    - MASS\n",
    "    - glmnet\n",
    "* At the start a linear model is created using **lm** function to predict the normalised price with all the features available in the data.\n",
    "    - Here are key statistics from this model. As you can see the model is **just too perfect(i.e overfitted)** with a *Residual standard error* of 0.2174 and *Adjusted R-Squared* of 0.9527. One reason for it being too perfect is the high number of coefficients(We have used all the features(# 23) in creating this model).\n",
    "        - Residual standard error: 0.2174 on 138 degrees of freedom\n",
    "        - Multiple R-squared: 0.9664\n",
    "        - **Adjusted R-squared: 0.9527** \n",
    "        - F-statistic: 70.82 on 56 and 138 DF\n",
    "        - **p-value: < 2.2e-16**\n",
    "    - Plot between residuals and fitted values is a normalized straight line with a value near zero.\n",
    "    - 6 observations have not been included in the model due to 3 singular coefficients.\n",
    "* On applying **STEP WISE REGRESSION** algorithm to this linear model we would see step wise removal of features based on lowest value of AIC.\n",
    "    - Following features have been **removed** as they do not have a major affect on the model.\n",
    "        - engine.location\n",
    "        - fuel.type\n",
    "        - drive.wheels\n",
    "        - num.of.doors\n",
    "        - city.mpg\n",
    "        - horsepower\n",
    "    - Following features are now used to create the model.\n",
    "        - make\n",
    "        - aspiration\n",
    "        - body.style\n",
    "        - wheel.base\n",
    "        - length\n",
    "        - width\n",
    "        - height\n",
    "        - curb.weight\n",
    "        - engine.type\n",
    "        - num.of.cylinders\n",
    "        - engine.size\n",
    "        - fuel.system\n",
    "        - bore\n",
    "        - stroke\n",
    "        - compression.ratio\n",
    "        - peak.rpm\n",
    "        - highway.mpg\n",
    "    - Here are key statistics from this model. You can see out of a total of 23 features, 6 features have been removed as part of STEPS wise regression, we still have a very fitted model, however we are now using **25 % fewer features**.\n",
    "        - Residual standard error: 0.2137 on 144 degrees of freedom\n",
    "        - Multiple R-squared: 0.9661\n",
    "        - **Adjusted R-squared: 0.9543** \n",
    "        - F-statistic: 82.05 on 50 and 144 DF\n",
    "        - **p-value: < 2.2e-16**\n",
    "    - Plot between residuals and fitted values is a normalized straight line with a value near zero, all the plots as expected are very similar to the initial liner model.\n",
    "* Applying **Singular Value Decomposition** algorithm on the dataset leads to following findings.\n",
    "    - This data frame consists of number of catgegorical variables,in order to work with a model matrix we first need to convert these categorical variables into binary indicator variables.\n",
    "    - Key Statistics are as follows. Our goal in this model was to minimize the SSR, a value of 9.939 would be considered a low number, an adjusted R2 of 0.9476 is on similar lines with *STEPWISE Regression & Inital Model*\n",
    "        - SSE = 184.060567659231 \n",
    "        - **SSR = 9.93943234076865** \n",
    "        - SST = 194 \n",
    "        - RMSE = 0.953681697716225 \n",
    "        - **Adjusted R^2 = 0.947687198206481**\n",
    "    - *SVD* would still be preferable as in *STEPWISE* once a feature is deleted, its out of consideration for good.\n",
    "* Applying **Elastic Net Regression** on the dataset leads to following conditions.\n",
    "    - Here are key statistics from this model, we are now using weighted combination of L1 & L2 regularization, i.e we are trying to apply both ridge and lasso algorithms. In this assignment I have used glmnet to apply system provided lambda 20 times.\n",
    "        - SSE = 187.460365395195 \n",
    "        - **SSR = 6.53963460480529** \n",
    "        - SST = 194 \n",
    "        - RMSE = 0.971297230026916 \n",
    "        - **Adjusted R^2 = 0.965580870501025** \n",
    "    -\n",
    "* All three regression alogrithms have returned almost identical adjusted R2 value which at a high level can be construed as a good indicator for model effectiveness. Between all three **<span style=\"color:red\">Elastic Net Regression would be considered the most effective algorithm with its low SSR and high adjusted R2</span>**."
   ]
  },
  {
   "cell_type": "markdown",
   "metadata": {},
   "source": [
    "## Function Description\n",
    "In this part of the function I am clearing all the objects, console, loading the the data from the csv file supplied in the assignment. In this process I am also removing any columns and rows with missing values."
   ]
  },
  {
   "cell_type": "code",
   "execution_count": 28,
   "metadata": {
    "collapsed": false
   },
   "outputs": [
    {
     "name": "stdout",
     "output_type": "stream",
     "text": [
      "\f"
     ]
    }
   ],
   "source": [
    "rm(list=ls())\n",
    "# Clear Console:\n",
    "cat(\"\\014\")\n",
    "library(dplyr)\n",
    "library(repr)\n",
    "read.auto = function(file = 'Automobile price data _Raw_.csv'){\n",
    "  ## Read the csv file\n",
    "  auto.price <- read.csv(file, header = TRUE, \n",
    "                         stringsAsFactors = FALSE)\n",
    "  \n",
    "  ## Coerce some character columns to numeric\n",
    "  numcols <- c('price', 'bore', 'stroke', 'horsepower', 'peak.rpm')\n",
    "  auto.price[, numcols] <- lapply(auto.price[, numcols], as.numeric)\n",
    "  \n",
    "  ## Remove columns or rows with missing values. In this case we keep the \n",
    "  ## rows which do not have nas. \n",
    "  auto.price[complete.cases(auto.price), ]\n",
    "}"
   ]
  },
  {
   "cell_type": "markdown",
   "metadata": {},
   "source": [
    "## Load and cleanse the file.\n",
    "Here I am using triplot function from LearnBayes package to visualize following observations.\n",
    "* Remove first two columns of symboling & normalized.losses."
   ]
  },
  {
   "cell_type": "code",
   "execution_count": 29,
   "metadata": {
    "collapsed": false
   },
   "outputs": [
    {
     "name": "stderr",
     "output_type": "stream",
     "text": [
      "Warning message in lapply(auto.price[, numcols], as.numeric):\n",
      "\"NAs introduced by coercion\"Warning message in lapply(auto.price[, numcols], as.numeric):\n",
      "\"NAs introduced by coercion\"Warning message in lapply(auto.price[, numcols], as.numeric):\n",
      "\"NAs introduced by coercion\"Warning message in lapply(auto.price[, numcols], as.numeric):\n",
      "\"NAs introduced by coercion\"Warning message in lapply(auto.price[, numcols], as.numeric):\n",
      "\"NAs introduced by coercion\""
     ]
    }
   ],
   "source": [
    "# Load and cleanse the csv file.\n",
    "auto.price = read.auto()\n",
    "#Remove first two columns of auto.price$symboling & auto.price$normalized.losses\n",
    "auto.price[1:2] <- list(NULL)\n",
    "#auto.price[] = lapply(auto.price[],as.numeric)"
   ]
  },
  {
   "cell_type": "markdown",
   "metadata": {
    "collapsed": false,
    "scrolled": true
   },
   "source": [
    "## Normalize the price data used for modelling.\n",
    "* I am using Z-score normalization to scale the data.\n",
    "* This new column is then added to the data frame using the mutate function of dplyr package."
   ]
  },
  {
   "cell_type": "code",
   "execution_count": 30,
   "metadata": {
    "collapsed": false
   },
   "outputs": [
    {
     "data": {
      "text/html": [
       "<ol class=list-inline>\n",
       "\t<li>195</li>\n",
       "\t<li>25</li>\n",
       "</ol>\n"
      ],
      "text/latex": [
       "\\begin{enumerate*}\n",
       "\\item 195\n",
       "\\item 25\n",
       "\\end{enumerate*}\n"
      ],
      "text/markdown": [
       "1. 195\n",
       "2. 25\n",
       "\n",
       "\n"
      ],
      "text/plain": [
       "[1] 195  25"
      ]
     },
     "metadata": {},
     "output_type": "display_data"
    },
    {
     "name": "stdout",
     "output_type": "stream",
     "text": [
      "'data.frame':\t195 obs. of  25 variables:\n",
      " $ make             : chr  \"alfa-romero\" \"alfa-romero\" \"alfa-romero\" \"audi\" ...\n",
      " $ fuel.type        : chr  \"gas\" \"gas\" \"gas\" \"gas\" ...\n",
      " $ aspiration       : chr  \"std\" \"std\" \"std\" \"std\" ...\n",
      " $ num.of.doors     : chr  \"two\" \"two\" \"two\" \"four\" ...\n",
      " $ body.style       : chr  \"convertible\" \"convertible\" \"hatchback\" \"sedan\" ...\n",
      " $ drive.wheels     : chr  \"rwd\" \"rwd\" \"rwd\" \"fwd\" ...\n",
      " $ engine.location  : chr  \"front\" \"front\" \"front\" \"front\" ...\n",
      " $ wheel.base       : num  88.6 88.6 94.5 99.8 99.4 ...\n",
      " $ length           : num  169 169 171 177 177 ...\n",
      " $ width            : num  64.1 64.1 65.5 66.2 66.4 66.3 71.4 71.4 71.4 64.8 ...\n",
      " $ height           : num  48.8 48.8 52.4 54.3 54.3 53.1 55.7 55.7 55.9 54.3 ...\n",
      " $ curb.weight      : int  2548 2548 2823 2337 2824 2507 2844 2954 3086 2395 ...\n",
      " $ engine.type      : chr  \"dohc\" \"dohc\" \"ohcv\" \"ohc\" ...\n",
      " $ num.of.cylinders : chr  \"four\" \"four\" \"six\" \"four\" ...\n",
      " $ engine.size      : int  130 130 152 109 136 136 136 136 131 108 ...\n",
      " $ fuel.system      : chr  \"mpfi\" \"mpfi\" \"mpfi\" \"mpfi\" ...\n",
      " $ bore             : num  3.47 3.47 2.68 3.19 3.19 3.19 3.19 3.19 3.13 3.5 ...\n",
      " $ stroke           : num  2.68 2.68 3.47 3.4 3.4 3.4 3.4 3.4 3.4 2.8 ...\n",
      " $ compression.ratio: num  9 9 9 10 8 8.5 8.5 8.5 8.3 8.8 ...\n",
      " $ horsepower       : num  111 111 154 102 115 110 110 110 140 101 ...\n",
      " $ peak.rpm         : num  5000 5000 5000 5500 5500 5500 5500 5500 5500 5800 ...\n",
      " $ city.mpg         : int  21 21 19 24 18 19 19 19 17 23 ...\n",
      " $ highway.mpg      : int  27 27 26 30 22 25 25 25 20 29 ...\n",
      " $ price            : num  13495 16500 16500 13950 17450 ...\n",
      " $ normalized_zprice: num  0.0307 0.4037 0.4037 0.0871 0.5216 ...\n"
     ]
    }
   ],
   "source": [
    "#z-Score Normalization of price data\n",
    "mean_price <- mean(auto.price$price)\n",
    "sd_price <- sd(auto.price$price)\n",
    "normalized_zprice <- (auto.price$price - mean_price) / sd_price\n",
    "\n",
    "#Add normalized price to the data frame.\n",
    "auto.price = mutate(auto.price,normalized_zprice = normalized_zprice)\n",
    "dim(auto.price)\n",
    "str(auto.price)"
   ]
  },
  {
   "cell_type": "markdown",
   "metadata": {},
   "source": [
    "## Compute a linear model with all features.\n",
    "* I am using standard lm function from base stats package to create a model.\n",
    "* My formula is based on all the features of the data frame, I have taken care to remove *Price* from the formula and I am now computing on *Normalized Price* calculated in the previous step."
   ]
  },
  {
   "cell_type": "code",
   "execution_count": 31,
   "metadata": {
    "collapsed": false,
    "scrolled": true
   },
   "outputs": [
    {
     "data": {
      "text/plain": [
       "\n",
       "Call:\n",
       "lm(formula = normalized_zprice ~ . - price, data = auto.price)\n",
       "\n",
       "Residuals:\n",
       "    Min      1Q  Median      3Q     Max \n",
       "-0.4360 -0.1137  0.0000  0.0999  1.0426 \n",
       "\n",
       "Coefficients: (3 not defined because of singularities)\n",
       "                         Estimate Std. Error t value Pr(>|t|)    \n",
       "(Intercept)            -3.505e+00  2.171e+00  -1.615 0.108672    \n",
       "makeaudi                1.538e-02  2.780e-01   0.055 0.955960    \n",
       "makebmw                 6.324e-01  2.894e-01   2.185 0.030554 *  \n",
       "makechevrolet          -6.631e-01  2.839e-01  -2.336 0.020945 *  \n",
       "makedodge              -7.509e-01  2.332e-01  -3.220 0.001598 ** \n",
       "makehonda              -3.871e-01  2.740e-01  -1.413 0.160029    \n",
       "makeisuzu              -4.822e-01  3.072e-01  -1.570 0.118760    \n",
       "makejaguar             -1.852e-01  3.476e-01  -0.533 0.595036    \n",
       "makemazda              -3.512e-01  2.121e-01  -1.655 0.100107    \n",
       "makemercedes-benz       1.877e-01  3.122e-01   0.601 0.548599    \n",
       "makemercury            -5.642e-01  3.662e-01  -1.541 0.125653    \n",
       "makemitsubishi         -8.204e-01  2.313e-01  -3.547 0.000533 ***\n",
       "makenissan             -4.234e-01  2.098e-01  -2.018 0.045505 *  \n",
       "makepeugot             -1.002e+00  5.573e-01  -1.798 0.074377 .  \n",
       "makeplymouth           -7.503e-01  2.296e-01  -3.268 0.001368 ** \n",
       "makeporsche             3.291e-01  3.655e-01   0.901 0.369406    \n",
       "makesaab                4.165e-02  2.484e-01   0.168 0.867098    \n",
       "makesubaru             -3.034e-01  2.413e-01  -1.257 0.210771    \n",
       "maketoyota             -4.866e-01  1.961e-01  -2.482 0.014283 *  \n",
       "makevolkswagen         -3.642e-01  2.188e-01  -1.664 0.098338 .  \n",
       "makevolvo              -3.097e-01  2.721e-01  -1.138 0.256964    \n",
       "fuel.typegas           -1.685e+00  8.282e-01  -2.035 0.043773 *  \n",
       "aspirationturbo         2.090e-01  1.005e-01   2.080 0.039344 *  \n",
       "num.of.doorsfour        9.063e-02  1.759e-01   0.515 0.607190    \n",
       "num.of.doorstwo         6.203e-02  1.863e-01   0.333 0.739698    \n",
       "body.stylehardtop      -2.757e-01  1.479e-01  -1.864 0.064407 .  \n",
       "body.stylehatchback    -3.692e-01  1.374e-01  -2.686 0.008109 ** \n",
       "body.stylesedan        -2.907e-01  1.487e-01  -1.955 0.052662 .  \n",
       "body.stylewagon        -3.192e-01  1.612e-01  -1.980 0.049711 *  \n",
       "drive.wheelsfwd        -7.032e-02  1.152e-01  -0.611 0.542456    \n",
       "drive.wheelsrwd        -4.342e-02  1.527e-01  -0.284 0.776620    \n",
       "engine.locationrear     1.300e+00  3.314e-01   3.922 0.000138 ***\n",
       "wheel.base              3.459e-02  1.139e-02   3.038 0.002849 ** \n",
       "length                 -1.625e-02  6.283e-03  -2.586 0.010731 *  \n",
       "width                   7.511e-02  2.853e-02   2.633 0.009425 ** \n",
       "height                 -3.840e-02  1.773e-02  -2.166 0.032034 *  \n",
       "curb.weight             7.676e-04  2.100e-04   3.655 0.000364 ***\n",
       "engine.typel            3.350e-01  5.210e-01   0.643 0.521305    \n",
       "engine.typeohc          1.449e-01  1.502e-01   0.965 0.336286    \n",
       "engine.typeohcf                NA         NA      NA       NA    \n",
       "engine.typeohcv        -2.968e-01  1.540e-01  -1.927 0.056031 .  \n",
       "num.of.cylindersfive   -7.642e-01  3.564e-01  -2.144 0.033753 *  \n",
       "num.of.cylindersfour   -4.562e-01  4.393e-01  -1.038 0.300901    \n",
       "num.of.cylinderssix    -4.925e-01  3.345e-01  -1.472 0.143181    \n",
       "num.of.cylindersthree          NA         NA      NA       NA    \n",
       "num.of.cylinderstwelve -5.679e-01  6.398e-01  -0.888 0.376238    \n",
       "engine.size             1.038e-02  3.111e-03   3.337 0.001089 ** \n",
       "fuel.system2bbl         2.881e-01  1.847e-01   1.560 0.121098    \n",
       "fuel.systemidi                 NA         NA      NA       NA    \n",
       "fuel.systemmfi         -8.821e-02  3.282e-01  -0.269 0.788506    \n",
       "fuel.systemmpfi         1.481e-01  1.956e-01   0.757 0.450330    \n",
       "fuel.systemspdi         2.289e-02  2.289e-01   0.100 0.920483    \n",
       "fuel.systemspfi         2.261e-01  3.801e-01   0.595 0.552825    \n",
       "bore                   -3.949e-01  2.288e-01  -1.726 0.086580 .  \n",
       "stroke                 -1.557e-01  1.233e-01  -1.263 0.208696    \n",
       "compression.ratio      -1.127e-01  6.102e-02  -1.847 0.066829 .  \n",
       "horsepower              1.339e-03  3.052e-03   0.439 0.661440    \n",
       "peak.rpm                2.832e-04  8.109e-05   3.492 0.000644 ***\n",
       "city.mpg               -2.409e-03  1.673e-02  -0.144 0.885692    \n",
       "highway.mpg             1.646e-02  1.434e-02   1.148 0.252988    \n",
       "---\n",
       "Signif. codes:  0 '***' 0.001 '**' 0.01 '*' 0.05 '.' 0.1 ' ' 1\n",
       "\n",
       "Residual standard error: 0.2174 on 138 degrees of freedom\n",
       "Multiple R-squared:  0.9664,\tAdjusted R-squared:  0.9527 \n",
       "F-statistic: 70.82 on 56 and 138 DF,  p-value: < 2.2e-16\n"
      ]
     },
     "metadata": {},
     "output_type": "display_data"
    },
    {
     "name": "stderr",
     "output_type": "stream",
     "text": [
      "Warning message:\n",
      "\"not plotting observations with leverage one:\n",
      "  18, 29, 43, 44, 47, 119\""
     ]
    },
    {
     "data": {
      "image/png": "[encoded data removed]",
      "text/plain": [
       "Plot with title \"\""
      ]
     },
     "metadata": {},
     "output_type": "display_data"
    },
    {
     "name": "stderr",
     "output_type": "stream",
     "text": [
      "Warning message:\n",
      "\"not plotting observations with leverage one:\n",
      "  18, 29, 43, 44, 47, 119\""
     ]
    },
    {
     "data": {
      "image/png": "[encoded data removed]",
      "text/plain": [
       "Plot with title \"\""
      ]
     },
     "metadata": {},
     "output_type": "display_data"
    },
    {
     "name": "stderr",
     "output_type": "stream",
     "text": [
      "Warning message in sqrt(crit * p * (1 - hh)/hh):\n",
      "\"NaNs produced\"Warning message in sqrt(crit * p * (1 - hh)/hh):\n",
      "\"NaNs produced\""
     ]
    },
    {
     "data": {
      "image/png": "[encoded data removed]",
      "text/plain": [
       "Plot with title \"\""
      ]
     },
     "metadata": {},
     "output_type": "display_data"
    },
    {
     "data": {
      "image/png": "[encoded data removed]",
      "text/plain": [
       "Plot with title \"\""
      ]
     },
     "metadata": {},
     "output_type": "display_data"
    }
   ],
   "source": [
    "#Compute a model with all features.\n",
    "# Removing price from the formula.\n",
    "lm.auto.price = lm(normalized_zprice ~ . -price, data = auto.price)\n",
    "summary(lm.auto.price)\n",
    "plot(lm.auto.price)"
   ]
  },
  {
   "cell_type": "markdown",
   "metadata": {},
   "source": [
    "## Apply STEPWISE REGRESSION.\n",
    "* We would now see step wise removal of features based on lowest value of AIC.\n",
    "* Following features have been removed as they do not have a major affect on the model.\n",
    "        - engine.location\n",
    "        - fuel.type\n",
    "        - drive.wheels\n",
    "        - num.of.doors\n",
    "        - city.mpg\n",
    "        - horsepower\n",
    "* Following features are now used to create the model.\n",
    "        - make\n",
    "        - aspiration\n",
    "        - body.style\n",
    "        - wheel.base\n",
    "        - length\n",
    "        - width\n",
    "        - height\n",
    "        - curb.weight\n",
    "        - engine.type\n",
    "        - num.of.cylinders\n",
    "        - engine.size\n",
    "        - fuel.system\n",
    "        - bore, stroke\n",
    "        - compression.ratio\n",
    "        - peak.rpm\n",
    "        - highway.mpg"
   ]
  },
  {
   "cell_type": "code",
   "execution_count": 32,
   "metadata": {
    "collapsed": false
   },
   "outputs": [
    {
     "name": "stdout",
     "output_type": "stream",
     "text": [
      "Start:  AIC=-548.52\n",
      "normalized_zprice ~ (make + fuel.type + aspiration + num.of.doors + \n",
      "    body.style + drive.wheels + engine.location + wheel.base + \n",
      "    length + width + height + curb.weight + engine.type + num.of.cylinders + \n",
      "    engine.size + fuel.system + bore + stroke + compression.ratio + \n",
      "    horsepower + peak.rpm + city.mpg + highway.mpg + price) - \n",
      "    price\n",
      "\n",
      "\n",
      "Step:  AIC=-548.52\n",
      "normalized_zprice ~ make + fuel.type + aspiration + num.of.doors + \n",
      "    body.style + drive.wheels + wheel.base + length + width + \n",
      "    height + curb.weight + engine.type + num.of.cylinders + engine.size + \n",
      "    fuel.system + bore + stroke + compression.ratio + horsepower + \n",
      "    peak.rpm + city.mpg + highway.mpg\n",
      "\n",
      "\n",
      "Step:  AIC=-548.52\n",
      "normalized_zprice ~ make + aspiration + num.of.doors + body.style + \n",
      "    drive.wheels + wheel.base + length + width + height + curb.weight + \n",
      "    engine.type + num.of.cylinders + engine.size + fuel.system + \n",
      "    bore + stroke + compression.ratio + horsepower + peak.rpm + \n",
      "    city.mpg + highway.mpg\n",
      "\n",
      "                    Df Sum of Sq     RSS     AIC\n",
      "- drive.wheels       2    0.0215  6.5454 -551.88\n",
      "- num.of.doors       2    0.0234  6.5473 -551.82\n",
      "- city.mpg           1    0.0010  6.5249 -550.49\n",
      "- horsepower         1    0.0091  6.5330 -550.25\n",
      "- highway.mpg        1    0.0623  6.5862 -548.67\n",
      "<none>                            6.5239 -548.52\n",
      "- stroke             1    0.0754  6.5993 -548.28\n",
      "- bore               1    0.1408  6.6647 -546.35\n",
      "- compression.ratio  1    0.1613  6.6852 -545.75\n",
      "- fuel.system        6    0.5168  7.0407 -545.65\n",
      "- body.style         4    0.4138  6.9377 -544.53\n",
      "- aspiration         1    0.2046  6.7285 -544.50\n",
      "- height             1    0.2218  6.7457 -544.00\n",
      "- length             1    0.3163  6.8401 -541.29\n",
      "- width              1    0.3278  6.8516 -540.96\n",
      "- num.of.cylinders   4    0.6463  7.1701 -538.10\n",
      "- wheel.base         1    0.4363  6.9602 -537.89\n",
      "- engine.size        1    0.5264  7.0502 -535.39\n",
      "- peak.rpm           1    0.5766  7.1005 -534.00\n",
      "- curb.weight        1    0.6316  7.1555 -532.50\n",
      "- engine.type        3    1.0974  7.6212 -524.20\n",
      "- make              19    5.8845 12.4083 -461.15\n",
      "\n",
      "Step:  AIC=-551.88\n",
      "normalized_zprice ~ make + aspiration + num.of.doors + body.style + \n",
      "    wheel.base + length + width + height + curb.weight + engine.type + \n",
      "    num.of.cylinders + engine.size + fuel.system + bore + stroke + \n",
      "    compression.ratio + horsepower + peak.rpm + city.mpg + highway.mpg\n",
      "\n",
      "                    Df Sum of Sq     RSS     AIC\n",
      "- num.of.doors       2    0.0223  6.5677 -555.21\n",
      "- city.mpg           1    0.0006  6.5459 -553.86\n",
      "- horsepower         1    0.0076  6.5529 -553.65\n",
      "- highway.mpg        1    0.0555  6.6009 -552.23\n",
      "<none>                            6.5454 -551.88\n",
      "- stroke             1    0.0771  6.6225 -551.59\n",
      "- bore               1    0.1468  6.6921 -549.55\n",
      "- compression.ratio  1    0.1797  6.7251 -548.59\n",
      "+ drive.wheels       2    0.0215  6.5239 -548.52\n",
      "- fuel.system        6    0.5461  7.0915 -548.25\n",
      "- body.style         4    0.4045  6.9498 -548.19\n",
      "- aspiration         1    0.2075  6.7529 -547.79\n",
      "- height             1    0.2447  6.7901 -546.72\n",
      "- width              1    0.3136  6.8589 -544.75\n",
      "- length             1    0.3571  6.9024 -543.52\n",
      "- wheel.base         1    0.4341  6.9795 -541.35\n",
      "- num.of.cylinders   4    0.6836  7.2290 -540.51\n",
      "- engine.size        1    0.5234  7.0687 -538.88\n",
      "- peak.rpm           1    0.5804  7.1258 -537.31\n",
      "- curb.weight        1    0.8917  7.4370 -528.97\n",
      "- engine.type        3    1.1237  7.6690 -526.98\n",
      "- make              19    5.9909 12.5362 -463.15\n",
      "\n",
      "Step:  AIC=-555.21\n",
      "normalized_zprice ~ make + aspiration + body.style + wheel.base + \n",
      "    length + width + height + curb.weight + engine.type + num.of.cylinders + \n",
      "    engine.size + fuel.system + bore + stroke + compression.ratio + \n",
      "    horsepower + peak.rpm + city.mpg + highway.mpg\n",
      "\n",
      "                    Df Sum of Sq     RSS     AIC\n",
      "- city.mpg           1    0.0010  6.5687 -557.18\n",
      "- horsepower         1    0.0090  6.5767 -556.95\n",
      "- highway.mpg        1    0.0600  6.6276 -555.44\n",
      "<none>                            6.5677 -555.21\n",
      "- stroke             1    0.0730  6.6406 -555.06\n",
      "- bore               1    0.1468  6.7145 -552.90\n",
      "- compression.ratio  1    0.1775  6.7452 -552.01\n",
      "+ num.of.doors       2    0.0223  6.5454 -551.88\n",
      "+ drive.wheels       2    0.0204  6.5473 -551.82\n",
      "- aspiration         1    0.2003  6.7679 -551.36\n",
      "- fuel.system        6    0.5634  7.1310 -551.17\n",
      "- height             1    0.2476  6.8152 -550.00\n",
      "- body.style         4    0.4606  7.0283 -550.00\n",
      "- width              1    0.3196  6.8873 -547.95\n",
      "- length             1    0.3542  6.9218 -546.97\n",
      "- wheel.base         1    0.4621  7.0298 -543.95\n",
      "- num.of.cylinders   4    0.6853  7.2530 -543.86\n",
      "- engine.size        1    0.5096  7.0773 -542.64\n",
      "- peak.rpm           1    0.5634  7.1311 -541.16\n",
      "- curb.weight        1    0.9036  7.4713 -532.08\n",
      "- engine.type        3    1.1366  7.7043 -530.09\n",
      "- make              19    6.0741 12.6417 -465.52\n",
      "\n",
      "Step:  AIC=-557.18\n",
      "normalized_zprice ~ make + aspiration + body.style + wheel.base + \n",
      "    length + width + height + curb.weight + engine.type + num.of.cylinders + \n",
      "    engine.size + fuel.system + bore + stroke + compression.ratio + \n",
      "    horsepower + peak.rpm + highway.mpg\n",
      "\n",
      "                    Df Sum of Sq     RSS     AIC\n",
      "- horsepower         1    0.0101  6.5788 -558.88\n",
      "<none>                            6.5687 -557.18\n",
      "- stroke             1    0.0756  6.6443 -556.95\n",
      "+ city.mpg           1    0.0010  6.5677 -555.21\n",
      "- bore               1    0.1470  6.7156 -554.87\n",
      "- highway.mpg        1    0.1636  6.7322 -554.39\n",
      "+ num.of.doors       2    0.0227  6.5459 -553.86\n",
      "+ drive.wheels       2    0.0195  6.5491 -553.77\n",
      "- compression.ratio  1    0.1876  6.7563 -553.69\n",
      "- aspiration         1    0.2011  6.7698 -553.30\n",
      "- fuel.system        6    0.5739  7.1426 -552.85\n",
      "- height             1    0.2520  6.8207 -551.84\n",
      "- body.style         4    0.4653  7.0340 -551.84\n",
      "- width              1    0.3190  6.8877 -549.94\n",
      "- length             1    0.3534  6.9220 -548.97\n",
      "- num.of.cylinders   4    0.6900  7.2587 -545.71\n",
      "- wheel.base         1    0.4701  7.0388 -545.71\n",
      "- engine.size        1    0.5129  7.0815 -544.52\n",
      "- peak.rpm           1    0.5644  7.1331 -543.11\n",
      "- curb.weight        1    0.9313  7.5000 -533.33\n",
      "- engine.type        3    1.1357  7.7043 -532.09\n",
      "- make              19    6.2621 12.8308 -464.62\n",
      "\n",
      "Step:  AIC=-558.88\n",
      "normalized_zprice ~ make + aspiration + body.style + wheel.base + \n",
      "    length + width + height + curb.weight + engine.type + num.of.cylinders + \n",
      "    engine.size + fuel.system + bore + stroke + compression.ratio + \n",
      "    peak.rpm + highway.mpg\n",
      "\n",
      "                    Df Sum of Sq     RSS     AIC\n",
      "<none>                            6.5788 -558.88\n",
      "- stroke             1    0.0687  6.6475 -558.86\n",
      "+ horsepower         1    0.0101  6.5687 -557.18\n",
      "+ city.mpg           1    0.0021  6.5767 -556.95\n",
      "- bore               1    0.1530  6.7319 -556.40\n",
      "- highway.mpg        1    0.1666  6.7454 -556.01\n",
      "+ num.of.doors       2    0.0245  6.5543 -555.61\n",
      "+ drive.wheels       2    0.0165  6.5624 -555.37\n",
      "- fuel.system        6    0.5750  7.1538 -554.54\n",
      "- compression.ratio  1    0.2448  6.8236 -553.76\n",
      "- body.style         4    0.4581  7.0369 -553.76\n",
      "- height             1    0.2682  6.8471 -553.09\n",
      "- width              1    0.3397  6.9185 -551.06\n",
      "- aspiration         1    0.3436  6.9224 -550.96\n",
      "- length             1    0.3556  6.9345 -550.62\n",
      "- wheel.base         1    0.4634  7.0422 -547.61\n",
      "- num.of.cylinders   4    0.6904  7.2692 -547.42\n",
      "- engine.size        1    0.7631  7.3419 -539.48\n",
      "- peak.rpm           1    0.7719  7.3507 -539.25\n",
      "- curb.weight        1    1.0494  7.6283 -532.02\n",
      "- engine.type        3    1.2157  7.7945 -531.82\n",
      "- make              19    6.6786 13.2574 -460.25\n"
     ]
    },
    {
     "data": {
      "text/html": [
       "<table>\n",
       "<thead><tr><th scope=col>Step</th><th scope=col>Df</th><th scope=col>Deviance</th><th scope=col>Resid. Df</th><th scope=col>Resid. Dev</th><th scope=col>AIC</th></tr></thead>\n",
       "<tbody>\n",
       "\t<tr><td>                 </td><td>NA               </td><td>          NA     </td><td>138              </td><td>6.523878         </td><td>-548.5185        </td></tr>\n",
       "\t<tr><td>- engine.location</td><td> 0               </td><td>1.598721e-14     </td><td>138              </td><td>6.523878         </td><td>-548.5185        </td></tr>\n",
       "\t<tr><td>- fuel.type      </td><td> 0               </td><td>1.421085e-14     </td><td>138              </td><td>6.523878         </td><td>-548.5185        </td></tr>\n",
       "\t<tr><td>- drive.wheels   </td><td> 2               </td><td>2.147641e-02     </td><td>140              </td><td>6.545355         </td><td>-551.8776        </td></tr>\n",
       "\t<tr><td>- num.of.doors   </td><td> 2               </td><td>2.232056e-02     </td><td>142              </td><td>6.567675         </td><td>-555.2137        </td></tr>\n",
       "\t<tr><td>- city.mpg       </td><td> 1               </td><td>9.933198e-04     </td><td>143              </td><td>6.568669         </td><td>-557.1842        </td></tr>\n",
       "\t<tr><td>- horsepower     </td><td> 1               </td><td>1.014854e-02     </td><td>144              </td><td>6.578817         </td><td>-558.8832        </td></tr>\n",
       "</tbody>\n",
       "</table>\n"
      ],
      "text/latex": [
       "\\begin{tabular}{r|llllll}\n",
       " Step & Df & Deviance & Resid. Df & Resid. Dev & AIC\\\\\n",
       "\\hline\n",
       "\t                   & NA                &           NA      & 138               & 6.523878          & -548.5185        \\\\\n",
       "\t - engine.location &  0                & 1.598721e-14      & 138               & 6.523878          & -548.5185        \\\\\n",
       "\t - fuel.type       &  0                & 1.421085e-14      & 138               & 6.523878          & -548.5185        \\\\\n",
       "\t - drive.wheels    &  2                & 2.147641e-02      & 140               & 6.545355          & -551.8776        \\\\\n",
       "\t - num.of.doors    &  2                & 2.232056e-02      & 142               & 6.567675          & -555.2137        \\\\\n",
       "\t - city.mpg        &  1                & 9.933198e-04      & 143               & 6.568669          & -557.1842        \\\\\n",
       "\t - horsepower      &  1                & 1.014854e-02      & 144               & 6.578817          & -558.8832        \\\\\n",
       "\\end{tabular}\n"
      ],
      "text/markdown": [
       "\n",
       "Step | Df | Deviance | Resid. Df | Resid. Dev | AIC | \n",
       "|---|---|---|---|---|---|---|\n",
       "|                   | NA                |           NA      | 138               | 6.523878          | -548.5185         | \n",
       "| - engine.location |  0                | 1.598721e-14      | 138               | 6.523878          | -548.5185         | \n",
       "| - fuel.type       |  0                | 1.421085e-14      | 138               | 6.523878          | -548.5185         | \n",
       "| - drive.wheels    |  2                | 2.147641e-02      | 140               | 6.545355          | -551.8776         | \n",
       "| - num.of.doors    |  2                | 2.232056e-02      | 142               | 6.567675          | -555.2137         | \n",
       "| - city.mpg        |  1                | 9.933198e-04      | 143               | 6.568669          | -557.1842         | \n",
       "| - horsepower      |  1                | 1.014854e-02      | 144               | 6.578817          | -558.8832         | \n",
       "\n",
       "\n"
      ],
      "text/plain": [
       "  Step              Df Deviance     Resid. Df Resid. Dev AIC      \n",
       "1                   NA           NA 138       6.523878   -548.5185\n",
       "2 - engine.location  0 1.598721e-14 138       6.523878   -548.5185\n",
       "3 - fuel.type        0 1.421085e-14 138       6.523878   -548.5185\n",
       "4 - drive.wheels     2 2.147641e-02 140       6.545355   -551.8776\n",
       "5 - num.of.doors     2 2.232056e-02 142       6.567675   -555.2137\n",
       "6 - city.mpg         1 9.933198e-04 143       6.568669   -557.1842\n",
       "7 - horsepower       1 1.014854e-02 144       6.578817   -558.8832"
      ]
     },
     "metadata": {},
     "output_type": "display_data"
    },
    {
     "data": {
      "text/plain": [
       "\n",
       "Call:\n",
       "lm(formula = normalized_zprice ~ make + aspiration + body.style + \n",
       "    wheel.base + length + width + height + curb.weight + engine.type + \n",
       "    num.of.cylinders + engine.size + fuel.system + bore + stroke + \n",
       "    compression.ratio + peak.rpm + highway.mpg, data = auto.price)\n",
       "\n",
       "Residuals:\n",
       "     Min       1Q   Median       3Q      Max \n",
       "-0.42933 -0.12687  0.00000  0.09525  1.02266 \n",
       "\n",
       "Coefficients: (1 not defined because of singularities)\n",
       "                         Estimate Std. Error t value Pr(>|t|)    \n",
       "(Intercept)            -5.099e+00  1.817e+00  -2.805 0.005721 ** \n",
       "makeaudi                1.098e-02  2.639e-01   0.042 0.966868    \n",
       "makebmw                 6.292e-01  2.783e-01   2.261 0.025281 *  \n",
       "makechevrolet          -6.817e-01  2.639e-01  -2.583 0.010790 *  \n",
       "makedodge              -7.916e-01  2.204e-01  -3.591 0.000450 ***\n",
       "makehonda              -4.245e-01  2.562e-01  -1.657 0.099770 .  \n",
       "makeisuzu              -4.993e-01  2.918e-01  -1.711 0.089258 .  \n",
       "makejaguar             -2.910e-01  3.017e-01  -0.965 0.336299    \n",
       "makemazda              -3.784e-01  2.044e-01  -1.851 0.066176 .  \n",
       "makemercedes-benz       1.697e-01  3.033e-01   0.560 0.576641    \n",
       "makemercury            -5.323e-01  3.391e-01  -1.570 0.118651    \n",
       "makemitsubishi         -8.574e-01  2.155e-01  -3.978 0.000109 ***\n",
       "makenissan             -4.460e-01  1.982e-01  -2.251 0.025923 *  \n",
       "makepeugot             -1.100e+00  5.190e-01  -2.118 0.035861 *  \n",
       "makeplymouth           -7.780e-01  2.189e-01  -3.554 0.000514 ***\n",
       "makeporsche             3.512e-01  3.524e-01   0.996 0.320702    \n",
       "makesaab                2.977e-02  2.278e-01   0.131 0.896228    \n",
       "makesubaru             -1.668e+00  3.982e-01  -4.188 4.89e-05 ***\n",
       "maketoyota             -4.993e-01  1.873e-01  -2.666 0.008558 ** \n",
       "makevolkswagen         -3.827e-01  2.076e-01  -1.844 0.067267 .  \n",
       "makevolvo              -3.150e-01  2.600e-01  -1.211 0.227745    \n",
       "aspirationturbo         2.248e-01  8.198e-02   2.742 0.006872 ** \n",
       "body.stylehardtop      -2.496e-01  1.403e-01  -1.779 0.077365 .  \n",
       "body.stylehatchback    -3.484e-01  1.323e-01  -2.634 0.009354 ** \n",
       "body.stylesedan        -2.511e-01  1.365e-01  -1.840 0.067840 .  \n",
       "body.stylewagon        -2.865e-01  1.509e-01  -1.899 0.059578 .  \n",
       "wheel.base              3.462e-02  1.087e-02   3.185 0.001775 ** \n",
       "length                 -1.689e-02  6.054e-03  -2.790 0.005984 ** \n",
       "width                   7.441e-02  2.729e-02   2.727 0.007188 ** \n",
       "height                 -3.938e-02  1.625e-02  -2.423 0.016629 *  \n",
       "curb.weight             8.583e-04  1.791e-04   4.793 4.05e-06 ***\n",
       "engine.typel            3.650e-01  5.049e-01   0.723 0.470900    \n",
       "engine.typeohc          1.198e-01  1.371e-01   0.874 0.383630    \n",
       "engine.typeohcf         1.347e+00  3.166e-01   4.255 3.75e-05 ***\n",
       "engine.typeohcv        -3.093e-01  1.458e-01  -2.122 0.035558 *  \n",
       "num.of.cylindersfive   -7.401e-01  3.421e-01  -2.163 0.032174 *  \n",
       "num.of.cylindersfour   -4.041e-01  4.173e-01  -0.968 0.334474    \n",
       "num.of.cylinderssix    -4.407e-01  3.039e-01  -1.450 0.149122    \n",
       "num.of.cylindersthree          NA         NA      NA       NA    \n",
       "num.of.cylinderstwelve -3.873e-01  4.985e-01  -0.777 0.438391    \n",
       "engine.size             1.071e-02  2.620e-03   4.087 7.23e-05 ***\n",
       "fuel.system2bbl         2.853e-01  1.761e-01   1.620 0.107447    \n",
       "fuel.systemidi          1.782e+00  7.499e-01   2.377 0.018775 *  \n",
       "fuel.systemmfi         -1.100e-01  3.113e-01  -0.353 0.724331    \n",
       "fuel.systemmpfi         1.462e-01  1.837e-01   0.796 0.427429    \n",
       "fuel.systemspdi         9.841e-03  2.184e-01   0.045 0.964127    \n",
       "fuel.systemspfi         1.988e-01  3.625e-01   0.548 0.584249    \n",
       "bore                   -4.003e-01  2.187e-01  -1.830 0.069276 .  \n",
       "stroke                 -1.453e-01  1.185e-01  -1.226 0.222100    \n",
       "compression.ratio      -1.241e-01  5.361e-02  -2.315 0.022031 *  \n",
       "peak.rpm                2.946e-04  7.168e-05   4.110 6.61e-05 ***\n",
       "highway.mpg             1.426e-02  7.469e-03   1.910 0.058171 .  \n",
       "---\n",
       "Signif. codes:  0 '***' 0.001 '**' 0.01 '*' 0.05 '.' 0.1 ' ' 1\n",
       "\n",
       "Residual standard error: 0.2137 on 144 degrees of freedom\n",
       "Multiple R-squared:  0.9661,\tAdjusted R-squared:  0.9543 \n",
       "F-statistic: 82.05 on 50 and 144 DF,  p-value: < 2.2e-16\n"
      ]
     },
     "metadata": {},
     "output_type": "display_data"
    },
    {
     "name": "stderr",
     "output_type": "stream",
     "text": [
      "Warning message:\n",
      "\"not plotting observations with leverage one:\n",
      "  18, 29, 43, 44, 47, 119\""
     ]
    },
    {
     "data": {
      "image/png": "[encoded data removed]",
      "text/plain": [
       "Plot with title \"\""
      ]
     },
     "metadata": {},
     "output_type": "display_data"
    },
    {
     "name": "stderr",
     "output_type": "stream",
     "text": [
      "Warning message:\n",
      "\"not plotting observations with leverage one:\n",
      "  18, 29, 43, 44, 47, 119\""
     ]
    },
    {
     "data": {
      "image/png": "[encoded data removed]",
      "text/plain": [
       "Plot with title \"\""
      ]
     },
     "metadata": {},
     "output_type": "display_data"
    },
    {
     "name": "stderr",
     "output_type": "stream",
     "text": [
      "Warning message in sqrt(crit * p * (1 - hh)/hh):\n",
      "\"NaNs produced\"Warning message in sqrt(crit * p * (1 - hh)/hh):\n",
      "\"NaNs produced\""
     ]
    },
    {
     "data": {
      "image/png": "[encoded data removed]",
      "text/plain": [
       "Plot with title \"\""
      ]
     },
     "metadata": {},
     "output_type": "display_data"
    },
    {
     "data": {
      "image/png": "[encoded data removed]",
      "text/plain": [
       "Plot with title \"\""
      ]
     },
     "metadata": {},
     "output_type": "display_data"
    }
   ],
   "source": [
    "#Apply Stepwise Regression\n",
    "library(MASS)\n",
    "lm.step = stepAIC(lm.auto.price, direction = 'both')\n",
    "lm.step$anova # ANOVA of the result \n",
    "summary(lm.step) # Summary of the best model\n",
    "plot(lm.step)"
   ]
  },
  {
   "cell_type": "markdown",
   "metadata": {},
   "source": [
    "## Applying Singular Value Decomposition using Pseudo Inverse.\n",
    "* This data frame consists of number of catgegorical variables,in order to work with a model matrix we first need to convert these categorical variables into binary indicator variables.\n",
    "* Remove price from the formula.\n",
    "* Remove intercept."
   ]
  },
  {
   "cell_type": "code",
   "execution_count": 33,
   "metadata": {
    "collapsed": false
   },
   "outputs": [
    {
     "data": {
      "text/html": [
       "<table>\n",
       "<thead><tr><th></th><th scope=col>makealfa-romero</th><th scope=col>makeaudi</th><th scope=col>makebmw</th><th scope=col>makechevrolet</th><th scope=col>makedodge</th><th scope=col>makehonda</th><th scope=col>makeisuzu</th><th scope=col>makejaguar</th><th scope=col>makemazda</th><th scope=col>makemercedes-benz</th><th scope=col>...</th><th scope=col>fuel.systemmpfi</th><th scope=col>fuel.systemspdi</th><th scope=col>fuel.systemspfi</th><th scope=col>bore</th><th scope=col>stroke</th><th scope=col>compression.ratio</th><th scope=col>horsepower</th><th scope=col>peak.rpm</th><th scope=col>city.mpg</th><th scope=col>highway.mpg</th></tr></thead>\n",
       "<tbody>\n",
       "\t<tr><th scope=row>1</th><td>1   </td><td>0   </td><td>0   </td><td>0   </td><td>0   </td><td>0   </td><td>0   </td><td>0   </td><td>0   </td><td>0   </td><td>... </td><td>1   </td><td>0   </td><td>0   </td><td>3.47</td><td>2.68</td><td> 9.0</td><td>111 </td><td>5000</td><td>21  </td><td>27  </td></tr>\n",
       "\t<tr><th scope=row>2</th><td>1   </td><td>0   </td><td>0   </td><td>0   </td><td>0   </td><td>0   </td><td>0   </td><td>0   </td><td>0   </td><td>0   </td><td>... </td><td>1   </td><td>0   </td><td>0   </td><td>3.47</td><td>2.68</td><td> 9.0</td><td>111 </td><td>5000</td><td>21  </td><td>27  </td></tr>\n",
       "\t<tr><th scope=row>3</th><td>1   </td><td>0   </td><td>0   </td><td>0   </td><td>0   </td><td>0   </td><td>0   </td><td>0   </td><td>0   </td><td>0   </td><td>... </td><td>1   </td><td>0   </td><td>0   </td><td>2.68</td><td>3.47</td><td> 9.0</td><td>154 </td><td>5000</td><td>19  </td><td>26  </td></tr>\n",
       "\t<tr><th scope=row>4</th><td>0   </td><td>1   </td><td>0   </td><td>0   </td><td>0   </td><td>0   </td><td>0   </td><td>0   </td><td>0   </td><td>0   </td><td>... </td><td>1   </td><td>0   </td><td>0   </td><td>3.19</td><td>3.40</td><td>10.0</td><td>102 </td><td>5500</td><td>24  </td><td>30  </td></tr>\n",
       "\t<tr><th scope=row>5</th><td>0   </td><td>1   </td><td>0   </td><td>0   </td><td>0   </td><td>0   </td><td>0   </td><td>0   </td><td>0   </td><td>0   </td><td>... </td><td>1   </td><td>0   </td><td>0   </td><td>3.19</td><td>3.40</td><td> 8.0</td><td>115 </td><td>5500</td><td>18  </td><td>22  </td></tr>\n",
       "\t<tr><th scope=row>6</th><td>0   </td><td>1   </td><td>0   </td><td>0   </td><td>0   </td><td>0   </td><td>0   </td><td>0   </td><td>0   </td><td>0   </td><td>... </td><td>1   </td><td>0   </td><td>0   </td><td>3.19</td><td>3.40</td><td> 8.5</td><td>110 </td><td>5500</td><td>19  </td><td>25  </td></tr>\n",
       "</tbody>\n",
       "</table>\n"
      ],
      "text/latex": [
       "\\begin{tabular}{r|llllllllllllllllllllllllllllllllllllllllllllllllllllllllllll}\n",
       "  & makealfa-romero & makeaudi & makebmw & makechevrolet & makedodge & makehonda & makeisuzu & makejaguar & makemazda & makemercedes-benz & ... & fuel.systemmpfi & fuel.systemspdi & fuel.systemspfi & bore & stroke & compression.ratio & horsepower & peak.rpm & city.mpg & highway.mpg\\\\\n",
       "\\hline\n",
       "\t1 & 1    & 0    & 0    & 0    & 0    & 0    & 0    & 0    & 0    & 0    & ...  & 1    & 0    & 0    & 3.47 & 2.68 &  9.0 & 111  & 5000 & 21   & 27  \\\\\n",
       "\t2 & 1    & 0    & 0    & 0    & 0    & 0    & 0    & 0    & 0    & 0    & ...  & 1    & 0    & 0    & 3.47 & 2.68 &  9.0 & 111  & 5000 & 21   & 27  \\\\\n",
       "\t3 & 1    & 0    & 0    & 0    & 0    & 0    & 0    & 0    & 0    & 0    & ...  & 1    & 0    & 0    & 2.68 & 3.47 &  9.0 & 154  & 5000 & 19   & 26  \\\\\n",
       "\t4 & 0    & 1    & 0    & 0    & 0    & 0    & 0    & 0    & 0    & 0    & ...  & 1    & 0    & 0    & 3.19 & 3.40 & 10.0 & 102  & 5500 & 24   & 30  \\\\\n",
       "\t5 & 0    & 1    & 0    & 0    & 0    & 0    & 0    & 0    & 0    & 0    & ...  & 1    & 0    & 0    & 3.19 & 3.40 &  8.0 & 115  & 5500 & 18   & 22  \\\\\n",
       "\t6 & 0    & 1    & 0    & 0    & 0    & 0    & 0    & 0    & 0    & 0    & ...  & 1    & 0    & 0    & 3.19 & 3.40 &  8.5 & 110  & 5500 & 19   & 25  \\\\\n",
       "\\end{tabular}\n"
      ],
      "text/markdown": [
       "\n",
       "| <!--/--> | makealfa-romero | makeaudi | makebmw | makechevrolet | makedodge | makehonda | makeisuzu | makejaguar | makemazda | makemercedes-benz | ... | fuel.systemmpfi | fuel.systemspdi | fuel.systemspfi | bore | stroke | compression.ratio | horsepower | peak.rpm | city.mpg | highway.mpg | \n",
       "|---|---|---|---|---|---|\n",
       "| 1 | 1    | 0    | 0    | 0    | 0    | 0    | 0    | 0    | 0    | 0    | ...  | 1    | 0    | 0    | 3.47 | 2.68 |  9.0 | 111  | 5000 | 21   | 27   | \n",
       "| 2 | 1    | 0    | 0    | 0    | 0    | 0    | 0    | 0    | 0    | 0    | ...  | 1    | 0    | 0    | 3.47 | 2.68 |  9.0 | 111  | 5000 | 21   | 27   | \n",
       "| 3 | 1    | 0    | 0    | 0    | 0    | 0    | 0    | 0    | 0    | 0    | ...  | 1    | 0    | 0    | 2.68 | 3.47 |  9.0 | 154  | 5000 | 19   | 26   | \n",
       "| 4 | 0    | 1    | 0    | 0    | 0    | 0    | 0    | 0    | 0    | 0    | ...  | 1    | 0    | 0    | 3.19 | 3.40 | 10.0 | 102  | 5500 | 24   | 30   | \n",
       "| 5 | 0    | 1    | 0    | 0    | 0    | 0    | 0    | 0    | 0    | 0    | ...  | 1    | 0    | 0    | 3.19 | 3.40 |  8.0 | 115  | 5500 | 18   | 22   | \n",
       "| 6 | 0    | 1    | 0    | 0    | 0    | 0    | 0    | 0    | 0    | 0    | ...  | 1    | 0    | 0    | 3.19 | 3.40 |  8.5 | 110  | 5500 | 19   | 25   | \n",
       "\n",
       "\n"
      ],
      "text/plain": [
       "  makealfa-romero makeaudi makebmw makechevrolet makedodge makehonda makeisuzu\n",
       "1 1               0        0       0             0         0         0        \n",
       "2 1               0        0       0             0         0         0        \n",
       "3 1               0        0       0             0         0         0        \n",
       "4 0               1        0       0             0         0         0        \n",
       "5 0               1        0       0             0         0         0        \n",
       "6 0               1        0       0             0         0         0        \n",
       "  makejaguar makemazda makemercedes-benz ... fuel.systemmpfi fuel.systemspdi\n",
       "1 0          0         0                 ... 1               0              \n",
       "2 0          0         0                 ... 1               0              \n",
       "3 0          0         0                 ... 1               0              \n",
       "4 0          0         0                 ... 1               0              \n",
       "5 0          0         0                 ... 1               0              \n",
       "6 0          0         0                 ... 1               0              \n",
       "  fuel.systemspfi bore stroke compression.ratio horsepower peak.rpm city.mpg\n",
       "1 0               3.47 2.68    9.0              111        5000     21      \n",
       "2 0               3.47 2.68    9.0              111        5000     21      \n",
       "3 0               2.68 3.47    9.0              154        5000     19      \n",
       "4 0               3.19 3.40   10.0              102        5500     24      \n",
       "5 0               3.19 3.40    8.0              115        5500     18      \n",
       "6 0               3.19 3.40    8.5              110        5500     19      \n",
       "  highway.mpg\n",
       "1 27         \n",
       "2 27         \n",
       "3 26         \n",
       "4 30         \n",
       "5 22         \n",
       "6 25         "
      ]
     },
     "metadata": {},
     "output_type": "display_data"
    },
    {
     "data": {
      "text/html": [
       "<table>\n",
       "<thead><tr><th></th><th scope=col>makealfa-romero</th><th scope=col>makeaudi</th><th scope=col>makebmw</th><th scope=col>makechevrolet</th><th scope=col>makedodge</th><th scope=col>makehonda</th><th scope=col>makeisuzu</th><th scope=col>makejaguar</th><th scope=col>makemazda</th><th scope=col>makemercedes-benz</th><th scope=col>...</th><th scope=col>fuel.systemmpfi</th><th scope=col>fuel.systemspdi</th><th scope=col>fuel.systemspfi</th><th scope=col>bore</th><th scope=col>stroke</th><th scope=col>compression.ratio</th><th scope=col>horsepower</th><th scope=col>peak.rpm</th><th scope=col>city.mpg</th><th scope=col>highway.mpg</th></tr></thead>\n",
       "<tbody>\n",
       "\t<tr><th scope=row>makealfa-romero</th><td>3     </td><td>0     </td><td>0     </td><td>0     </td><td>0     </td><td> 0    </td><td>0     </td><td>0     </td><td>0     </td><td>0     </td><td>...   </td><td>3     </td><td>0     </td><td>0     </td><td> 9.62 </td><td> 8.83 </td><td> 27.00</td><td> 376  </td><td>15000 </td><td> 61   </td><td> 80   </td></tr>\n",
       "\t<tr><th scope=row>makeaudi</th><td>0     </td><td>6     </td><td>0     </td><td>0     </td><td>0     </td><td> 0    </td><td>0     </td><td>0     </td><td>0     </td><td>0     </td><td>...   </td><td>6     </td><td>0     </td><td>0     </td><td>19.08 </td><td>20.40 </td><td> 51.80</td><td> 687  </td><td>33000 </td><td>116   </td><td>147   </td></tr>\n",
       "\t<tr><th scope=row>makebmw</th><td>0     </td><td>0     </td><td>8     </td><td>0     </td><td>0     </td><td> 0    </td><td>0     </td><td>0     </td><td>0     </td><td>0     </td><td>...   </td><td>8     </td><td>0     </td><td>0     </td><td>27.79 </td><td>25.34 </td><td> 68.60</td><td>1111  </td><td>40550 </td><td>155   </td><td>203   </td></tr>\n",
       "\t<tr><th scope=row>makechevrolet</th><td>0     </td><td>0     </td><td>0     </td><td>3     </td><td>0     </td><td> 0    </td><td>0     </td><td>0     </td><td>0     </td><td>0     </td><td>...   </td><td>0     </td><td>0     </td><td>0     </td><td> 8.97 </td><td> 9.25 </td><td> 28.70</td><td> 188  </td><td>15900 </td><td>123   </td><td>139   </td></tr>\n",
       "\t<tr><th scope=row>makedodge</th><td>0     </td><td>0     </td><td>0     </td><td>0     </td><td>9     </td><td> 0    </td><td>0     </td><td>0     </td><td>0     </td><td>0     </td><td>...   </td><td>2     </td><td>0     </td><td>0     </td><td>27.85 </td><td>30.29 </td><td> 77.71</td><td> 777  </td><td>48500 </td><td>252   </td><td>307   </td></tr>\n",
       "\t<tr><th scope=row>makehonda</th><td>0     </td><td>0     </td><td>0     </td><td>0     </td><td>0     </td><td>13    </td><td>0     </td><td>0     </td><td>0     </td><td>0     </td><td>...   </td><td>1     </td><td>0     </td><td>0     </td><td>39.28 </td><td>45.01 </td><td>119.80</td><td>1043  </td><td>74800 </td><td>395   </td><td>461   </td></tr>\n",
       "</tbody>\n",
       "</table>\n"
      ],
      "text/latex": [
       "\\begin{tabular}{r|llllllllllllllllllllllllllllllllllllllllllllllllllllllllllll}\n",
       "  & makealfa-romero & makeaudi & makebmw & makechevrolet & makedodge & makehonda & makeisuzu & makejaguar & makemazda & makemercedes-benz & ... & fuel.systemmpfi & fuel.systemspdi & fuel.systemspfi & bore & stroke & compression.ratio & horsepower & peak.rpm & city.mpg & highway.mpg\\\\\n",
       "\\hline\n",
       "\tmakealfa-romero & 3      & 0      & 0      & 0      & 0      &  0     & 0      & 0      & 0      & 0      & ...    & 3      & 0      & 0      &  9.62  &  8.83  &  27.00 &  376   & 15000  &  61    &  80   \\\\\n",
       "\tmakeaudi & 0      & 6      & 0      & 0      & 0      &  0     & 0      & 0      & 0      & 0      & ...    & 6      & 0      & 0      & 19.08  & 20.40  &  51.80 &  687   & 33000  & 116    & 147   \\\\\n",
       "\tmakebmw & 0      & 0      & 8      & 0      & 0      &  0     & 0      & 0      & 0      & 0      & ...    & 8      & 0      & 0      & 27.79  & 25.34  &  68.60 & 1111   & 40550  & 155    & 203   \\\\\n",
       "\tmakechevrolet & 0      & 0      & 0      & 3      & 0      &  0     & 0      & 0      & 0      & 0      & ...    & 0      & 0      & 0      &  8.97  &  9.25  &  28.70 &  188   & 15900  & 123    & 139   \\\\\n",
       "\tmakedodge & 0      & 0      & 0      & 0      & 9      &  0     & 0      & 0      & 0      & 0      & ...    & 2      & 0      & 0      & 27.85  & 30.29  &  77.71 &  777   & 48500  & 252    & 307   \\\\\n",
       "\tmakehonda & 0      & 0      & 0      & 0      & 0      & 13     & 0      & 0      & 0      & 0      & ...    & 1      & 0      & 0      & 39.28  & 45.01  & 119.80 & 1043   & 74800  & 395    & 461   \\\\\n",
       "\\end{tabular}\n"
      ],
      "text/markdown": [
       "\n",
       "| <!--/--> | makealfa-romero | makeaudi | makebmw | makechevrolet | makedodge | makehonda | makeisuzu | makejaguar | makemazda | makemercedes-benz | ... | fuel.systemmpfi | fuel.systemspdi | fuel.systemspfi | bore | stroke | compression.ratio | horsepower | peak.rpm | city.mpg | highway.mpg | \n",
       "|---|---|---|---|---|---|\n",
       "| makealfa-romero | 3      | 0      | 0      | 0      | 0      |  0     | 0      | 0      | 0      | 0      | ...    | 3      | 0      | 0      |  9.62  |  8.83  |  27.00 |  376   | 15000  |  61    |  80    | \n",
       "| makeaudi | 0      | 6      | 0      | 0      | 0      |  0     | 0      | 0      | 0      | 0      | ...    | 6      | 0      | 0      | 19.08  | 20.40  |  51.80 |  687   | 33000  | 116    | 147    | \n",
       "| makebmw | 0      | 0      | 8      | 0      | 0      |  0     | 0      | 0      | 0      | 0      | ...    | 8      | 0      | 0      | 27.79  | 25.34  |  68.60 | 1111   | 40550  | 155    | 203    | \n",
       "| makechevrolet | 0      | 0      | 0      | 3      | 0      |  0     | 0      | 0      | 0      | 0      | ...    | 0      | 0      | 0      |  8.97  |  9.25  |  28.70 |  188   | 15900  | 123    | 139    | \n",
       "| makedodge | 0      | 0      | 0      | 0      | 9      |  0     | 0      | 0      | 0      | 0      | ...    | 2      | 0      | 0      | 27.85  | 30.29  |  77.71 |  777   | 48500  | 252    | 307    | \n",
       "| makehonda | 0      | 0      | 0      | 0      | 0      | 13     | 0      | 0      | 0      | 0      | ...    | 1      | 0      | 0      | 39.28  | 45.01  | 119.80 | 1043   | 74800  | 395    | 461    | \n",
       "\n",
       "\n"
      ],
      "text/plain": [
       "                makealfa-romero makeaudi makebmw makechevrolet makedodge\n",
       "makealfa-romero 3               0        0       0             0        \n",
       "makeaudi        0               6        0       0             0        \n",
       "makebmw         0               0        8       0             0        \n",
       "makechevrolet   0               0        0       3             0        \n",
       "makedodge       0               0        0       0             9        \n",
       "makehonda       0               0        0       0             0        \n",
       "                makehonda makeisuzu makejaguar makemazda makemercedes-benz ...\n",
       "makealfa-romero  0        0         0          0         0                 ...\n",
       "makeaudi         0        0         0          0         0                 ...\n",
       "makebmw          0        0         0          0         0                 ...\n",
       "makechevrolet    0        0         0          0         0                 ...\n",
       "makedodge        0        0         0          0         0                 ...\n",
       "makehonda       13        0         0          0         0                 ...\n",
       "                fuel.systemmpfi fuel.systemspdi fuel.systemspfi bore  stroke\n",
       "makealfa-romero 3               0               0                9.62  8.83 \n",
       "makeaudi        6               0               0               19.08 20.40 \n",
       "makebmw         8               0               0               27.79 25.34 \n",
       "makechevrolet   0               0               0                8.97  9.25 \n",
       "makedodge       2               0               0               27.85 30.29 \n",
       "makehonda       1               0               0               39.28 45.01 \n",
       "                compression.ratio horsepower peak.rpm city.mpg highway.mpg\n",
       "makealfa-romero  27.00             376       15000     61       80        \n",
       "makeaudi         51.80             687       33000    116      147        \n",
       "makebmw          68.60            1111       40550    155      203        \n",
       "makechevrolet    28.70             188       15900    123      139        \n",
       "makedodge        77.71             777       48500    252      307        \n",
       "makehonda       119.80            1043       74800    395      461        "
      ]
     },
     "metadata": {},
     "output_type": "display_data"
    },
    {
     "data": {
      "text/html": [
       "<ol class=list-inline>\n",
       "\t<li>60</li>\n",
       "\t<li>60</li>\n",
       "</ol>\n"
      ],
      "text/latex": [
       "\\begin{enumerate*}\n",
       "\\item 60\n",
       "\\item 60\n",
       "\\end{enumerate*}\n"
      ],
      "text/markdown": [
       "1. 60\n",
       "2. 60\n",
       "\n",
       "\n"
      ],
      "text/plain": [
       "[1] 60 60"
      ]
     },
     "metadata": {},
     "output_type": "display_data"
    },
    {
     "data": {
      "text/html": [
       "<ol class=list-inline>\n",
       "\t<li>6396831214.38187</li>\n",
       "\t<li>62245844.0512616</li>\n",
       "\t<li>200966.285638641</li>\n",
       "\t<li>51161.3366536543</li>\n",
       "\t<li>18001.3144247343</li>\n",
       "\t<li>5983.74163599806</li>\n",
       "\t<li>1496.73227817476</li>\n",
       "\t<li>1059.27470170819</li>\n",
       "\t<li>561.140026003833</li>\n",
       "\t<li>389.330397485267</li>\n",
       "\t<li>184.450632011097</li>\n",
       "\t<li>88.7754561889173</li>\n",
       "\t<li>64.2880126722281</li>\n",
       "\t<li>48.4552410614456</li>\n",
       "\t<li>37.04838722103</li>\n",
       "\t<li>34.2350131746219</li>\n",
       "\t<li>30.6157997245486</li>\n",
       "\t<li>21.6712404133734</li>\n",
       "\t<li>20.0079455307863</li>\n",
       "\t<li>19.0475497037648</li>\n",
       "\t<li>16.8941913222</li>\n",
       "\t<li>15.2620124285755</li>\n",
       "\t<li>12.094727095846</li>\n",
       "\t<li>11.8492256121526</li>\n",
       "\t<li>10.4728237211918</li>\n",
       "\t<li>9.50447218684564</li>\n",
       "\t<li>8.67349346702595</li>\n",
       "\t<li>8.1118149620176</li>\n",
       "\t<li>7.60271754614855</li>\n",
       "\t<li>6.95157759567167</li>\n",
       "\t<li>6.44477324220556</li>\n",
       "\t<li>5.14563984747218</li>\n",
       "\t<li>4.21319770313995</li>\n",
       "\t<li>3.82008506325684</li>\n",
       "\t<li>3.37600215724135</li>\n",
       "\t<li>3.18375894641277</li>\n",
       "\t<li>2.81712795243175</li>\n",
       "\t<li>2.56585932634285</li>\n",
       "\t<li>2.22756406457954</li>\n",
       "\t<li>1.63916889890972</li>\n",
       "\t<li>1.43592630921374</li>\n",
       "\t<li>1.35746781386593</li>\n",
       "\t<li>1.19313485249374</li>\n",
       "\t<li>1.09670672563152</li>\n",
       "\t<li>1.0003975443104</li>\n",
       "\t<li>0.847609771092421</li>\n",
       "\t<li>0.716918296326632</li>\n",
       "\t<li>0.68306809698746</li>\n",
       "\t<li>0.636381264402848</li>\n",
       "\t<li>0.4432216129856</li>\n",
       "\t<li>0.391346978161982</li>\n",
       "\t<li>0.377878270071728</li>\n",
       "\t<li>0.298217374097492</li>\n",
       "\t<li>0.181005820612101</li>\n",
       "\t<li>0.0979165210624053</li>\n",
       "\t<li>0.0607397436981056</li>\n",
       "\t<li>0.00606255446137182</li>\n",
       "\t<li>2.50472222491772e-06</li>\n",
       "\t<li>6.39021823820441e-07</li>\n",
       "\t<li>6.39021823820441e-07</li>\n",
       "</ol>\n"
      ],
      "text/latex": [
       "\\begin{enumerate*}\n",
       "\\item 6396831214.38187\n",
       "\\item 62245844.0512616\n",
       "\\item 200966.285638641\n",
       "\\item 51161.3366536543\n",
       "\\item 18001.3144247343\n",
       "\\item 5983.74163599806\n",
       "\\item 1496.73227817476\n",
       "\\item 1059.27470170819\n",
       "\\item 561.140026003833\n",
       "\\item 389.330397485267\n",
       "\\item 184.450632011097\n",
       "\\item 88.7754561889173\n",
       "\\item 64.2880126722281\n",
       "\\item 48.4552410614456\n",
       "\\item 37.04838722103\n",
       "\\item 34.2350131746219\n",
       "\\item 30.6157997245486\n",
       "\\item 21.6712404133734\n",
       "\\item 20.0079455307863\n",
       "\\item 19.0475497037648\n",
       "\\item 16.8941913222\n",
       "\\item 15.2620124285755\n",
       "\\item 12.094727095846\n",
       "\\item 11.8492256121526\n",
       "\\item 10.4728237211918\n",
       "\\item 9.50447218684564\n",
       "\\item 8.67349346702595\n",
       "\\item 8.1118149620176\n",
       "\\item 7.60271754614855\n",
       "\\item 6.95157759567167\n",
       "\\item 6.44477324220556\n",
       "\\item 5.14563984747218\n",
       "\\item 4.21319770313995\n",
       "\\item 3.82008506325684\n",
       "\\item 3.37600215724135\n",
       "\\item 3.18375894641277\n",
       "\\item 2.81712795243175\n",
       "\\item 2.56585932634285\n",
       "\\item 2.22756406457954\n",
       "\\item 1.63916889890972\n",
       "\\item 1.43592630921374\n",
       "\\item 1.35746781386593\n",
       "\\item 1.19313485249374\n",
       "\\item 1.09670672563152\n",
       "\\item 1.0003975443104\n",
       "\\item 0.847609771092421\n",
       "\\item 0.716918296326632\n",
       "\\item 0.68306809698746\n",
       "\\item 0.636381264402848\n",
       "\\item 0.4432216129856\n",
       "\\item 0.391346978161982\n",
       "\\item 0.377878270071728\n",
       "\\item 0.298217374097492\n",
       "\\item 0.181005820612101\n",
       "\\item 0.0979165210624053\n",
       "\\item 0.0607397436981056\n",
       "\\item 0.00606255446137182\n",
       "\\item 2.50472222491772e-06\n",
       "\\item 6.39021823820441e-07\n",
       "\\item 6.39021823820441e-07\n",
       "\\end{enumerate*}\n"
      ],
      "text/markdown": [
       "1. 6396831214.38187\n",
       "2. 62245844.0512616\n",
       "3. 200966.285638641\n",
       "4. 51161.3366536543\n",
       "5. 18001.3144247343\n",
       "6. 5983.74163599806\n",
       "7. 1496.73227817476\n",
       "8. 1059.27470170819\n",
       "9. 561.140026003833\n",
       "10. 389.330397485267\n",
       "11. 184.450632011097\n",
       "12. 88.7754561889173\n",
       "13. 64.2880126722281\n",
       "14. 48.4552410614456\n",
       "15. 37.04838722103\n",
       "16. 34.2350131746219\n",
       "17. 30.6157997245486\n",
       "18. 21.6712404133734\n",
       "19. 20.0079455307863\n",
       "20. 19.0475497037648\n",
       "21. 16.8941913222\n",
       "22. 15.2620124285755\n",
       "23. 12.094727095846\n",
       "24. 11.8492256121526\n",
       "25. 10.4728237211918\n",
       "26. 9.50447218684564\n",
       "27. 8.67349346702595\n",
       "28. 8.1118149620176\n",
       "29. 7.60271754614855\n",
       "30. 6.95157759567167\n",
       "31. 6.44477324220556\n",
       "32. 5.14563984747218\n",
       "33. 4.21319770313995\n",
       "34. 3.82008506325684\n",
       "35. 3.37600215724135\n",
       "36. 3.18375894641277\n",
       "37. 2.81712795243175\n",
       "38. 2.56585932634285\n",
       "39. 2.22756406457954\n",
       "40. 1.63916889890972\n",
       "41. 1.43592630921374\n",
       "42. 1.35746781386593\n",
       "43. 1.19313485249374\n",
       "44. 1.09670672563152\n",
       "45. 1.0003975443104\n",
       "46. 0.847609771092421\n",
       "47. 0.716918296326632\n",
       "48. 0.68306809698746\n",
       "49. 0.636381264402848\n",
       "50. 0.4432216129856\n",
       "51. 0.391346978161982\n",
       "52. 0.377878270071728\n",
       "53. 0.298217374097492\n",
       "54. 0.181005820612101\n",
       "55. 0.0979165210624053\n",
       "56. 0.0607397436981056\n",
       "57. 0.00606255446137182\n",
       "58. 2.50472222491772e-06\n",
       "59. 6.39021823820441e-07\n",
       "60. 6.39021823820441e-07\n",
       "\n",
       "\n"
      ],
      "text/plain": [
       " [1] 6.396831e+09 6.224584e+07 2.009663e+05 5.116134e+04 1.800131e+04\n",
       " [6] 5.983742e+03 1.496732e+03 1.059275e+03 5.611400e+02 3.893304e+02\n",
       "[11] 1.844506e+02 8.877546e+01 6.428801e+01 4.845524e+01 3.704839e+01\n",
       "[16] 3.423501e+01 3.061580e+01 2.167124e+01 2.000795e+01 1.904755e+01\n",
       "[21] 1.689419e+01 1.526201e+01 1.209473e+01 1.184923e+01 1.047282e+01\n",
       "[26] 9.504472e+00 8.673493e+00 8.111815e+00 7.602718e+00 6.951578e+00\n",
       "[31] 6.444773e+00 5.145640e+00 4.213198e+00 3.820085e+00 3.376002e+00\n",
       "[36] 3.183759e+00 2.817128e+00 2.565859e+00 2.227564e+00 1.639169e+00\n",
       "[41] 1.435926e+00 1.357468e+00 1.193135e+00 1.096707e+00 1.000398e+00\n",
       "[46] 8.476098e-01 7.169183e-01 6.830681e-01 6.363813e-01 4.432216e-01\n",
       "[51] 3.913470e-01 3.778783e-01 2.982174e-01 1.810058e-01 9.791652e-02\n",
       "[56] 6.073974e-02 6.062554e-03 2.504722e-06 6.390218e-07 6.390218e-07"
      ]
     },
     "metadata": {},
     "output_type": "display_data"
    },
    {
     "name": "stdout",
     "output_type": "stream",
     "text": [
      "Compute and print the inverse singular value matrixCompute and print the pseudo inverseCompute and print the dimensions of the matrix MInvM"
     ]
    },
    {
     "data": {
      "text/html": [
       "<ol class=list-inline>\n",
       "\t<li>60</li>\n",
       "\t<li>195</li>\n",
       "</ol>\n"
      ],
      "text/latex": [
       "\\begin{enumerate*}\n",
       "\\item 60\n",
       "\\item 195\n",
       "\\end{enumerate*}\n"
      ],
      "text/markdown": [
       "1. 60\n",
       "2. 195\n",
       "\n",
       "\n"
      ],
      "text/plain": [
       "[1]  60 195"
      ]
     },
     "metadata": {},
     "output_type": "display_data"
    },
    {
     "data": {
      "text/html": [
       "<ol class=list-inline>\n",
       "\t<li>60</li>\n",
       "\t<li>1</li>\n",
       "</ol>\n"
      ],
      "text/latex": [
       "\\begin{enumerate*}\n",
       "\\item 60\n",
       "\\item 1\n",
       "\\end{enumerate*}\n"
      ],
      "text/markdown": [
       "1. 60\n",
       "2. 1\n",
       "\n",
       "\n"
      ],
      "text/plain": [
       "[1] 60  1"
      ]
     },
     "metadata": {},
     "output_type": "display_data"
    },
    {
     "name": "stderr",
     "output_type": "stream",
     "text": [
      "`stat_bin()` using `bins = 30`. Pick better value with `binwidth`.\n"
     ]
    },
    {
     "data": {
      "image/png": "[encoded data removed]",
      "text/plain": [
       "Plot with title \"Normal Q-Q Plot\""
      ]
     },
     "metadata": {},
     "output_type": "display_data"
    },
    {
     "data": {
      "image/png": "[encoded data removed]",
      "text/plain": [
       "plot without title"
      ]
     },
     "metadata": {},
     "output_type": "display_data"
    },
    {
     "name": "stdout",
     "output_type": "stream",
     "text": [
      "SSE = 184.060567659231 \n",
      "SSR = 9.93943234076865 \n",
      "SST = 194 \n",
      "RMSE = 0.953681697716225 \n",
      "Adjusted R^2 = 0.947687198206481 \n"
     ]
    },
    {
     "data": {
      "image/png": "[encoded data removed]",
      "text/plain": [
       "plot without title"
      ]
     },
     "metadata": {},
     "output_type": "display_data"
    }
   ],
   "source": [
    "# Apply Singular Value Decomposition using Pseudo Inverse.\n",
    "# This data frame consists of number of catgegorical variables,in order to work with a model matrix we first need to convert these categorical \n",
    "#variables into binary indicator variables.\n",
    "# Remove intercept and price\n",
    "mod.mat = model.matrix(normalized_zprice ~ . -price -1, data = auto.price)\n",
    "M = as.matrix(mod.mat)\n",
    "head(M)\n",
    "MTM = t(M) %*% M\n",
    "head(MTM)\n",
    "dim(MTM)\n",
    "#compute the SVD of model matrix M (195 * 60)\n",
    "# Examine the singular values and in the process check for \"Rank Deficiency\".\n",
    "mSVD <- svd(MTM)\n",
    "#Validate whether singular vectors are orthogonal.\n",
    "uOrth <- t(mSVD$u) %*% mSVD$u\n",
    "vOrth <- mSVD$v %*% t(mSVD$v)\n",
    "uOrthSingLeftVector <- mSVD$u\n",
    "vOrthSingRightVector <- mSVD$v\n",
    "diagSDV <- mSVD$d\n",
    "diagSDV\n",
    "#By looking at singlular values we can now deduce that this matrix is rank deficient with 15 values (45 - 59) below zero.\n",
    "# Let us now compute the pseudo inverse of MTM matrix.\n",
    "cat('Compute and print the inverse singular value matrix')\n",
    "d.trim = rep(0, 60)\n",
    "d.trim[1:41] =1/ mSVD$d[1:41]\n",
    "mD = diag(d.trim)\n",
    "cat('Compute and print the pseudo inverse')\n",
    "mInv = mSVD$v %*% mD %*% t(mSVD$u)\n",
    "cat('Compute and print the dimensions of the matrix MInvM')\n",
    "MInvM = mInv %*% t(M)\n",
    "dim(MInvM)\n",
    "\n",
    "# Compute the vector of model coefficients by multiplying MInvM with normalized auto price.\n",
    "b <- MInvM %*% auto.price$normalized_zprice\n",
    "dim(b)\n",
    "\n",
    "# Now we can evaluate the model using this vector of model coefficient.\n",
    "auto.price$score = M %*% b + mean(auto.price$normalized_zprice)\n",
    "auto.price$resids = auto.price$score - auto.price$normalized_zprice\n",
    "\n",
    "require(repr)\n",
    "options(repr.pmales.extlot.width=8, repr.plot.height=4)\n",
    "\n",
    "plot.svd.reg <- function(df, k = 4){\n",
    "  require(ggplot2)\n",
    "  require(gridExtra)\n",
    "  \n",
    "  p1 <- ggplot(df) + \n",
    "    geom_point(aes(score, resids), size = 2) + \n",
    "    stat_smooth(aes(score, resids)) +\n",
    "    ggtitle('Residuals vs. fitted values')\n",
    "  \n",
    "  p2 <- ggplot(df, aes(resids)) +\n",
    "    geom_histogram(aes(y = ..density..)) +\n",
    "    geom_density(color = 'red', fill = 'red', alpha = 0.2) +\n",
    "    ggtitle('Histogram of residuals')\n",
    "  \n",
    "  qqnorm(df$resids)\n",
    "  \n",
    "  grid.arrange(p1, p2, ncol = 2)\n",
    "  \n",
    "  df$std.resids = sqrt((df$resids - mean(df$resids))^2)  \n",
    "  \n",
    "   p3 = ggplot(df) + \n",
    "    geom_point(aes(score, std.resids), size = 2) + \n",
    "    stat_smooth(aes(score, std.resids)) +\n",
    "    ggtitle('Standardized residuals vs. fitted values')\n",
    "  print(p3) \n",
    "  \n",
    "  n = nrow(df)\n",
    "  Ybar = mean(df$normalized_zprice)\n",
    "  SST <- sum((df$normalized_zprice - Ybar)^2)\n",
    "  SSR <- sum(df$resids * df$resids)\n",
    "  SSE = SST - SSR\n",
    "  cat(paste('SSE =', as.character(SSE), '\\n'))\n",
    "  cat(paste('SSR =', as.character(SSR), '\\n'))\n",
    "  cat(paste('SST =', as.character(SSE + SSR), '\\n'))\n",
    "  cat(paste('RMSE =', as.character(SSE/(n - 2)), '\\n'))\n",
    "  \n",
    "  adjR2  <- 1.0 - (SSR/SST) * ((n - 1)/(n - k - 1))\n",
    "  cat(paste('Adjusted R^2 =', as.character(adjR2)), '\\n')\n",
    "}\n",
    "\n",
    "plot.svd.reg(auto.price)"
   ]
  },
  {
   "cell_type": "markdown",
   "metadata": {},
   "source": [
    "## Elastic Net Regression\n",
    "* Herein we are giving equal weight to L1(Lasso) and L2(Euclidean) regulairization."
   ]
  },
  {
   "cell_type": "code",
   "execution_count": 34,
   "metadata": {
    "collapsed": false
   },
   "outputs": [
    {
     "data": {
      "image/png": "[encoded data removed]",
      "text/plain": [
       "plot without title"
      ]
     },
     "metadata": {},
     "output_type": "display_data"
    },
    {
     "data": {
      "image/png": "[encoded data removed]",
      "text/plain": [
       "plot without title"
      ]
     },
     "metadata": {},
     "output_type": "display_data"
    },
    {
     "name": "stderr",
     "output_type": "stream",
     "text": [
      "`stat_bin()` using `bins = 30`. Pick better value with `binwidth`.\n"
     ]
    },
    {
     "data": {
      "image/png": "[encoded data removed]",
      "text/plain": [
       "Plot with title \"Normal Q-Q Plot\""
      ]
     },
     "metadata": {},
     "output_type": "display_data"
    },
    {
     "data": {
      "image/png": "[encoded data removed]",
      "text/plain": [
       "plot without title"
      ]
     },
     "metadata": {},
     "output_type": "display_data"
    },
    {
     "name": "stdout",
     "output_type": "stream",
     "text": [
      "SSE = 187.460365395195 \n",
      "SSR = 6.53963460480529 \n",
      "SST = 194 \n",
      "RMSE = 0.971297230026916 \n",
      "Adjusted R^2 = 0.965580870501025 \n"
     ]
    },
    {
     "data": {
      "image/png": "[encoded data removed]",
      "text/plain": [
       "plot without title"
      ]
     },
     "metadata": {},
     "output_type": "display_data"
    }
   ],
   "source": [
    "#Elastic Net Regression.\n",
    "require(glmnet)\n",
    "b = as.matrix(auto.price$normalized_zprice)\n",
    "mod.ridge = glmnet(M, b, family = 'gaussian', nlambda = 20, alpha = .5)\n",
    "plot(mod.ridge, xvar = 'lambda', label = TRUE)\n",
    "plot(mod.ridge, xvar = 'dev', label = TRUE)\n",
    "\n",
    "#Let us now evaluate the model created by elastice net regression by calculating the score using predict function.\n",
    "\n",
    "auto.price$score = predict(mod.ridge, newx = M)[, 20]\n",
    "auto.price$resids = auto.price$score - auto.price$normalized_zprice\n",
    "\n",
    "plot.svd.reg(auto.price)"
   ]
  }
 ],
 "metadata": {
  "anaconda-cloud": {},
  "kernelspec": {
   "display_name": "R",
   "language": "R",
   "name": "ir"
  },
  "language_info": {
   "codemirror_mode": "r",
   "file_extension": ".r",
   "mimetype": "text/x-r-source",
   "name": "R",
   "pygments_lexer": "r",
   "version": "3.3.1"
  }
 },
 "nbformat": 4,
 "nbformat_minor": 1
}
