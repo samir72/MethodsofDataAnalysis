{
 "cells": [
  {
   "cell_type": "markdown",
   "metadata": {},
   "source": [
    "# Assignment # 6 : Probability of texting.\n",
    "## Data Science 350\n",
    "In this assignment I am applying Bayes theorem to predict the probability of texting at a local intersection by creating a model based on national data provided in this assignment. I then also go on to compare driver safetly between national and local level.\n",
    "* Following libraries have been added for this assignment.\n",
    "    - LearnBayes\n",
    "    - repr\n",
    "* Following **national observations** have been used to calculate the coefficients(**<span style=\"color:red\">a= 0.41, b = 1.73</span>**) of **beta prior** distribution.\n",
    "     - P = 0.5, at x = 0.1\n",
    "     - P = 0.75 at x = 0.3\n",
    "* Following **local observations** have been used to calculate the coefficients(<span style=\"color:red\">After applying all three observations, **a = 7.41, b = 54.73</span>**) of **beta posterior** distribution from the beta prior.\n",
    "     - 2 texting out of 20 drivers\n",
    "     - 4 texting out of 20 drivers\n",
    "     - 1 texting out of 20 drivers\n",
    "* I am plotting all the local observations using triplot function of LearnBayes package.\n",
    "     - On this plot, one can observe the \"Prior\", \"Likelihood\" & Posterior.\n",
    "     - One can clearly validate the **convergence of likelihood to posterior data as we start to apply more observations**.\n",
    "* We now have a working model which we can use for simulation to calculate the HDI.\n",
    "    - Quantiles of 5 and 95 % from posterior(Local observations+prior) based randomely generted beta sample gives us a 90 % HDI wherein there is a **texting probability of 0.05 to 0.19**.\n",
    "* In order to compare these local observations with national numbers I am also simulating the model created by national numbers.\n",
    "    - Quantiles of 5 and 95 % from prior(National numbers) based randomely generated beta sample gives us a 90% HDI wherein there is a **texting probability of 0.00033 to 0.677**.\n",
    "* I am also using the predplot function to test the local model, I am unable to do this for national as I do not have any recorded observation data for this plotting.\n",
    "    - One can validate yobs in the middle and confirm that this is a good working model.\n",
    "* Based on the individual models we can clearly see **<span style=\"color:red\">local drivers are driving more responsibly</span>**.\n",
    "     - **Locally we can see out of 100, 4 to 20 drivers are texting 90% of the time.**\n",
    "     - **Nationally we can see out of 100, 0 to 55 drivers are texting 90% of the time**."
   ]
  },
  {
   "cell_type": "markdown",
   "metadata": {},
   "source": [
    "## Function Description\n",
    "In this part of the function I am clearing all the objects, console, loading the required packages used in this script and computing beta prior by using beta.select function from LearnBayes package.\n",
    "Beta prior from these national observations will be used to create the model for local drivers. This beta prior distrbution will also be used as a national model for comparing the local numbers."
   ]
  },
  {
   "cell_type": "code",
   "execution_count": 34,
   "metadata": {
    "collapsed": false
   },
   "outputs": [
    {
     "name": "stdout",
     "output_type": "stream",
     "text": [
      "\f"
     ]
    },
    {
     "data": {
      "text/html": [
       "<ol class=list-inline>\n",
       "\t<li>0.41</li>\n",
       "\t<li>1.73</li>\n",
       "</ol>\n"
      ],
      "text/latex": [
       "\\begin{enumerate*}\n",
       "\\item 0.41\n",
       "\\item 1.73\n",
       "\\end{enumerate*}\n"
      ],
      "text/markdown": [
       "1. 0.41\n",
       "2. 1.73\n",
       "\n",
       "\n"
      ],
      "text/plain": [
       "[1] 0.41 1.73"
      ]
     },
     "metadata": {},
     "output_type": "display_data"
    }
   ],
   "source": [
    "# Clear objects from Memory\n",
    "rm(list=ls())\n",
    "# Clear Console:\n",
    "cat(\"\\014\")\n",
    "\n",
    "library(LearnBayes)\n",
    "library(repr)\n",
    "# Compute the beta prior for the driver texting at a specific intersection on the national average.\n",
    "beta.par <- beta.select(list(p=0.5, x=0.1), list(p=0.75, x=0.3))\n",
    "#Paremeters of beta prior distribution.\n",
    "beta.par\n",
    "options(repr.plot.width=6, repr.plot.height=5)"
   ]
  },
  {
   "cell_type": "markdown",
   "metadata": {},
   "source": [
    "## Plot the prior with various observations of local data.\n",
    "Here I am using triplot function from LearnBayes package to visualize following observations.\n",
    "* No data, there are no observations to add to the model, hence the local model cannot predict anything at this point.\n",
    "    - You can clearly see a flat line for likelihood and overlapping prior and posterior lines.\n",
    "* 2 out of 20 drivers texting, first set of observations will now start forming the model.\n",
    "    - We can now see likelihood taking a form of posterior.\n",
    "* 4 out of 20 drivers texting, model is now getting stronger with more observations.\n",
    "    - With more data likelihood and posterior are getting closer to each other. \n",
    "* 1 out of 20 drivers texting, we now have a very strong model.\n",
    "    - **Both these curves are now almost overlapping**.\n",
    "* **<span style=\"color:red\">After applying all three observations, coefficient comes out to be (a = 7.41, b = 54.73)</snap>**\n",
    "\n",
    "As expected there is no change in prior curve in all the plots."
   ]
  },
  {
   "cell_type": "code",
   "execution_count": 35,
   "metadata": {
    "collapsed": false
   },
   "outputs": [
    {
     "data": {
      "image/png": "[encoded data removed]",
      "text/plain": [
       "Plot with title \"Bayes Triplot, beta( 0.41 , 1.73 ) prior, s= 0 , f= 0\""
      ]
     },
     "metadata": {},
     "output_type": "display_data"
    },
    {
     "data": {
      "image/png": "[encoded data removed]",
      "text/plain": [
       "Plot with title \"Bayes Triplot, beta( 0.41 , 1.73 ) prior, s= 2 , f= 18\""
      ]
     },
     "metadata": {},
     "output_type": "display_data"
    },
    {
     "data": {
      "image/png": "[encoded data removed]",
      "text/plain": [
       "Plot with title \"Bayes Triplot, beta( 0.41 , 1.73 ) prior, s= 6 , f= 34\""
      ]
     },
     "metadata": {},
     "output_type": "display_data"
    },
    {
     "data": {
      "image/png": "[encoded data removed]",
      "text/plain": [
       "Plot with title \"Bayes Triplot, beta( 0.41 , 1.73 ) prior, s= 7 , f= 53\""
      ]
     },
     "metadata": {},
     "output_type": "display_data"
    }
   ],
   "source": [
    "#Plot the prior with no data.\n",
    "triplot(beta.par, c(0, 0))\n",
    "#Plot the prior, likelihood and posterior three times as you update the plan based on additional observations.\n",
    "#Compute posterior with the below observations.\n",
    "# 2 out of 20 drivers texting.\n",
    "beta.par218 <- beta.par + c(2, 18)\n",
    "triplot(beta.par, c(2, 18))\n",
    "# 4 out of 20 drivers texting.\n",
    "beta.par634 <- beta.par + c(6, 34)\n",
    "triplot(beta.par, c(6, 34))\n",
    "# 1 out of 20 drivers texting.\n",
    "beta.par753 <- beta.par + c(7, 53)\n",
    "triplot(beta.par, c(7, 53))"
   ]
  },
  {
   "cell_type": "markdown",
   "metadata": {
    "collapsed": false,
    "scrolled": true
   },
   "source": [
    "## Simulate the <span style=\"color:red\">local </span> model.\n",
    "* I am now creating a random beta sample of 10000 values based on the **final posterior** model and using it to simulate this model.\n",
    "    - I am calculating quantiles at 5 % and 95 % which I will be using to calculate and show the 90% HDI on the histogram. \n",
    "    - I am generating a vector using the seq function with 50 values and taking its min and max value to calculate the break points of the histogram.\n",
    "    - I am plotting a histogram to visually show this simulation.\n",
    "    - I am also creating the QQ plot to check the theoritcal normality. You can validate a fairly straight line to confirm that theoritical quantiles are matching sample quantiles."
   ]
  },
  {
   "cell_type": "code",
   "execution_count": 36,
   "metadata": {
    "collapsed": false
   },
   "outputs": [
    {
     "data": {
      "text/html": [
       "<dl class=dl-horizontal>\n",
       "\t<dt>5%</dt>\n",
       "\t\t<dd>0.059514210533264</dd>\n",
       "\t<dt>95%</dt>\n",
       "\t\t<dd>0.192376287365139</dd>\n",
       "</dl>\n"
      ],
      "text/latex": [
       "\\begin{description*}\n",
       "\\item[5\\textbackslash{}\\%] 0.059514210533264\n",
       "\\item[95\\textbackslash{}\\%] 0.192376287365139\n",
       "\\end{description*}\n"
      ],
      "text/markdown": [
       "5%\n",
       ":   0.05951421053326495%\n",
       ":   0.192376287365139\n",
       "\n"
      ],
      "text/plain": [
       "        5%        95% \n",
       "0.05951421 0.19237629 "
      ]
     },
     "metadata": {},
     "output_type": "display_data"
    },
    {
     "data": {
      "image/png": "[encoded data removed]",
      "text/plain": [
       "Plot with title \"Normal Q-Q Plot\""
      ]
     },
     "metadata": {},
     "output_type": "display_data"
    }
   ],
   "source": [
    "# Simulate the final posterior distribution\n",
    "options(repr.plot.width=8, repr.plot.height=5)\n",
    "beta.post.par <- beta.par + c(7, 53)\n",
    "post.sample <- rbeta(10000, beta.post.par[1], beta.post.par[2])\n",
    "par(mfrow = c(1,2))\n",
    "quants = quantile(post.sample, c(0.05, 0.95))\n",
    "breaks = seq(min(post.sample), max(post.sample), length.out = 50)\n",
    "#Plot the posterior with the 90% HDI shown\n",
    "hist(post.sample, breaks = breaks, \n",
    "     main = 'Distribution of local numbers \\n with 90% HDI',\n",
    "     xlab = 'Sample value',\n",
    "     ylab = 'Density')\n",
    "abline(v = quants[1], lty = 3, col = 'red', lwd = 3)\n",
    "abline(v = quants[2], lty = 3, col = 'red', lwd = 3)\n",
    "qqnorm(post.sample)\n",
    "par(mfrow = c(1,1))\n",
    "#Report the upper and lower limits of the 90% HDI\n",
    "quants"
   ]
  },
  {
   "cell_type": "markdown",
   "metadata": {},
   "source": [
    "## Simulate the <span style=\"color:red\">national</span> model.\n",
    "* I am now creating a random beta sample of 10000 values based on the **prior** model and using it to simulate this model.\n",
    "    - I am calculating quantiles at 5 % and 95 % which I will be using to calculate and show the 90% HDI on the histogram. \n",
    "    - I am generating a vector using the seq function with 50 values and taking its min and max value to calculate the break points of the histogram.\n",
    "    - I am plotting a histogram to visually show this simulation\n",
    "    - I am also creating the QQ plot to check the theoretical normality, as you can see it does have tails on both ends, with the tail at the start being very prominent, this is also confirmed by approximately zero quantile(0.000353104706663383) at 5 %."
   ]
  },
  {
   "cell_type": "code",
   "execution_count": 37,
   "metadata": {
    "collapsed": false,
    "scrolled": true
   },
   "outputs": [
    {
     "data": {
      "text/html": [
       "<dl class=dl-horizontal>\n",
       "\t<dt>5%</dt>\n",
       "\t\t<dd>0.000333251427103974</dd>\n",
       "\t<dt>95%</dt>\n",
       "\t\t<dd>0.675589684941902</dd>\n",
       "</dl>\n"
      ],
      "text/latex": [
       "\\begin{description*}\n",
       "\\item[5\\textbackslash{}\\%] 0.000333251427103974\n",
       "\\item[95\\textbackslash{}\\%] 0.675589684941902\n",
       "\\end{description*}\n"
      ],
      "text/markdown": [
       "5%\n",
       ":   0.00033325142710397495%\n",
       ":   0.675589684941902\n",
       "\n"
      ],
      "text/plain": [
       "          5%          95% \n",
       "0.0003332514 0.6755896849 "
      ]
     },
     "metadata": {},
     "output_type": "display_data"
    },
    {
     "data": {
      "image/png": "[encoded data removed]",
      "text/plain": [
       "Plot with title \"Normal Q-Q Plot\""
      ]
     },
     "metadata": {},
     "output_type": "display_data"
    }
   ],
   "source": [
    "# Simulate the national numbers\n",
    "options(repr.plot.width=8, repr.plot.height=5)\n",
    "beta.nat <- beta.par\n",
    "nat.sample <- rbeta(10000, beta.nat[1], beta.nat[2])\n",
    "par(mfrow = c(1,2))\n",
    "quantsnat = quantile(nat.sample, c(0.05, 0.95))\n",
    "breaks = seq(min(nat.sample), max(nat.sample), length.out = 41)\n",
    "#Plot the natinal numbers with the 90% HDI shown\n",
    "hist(nat.sample, breaks = breaks, \n",
    "     main = 'Distribution of national numbers \\n with 90% HDI',\n",
    "     xlab = 'Sample value',\n",
    "     ylab = 'Density')\n",
    "abline(v = quantsnat[1], lty = 3, col = 'red', lwd = 3)\n",
    "abline(v = quantsnat[2], lty = 3, col = 'red', lwd = 3)\n",
    "qqnorm(nat.sample)\n",
    "par(mfrow = c(1,1))\n",
    "#Report the upper and lower limits of the 90% HDI\n",
    "quantsnat"
   ]
  },
  {
   "cell_type": "markdown",
   "metadata": {},
   "source": [
    "## Check Local Model.\n",
    "- I am now using predplot function to plot the predictive distribution for binomial sampling with a beta prior.\n",
    "- For local, I am going to use the prior calculated from the supplied data and run it against 60 observations with 7 successes.\n",
    "    - You can validate yobs(Number of success) on the lower end of the observations and this matches the supplied observations."
   ]
  },
  {
   "cell_type": "code",
   "execution_count": 38,
   "metadata": {
    "collapsed": false
   },
   "outputs": [
    {
     "data": {
      "image/png": "[encoded data removed]",
      "text/plain": [
       "Plot with title \"Predictive Dist., beta( 0.41 , 1.73 ) prior, n= 60 , yobs= 7\""
      ]
     },
     "metadata": {},
     "output_type": "display_data"
    }
   ],
   "source": [
    "## Check the model based on local observations.\n",
    "# sample size = 60\n",
    "# Observed number of successes yobs 7(2+4+1).\n",
    "predplot(beta.par, 60, 7)"
   ]
  },
  {
   "cell_type": "markdown",
   "metadata": {},
   "source": [
    "## In a group of 100 forecast the number of texting local and national drivers.\n",
    "- I am now using pbetap function to compute the predictive distribution for a binomial sample with a beta prior.\n",
    "    - For **local model**, I am using the **posterior** as this data is available in the assignment.\n",
    "    - For **national model**, I am using the **prior** as this data is available for computation.\n",
    "- **Posterior predictive distribution** is then plotted on a histogram.\n",
    "- Finally, using discint function to compue the highest probability interval for this distribution.\n",
    "    - Locally,data tells us that **<span style=\"color:red\">4 to 20 drivers are texting 90 %</span>** of the time.\n",
    "    - Nationally, data tells us that **<span style=\"color:red\">0 to 55 drivers are texting 90%</span>**  of the time."
   ]
  },
  {
   "cell_type": "code",
   "execution_count": 39,
   "metadata": {
    "collapsed": false
   },
   "outputs": [
    {
     "data": {
      "text/html": [
       "<dl>\n",
       "\t<dt>$prob</dt>\n",
       "\t\t<dd>0.909895592143919</dd>\n",
       "\t<dt>$set</dt>\n",
       "\t\t<dd><ol class=list-inline>\n",
       "\t<li>4</li>\n",
       "\t<li>5</li>\n",
       "\t<li>6</li>\n",
       "\t<li>7</li>\n",
       "\t<li>8</li>\n",
       "\t<li>9</li>\n",
       "\t<li>10</li>\n",
       "\t<li>11</li>\n",
       "\t<li>12</li>\n",
       "\t<li>13</li>\n",
       "\t<li>14</li>\n",
       "\t<li>15</li>\n",
       "\t<li>16</li>\n",
       "\t<li>17</li>\n",
       "\t<li>18</li>\n",
       "\t<li>19</li>\n",
       "\t<li>20</li>\n",
       "</ol>\n",
       "</dd>\n",
       "</dl>\n"
      ],
      "text/latex": [
       "\\begin{description}\n",
       "\\item[\\$prob] 0.909895592143919\n",
       "\\item[\\$set] \\begin{enumerate*}\n",
       "\\item 4\n",
       "\\item 5\n",
       "\\item 6\n",
       "\\item 7\n",
       "\\item 8\n",
       "\\item 9\n",
       "\\item 10\n",
       "\\item 11\n",
       "\\item 12\n",
       "\\item 13\n",
       "\\item 14\n",
       "\\item 15\n",
       "\\item 16\n",
       "\\item 17\n",
       "\\item 18\n",
       "\\item 19\n",
       "\\item 20\n",
       "\\end{enumerate*}\n",
       "\n",
       "\\end{description}\n"
      ],
      "text/markdown": [
       "$prob\n",
       ":   0.909895592143919\n",
       "$set\n",
       ":   1. 4\n",
       "2. 5\n",
       "3. 6\n",
       "4. 7\n",
       "5. 8\n",
       "6. 9\n",
       "7. 10\n",
       "8. 11\n",
       "9. 12\n",
       "10. 13\n",
       "11. 14\n",
       "12. 15\n",
       "13. 16\n",
       "14. 17\n",
       "15. 18\n",
       "16. 19\n",
       "17. 20\n",
       "\n",
       "\n",
       "\n",
       "\n",
       "\n"
      ],
      "text/plain": [
       "$prob\n",
       "[1] 0.9098956\n",
       "\n",
       "$set\n",
       " [1]  4  5  6  7  8  9 10 11 12 13 14 15 16 17 18 19 20\n"
      ]
     },
     "metadata": {},
     "output_type": "display_data"
    },
    {
     "data": {
      "image/png": "[encoded data removed]",
      "text/plain": [
       "Plot with title \"Probability distribution of successes in 100 local trials\""
      ]
     },
     "metadata": {},
     "output_type": "display_data"
    },
    {
     "data": {
      "text/html": [
       "<dl>\n",
       "\t<dt>$prob</dt>\n",
       "\t\t<dd>0.903897337521353</dd>\n",
       "\t<dt>$set</dt>\n",
       "\t\t<dd><ol class=list-inline>\n",
       "\t<li>0</li>\n",
       "\t<li>1</li>\n",
       "\t<li>2</li>\n",
       "\t<li>3</li>\n",
       "\t<li>4</li>\n",
       "\t<li>5</li>\n",
       "\t<li>6</li>\n",
       "\t<li>7</li>\n",
       "\t<li>8</li>\n",
       "\t<li>9</li>\n",
       "\t<li>10</li>\n",
       "\t<li>11</li>\n",
       "\t<li>12</li>\n",
       "\t<li>13</li>\n",
       "\t<li>14</li>\n",
       "\t<li>15</li>\n",
       "\t<li>16</li>\n",
       "\t<li>17</li>\n",
       "\t<li>18</li>\n",
       "\t<li>19</li>\n",
       "\t<li>20</li>\n",
       "\t<li>21</li>\n",
       "\t<li>22</li>\n",
       "\t<li>23</li>\n",
       "\t<li>24</li>\n",
       "\t<li>25</li>\n",
       "\t<li>26</li>\n",
       "\t<li>27</li>\n",
       "\t<li>28</li>\n",
       "\t<li>29</li>\n",
       "\t<li>30</li>\n",
       "\t<li>31</li>\n",
       "\t<li>32</li>\n",
       "\t<li>33</li>\n",
       "\t<li>34</li>\n",
       "\t<li>35</li>\n",
       "\t<li>36</li>\n",
       "\t<li>37</li>\n",
       "\t<li>38</li>\n",
       "\t<li>39</li>\n",
       "\t<li>40</li>\n",
       "\t<li>41</li>\n",
       "\t<li>42</li>\n",
       "\t<li>43</li>\n",
       "\t<li>44</li>\n",
       "\t<li>45</li>\n",
       "\t<li>46</li>\n",
       "\t<li>47</li>\n",
       "\t<li>48</li>\n",
       "\t<li>49</li>\n",
       "\t<li>50</li>\n",
       "\t<li>51</li>\n",
       "\t<li>52</li>\n",
       "\t<li>53</li>\n",
       "\t<li>54</li>\n",
       "\t<li>55</li>\n",
       "</ol>\n",
       "</dd>\n",
       "</dl>\n"
      ],
      "text/latex": [
       "\\begin{description}\n",
       "\\item[\\$prob] 0.903897337521353\n",
       "\\item[\\$set] \\begin{enumerate*}\n",
       "\\item 0\n",
       "\\item 1\n",
       "\\item 2\n",
       "\\item 3\n",
       "\\item 4\n",
       "\\item 5\n",
       "\\item 6\n",
       "\\item 7\n",
       "\\item 8\n",
       "\\item 9\n",
       "\\item 10\n",
       "\\item 11\n",
       "\\item 12\n",
       "\\item 13\n",
       "\\item 14\n",
       "\\item 15\n",
       "\\item 16\n",
       "\\item 17\n",
       "\\item 18\n",
       "\\item 19\n",
       "\\item 20\n",
       "\\item 21\n",
       "\\item 22\n",
       "\\item 23\n",
       "\\item 24\n",
       "\\item 25\n",
       "\\item 26\n",
       "\\item 27\n",
       "\\item 28\n",
       "\\item 29\n",
       "\\item 30\n",
       "\\item 31\n",
       "\\item 32\n",
       "\\item 33\n",
       "\\item 34\n",
       "\\item 35\n",
       "\\item 36\n",
       "\\item 37\n",
       "\\item 38\n",
       "\\item 39\n",
       "\\item 40\n",
       "\\item 41\n",
       "\\item 42\n",
       "\\item 43\n",
       "\\item 44\n",
       "\\item 45\n",
       "\\item 46\n",
       "\\item 47\n",
       "\\item 48\n",
       "\\item 49\n",
       "\\item 50\n",
       "\\item 51\n",
       "\\item 52\n",
       "\\item 53\n",
       "\\item 54\n",
       "\\item 55\n",
       "\\end{enumerate*}\n",
       "\n",
       "\\end{description}\n"
      ],
      "text/markdown": [
       "$prob\n",
       ":   0.903897337521353\n",
       "$set\n",
       ":   1. 0\n",
       "2. 1\n",
       "3. 2\n",
       "4. 3\n",
       "5. 4\n",
       "6. 5\n",
       "7. 6\n",
       "8. 7\n",
       "9. 8\n",
       "10. 9\n",
       "11. 10\n",
       "12. 11\n",
       "13. 12\n",
       "14. 13\n",
       "15. 14\n",
       "16. 15\n",
       "17. 16\n",
       "18. 17\n",
       "19. 18\n",
       "20. 19\n",
       "21. 20\n",
       "22. 21\n",
       "23. 22\n",
       "24. 23\n",
       "25. 24\n",
       "26. 25\n",
       "27. 26\n",
       "28. 27\n",
       "29. 28\n",
       "30. 29\n",
       "31. 30\n",
       "32. 31\n",
       "33. 32\n",
       "34. 33\n",
       "35. 34\n",
       "36. 35\n",
       "37. 36\n",
       "38. 37\n",
       "39. 38\n",
       "40. 39\n",
       "41. 40\n",
       "42. 41\n",
       "43. 42\n",
       "44. 43\n",
       "45. 44\n",
       "46. 45\n",
       "47. 46\n",
       "48. 47\n",
       "49. 48\n",
       "50. 49\n",
       "51. 50\n",
       "52. 51\n",
       "53. 52\n",
       "54. 53\n",
       "55. 54\n",
       "56. 55\n",
       "\n",
       "\n",
       "\n",
       "\n",
       "\n"
      ],
      "text/plain": [
       "$prob\n",
       "[1] 0.9038973\n",
       "\n",
       "$set\n",
       " [1]  0  1  2  3  4  5  6  7  8  9 10 11 12 13 14 15 16 17 18 19 20 21 22 23 24\n",
       "[26] 25 26 27 28 29 30 31 32 33 34 35 36 37 38 39 40 41 42 43 44 45 46 47 48 49\n",
       "[51] 50 51 52 53 54 55\n"
      ]
     },
     "metadata": {},
     "output_type": "display_data"
    },
    {
     "data": {
      "image/png": "[encoded data removed]",
      "text/plain": [
       "Plot with title \"Probability distribution of successes in 100 national trials\""
      ]
     },
     "metadata": {},
     "output_type": "display_data"
    }
   ],
   "source": [
    "# Using this model forecast the number of drivers texting locally in a group of 100.\n",
    "n <- 100\n",
    "s <- 0:n\n",
    "pred.probs <- pbetap(beta.post.par, n, s)#Using posterior as the observations are available.\n",
    "plot(s, pred.probs, type=\"h\", \n",
    "     main = paste('Probability distribution of successes in', as.character(n), 'local trials'),\n",
    "     xlab = 'Successes')\n",
    "discint(cbind(s, pred.probs), 0.90)\n",
    "\n",
    "# Using this model forecast the number of drivers texting nationally in a group of 100.\n",
    "n <- 100\n",
    "s <- 0:n\n",
    "pred.probsnat <- pbetap(beta.nat, n, s)#Using prior as this is what we have available at this point.\n",
    "plot(s, pred.probsnat, type=\"h\", \n",
    "     main = paste('Probability distribution of successes in', as.character(n), 'national trials'),\n",
    "     xlab = 'Successes')\n",
    "discint(cbind(s, pred.probsnat), 0.90)"
   ]
  }
 ],
 "metadata": {
  "anaconda-cloud": {},
  "kernelspec": {
   "display_name": "R",
   "language": "R",
   "name": "ir"
  },
  "language_info": {
   "codemirror_mode": "r",
   "file_extension": ".r",
   "mimetype": "text/x-r-source",
   "name": "R",
   "pygments_lexer": "r",
   "version": "3.3.1"
  }
 },
 "nbformat": 4,
 "nbformat_minor": 1
}
