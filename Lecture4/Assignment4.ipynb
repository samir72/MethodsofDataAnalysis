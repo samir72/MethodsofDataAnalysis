{
 "cells": [
  {
   "cell_type": "markdown",
   "metadata": {},
   "source": [
    "# Assignment # 4 : Hypothesis Testing.\n",
    "## Data Science 350\n",
    "In this assignment I am testing hypotheses to see the effect of various automobile features on the final price of the automobile.\n",
    "* I am loading a cleansed automobile price data file provided in the assignment.\n",
    "* As part of assignment exercise, I am calcualting the logarithm of price data.\n",
    "* I am then normalizing the price and log(price) data using z-score algorithm.\n",
    "* QQ test is being used to test the normality of price data.\n",
    "* KS test is being used to compare and test the normality of price data.\n",
    "* While stratifying the data, I am not using the sample function as the dataset is too small and taking a sample is leading to inconsistent results on multiple runs.\n",
    "* Welch t-test is being used to gauge the effect of fuel type, drive wheel and aspiration on the price of automobile. \n",
    "  - One can clearly infer(Looking at means) that Diesel automobiles are costlier than Gas automobiles.\n",
    "  - RWD cars are the most expensive cars and FWD are the most affordable cars.\n",
    "  - Turbo cars are far more expensive than standard cars.\n",
    "* KS-test is being used to gauge the effect of fuel type, drive wheel and aspiration on the price of automobile. In this test I can only check if the distributions are same, i however cannot however make any numerical predictions as this test is not calculating any key metric (For Ex: mean, median, sd etc).\n",
    "  - One can clearly infer that Diesel automobiles are priced way differently than Gas automobiles.\n",
    "  - RWD cars are the most expensive cars and FWD are the most affordable cars.\n",
    "  - Turbo cars are priced way differently than standard cars.\n",
    "* Visually comparing P-Value with KS - Statistics to confirm a drooping line as p-value approaches a maximum value of 1.\n",
    "* Anova Analysis of price based on \"Number of Doors\" and \"Body Style\"\n",
    "    - Analysis of \"Number of Doors\" accepts the null hypothesis and \"Body Style\" rejects the hypothesis."
   ]
  },
  {
   "cell_type": "markdown",
   "metadata": {},
   "source": [
    "## Function Description\n",
    "In this function I am loading and cleansing \"Automobile price data _Raw_.csv\" provided to us as part of this assignment. Herein I am coercing some character columns to numeric so they can computed with ease using R functions. I then use the \"complete.cases\" function to remove any non numeric data. "
   ]
  },
  {
   "cell_type": "code",
   "execution_count": 131,
   "metadata": {
    "collapsed": false
   },
   "outputs": [
    {
     "name": "stdout",
     "output_type": "stream",
     "text": [
      "\f"
     ]
    }
   ],
   "source": [
    "rm(list=ls())\n",
    "# Clear Console:\n",
    "cat(\"\\014\")\n",
    "read.auto = function(file = 'Automobile price data _Raw_.csv'){\n",
    "  ## Read the csv file\n",
    "  auto.price <- read.csv(file, header = TRUE, \n",
    "                         stringsAsFactors = FALSE)\n",
    "  \n",
    "  ## Coerce some character columns to numeric\n",
    "  numcols <- c('price', 'bore', 'stroke', 'horsepower', 'peak.rpm')\n",
    "  auto.price[, numcols] <- lapply(auto.price[, numcols], as.numeric)\n",
    "  \n",
    "  ## Remove cases or rows with missing values. In this case we keep the \n",
    "  ## rows which do not have nas. \n",
    "  auto.price[complete.cases(auto.price), ]\n",
    "}"
   ]
  },
  {
   "cell_type": "markdown",
   "metadata": {},
   "source": [
    "## Call the function and normalize the price data.\n",
    "Here i am calling the function **read.auto()** to load the cleansed data.\n",
    "In this process I have removed 10 records from this file. I now have a total of 195 observations in auto.price dataframe. \n",
    "- Retrieve price data and calculate it logarithm.\n",
    "- Normalize the price and log(price) data using z-score algorithm."
   ]
  },
  {
   "cell_type": "code",
   "execution_count": 132,
   "metadata": {
    "collapsed": false
   },
   "outputs": [
    {
     "name": "stderr",
     "output_type": "stream",
     "text": [
      "Warning message in lapply(auto.price[, numcols], as.numeric):\n",
      "\"NAs introduced by coercion\"Warning message in lapply(auto.price[, numcols], as.numeric):\n",
      "\"NAs introduced by coercion\"Warning message in lapply(auto.price[, numcols], as.numeric):\n",
      "\"NAs introduced by coercion\"Warning message in lapply(auto.price[, numcols], as.numeric):\n",
      "\"NAs introduced by coercion\"Warning message in lapply(auto.price[, numcols], as.numeric):\n",
      "\"NAs introduced by coercion\""
     ]
    }
   ],
   "source": [
    "# Load and cleanse the csv file.\n",
    "auto.price = read.auto()\n",
    "# Get price data in a vector\n",
    "price <- auto.price$price\n",
    "#Log of price data\n",
    "logprice <- log(price)\n",
    "\n",
    "#z-Score Normalization of price data\n",
    "mean_price <- mean(price)\n",
    "sd_price <- sd(price)\n",
    "normalized_price <- (price - mean_price) / sd_price\n",
    "\n",
    "#z-Score Normalization of log price data\n",
    "mean_logprice <- mean(logprice)\n",
    "sd_logprice <- sd(logprice)\n",
    "normalized_logprice <- (logprice - mean_logprice) / sd_logprice\n"
   ]
  },
  {
   "cell_type": "markdown",
   "metadata": {
    "collapsed": false,
    "scrolled": true
   },
   "source": [
    "## Add log price and normalized log price to the data frame.\n",
    "I am now using dplyr package to add two new columns in the loaded data frame (auto.price) so I can use this data for sampling."
   ]
  },
  {
   "cell_type": "code",
   "execution_count": 133,
   "metadata": {
    "collapsed": false
   },
   "outputs": [],
   "source": [
    "#Add log price and normalized log price to the data frame.\n",
    "require(dplyr)\n",
    "auto.price = mutate(auto.price, logprice = logprice, normalized_price = normalized_price, normalized_logprice = normalized_logprice)"
   ]
  },
  {
   "cell_type": "markdown",
   "metadata": {},
   "source": [
    "## Visually test normality\n",
    "I am now going to use QQ plot to demonstrate the normality of normalised price and normalized log price data.\n",
    "- You can see a factual straight line being formed in both the plots with normalized log price forming a visibly straighter line compared normalized price."
   ]
  },
  {
   "cell_type": "code",
   "execution_count": 134,
   "metadata": {
    "collapsed": false
   },
   "outputs": [
    {
     "data": {
      "image/png": "[encoded data removed]",
      "text/plain": [
       "Plot with title \"Q-Q plot(Normalized price)\""
      ]
     },
     "metadata": {},
     "output_type": "display_data"
    },
    {
     "data": {
      "image/png": "[encoded data removed]",
      "text/plain": [
       "Plot with title \"Q-Q plot(Normalized log price)\""
      ]
     },
     "metadata": {},
     "output_type": "display_data"
    }
   ],
   "source": [
    "# QQ plot for price to visually check normality\n",
    "par(mfrow = c(1, 2))\n",
    "qqnorm(normalized_price, main = 'Q-Q plot(Normalized price)')\n",
    "# QQ plot for logprice to visually check normality\n",
    "par(mfrow = c(1, 2))\n",
    "qqnorm(normalized_logprice, main = 'Q-Q plot(Normalized log price)')"
   ]
  },
  {
   "cell_type": "markdown",
   "metadata": {},
   "source": [
    "## Visually Compare the standard price with standard log price\n",
    "- I am using cummulative distribution function on price and log(price) data. One can see that there is no overlap between the two distribution."
   ]
  },
  {
   "cell_type": "code",
   "execution_count": 135,
   "metadata": {
    "collapsed": false
   },
   "outputs": [
    {
     "data": {
      "image/png": "[encoded data removed]",
      "text/plain": [
       "Plot with title \"CDFs of Price\""
      ]
     },
     "metadata": {},
     "output_type": "display_data"
    }
   ],
   "source": [
    "## Plot the cdfs of standard data.\n",
    "plot(ecdf(price), col='blue', main ='CDFs of Price', \n",
    "     xlab = 'Value', ylab = 'Cumulative density')\n",
    "lines(ecdf(logprice), col='red')"
   ]
  },
  {
   "cell_type": "markdown",
   "metadata": {},
   "source": [
    "## Visually Compare the normalized price with normalized log price\n",
    "- I am using cummulative distribution function on normalized price and normalized log(price) data. One can now see the overlap between the two normalized distributions."
   ]
  },
  {
   "cell_type": "code",
   "execution_count": 136,
   "metadata": {
    "collapsed": false
   },
   "outputs": [
    {
     "data": {
      "image/png": "[encoded data removed]",
      "text/plain": [
       "Plot with title \"CDFs of Normalized Price\""
      ]
     },
     "metadata": {},
     "output_type": "display_data"
    }
   ],
   "source": [
    "## Plot the cdfs on normalized data\n",
    "plot(ecdf(normalized_price), col='blue', main ='CDFs of Normalized Price', \n",
    "     xlab = 'Value', ylab = 'Cumulative density')\n",
    "lines(ecdf(normalized_logprice), col='red')"
   ]
  },
  {
   "cell_type": "markdown",
   "metadata": {},
   "source": [
    "## Run KS test (One Sample) to gauge the normality.\n",
    "- One can validate that K-S Statistic of normalized data (D = 0.42242) is way less than standard data(D = 1)."
   ]
  },
  {
   "cell_type": "code",
   "execution_count": 137,
   "metadata": {
    "collapsed": false
   },
   "outputs": [
    {
     "name": "stderr",
     "output_type": "stream",
     "text": [
      "Warning message in ks.test(normalized_price, \"pnorm\", 1, 2):\n",
      "\"ties should not be present for the Kolmogorov-Smirnov test\""
     ]
    },
    {
     "data": {
      "text/plain": [
       "\n",
       "\tOne-sample Kolmogorov-Smirnov test\n",
       "\n",
       "data:  normalized_price\n",
       "D = 0.42242, p-value < 2.2e-16\n",
       "alternative hypothesis: two-sided\n"
      ]
     },
     "metadata": {},
     "output_type": "display_data"
    },
    {
     "name": "stderr",
     "output_type": "stream",
     "text": [
      "Warning message in ks.test(price, \"pnorm\", 1, 2):\n",
      "\"ties should not be present for the Kolmogorov-Smirnov test\""
     ]
    },
    {
     "data": {
      "text/plain": [
       "\n",
       "\tOne-sample Kolmogorov-Smirnov test\n",
       "\n",
       "data:  price\n",
       "D = 1, p-value < 2.2e-16\n",
       "alternative hypothesis: two-sided\n"
      ]
     },
     "metadata": {},
     "output_type": "display_data"
    }
   ],
   "source": [
    "#K-S Test\n",
    "ks.test(normalized_price, \"pnorm\", 1, 2)\n",
    "ks.test(price, \"pnorm\", 1, 2)"
   ]
  },
  {
   "cell_type": "markdown",
   "metadata": {},
   "source": [
    "## Group automobile price data as per fuel type, drive wheel and aspiration.\n",
    "- I am now using the stratifying technique to group the data as per fuel type, drive wheel and aspiration."
   ]
  },
  {
   "cell_type": "code",
   "execution_count": 138,
   "metadata": {
    "collapsed": true
   },
   "outputs": [],
   "source": [
    "#Stratifying the data.\n",
    "n = 5\n",
    "#Group By Fuel Type\n",
    "#stratified_pricefuel = auto.price %>% group_by(fuel.type) %>% sample_n(n, replace = FALSE)\n",
    "stratified_pricefuel = auto.price %>% group_by(fuel.type)\n",
    "logpricegroupedbyfueltypegas = stratified_pricefuel %>% filter(fuel.type == 'gas')\n",
    "logpricegroupedbyfueltypediesel = stratified_pricefuel %>% filter(fuel.type == 'diesel')\n",
    "#Group by Aspiration\n",
    "#stratified_priceasp = auto.price %>% group_by(aspiration) %>% sample_n(n, replace = FALSE)\n",
    "stratified_priceasp = auto.price %>% group_by(aspiration)\n",
    "logpricegroupedbyaspirationstd = stratified_priceasp %>% filter(aspiration == 'std')\n",
    "logpricegroupedbyaspirationsturbo = stratified_priceasp %>% filter(aspiration == 'turbo')\n",
    "#Group by drive wheel\n",
    "#stratified_pricedrive = auto.price %>% group_by(drive.wheels) %>% sample_n(n, replace = FALSE)\n",
    "stratified_pricedrive = auto.price %>% group_by(drive.wheels)\n",
    "logpricegroupedbydrivewheelfwd = stratified_pricedrive %>% filter(drive.wheels == 'fwd')\n",
    "logpricegroupedbydrivewheelrwd = stratified_pricedrive %>% filter(drive.wheels == 'rwd')\n",
    "logpricegroupedbydrivewheel4wd = stratified_pricedrive %>% filter(drive.wheels == '4wd')"
   ]
  },
  {
   "cell_type": "markdown",
   "metadata": {},
   "source": [
    "## Welch T-Test : Test the impact of fuel type, drive wheel and aspiration on price data.\n",
    "- I am now using Welch t-test to gauge the impact on price data wherein a confidence interval of 95% is being deduced i.e **we don't want an Type 1 error of greater than 5%.**\n",
    "- Gas vehicles have P-value of 0.6538, this very high P value would force us to **<span style=\"color:red\" >accept the null hypothesis</span>** and infer that there is a 65% likelihood of a Type 1 error if we reject the hypothesis. In other words atleast 65% of gas automobiles match the average price of an automobile from the dataframe.\n",
    "- Diesel vehicles have P-value of 0.08375, this P value would force us to **<span style=\"color:red\" >accept the null hypothesis</span>** and infer that there is a 8% likelihood of a Type 1 error if we reject the hypothesis. In other words atleast 8% of diesel automobiles match the average price of an automobile from the dataframe.\n",
    "       ** One can clearly infer(Looking at means) that Diesel automobiles are costlier than Gas automobiles.\n",
    "- 4WD vehicles have P-value of 0.1813, this P value would force us to **<span style=\"color:red\" >accept the null hypothesis</span>** and infer that there is a 18% likelihood of a Type 1 error if we reject the hypothesis. In other words atleast 18 % of 4WD automobiles match the average price of an automobile from the dataframe.\n",
    "- FWD vehicles have P-value of 0.00000001593, this extremely low P value would force us to **<span style=\"color:red\" >reject the null hypothesis</span>** and infer that there is a 0.000001593% likelihood of a Type 1 error if we reject the hypothesis. In other words average price of FWD does not match the average price of the car from the data frame.\n",
    "- RWD vehicles have P-value of 0.00000000002175, this extremely low P value would force us to **<span style=\"color:red\" >reject the null hypothesis</span>** and infer that there is a 0.000000002175% likelihood of a Type 1 error if we reject the hypothesis. In other words average price of RWD does not match the average price of the car from the data frame.\n",
    "       **RWD cars are the most expensive cars and FWD are the most affordable cars\n",
    "- Standard vehicles have P-value of 0.2534, this P value would force us to **<span style=\"color:red\" >accept the null hypothesis</span>** and infer that there is a 25% likelihood of a Type 1 error if we reject the hypothesis. In other words atleast 25 % of standard automobiles match the average price of an automobile from the dataframe.\n",
    "- Turbo vehicles have P-value of 0.0003893, this extremely low P value would force us to **<span style=\"color:red\" >reject the null hypothesis</span>** and infer that there is a 0.03893% likelihood of a Type 1 error if we reject the hypothesis. In other words average price of Turbo does not match the average price of the car from the data frame.\n",
    "       **Turbo cars are far more expensive than standard cars."
   ]
  },
  {
   "cell_type": "code",
   "execution_count": 139,
   "metadata": {
    "collapsed": false
   },
   "outputs": [
    {
     "data": {
      "text/plain": [
       "\n",
       "\tWelch Two Sample t-test\n",
       "\n",
       "data:  logpricegroupedbyfueltypegas$normalized_logprice and auto.price$normalized_logprice\n",
       "t = -0.4489, df = 363.98, p-value = 0.6538\n",
       "alternative hypothesis: true difference in means is not equal to 0\n",
       "95 percent confidence interval:\n",
       " -0.2510588  0.1577406\n",
       "sample estimates:\n",
       "    mean of x     mean of y \n",
       "-4.665909e-02  8.989748e-16 \n"
      ]
     },
     "metadata": {},
     "output_type": "display_data"
    },
    {
     "data": {
      "text/plain": [
       "\n",
       "\tWelch Two Sample t-test\n",
       "\n",
       "data:  logpricegroupedbyfueltypediesel$normalized_logprice and auto.price$normalized_logprice\n",
       "t = 1.8062, df = 23.447, p-value = 0.08375\n",
       "alternative hypothesis: true difference in means is not equal to 0\n",
       "95 percent confidence interval:\n",
       " -0.05884393  0.87537791\n",
       "sample estimates:\n",
       "   mean of x    mean of y \n",
       "4.082670e-01 8.989748e-16 \n"
      ]
     },
     "metadata": {},
     "output_type": "display_data"
    },
    {
     "data": {
      "text/plain": [
       "\n",
       "\tWelch Two Sample t-test\n",
       "\n",
       "data:  logpricegroupedbydrivewheel4wd$normalized_logprice and auto.price$normalized_logprice\n",
       "t = -1.4488, df = 9.0149, p-value = 0.1813\n",
       "alternative hypothesis: true difference in means is not equal to 0\n",
       "95 percent confidence interval:\n",
       " -0.7699184  0.1686483\n",
       "sample estimates:\n",
       "    mean of x     mean of y \n",
       "-3.006350e-01  8.989748e-16 \n"
      ]
     },
     "metadata": {},
     "output_type": "display_data"
    },
    {
     "data": {
      "text/plain": [
       "\n",
       "\tWelch Two Sample t-test\n",
       "\n",
       "data:  logpricegroupedbydrivewheelfwd$normalized_logprice and auto.price$normalized_logprice\n",
       "t = -5.8059, df = 307.86, p-value = 1.593e-08\n",
       "alternative hypothesis: true difference in means is not equal to 0\n",
       "95 percent confidence interval:\n",
       " -0.7196314 -0.3553186\n",
       "sample estimates:\n",
       "    mean of x     mean of y \n",
       "-5.374750e-01  8.989748e-16 \n"
      ]
     },
     "metadata": {},
     "output_type": "display_data"
    },
    {
     "data": {
      "text/plain": [
       "\n",
       "\tWelch Two Sample t-test\n",
       "\n",
       "data:  logpricegroupedbydrivewheelrwd$normalized_logprice and auto.price$normalized_logprice\n",
       "t = 7.2722, df = 142.12, p-value = 2.175e-11\n",
       "alternative hypothesis: true difference in means is not equal to 0\n",
       "95 percent confidence interval:\n",
       " 0.6640949 1.1599101\n",
       "sample estimates:\n",
       "   mean of x    mean of y \n",
       "9.120025e-01 8.989748e-16 \n"
      ]
     },
     "metadata": {},
     "output_type": "display_data"
    },
    {
     "data": {
      "text/plain": [
       "\n",
       "\tWelch Two Sample t-test\n",
       "\n",
       "data:  logpricegroupedbyaspirationstd$normalized_logprice and auto.price$normalized_logprice\n",
       "t = -1.1441, df = 336.47, p-value = 0.2534\n",
       "alternative hypothesis: true difference in means is not equal to 0\n",
       "95 percent confidence interval:\n",
       " -0.33424825  0.08841795\n",
       "sample estimates:\n",
       "    mean of x     mean of y \n",
       "-1.229152e-01  8.989748e-16 \n"
      ]
     },
     "metadata": {},
     "output_type": "display_data"
    },
    {
     "data": {
      "text/plain": [
       "\n",
       "\tWelch Two Sample t-test\n",
       "\n",
       "data:  logpricegroupedbyaspirationsturbo$normalized_logprice and auto.price$normalized_logprice\n",
       "t = 3.7573, df = 60.352, p-value = 0.0003893\n",
       "alternative hypothesis: true difference in means is not equal to 0\n",
       "95 percent confidence interval:\n",
       " 0.2538966 0.8318539\n",
       "sample estimates:\n",
       "   mean of x    mean of y \n",
       "5.428753e-01 8.989748e-16 \n"
      ]
     },
     "metadata": {},
     "output_type": "display_data"
    }
   ],
   "source": [
    "## Student T-Test to gauge the impact on the fuel price.\n",
    "#Gauge impact of fuel type on price\n",
    "t.test(logpricegroupedbyfueltypegas$normalized_logprice, auto.price$normalized_logprice, alternative = \"two.sided\")\n",
    "t.test(logpricegroupedbyfueltypediesel$normalized_logprice, auto.price$normalized_logprice, alternative = \"two.sided\")\n",
    "#Gauge impact of drive wheel on price\n",
    "t.test(logpricegroupedbydrivewheel4wd$normalized_logprice, auto.price$normalized_logprice, alternative = \"two.sided\")\n",
    "t.test(logpricegroupedbydrivewheelfwd$normalized_logprice, auto.price$normalized_logprice, alternative = \"two.sided\")\n",
    "t.test(logpricegroupedbydrivewheelrwd$normalized_logprice, auto.price$normalized_logprice, alternative = \"two.sided\")\n",
    "#Gauge impact of aspiration on price\n",
    "t.test(logpricegroupedbyaspirationstd$normalized_logprice, auto.price$normalized_logprice, alternative = \"two.sided\")\n",
    "t.test(logpricegroupedbyaspirationsturbo$normalized_logprice, auto.price$normalized_logprice, alternative = \"two.sided\")"
   ]
  },
  {
   "cell_type": "markdown",
   "metadata": {},
   "source": [
    "## KS-Test : Test the impact of fuel type, drive wheel and aspiration on price data.\n",
    "- I am now using KS Test to gauge the impact on price data.\n",
    "- Gas vehicles have P-value of 1 and D of 0.025788, this very high P value and low D value would force us to **<span style=\"color:red\" >accept the null hypothesis</span>**. In other words a great majority of gas automobiles match the average price of an automobile from the dataframe.\n",
    "- Diesel vehicles have P-value of 0.3142 and D of 0.22654, this combination of P and D value would still compel us to **<span style=\"color:red\" >accept the null hypothesis</span>** and infer that a small number of diesel automobiles match the average price of an automobile from the dataframe.\n",
    "       ** One can clearly infer that Diesel automobiles are priced way differently than Gas automobiles.\n",
    "- 4WD vehicles have P-value of 0.4908 and D of 0.30064, this combination of P and D value would compel us to **<span style=\"color:red\" >accept the null hypothesis</span>** and infer that a fair number of 4WD automobiles match the average price of an automobile from the dataframe.\n",
    "- FWD vehicles have a P-value of  0.0001639 and D of 0.25433, this extremely low P value would force us to **<span style=\"color:red\" >reject the null hypothesis</span>** and infer that average price of FWD does not match the average price of the car from the data frame.\n",
    "- RWD vehicles have P-value of 5.597e-09 and D of 0.43496, this extremely low P value would force us to **<span style=\"color:red\" >reject the null hypothesis</span>** and infer that average price of RWD does not match the average price of the car from the data frame.\n",
    "       **RWD cars are priced way differently when compared to 4WD and FWD cars.\n",
    "- Standard vehicles have P-value of 0.7067 and D of 0.075085, this extremely value of D value would force us to **<span style=\"color:red\" >accept the null hypothesis</span>** and infer that standard automobiles match the average price of an automobile from the dataframe.\n",
    "- Turbo vehicles have P-value of 0.002501 and D of 0.33162, this extremely low P value would force us to **<span style=\"color:red\" >reject the null hypothesis</span>** and infer that there is average price of Turbo does not match the average price of the car from the data frame.\n",
    "       **Turbo cars are priced way differently than standard cars."
   ]
  },
  {
   "cell_type": "code",
   "execution_count": 140,
   "metadata": {
    "collapsed": false,
    "scrolled": true
   },
   "outputs": [
    {
     "name": "stderr",
     "output_type": "stream",
     "text": [
      "Warning message in ks.test(logpricegroupedbyfueltypegas$normalized_logprice, auto.price$normalized_logprice):\n",
      "\"p-value will be approximate in the presence of ties\""
     ]
    },
    {
     "data": {
      "text/plain": [
       "\n",
       "\tTwo-sample Kolmogorov-Smirnov test\n",
       "\n",
       "data:  logpricegroupedbyfueltypegas$normalized_logprice and auto.price$normalized_logprice\n",
       "D = 0.025788, p-value = 1\n",
       "alternative hypothesis: two-sided\n"
      ]
     },
     "metadata": {},
     "output_type": "display_data"
    },
    {
     "name": "stderr",
     "output_type": "stream",
     "text": [
      "Warning message in ks.test(logpricegroupedbyfueltypediesel$normalized_logprice, :\n",
      "\"cannot compute exact p-value with ties\""
     ]
    },
    {
     "data": {
      "text/plain": [
       "\n",
       "\tTwo-sample Kolmogorov-Smirnov test\n",
       "\n",
       "data:  logpricegroupedbyfueltypediesel$normalized_logprice and auto.price$normalized_logprice\n",
       "D = 0.22564, p-value = 0.3142\n",
       "alternative hypothesis: two-sided\n"
      ]
     },
     "metadata": {},
     "output_type": "display_data"
    },
    {
     "name": "stderr",
     "output_type": "stream",
     "text": [
      "Warning message in ks.test(logpricegroupedbydrivewheel4wd$normalized_logprice, auto.price$normalized_logprice):\n",
      "\"cannot compute exact p-value with ties\""
     ]
    },
    {
     "data": {
      "text/plain": [
       "\n",
       "\tTwo-sample Kolmogorov-Smirnov test\n",
       "\n",
       "data:  logpricegroupedbydrivewheel4wd$normalized_logprice and auto.price$normalized_logprice\n",
       "D = 0.30064, p-value = 0.4908\n",
       "alternative hypothesis: two-sided\n"
      ]
     },
     "metadata": {},
     "output_type": "display_data"
    },
    {
     "name": "stderr",
     "output_type": "stream",
     "text": [
      "Warning message in ks.test(logpricegroupedbydrivewheelfwd$normalized_logprice, auto.price$normalized_logprice):\n",
      "\"p-value will be approximate in the presence of ties\""
     ]
    },
    {
     "data": {
      "text/plain": [
       "\n",
       "\tTwo-sample Kolmogorov-Smirnov test\n",
       "\n",
       "data:  logpricegroupedbydrivewheelfwd$normalized_logprice and auto.price$normalized_logprice\n",
       "D = 0.25433, p-value = 0.0001639\n",
       "alternative hypothesis: two-sided\n"
      ]
     },
     "metadata": {},
     "output_type": "display_data"
    },
    {
     "name": "stderr",
     "output_type": "stream",
     "text": [
      "Warning message in ks.test(logpricegroupedbydrivewheelrwd$normalized_logprice, auto.price$normalized_logprice):\n",
      "\"p-value will be approximate in the presence of ties\""
     ]
    },
    {
     "data": {
      "text/plain": [
       "\n",
       "\tTwo-sample Kolmogorov-Smirnov test\n",
       "\n",
       "data:  logpricegroupedbydrivewheelrwd$normalized_logprice and auto.price$normalized_logprice\n",
       "D = 0.43496, p-value = 5.597e-09\n",
       "alternative hypothesis: two-sided\n"
      ]
     },
     "metadata": {},
     "output_type": "display_data"
    },
    {
     "name": "stderr",
     "output_type": "stream",
     "text": [
      "Warning message in ks.test(logpricegroupedbyaspirationstd$normalized_logprice, auto.price$normalized_logprice):\n",
      "\"p-value will be approximate in the presence of ties\""
     ]
    },
    {
     "data": {
      "text/plain": [
       "\n",
       "\tTwo-sample Kolmogorov-Smirnov test\n",
       "\n",
       "data:  logpricegroupedbyaspirationstd$normalized_logprice and auto.price$normalized_logprice\n",
       "D = 0.075085, p-value = 0.7067\n",
       "alternative hypothesis: two-sided\n"
      ]
     },
     "metadata": {},
     "output_type": "display_data"
    },
    {
     "name": "stderr",
     "output_type": "stream",
     "text": [
      "Warning message in ks.test(logpricegroupedbyaspirationsturbo$normalized_logprice, :\n",
      "\"cannot compute exact p-value with ties\""
     ]
    },
    {
     "data": {
      "text/plain": [
       "\n",
       "\tTwo-sample Kolmogorov-Smirnov test\n",
       "\n",
       "data:  logpricegroupedbyaspirationsturbo$normalized_logprice and auto.price$normalized_logprice\n",
       "D = 0.33162, p-value = 0.002501\n",
       "alternative hypothesis: two-sided\n"
      ]
     },
     "metadata": {},
     "output_type": "display_data"
    }
   ],
   "source": [
    "#K-S Test\n",
    "#Gauge impact of fuel type on price\n",
    "ks_df <- data.frame()\n",
    "ks_logpricegroupedbyfueltypegas <- ks.test(logpricegroupedbyfueltypegas$normalized_logprice, auto.price$normalized_logprice)\n",
    "ks_logpricegroupedbyfueltypegas\n",
    "ks_df[1,1] <- ks_logpricegroupedbyfueltypegas$p.value\n",
    "ks_df[1,2] <- ks_logpricegroupedbyfueltypegas$statistic\n",
    "ks_logpricegroupedbyfueltypediesel <- ks.test(logpricegroupedbyfueltypediesel$normalized_logprice, auto.price$normalized_logprice)\n",
    "ks_logpricegroupedbyfueltypediesel\n",
    "ks_df[2,1] <- ks_logpricegroupedbyfueltypediesel$p.value\n",
    "ks_df[2,2] <- ks_logpricegroupedbyfueltypediesel$statistic\n",
    "#Gauge impact of drive wheel on price\n",
    "ks_logpricegroupedbydrivewheel4wd <- ks.test(logpricegroupedbydrivewheel4wd$normalized_logprice, auto.price$normalized_logprice)\n",
    "ks_logpricegroupedbydrivewheel4wd\n",
    "ks_df[3,1] <- ks_logpricegroupedbydrivewheel4wd$p.value\n",
    "ks_df[3,2] <- ks_logpricegroupedbydrivewheel4wd$statistic\n",
    "ks_logpricegroupedbydrivewheelfwd <- ks.test(logpricegroupedbydrivewheelfwd$normalized_logprice, auto.price$normalized_logprice)\n",
    "ks_logpricegroupedbydrivewheelfwd\n",
    "ks_df[4,1] <- ks_logpricegroupedbydrivewheelfwd$p.value\n",
    "ks_df[4,2] <- ks_logpricegroupedbydrivewheelfwd$statistic\n",
    "ks_logpricegroupedbydrivewheelrwd <- ks.test(logpricegroupedbydrivewheelrwd$normalized_logprice, auto.price$normalized_logprice)\n",
    "ks_logpricegroupedbydrivewheelrwd\n",
    "ks_df[5,1] <- ks_logpricegroupedbydrivewheelrwd$p.value\n",
    "ks_df[5,2] <- ks_logpricegroupedbydrivewheelrwd$statistic\n",
    "#Gauge impact of aspiration on price\n",
    "ks_logpricegroupedbyaspirationstd <- ks.test(logpricegroupedbyaspirationstd$normalized_logprice, auto.price$normalized_logprice)\n",
    "ks_logpricegroupedbyaspirationstd\n",
    "ks_df[6,1] <- ks_logpricegroupedbyaspirationstd$p.value\n",
    "ks_df[6,2] <- ks_logpricegroupedbyaspirationstd$statistic\n",
    "ks_logpricegroupedbyaspirationsturbo <- ks.test(logpricegroupedbyaspirationsturbo$normalized_logprice, auto.price$normalized_logprice)\n",
    "ks_logpricegroupedbyaspirationsturbo\n",
    "ks_df[7,1] <- ks_logpricegroupedbyaspirationsturbo$p.value\n",
    "ks_df[7,2] <- ks_logpricegroupedbyaspirationsturbo$statistic\n",
    "headers <-c(\"pvalue\",\"statistic\")\n",
    "names(ks_df) <- headers"
   ]
  },
  {
   "cell_type": "markdown",
   "metadata": {},
   "source": [
    "## Visualize the relationshipt between P-Value & KS Statistics\n",
    "- A higher P-value with a decreasing KS Statistics (D) clearly rejects the null hypothesis."
   ]
  },
  {
   "cell_type": "code",
   "execution_count": 141,
   "metadata": {
    "collapsed": false
   },
   "outputs": [
    {
     "data": {},
     "metadata": {},
     "output_type": "display_data"
    },
    {
     "data": {
      "image/png": "[encoded data removed]",
      "text/plain": [
       "plot without title"
      ]
     },
     "metadata": {},
     "output_type": "display_data"
    }
   ],
   "source": [
    "ggplot(ks_df, aes(ks_df$pvalue, ks_df$statistic)) + geom_line() + ggtitle('Line plot of P-value vs KS Statistics') +\n",
    "xlab('P-Value') + ylab('KS Statistics')"
   ]
  },
  {
   "cell_type": "markdown",
   "metadata": {},
   "source": [
    "## Stratify Data For ANOVA\n",
    "- Stratifying data as per number of doors and body style."
   ]
  },
  {
   "cell_type": "code",
   "execution_count": 142,
   "metadata": {
    "collapsed": true
   },
   "outputs": [],
   "source": [
    "#Group By number of doors\n",
    "stratified_pricedoors = auto.price %>% group_by(num.of.doors) %>% filter(num.of.doors != '?')\n",
    "#Group by body style\n",
    "stratified_pricebody = auto.price %>% group_by(body.style) %>% sample_n(n, replace = FALSE)"
   ]
  },
  {
   "cell_type": "markdown",
   "metadata": {},
   "source": [
    "## Visually show the relationship of price based on number of doors to the average price and body style to the average price."
   ]
  },
  {
   "cell_type": "code",
   "execution_count": 143,
   "metadata": {
    "collapsed": false
   },
   "outputs": [
    {
     "data": {
      "image/png": "[encoded data removed]",
      "text/plain": [
       "plot without title"
      ]
     },
     "metadata": {},
     "output_type": "display_data"
    },
    {
     "data": {
      "image/png": "[encoded data removed]",
      "text/plain": [
       "plot without title"
      ]
     },
     "metadata": {},
     "output_type": "display_data"
    }
   ],
   "source": [
    "#Boxplot number of doors\n",
    "stratified_pricedoors$num.of.doors = factor(stratified_pricedoors$num.of.doors) # Make sure your groups are a factor\n",
    "boxplot(stratified_pricedoors$normalized_logprice ~ stratified_pricedoors$num.of.doors)\n",
    "#Boxplot body style\n",
    "stratified_pricebody$body.style = factor(stratified_pricebody$body.style) # Make sure your groups are a factor (for further analysis below)\n",
    "boxplot(stratified_pricebody$normalized_logprice ~ stratified_pricebody$body.style)"
   ]
  },
  {
   "cell_type": "markdown",
   "metadata": {},
   "source": [
    "## Anova analysis based on number of doors & Body Style.\n",
    "- In the door analysis we have two groups of two and four doors, you can see a low F value and P-value of 0.129. P-value is greater than 0.05 and this would lead us to **accept the null hypothesis**. Tukey HSD will provide a stronger (i.e. Honest) answer.\n",
    "- In the body style analysis there are 5 groups and we can see a higher F value with a an extremely low P-value, this by itself is enough to **reject the hypothesis**. Tukey HSD will provide a stronger answer.\n",
    "- Power of Anova analysis is felt while analysing body style as it has 5(more than 2) groups."
   ]
  },
  {
   "cell_type": "code",
   "execution_count": 144,
   "metadata": {
    "collapsed": false
   },
   "outputs": [
    {
     "data": {
      "text/plain": [
       "                                    Df Sum Sq Mean Sq F value Pr(>F)\n",
       "stratified_pricedoors$num.of.doors   1   2.33   2.334   2.331  0.129\n",
       "Residuals                          191 191.31   1.002               "
      ]
     },
     "metadata": {},
     "output_type": "display_data"
    },
    {
     "data": {
      "text/plain": [
       "                                Df Sum Sq Mean Sq F value Pr(>F)\n",
       "stratified_pricebody$body.style  4  5.464   1.366   1.069  0.398\n",
       "Residuals                       20 25.569   1.278               "
      ]
     },
     "metadata": {},
     "output_type": "display_data"
    }
   ],
   "source": [
    "#Anova analysis for number of doors group\n",
    "df_aov_door = aov(stratified_pricedoors$normalized_logprice ~ stratified_pricedoors$num.of.doors, data = stratified_pricedoors)\n",
    "summary(df_aov_door)\n",
    "#Anova analysis for body style group\n",
    "df_aov_body = aov(stratified_pricebody$normalized_logprice ~ stratified_pricebody$body.style, data = stratified_pricebody)\n",
    "summary(df_aov_body)"
   ]
  },
  {
   "cell_type": "markdown",
   "metadata": {
    "collapsed": true
   },
   "source": [
    "## Tukey Analysis on number of doors & body style.\n",
    "- In number of doors you can see 1 difference between 2 & 4 doors with a a low p-adj with a negative difference.\n",
    "- In body style you see 10 differences between 5 groups and in this mix you can clearly see a low P-adj and significant difference in hatchback-convertible,hatchback-hardtop,sedan-hardtop & wagon-hardtop.\n",
    "- One can also see so almost no difference in hardtop-convertible & wagon-sedan."
   ]
  },
  {
   "cell_type": "code",
   "execution_count": 145,
   "metadata": {
    "collapsed": false
   },
   "outputs": [
    {
     "data": {
      "text/plain": [
       "  Tukey multiple comparisons of means\n",
       "    95% family-wise confidence level\n",
       "\n",
       "Fit: aov(formula = stratified_pricedoors$normalized_logprice ~ stratified_pricedoors$num.of.doors, data = stratified_pricedoors)\n",
       "\n",
       "$`stratified_pricedoors$num.of.doors`\n",
       "               diff        lwr        upr    p adj\n",
       "two-four -0.2228515 -0.5107836 0.06508059 0.128507\n"
      ]
     },
     "metadata": {},
     "output_type": "display_data"
    },
    {
     "data": {
      "text/plain": [
       "  Tukey multiple comparisons of means\n",
       "    95% family-wise confidence level\n",
       "\n",
       "Fit: aov(formula = stratified_pricebody$normalized_logprice ~ stratified_pricebody$body.style, data = stratified_pricebody)\n",
       "\n",
       "$`stratified_pricebody$body.style`\n",
       "                            diff       lwr       upr     p adj\n",
       "hardtop-convertible   -0.1109500 -2.250821 2.0289209 0.9998575\n",
       "hatchback-convertible -1.2948831 -3.434754 0.8449877 0.3950779\n",
       "sedan-convertible     -0.2714195 -2.411290 1.8684514 0.9952250\n",
       "wagon-convertible     -0.6236817 -2.763553 1.5161892 0.9037441\n",
       "hatchback-hardtop     -1.1839332 -3.323804 0.9559377 0.4816267\n",
       "sedan-hardtop         -0.1604695 -2.300340 1.9794014 0.9993856\n",
       "wagon-hardtop         -0.5127318 -2.652603 1.6271391 0.9501086\n",
       "sedan-hatchback        1.0234637 -1.116407 3.1633345 0.6158101\n",
       "wagon-hatchback        0.6712014 -1.468669 2.8110723 0.8784215\n",
       "wagon-sedan           -0.3522623 -2.492133 1.7876086 0.9871607\n"
      ]
     },
     "metadata": {},
     "output_type": "display_data"
    }
   ],
   "source": [
    "#Tukey Analysis for door\n",
    "tukey_anova_door = TukeyHSD(df_aov_door)  # Tukey's Range test:\n",
    "tukey_anova_door\n",
    "#Tukey Analysis for body style\n",
    "tukey_anova_body = TukeyHSD(df_aov_body)  # Tukey's Range test:\n",
    "tukey_anova_body"
   ]
  },
  {
   "cell_type": "markdown",
   "metadata": {},
   "source": [
    "## Plot Tukey Analysis to visually confirm the above analysis."
   ]
  },
  {
   "cell_type": "code",
   "execution_count": 146,
   "metadata": {
    "collapsed": false
   },
   "outputs": [
    {
     "data": {
      "image/png": "[encoded data removed]",
      "text/plain": [
       "Plot with title \"95% family-wise confidence level\n",
       "\""
      ]
     },
     "metadata": {},
     "output_type": "display_data"
    },
    {
     "data": {
      "image/png": "[encoded data removed]",
      "text/plain": [
       "Plot with title \"95% family-wise confidence level\n",
       "\""
      ]
     },
     "metadata": {},
     "output_type": "display_data"
    }
   ],
   "source": [
    "#Plot Tukey door\n",
    "plot(tukey_anova_door)\n",
    "#Plot Tukey Body Style\n",
    "plot(tukey_anova_body)"
   ]
  },
  {
   "cell_type": "code",
   "execution_count": null,
   "metadata": {
    "collapsed": true
   },
   "outputs": [],
   "source": []
  }
 ],
 "metadata": {
  "anaconda-cloud": {},
  "kernelspec": {
   "display_name": "R",
   "language": "R",
   "name": "ir"
  },
  "language_info": {
   "codemirror_mode": "r",
   "file_extension": ".r",
   "mimetype": "text/x-r-source",
   "name": "R",
   "pygments_lexer": "r",
   "version": "3.3.1"
  }
 },
 "nbformat": 4,
 "nbformat_minor": 1
}
